{
 "cells": [
  {
   "cell_type": "code",
   "execution_count": 11,
   "id": "a121524e",
   "metadata": {},
   "outputs": [],
   "source": [
    "import pandas as pd\n",
    "import numpy as np\n",
    "from scipy.signal import medfilt\n",
    "from pathlib import Path\n",
    "import plotly.graph_objects as go\n",
    "from plotly.subplots import make_subplots\n"
   ]
  },
  {
   "cell_type": "code",
   "execution_count": 12,
   "id": "1100cdb6",
   "metadata": {},
   "outputs": [],
   "source": [
    "METADATA = {\n",
    "    'oskar': {\n",
    "        'person_id': '001',  # TODO: Fill in your assigned ID\n",
    "        'sex': 1,  # 0 = weiblich, 1 = männlich\n",
    "        'age': 26,  # TODO: Fill in\n",
    "        'exercise': 'running',  # running, stairs, lunges, mountain_climbers\n",
    "        'diet': 0,  # 0 = Fleisch, 1 = Vegetarisch, 2 = Vegan\n",
    "        'caffeine': 1,  # 0 = nein, 1 = ja\n",
    "        'sleep_q': 2,  # 0 = schlecht, 1 = mittel, 2 = gut\n",
    "        'sleep_h': 7,  # Schlafdauer in Stunden\n",
    "        'wellbeeing': 20,  # WHO-5 Fragebogen (0-25 Punkte)\n",
    "        'cold_hist': 0,  # 0 = nein, 1 = ja\n",
    "        'asthma': 0,  # 0 = nein, 1 = ja\n",
    "        'smoker': 1,  # 0 = nein, 1 = ja\n",
    "        'fitness_level': 0,  # 0 = low, 1 = medium, 2 = high\n",
    "        'study_modus': 1,  # 0 = vollzeit, 1 = teilzeit\n",
    "        'bmi': 21,  # Body-Mass-Index\n",
    "        'rpm': 0,  # Wiederholungen pro Minute (Kadenz)\n",
    "    },\n",
    "    'michelle': {\n",
    "        'person_id': '002',  # TODO: Fill in your assigned ID\n",
    "        'sex': 0,  # 0 = weiblich, 1 = männlich\n",
    "        'age': 22,  # TODO: Fill in\n",
    "        'exercise': 'running',  # running, stairs, lunges, mountain_climbers\n",
    "        'diet': 0,  # 0 = Fleisch, 1 = Vegetarisch, 2 = Vegan\n",
    "        'caffeine': 0,  # 0 = nein, 1 = ja\n",
    "        'sleep_q': 0,  # 0 = schlecht, 1 = mittel, 2 = gut\n",
    "        'sleep_h': 0.5,  # Schlafdauer in Stunden\n",
    "        'wellbeeing': 11,  # WHO-5 Fragebogen (0-25 Punkte)\n",
    "        'cold_hist': 0,  # 0 = nein, 1 = ja\n",
    "        'asthma': 0,  # 0 = nein, 1 = ja\n",
    "        'smoker': 0,  # 0 = nein, 1 = ja\n",
    "        'fitness_level': 1,  # 0 = low, 1 = medium, 2 = high\n",
    "        'study_modus': 0,  # 0 = vollzeit, 1 = teilzeit\n",
    "        'bmi': 0.0,  # Body-Mass-Index\n",
    "        'rpm': 0,  # Wiederholungen pro Minute (Kadenz)\n",
    "    },\n",
    "    'eros': {\n",
    "        'person_id': '003',  # TODO: Fill in your assigned ID\n",
    "        'sex': 1,  # 0 = weiblich, 1 = männlich\n",
    "        'age': 26,  # TODO: Fill in\n",
    "        'exercise': 'running',  # running, stairs, lunges, mountain_climbers\n",
    "        'diet': 0,  # 0 = Fleisch, 1 = Vegetarisch, 2 = Vegan\n",
    "        'caffeine': 1,  # 0 = nein, 1 = ja\n",
    "        'sleep_q': 2,  # 0 = schlecht, 1 = mittel, 2 = gut\n",
    "        'sleep_h': 8,  # Schlafdauer in Stunden\n",
    "        'wellbeeing': 20,  # WHO-5 Fragebogen (0-25 Punkte)\n",
    "        'cold_hist': 0,  # 0 = nein, 1 = ja\n",
    "        'asthma': 1,  # 0 = nein, 1 = ja\n",
    "        'smoker': 0,  # 0 = nein, 1 = ja\n",
    "        'fitness_level': 1,  # 0 = low, 1 = medium, 2 = high\n",
    "        'study_modus': 0,  # 0 = vollzeit, 1 = teilzeit\n",
    "        'bmi': 26,  # Body-Mass-Index\n",
    "        'rpm': 0,  # Wiederholungen pro Minute (Kadenz)\n",
    "    }\n",
    "}\n",
    "\n",
    "\n",
    "\n",
    "ZHAW_KUERZEL = {'oskar': 'steinosk', 'michelle': 'linamic', 'eros': 'halero01'}\n"
   ]
  },
  {
   "cell_type": "code",
   "execution_count": 13,
   "id": "545686bf",
   "metadata": {},
   "outputs": [],
   "source": [
    "def process_person(person, zhaw_id):\n",
    "    # Only process raw files (not cleaned ones)\n",
    "    raw_files = sorted(Path(\"data\").glob(f\"{zhaw_id}_activity_intensity_[1-3]_lsdlpr25.csv\"))\n",
    "    comparisons = []\n",
    "    \n",
    "    for raw_file in raw_files:\n",
    "        intensity = int(raw_file.stem.split('_')[3])\n",
    "        df = pd.read_csv(raw_file)\n",
    "        \n",
    "        bpm_clean = clean_bpm(df['bpm'].values)\n",
    "        artifacts = np.sum(df['bpm'].values != bpm_clean)\n",
    "        \n",
    "        row = {'time': df['time'], 'rr_interval': df['rr_interval'], 'bpm_raw': df['bpm'], 'bpm_clean': bpm_clean, 'intensity': intensity, 'artifacts': artifacts}\n",
    "        for k, v in METADATA[person].items():\n",
    "            row[k] = v\n",
    "        \n",
    "        df_clean = pd.DataFrame(row)\n",
    "        df_clean.to_csv(f\"data/{zhaw_id}_activity_intensity_{intensity}_cleaned_lsdlpr25.csv\", index=False)\n",
    "        \n",
    "        comparisons.append({'intensity': intensity, 'raw': df['bpm'].values, 'clean': bpm_clean, 'mean_raw': df['bpm'].mean(), 'mean_clean': bpm_clean.mean(), 'std_raw': df['bpm'].std(), 'std_clean': bpm_clean.std()})\n",
    "        print(f\"✅ {zhaw_id}_activity_intensity_{intensity}_cleaned_lsdlpr25.csv (artifacts: {artifacts})\")\n",
    "    \n",
    "    return comparisons"
   ]
  },
  {
   "cell_type": "code",
   "execution_count": 14,
   "id": "e41b9fd7",
   "metadata": {},
   "outputs": [],
   "source": [
    "def clean_bpm(bpm, window=5):\n",
    "    cleaned = medfilt(bpm, kernel_size=window)\n",
    "    cleaned = np.where((cleaned < 40) | (cleaned > 200), np.median(cleaned), cleaned)\n",
    "    return cleaned\n",
    "        # Special handling for Eros\n",
    "\n",
    "\n",
    "\n",
    "\n",
    "def process_person(person, zhaw_id):\n",
    "    # Only process raw files (not cleaned ones)\n",
    "    raw_files = sorted(Path(\"data\").glob(f\"{zhaw_id}_activity_intensity_[1-3]_lsdlpr25.csv\"))\n",
    "    comparisons = []\n",
    "    \n",
    "    for raw_file in raw_files:\n",
    "        intensity = int(raw_file.stem.split('_')[3])\n",
    "        df = pd.read_csv(raw_file)\n",
    "        \n",
    "        bpm_clean = clean_bpm(df['bpm'].values)\n",
    "        artifacts = np.sum(df['bpm'].values != bpm_clean)\n",
    "        \n",
    "        row = {'time': df['time'], 'rr_interval': df['rr_interval'], 'bpm_raw': df['bpm'], 'bpm_clean': bpm_clean, 'intensity': intensity, 'artifacts': artifacts}\n",
    "        for k, v in METADATA[person].items():\n",
    "            row[k] = v\n",
    "        \n",
    "        df_clean = pd.DataFrame(row)\n",
    "        df_clean.to_csv(f\"data/{zhaw_id}_activity_intensity_{intensity}_cleaned_lsdlpr25.csv\", index=False)\n",
    "        \n",
    "        comparisons.append({'intensity': intensity, 'raw': df['bpm'].values, 'clean': bpm_clean, 'mean_raw': df['bpm'].mean(), 'mean_clean': bpm_clean.mean(), 'std_raw': df['bpm'].std(), 'std_clean': bpm_clean.std()})\n",
    "        print(f\"✅ {zhaw_id}_activity_intensity_{intensity}_cleaned_lsdlpr25.csv (artifacts: {artifacts})\")\n",
    "    \n",
    "    return comparisons"
   ]
  },
  {
   "cell_type": "code",
   "execution_count": 15,
   "id": "ae96c61b",
   "metadata": {},
   "outputs": [
    {
     "name": "stdout",
     "output_type": "stream",
     "text": [
      "=== Datenaufbereitung & Vergleich ===\n",
      "\n",
      "Processing Oskar...\n",
      "✅ steinosk_activity_intensity_1_cleaned_lsdlpr25.csv (artifacts: 231)\n",
      "✅ steinosk_activity_intensity_2_cleaned_lsdlpr25.csv (artifacts: 241)\n",
      "✅ steinosk_activity_intensity_3_cleaned_lsdlpr25.csv (artifacts: 291)\n"
     ]
    },
    {
     "data": {
      "application/vnd.plotly.v1+json": {
       "config": {
        "plotlyServerURL": "https://plot.ly"
       },
       "data": [
        {
         "line": {
          "color": "red"
         },
         "name": "Raw 1",
         "opacity": 0.6,
         "type": "scatter",
         "xaxis": "x",
         "y": {
          "bdata": "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",
          "dtype": "f8"
         },
         "yaxis": "y"
        },
        {
         "line": {
          "color": "green"
         },
         "name": "Clean 1",
         "type": "scatter",
         "xaxis": "x",
         "y": {
          "bdata": "AAAAAABwV0AAAAAAAHBXQAAAAAAAcFdANHV+7SGXVkDn6Jujb45WQJCiClJUQVZAkKIKUlRBVkCQogpSVEFWQOOHMMhZsldA9DzP8zzPV0BBGqRBGqRZQMO9CmZJOVpAiOGwmZqkWkADDOduaBNbQBcZJqIlOVtAj/d4j/d4W0BYXYa90p9bQLfi8O/erFtAgeNz5E3UW0CwaFrli+FbQIcVpfGRCVxAIOOCjAsyXEAg44KMCzJcQOmiiy66aFxAdzQsC4d2XECLndiJndhcQASR1gvY5lxAwx1xR9wRXUCT87KITyBdQOJwOBwOh11AT82D3PWzXUBPzYPc9bNdQH5MDwNn4V1AAAAAAAAAXkDN33XxC21eQHit2qACzV5AeK3aoALNXkB+WKQMPN1eQPZyKDReL19A9nIoNF4vX0CJFs6AUHJfQDQJB6tktl9Aj8gJwt3YX0CPyAnC3dhfQCGEEEIIIWBA5p5GWO4pYEDZ2apF3jJgQOXvkOfbRGBAYO+YGtg7YEDl75Dn20RgQPWmN73pTWBAf3bexSNgYEB/dt7FI2BgQH923sUjYGBArAFXrAFXYECsAVesAVdgQKwBV6wBV2BArAFXrAFXYECsAVesAVdgQH923sUjYGBAKK+hvIZyYEAor6G8hnJgQJp82aDJl2BAmnzZoMmXYECafNmgyZdgQJp82aDJl2BAoUwTyjShYEChTBPKNKFgQPZtwFBNx2BA9m3AUE3HYECHtr/H7tBgQE5talOb2mBATm1qU5vaYEBObWpTm9pgQE5talOb2mBATm1qU5vaYEBAmbjSvQFhQECZuNK9AWFAQJm40r0BYUAz5Pcy5PdgQDPk9zLk92BAM+T3MuT3YED58ePHjx9hQPnx48ePH2FA+fHjx48fYUA7IxVzqzNhQDsjFXOrM2FAOyMVc6szYUDdqo8dLlJhQN2qjx0uUmFA3aqPHS5SYUDaH+2P9kdhQNof7Y/2R2FA2h/tj/ZHYUDdqo8dLlJhQMdxHMdxXGFAx3Ecx3FcYUDcEXfEHXFhQDIH3LN8kGFAMgfcs3yQYUAyB9yzfJBhQDIH3LN8kGFAMgfcs3yQYUAyB9yzfJBhQKalpaWlpWFApqWlpaWlYUCmpaWlpaVhQPdYy9ABu2FAruxzSE2wYUCmpaWlpaVhQGFzINEKm2FAYXMg0QqbYUBhcyDRCpthQGFzINEKm2FAruxzSE2wYUBmpTDwkdBhQGalMPCR0GFAZqUw8JHQYUBmpTDwkdBhQHZiJ3ZiB2JAdmIndmIHYkD3kMuKgRJiQPeQy4qBEmJA95DLioESYkD3kMuKgRJiQPeQy4qBEmJA95DLioESYkD3kMuKgRJiQHZiJ3ZiB2JAk2+8EOkoYkCTb7wQ6ShiQJNvvBDpKGJAk2+8EOkoYkAVjiVkYFZiQBWOJWRgVmJAFY4lZGBWYkAVjiVkYFZiQBWOJWRgVmJA4uHh4eFhYkDi4eHh4WFiQOLh4eHhYWJA4uHh4eFhYkDi4eHh4WFiQBWOJWRgVmJAFY4lZGBWYkAVjiVkYFZiQAahANlxbWJABqEA2XFtYkC9/uJkEHliQL3+4mQQeWJAvf7iZBB5YkC9/uJkEHliQOLh4eHhYWJAFY4lZGBWYkAVjiVkYFZiQBWOJWRgVmJABqEA2XFtYkAGoQDZcW1iQAahANlxbWJA4uHh4eFhYkAVjiVkYFZiQEvUrkTtSmJAS9SuRO1KYkAecKRoiD9iQB5wpGiIP2JAHnCkaIg/YkC9/uJkEHliQExoL6G9hGJATGgvob2EYkBRYNKpeZBiQFFg0ql5kGJAolMtqQe0YkAAAAAAAMBiQMDsAbMHzGJAAAAAAADAYkAAAAAAAMBiQPDBBx988GJA8MEHH3zwYkD6XS1uwvxiQGisD431IWNAaKwPjfUhY0BorA+N9SFjQGisD431IWNAsRM7sRM7Y0CxEzuxEztjQLETO7ETO2NAsRM7sRM7Y0CxEzuxEztjQAJbI2Z8LmNAAlsjZnwuY0ACWyNmfC5jQAJbI2Z8LmNAaKwPjfUhY0AO09wFfxVjQA7T3AV/FWNADtPcBX8VY0AO09wFfxVjQA7T3AV/FWNADtPcBX8VY0ACWyNmfC5jQAJbI2Z8LmNAAlsjZnwuY0BorA+N9SFjQGisD431IWNADtPcBX8VY0AO09wFfxVjQA7T3AV/FWNADtPcBX8VY0AO09wFfxVjQGisD431IWNAAlsjZnwuY0CxEzuxEztjQLETO7ETO2NAsRM7sRM7Y0CxEzuxEztjQLETO7ETO2NAAlsjZnwuY0ACWyNmfC5jQAJbI2Z8LmNAAlsjZnwuY0ACWyNmfC5jQLETO7ETO2NAsRM7sRM7Y0CGpM6Ou0djQOCLqx90VGNA2BP2hD1hY0DYE/aEPWFjQAAAAAAAiGNAAAAAAACIY0BiklsJDpVjQGKSWwkOlWNAYpJbCQ6VY0BiklsJDpVjQMprKK+hvGNAgSYli/bJY0CBJiWL9sljQMprKK+hvGNA7PV6vV6vY0Ds9Xq9Xq9jQOz1er1er2NA7PV6vV6vY0DKayivobxjQAcmCJTW5GNAgSYli/bJY0CBJiWL9sljQIEmJYv2yWNAgSYli/bJY0CBJiWL9sljQAAAAAAAAGRADoJTmbANZEAOglOZsA1kQA6CU5mwDWRADoJTmbANZEAWxOQKYvJjQBbE5Api8mNADoJTmbANZEAOglOZsA1kQDR8hMAzN2RANHyEwDM3ZEA0fITAMzdkQDR8hMAzN2RANHyEwDM3ZEBT5LNuMEVkQFMINIVAU2RAUwg0hUBTZEBTCDSFQFNkQDR8hMAzN2RAKaWUUkopZEAppZRSSilkQCmllFJKKWRAFsTkCmLyY0AWxOQKYvJjQBbE5Api8mNAgSYli/bJY0CBJiWL9sljQIEmJYv2yWNAByYIlNbkY0AHJgiU1uRjQA6CU5mwDWRADoJTmbANZEAOglOZsA1kQA6CU5mwDWRAAAAAAAAAZEAAAAAAAABkQAAAAAAAAGRAAAAAAAAAZEAOglOZsA1kQA6CU5mwDWRAFsTkCmLyY0AHJgiU1uRjQAcmCJTW5GNAdV3XdV3XY0CBJiWL9sljQIEmJYv2yWNAdV3XdV3XY0B1Xdd1XddjQHVd13Vd12NAdV3XdV3XY0AHJgiU1uRjQAcmCJTW5GNAFsTkCmLyY0AWxOQKYvJjQHkzQf1zG2RAeTNB/XMbZEB5M0H9cxtkQHkzQf1zG2RAeTNB/XMbZEAppZRSSilkQCmllFJKKWRAeTNB/XMbZEAOglOZsA1kQAAAAAAAAGRAAAAAAAAAZEAAAAAAAABkQAcmCJTW5GNAByYIlNbkY0AHJgiU1uRjQAcmCJTW5GNAAAAAAAAAZEAOglOZsA1kQA6CU5mwDWRADoJTmbANZEAOglOZsA1kQA6CU5mwDWRAeTNB/XMbZEB5M0H9cxtkQHkzQf1zG2RADoJTmbANZEB5M0H9cxtkQAAAAAAAAGRAAAAAAAAAZEAAAAAAAABkQAAAAAAAAGRAAAAAAAAAZEAOglOZsA1kQA6CU5mwDWRADoJTmbANZEAOglOZsA1kQA6CU5mwDWRAeTNB/XMbZEAppZRSSilkQCmllFJKKWRAKaWUUkopZEAppZRSSilkQCmllFJKKWRADoJTmbANZEAOglOZsA1kQDR8hMAzN2RAeTNB/XMbZEB5M0H9cxtkQHkzQf1zG2RAeTNB/XMbZEB5M0H9cxtkQHkzQf1zG2RANHyEwDM3ZEBT5LNuMEVkQFPks24wRWRAUwg0hUBTZECykIUsZGFkQLKQhSxkYWRAspCFLGRhZEAAAAAAAABkQA==",
          "dtype": "f8"
         },
         "yaxis": "y"
        },
        {
         "marker": {
          "color": "red"
         },
         "name": "Raw 1",
         "opacity": 0.6,
         "type": "bar",
         "x": [
          "Mean",
          "Std"
         ],
         "xaxis": "x4",
         "y": [
          144.996897806795,
          18.730792893846086
         ],
         "yaxis": "y4"
        },
        {
         "marker": {
          "color": "green"
         },
         "name": "Clean 1",
         "type": "bar",
         "x": [
          "Mean",
          "Std"
         ],
         "xaxis": "x4",
         "y": [
          146.07235186759053,
          16.526155774606377
         ],
         "yaxis": "y4"
        },
        {
         "line": {
          "color": "red"
         },
         "name": "Raw 2",
         "opacity": 0.6,
         "type": "scatter",
         "xaxis": "x2",
         "y": {
          "bdata": "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",
          "dtype": "f8"
         },
         "yaxis": "y2"
        },
        {
         "line": {
          "color": "green"
         },
         "name": "Clean 2",
         "type": "scatter",
         "xaxis": "x2",
         "y": {
          "bdata": "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",
          "dtype": "f8"
         },
         "yaxis": "y2"
        },
        {
         "marker": {
          "color": "red"
         },
         "name": "Raw 2",
         "opacity": 0.6,
         "type": "bar",
         "x": [
          "Mean",
          "Std"
         ],
         "xaxis": "x5",
         "y": [
          164.26745326212824,
          20.868993289940246
         ],
         "yaxis": "y5"
        },
        {
         "marker": {
          "color": "green"
         },
         "name": "Clean 2",
         "type": "bar",
         "x": [
          "Mean",
          "Std"
         ],
         "xaxis": "x5",
         "y": [
          164.28697343117074,
          20.80752001956679
         ],
         "yaxis": "y5"
        },
        {
         "line": {
          "color": "red"
         },
         "name": "Raw 3",
         "opacity": 0.6,
         "type": "scatter",
         "xaxis": "x3",
         "y": {
          "bdata": "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",
          "dtype": "f8"
         },
         "yaxis": "y3"
        },
        {
         "line": {
          "color": "green"
         },
         "name": "Clean 3",
         "type": "scatter",
         "xaxis": "x3",
         "y": {
          "bdata": "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",
          "dtype": "f8"
         },
         "yaxis": "y3"
        },
        {
         "marker": {
          "color": "red"
         },
         "name": "Raw 3",
         "opacity": 0.6,
         "type": "bar",
         "x": [
          "Mean",
          "Std"
         ],
         "xaxis": "x6",
         "y": [
          174.87640290100626,
          21.313844252143646
         ],
         "yaxis": "y6"
        },
        {
         "marker": {
          "color": "green"
         },
         "name": "Clean 3",
         "type": "bar",
         "x": [
          "Mean",
          "Std"
         ],
         "xaxis": "x6",
         "y": [
          175.09297199567442,
          20.842563368695902
         ],
         "yaxis": "y6"
        }
       ],
       "layout": {
        "annotations": [
         {
          "font": {
           "size": 16
          },
          "showarrow": false,
          "text": "Intensity 1",
          "x": 0.14444444444444446,
          "xanchor": "center",
          "xref": "paper",
          "y": 1,
          "yanchor": "bottom",
          "yref": "paper"
         },
         {
          "font": {
           "size": 16
          },
          "showarrow": false,
          "text": "Intensity 2",
          "x": 0.5,
          "xanchor": "center",
          "xref": "paper",
          "y": 1,
          "yanchor": "bottom",
          "yref": "paper"
         },
         {
          "font": {
           "size": 16
          },
          "showarrow": false,
          "text": "Intensity 3",
          "x": 0.8555555555555556,
          "xanchor": "center",
          "xref": "paper",
          "y": 1,
          "yanchor": "bottom",
          "yref": "paper"
         },
         {
          "font": {
           "size": 16
          },
          "showarrow": false,
          "text": "Stats 1",
          "x": 0.14444444444444446,
          "xanchor": "center",
          "xref": "paper",
          "y": 0.375,
          "yanchor": "bottom",
          "yref": "paper"
         },
         {
          "font": {
           "size": 16
          },
          "showarrow": false,
          "text": "Stats 2",
          "x": 0.5,
          "xanchor": "center",
          "xref": "paper",
          "y": 0.375,
          "yanchor": "bottom",
          "yref": "paper"
         },
         {
          "font": {
           "size": 16
          },
          "showarrow": false,
          "text": "Stats 3",
          "x": 0.8555555555555556,
          "xanchor": "center",
          "xref": "paper",
          "y": 0.375,
          "yanchor": "bottom",
          "yref": "paper"
         }
        ],
        "height": 800,
        "showlegend": false,
        "template": {
         "data": {
          "bar": [
           {
            "error_x": {
             "color": "#2a3f5f"
            },
            "error_y": {
             "color": "#2a3f5f"
            },
            "marker": {
             "line": {
              "color": "#E5ECF6",
              "width": 0.5
             },
             "pattern": {
              "fillmode": "overlay",
              "size": 10,
              "solidity": 0.2
             }
            },
            "type": "bar"
           }
          ],
          "barpolar": [
           {
            "marker": {
             "line": {
              "color": "#E5ECF6",
              "width": 0.5
             },
             "pattern": {
              "fillmode": "overlay",
              "size": 10,
              "solidity": 0.2
             }
            },
            "type": "barpolar"
           }
          ],
          "carpet": [
           {
            "aaxis": {
             "endlinecolor": "#2a3f5f",
             "gridcolor": "white",
             "linecolor": "white",
             "minorgridcolor": "white",
             "startlinecolor": "#2a3f5f"
            },
            "baxis": {
             "endlinecolor": "#2a3f5f",
             "gridcolor": "white",
             "linecolor": "white",
             "minorgridcolor": "white",
             "startlinecolor": "#2a3f5f"
            },
            "type": "carpet"
           }
          ],
          "choropleth": [
           {
            "colorbar": {
             "outlinewidth": 0,
             "ticks": ""
            },
            "type": "choropleth"
           }
          ],
          "contour": [
           {
            "colorbar": {
             "outlinewidth": 0,
             "ticks": ""
            },
            "colorscale": [
             [
              0,
              "#0d0887"
             ],
             [
              0.1111111111111111,
              "#46039f"
             ],
             [
              0.2222222222222222,
              "#7201a8"
             ],
             [
              0.3333333333333333,
              "#9c179e"
             ],
             [
              0.4444444444444444,
              "#bd3786"
             ],
             [
              0.5555555555555556,
              "#d8576b"
             ],
             [
              0.6666666666666666,
              "#ed7953"
             ],
             [
              0.7777777777777778,
              "#fb9f3a"
             ],
             [
              0.8888888888888888,
              "#fdca26"
             ],
             [
              1,
              "#f0f921"
             ]
            ],
            "type": "contour"
           }
          ],
          "contourcarpet": [
           {
            "colorbar": {
             "outlinewidth": 0,
             "ticks": ""
            },
            "type": "contourcarpet"
           }
          ],
          "heatmap": [
           {
            "colorbar": {
             "outlinewidth": 0,
             "ticks": ""
            },
            "colorscale": [
             [
              0,
              "#0d0887"
             ],
             [
              0.1111111111111111,
              "#46039f"
             ],
             [
              0.2222222222222222,
              "#7201a8"
             ],
             [
              0.3333333333333333,
              "#9c179e"
             ],
             [
              0.4444444444444444,
              "#bd3786"
             ],
             [
              0.5555555555555556,
              "#d8576b"
             ],
             [
              0.6666666666666666,
              "#ed7953"
             ],
             [
              0.7777777777777778,
              "#fb9f3a"
             ],
             [
              0.8888888888888888,
              "#fdca26"
             ],
             [
              1,
              "#f0f921"
             ]
            ],
            "type": "heatmap"
           }
          ],
          "histogram": [
           {
            "marker": {
             "pattern": {
              "fillmode": "overlay",
              "size": 10,
              "solidity": 0.2
             }
            },
            "type": "histogram"
           }
          ],
          "histogram2d": [
           {
            "colorbar": {
             "outlinewidth": 0,
             "ticks": ""
            },
            "colorscale": [
             [
              0,
              "#0d0887"
             ],
             [
              0.1111111111111111,
              "#46039f"
             ],
             [
              0.2222222222222222,
              "#7201a8"
             ],
             [
              0.3333333333333333,
              "#9c179e"
             ],
             [
              0.4444444444444444,
              "#bd3786"
             ],
             [
              0.5555555555555556,
              "#d8576b"
             ],
             [
              0.6666666666666666,
              "#ed7953"
             ],
             [
              0.7777777777777778,
              "#fb9f3a"
             ],
             [
              0.8888888888888888,
              "#fdca26"
             ],
             [
              1,
              "#f0f921"
             ]
            ],
            "type": "histogram2d"
           }
          ],
          "histogram2dcontour": [
           {
            "colorbar": {
             "outlinewidth": 0,
             "ticks": ""
            },
            "colorscale": [
             [
              0,
              "#0d0887"
             ],
             [
              0.1111111111111111,
              "#46039f"
             ],
             [
              0.2222222222222222,
              "#7201a8"
             ],
             [
              0.3333333333333333,
              "#9c179e"
             ],
             [
              0.4444444444444444,
              "#bd3786"
             ],
             [
              0.5555555555555556,
              "#d8576b"
             ],
             [
              0.6666666666666666,
              "#ed7953"
             ],
             [
              0.7777777777777778,
              "#fb9f3a"
             ],
             [
              0.8888888888888888,
              "#fdca26"
             ],
             [
              1,
              "#f0f921"
             ]
            ],
            "type": "histogram2dcontour"
           }
          ],
          "mesh3d": [
           {
            "colorbar": {
             "outlinewidth": 0,
             "ticks": ""
            },
            "type": "mesh3d"
           }
          ],
          "parcoords": [
           {
            "line": {
             "colorbar": {
              "outlinewidth": 0,
              "ticks": ""
             }
            },
            "type": "parcoords"
           }
          ],
          "pie": [
           {
            "automargin": true,
            "type": "pie"
           }
          ],
          "scatter": [
           {
            "fillpattern": {
             "fillmode": "overlay",
             "size": 10,
             "solidity": 0.2
            },
            "type": "scatter"
           }
          ],
          "scatter3d": [
           {
            "line": {
             "colorbar": {
              "outlinewidth": 0,
              "ticks": ""
             }
            },
            "marker": {
             "colorbar": {
              "outlinewidth": 0,
              "ticks": ""
             }
            },
            "type": "scatter3d"
           }
          ],
          "scattercarpet": [
           {
            "marker": {
             "colorbar": {
              "outlinewidth": 0,
              "ticks": ""
             }
            },
            "type": "scattercarpet"
           }
          ],
          "scattergeo": [
           {
            "marker": {
             "colorbar": {
              "outlinewidth": 0,
              "ticks": ""
             }
            },
            "type": "scattergeo"
           }
          ],
          "scattergl": [
           {
            "marker": {
             "colorbar": {
              "outlinewidth": 0,
              "ticks": ""
             }
            },
            "type": "scattergl"
           }
          ],
          "scattermap": [
           {
            "marker": {
             "colorbar": {
              "outlinewidth": 0,
              "ticks": ""
             }
            },
            "type": "scattermap"
           }
          ],
          "scattermapbox": [
           {
            "marker": {
             "colorbar": {
              "outlinewidth": 0,
              "ticks": ""
             }
            },
            "type": "scattermapbox"
           }
          ],
          "scatterpolar": [
           {
            "marker": {
             "colorbar": {
              "outlinewidth": 0,
              "ticks": ""
             }
            },
            "type": "scatterpolar"
           }
          ],
          "scatterpolargl": [
           {
            "marker": {
             "colorbar": {
              "outlinewidth": 0,
              "ticks": ""
             }
            },
            "type": "scatterpolargl"
           }
          ],
          "scatterternary": [
           {
            "marker": {
             "colorbar": {
              "outlinewidth": 0,
              "ticks": ""
             }
            },
            "type": "scatterternary"
           }
          ],
          "surface": [
           {
            "colorbar": {
             "outlinewidth": 0,
             "ticks": ""
            },
            "colorscale": [
             [
              0,
              "#0d0887"
             ],
             [
              0.1111111111111111,
              "#46039f"
             ],
             [
              0.2222222222222222,
              "#7201a8"
             ],
             [
              0.3333333333333333,
              "#9c179e"
             ],
             [
              0.4444444444444444,
              "#bd3786"
             ],
             [
              0.5555555555555556,
              "#d8576b"
             ],
             [
              0.6666666666666666,
              "#ed7953"
             ],
             [
              0.7777777777777778,
              "#fb9f3a"
             ],
             [
              0.8888888888888888,
              "#fdca26"
             ],
             [
              1,
              "#f0f921"
             ]
            ],
            "type": "surface"
           }
          ],
          "table": [
           {
            "cells": {
             "fill": {
              "color": "#EBF0F8"
             },
             "line": {
              "color": "white"
             }
            },
            "header": {
             "fill": {
              "color": "#C8D4E3"
             },
             "line": {
              "color": "white"
             }
            },
            "type": "table"
           }
          ]
         },
         "layout": {
          "annotationdefaults": {
           "arrowcolor": "#2a3f5f",
           "arrowhead": 0,
           "arrowwidth": 1
          },
          "autotypenumbers": "strict",
          "coloraxis": {
           "colorbar": {
            "outlinewidth": 0,
            "ticks": ""
           }
          },
          "colorscale": {
           "diverging": [
            [
             0,
             "#8e0152"
            ],
            [
             0.1,
             "#c51b7d"
            ],
            [
             0.2,
             "#de77ae"
            ],
            [
             0.3,
             "#f1b6da"
            ],
            [
             0.4,
             "#fde0ef"
            ],
            [
             0.5,
             "#f7f7f7"
            ],
            [
             0.6,
             "#e6f5d0"
            ],
            [
             0.7,
             "#b8e186"
            ],
            [
             0.8,
             "#7fbc41"
            ],
            [
             0.9,
             "#4d9221"
            ],
            [
             1,
             "#276419"
            ]
           ],
           "sequential": [
            [
             0,
             "#0d0887"
            ],
            [
             0.1111111111111111,
             "#46039f"
            ],
            [
             0.2222222222222222,
             "#7201a8"
            ],
            [
             0.3333333333333333,
             "#9c179e"
            ],
            [
             0.4444444444444444,
             "#bd3786"
            ],
            [
             0.5555555555555556,
             "#d8576b"
            ],
            [
             0.6666666666666666,
             "#ed7953"
            ],
            [
             0.7777777777777778,
             "#fb9f3a"
            ],
            [
             0.8888888888888888,
             "#fdca26"
            ],
            [
             1,
             "#f0f921"
            ]
           ],
           "sequentialminus": [
            [
             0,
             "#0d0887"
            ],
            [
             0.1111111111111111,
             "#46039f"
            ],
            [
             0.2222222222222222,
             "#7201a8"
            ],
            [
             0.3333333333333333,
             "#9c179e"
            ],
            [
             0.4444444444444444,
             "#bd3786"
            ],
            [
             0.5555555555555556,
             "#d8576b"
            ],
            [
             0.6666666666666666,
             "#ed7953"
            ],
            [
             0.7777777777777778,
             "#fb9f3a"
            ],
            [
             0.8888888888888888,
             "#fdca26"
            ],
            [
             1,
             "#f0f921"
            ]
           ]
          },
          "colorway": [
           "#636efa",
           "#EF553B",
           "#00cc96",
           "#ab63fa",
           "#FFA15A",
           "#19d3f3",
           "#FF6692",
           "#B6E880",
           "#FF97FF",
           "#FECB52"
          ],
          "font": {
           "color": "#2a3f5f"
          },
          "geo": {
           "bgcolor": "white",
           "lakecolor": "white",
           "landcolor": "#E5ECF6",
           "showlakes": true,
           "showland": true,
           "subunitcolor": "white"
          },
          "hoverlabel": {
           "align": "left"
          },
          "hovermode": "closest",
          "mapbox": {
           "style": "light"
          },
          "paper_bgcolor": "white",
          "plot_bgcolor": "#E5ECF6",
          "polar": {
           "angularaxis": {
            "gridcolor": "white",
            "linecolor": "white",
            "ticks": ""
           },
           "bgcolor": "#E5ECF6",
           "radialaxis": {
            "gridcolor": "white",
            "linecolor": "white",
            "ticks": ""
           }
          },
          "scene": {
           "xaxis": {
            "backgroundcolor": "#E5ECF6",
            "gridcolor": "white",
            "gridwidth": 2,
            "linecolor": "white",
            "showbackground": true,
            "ticks": "",
            "zerolinecolor": "white"
           },
           "yaxis": {
            "backgroundcolor": "#E5ECF6",
            "gridcolor": "white",
            "gridwidth": 2,
            "linecolor": "white",
            "showbackground": true,
            "ticks": "",
            "zerolinecolor": "white"
           },
           "zaxis": {
            "backgroundcolor": "#E5ECF6",
            "gridcolor": "white",
            "gridwidth": 2,
            "linecolor": "white",
            "showbackground": true,
            "ticks": "",
            "zerolinecolor": "white"
           }
          },
          "shapedefaults": {
           "line": {
            "color": "#2a3f5f"
           }
          },
          "ternary": {
           "aaxis": {
            "gridcolor": "white",
            "linecolor": "white",
            "ticks": ""
           },
           "baxis": {
            "gridcolor": "white",
            "linecolor": "white",
            "ticks": ""
           },
           "bgcolor": "#E5ECF6",
           "caxis": {
            "gridcolor": "white",
            "linecolor": "white",
            "ticks": ""
           }
          },
          "title": {
           "x": 0.05
          },
          "xaxis": {
           "automargin": true,
           "gridcolor": "white",
           "linecolor": "white",
           "ticks": "",
           "title": {
            "standoff": 15
           },
           "zerolinecolor": "white",
           "zerolinewidth": 2
          },
          "yaxis": {
           "automargin": true,
           "gridcolor": "white",
           "linecolor": "white",
           "ticks": "",
           "title": {
            "standoff": 15
           },
           "zerolinecolor": "white",
           "zerolinewidth": 2
          }
         }
        },
        "title": {
         "text": "Oskar - Raw vs Cleaned BPM"
        },
        "xaxis": {
         "anchor": "y",
         "domain": [
          0,
          0.2888888888888889
         ]
        },
        "xaxis2": {
         "anchor": "y2",
         "domain": [
          0.35555555555555557,
          0.6444444444444445
         ]
        },
        "xaxis3": {
         "anchor": "y3",
         "domain": [
          0.7111111111111111,
          1
         ]
        },
        "xaxis4": {
         "anchor": "y4",
         "domain": [
          0,
          0.2888888888888889
         ]
        },
        "xaxis5": {
         "anchor": "y5",
         "domain": [
          0.35555555555555557,
          0.6444444444444445
         ]
        },
        "xaxis6": {
         "anchor": "y6",
         "domain": [
          0.7111111111111111,
          1
         ]
        },
        "yaxis": {
         "anchor": "x",
         "domain": [
          0.625,
          1
         ]
        },
        "yaxis2": {
         "anchor": "x2",
         "domain": [
          0.625,
          1
         ]
        },
        "yaxis3": {
         "anchor": "x3",
         "domain": [
          0.625,
          1
         ]
        },
        "yaxis4": {
         "anchor": "x4",
         "domain": [
          0,
          0.375
         ]
        },
        "yaxis5": {
         "anchor": "x5",
         "domain": [
          0,
          0.375
         ]
        },
        "yaxis6": {
         "anchor": "x6",
         "domain": [
          0,
          0.375
         ]
        }
       }
      }
     },
     "metadata": {},
     "output_type": "display_data"
    },
    {
     "name": "stdout",
     "output_type": "stream",
     "text": [
      "\n",
      "Processing Michelle...\n",
      "✅ linamic_activity_intensity_1_cleaned_lsdlpr25.csv (artifacts: 224)\n",
      "✅ linamic_activity_intensity_2_cleaned_lsdlpr25.csv (artifacts: 240)\n",
      "✅ linamic_activity_intensity_3_cleaned_lsdlpr25.csv (artifacts: 288)\n"
     ]
    },
    {
     "data": {
      "application/vnd.plotly.v1+json": {
       "config": {
        "plotlyServerURL": "https://plot.ly"
       },
       "data": [
        {
         "line": {
          "color": "red"
         },
         "name": "Raw 1",
         "opacity": 0.6,
         "type": "scatter",
         "xaxis": "x",
         "y": {
          "bdata": "+mg1CVH8YUD3kMuKgRJiQBWKSsJW5mFAFYpKwlbmYUC3bdu2bdthQOplJFbDxWFApqWlpaWlYUD3WMvQAbthQLdt27Zt22FAFYpKwlbmYUB2Yid2YgdiQJNvvBDpKGJAdmIndmIHYkCTb7wQ6ShiQIK5dmCuHWJAPNhvtTE0YkCTb7wQ6ShiQIK5dmCuHWJAYV3/mkScYkBL1K5E7UpiQBWOJWRgVmJAk2+8EOkoYkB2Yid2YgdiQHZiJ3ZiB2JAruxzSE2wYUCx3NMIyz1hQNgG9FQrtGBAoUwTyjShYECafNmgyZdgQH923sUjYGBALn37KxOFYECsAVesAVdgQGDvmBrYO2BA5p5GWO4pYEBbbuMaUGlgQFtu4xpQaWBArAFXrAFXYECafNmgyZdgQKuqqqqqqmBA27Zt27a9YED2bcBQTcdgQE5talOb2mBATm1qU5vaYEBAmbjSvQFhQEAjmfUV7mBATm1qU5vaYEBFPusGU+RgQEAjmfUV7mBAjC666KILYUDbtm3btr1gQPZtwFBNx2BAq6qqqqqqYED2bcBQTcdgQIe2v8fu0GBA9m3AUE3HYEBAmbjSvQFhQEU+6wZT5GBAsdzTCMs9YUD58ePHjx9hQPnx48ePH2FA+fHjx48fYUCtMyeiwWZhQMdxHMdxXGFA3BF3xB1xYUDHcRzHcVxhQNof7Y/2R2FArTMnosFmYUDdqo8dLlJhQMdxHMdxXGFAdS0HN/uFYUB1LQc3+4VhQC0pB0SGe2FA3aqPHS5SYUBhcyDRCpthQGFzINEKm2FAruxzSE2wYUDqZSRWw8VhQGFzINEKm2FAZqUw8JHQYUD3WMvQAbthQDIH3LN8kGFA6mUkVsPFYUBhcyDRCpthQNwRd8QdcWFALSkHRIZ7YUC3bdu2bdthQGFzINEKm2FALSkHRIZ7YUAtKQdEhnthQOplJFbDxWFAMgfcs3yQYUCtMyeiwWZhQDIH3LN8kGFAYXMg0QqbYUAyB9yzfJBhQGFzINEKm2FALSkHRIZ7YUAyB9yzfJBhQC0pB0SGe2FAdS0HN/uFYUDcEXfEHXFhQDIH3LN8kGFA3BF3xB1xYUB1LQc3+4VhQHUtBzf7hWFAruxzSE2wYUCmpaWlpaVhQNwRd8QdcWFA3aqPHS5SYUDdqo8dLlJhQDIH3LN8kGFA3BF3xB1xYUDHcRzHcVxhQMdxHMdxXGFAsdzTCMs9YUDaH+2P9kdhQLHc0wjLPWFAx3Ecx3FcYUDaH+2P9kdhQCrYs7mXKWFA+fHjx48fYUD58ePHjx9hQNfpCYmTFWFAKtizuZcpYUDdqo8dLlJhQDsjFXOrM2FArTMnosFmYUAq2LO5lylhQN2qjx0uUmFAMgfcs3yQYUB1LQc3+4VhQDIH3LN8kGFALSkHRIZ7YUCmpaWlpaVhQK7sc0hNsGFAdS0HN/uFYUBhcyDRCpthQMdxHMdxXGFAx3Ecx3FcYUDcEXfEHXFhQC0pB0SGe2FAx3Ecx3FcYUD58ePHjx9hQDsjFXOrM2FAh7a/x+7QYECMLrroogthQKQ50hxpjmBAq6qqqqqqYEDX6QmJkxVhQEAjmfUV7mBA+fHjx48fYUCrqqqqqqpgQIe2v8fu0GBAh7a/x+7QYEBFPusGU+RgQDPk9zLk92BA+fHjx48fYUDdqo8dLlJhQN2qjx0uUmFAYXMg0QqbYUDHcRzHcVxhQC0pB0SGe2FAYXMg0QqbYUB1LQc3+4VhQLHc0wjLPWFALSkHRIZ7YUAtKQdEhnthQK0zJ6LBZmFA3BF3xB1xYUDHcRzHcVxhQN2qjx0uUmFA+fHjx48fYUDcEXfEHXFhQHUtBzf7hWFA3BF3xB1xYUB1LQc3+4VhQDIH3LN8kGFApqWlpaWlYUB1LQc3+4VhQGFzINEKm2FAYXMg0QqbYUB1LQc3+4VhQGFzINEKm2FA3BF3xB1xYUCu7HNITbBhQKalpaWlpWFAdS0HN/uFYUDqZSRWw8VhQGFzINEKm2FAYXMg0QqbYUDHcRzHcVxhQC0pB0SGe2FAruxzSE2wYUD3WMvQAbthQK7sc0hNsGFA91jL0AG7YUBmpTDwkdBhQGalMPCR0GFA+mg1CVH8YUCg7d4qTfFhQOplJFbDxWFAoO3eKk3xYUD3WMvQAbthQPdYy9ABu2FApqWlpaWlYUC3bdu2bdthQBWKSsJW5mFAFYpKwlbmYUAVikrCVuZhQKDt3ipN8WFA95DLioESYkA82G+1MTRiQKDt3ipN8WFA4uHh4eFhYkAecKRoiD9iQOLh4eHhYWJAS9SuRO1KYkAecKRoiD9iQB5wpGiIP2JA95DLioESYkB2Yid2YgdiQPeQy4qBEmJAdmIndmIHYkD6aDUJUfxhQOplJFbDxWFAt23btm3bYUDcEXfEHXFhQKalpaWlpWFALSkHRIZ7YUBhcyDRCpthQKDt3ipN8WFAoO3eKk3xYUCTb7wQ6ShiQIK5dmCuHWJAHnCkaIg/YkAecKRoiD9iQIK5dmCuHWJAFY4lZGBWYkD3kMuKgRJiQOLh4eHhYWJAgrl2YK4dYkCTb7wQ6ShiQB5wpGiIP2JAk2+8EOkoYkCg7d4qTfFhQPpoNQlR/GFA91jL0AG7YUAVikrCVuZhQPpoNQlR/GFAoO3eKk3xYUD3WMvQAbthQPeQy4qBEmJAdmIndmIHYkCg7d4qTfFhQKDt3ipN8WFAruxzSE2wYUD3kMuKgRJiQHZiJ3ZiB2JAoO3eKk3xYUD6aDUJUfxhQKDt3ipN8WFAZqUw8JHQYUBmpTDwkdBhQBWKSsJW5mFA95DLioESYkCTb7wQ6ShiQJNvvBDpKGJAgrl2YK4dYkB2Yid2YgdiQPpoNQlR/GFAHnCkaIg/YkA82G+1MTRiQDzYb7UxNGJAZqUw8JHQYUD6aDUJUfxhQPeQy4qBEmJAgrl2YK4dYkB2Yid2YgdiQKDt3ipN8WFAt23btm3bYUAVikrCVuZhQHZiJ3ZiB2JAS9SuRO1KYkDi4eHh4WFiQDzYb7UxNGJAvf7iZBB5YkAVjiVkYFZiQL3+4mQQeWJABqEA2XFtYkDi4eHh4WFiQFFg0ql5kGJAFY4lZGBWYkAGoQDZcW1iQL3+4mQQeWJAUWDSqXmQYkBMaC+hvYRiQBWOJWRgVmJAS9SuRO1KYkAVjiVkYFZiQBWOJWRgVmJA4uHh4eFhYkDi4eHh4WFiQL3+4mQQeWJAvf7iZBB5YkC9/uJkEHliQExoL6G9hGJA4uHh4eFhYkBRYNKpeZBiQExoL6G9hGJATGgvob2EYkAGoQDZcW1iQL3+4mQQeWJA4uHh4eFhYkA82G+1MTRiQPeQy4qBEmJAgrl2YK4dYkCCuXZgrh1iQDzYb7UxNGJAgrl2YK4dYkBL1K5E7UpiQB5wpGiIP2JAFY4lZGBWYkAecKRoiD9iQDzYb7UxNGJAHnCkaIg/YkCCuXZgrh1iQPeQy4qBEmJA95DLioESYkCg7d4qTfFhQHZiJ3ZiB2JA91jL0AG7YUCg7d4qTfFhQK7sc0hNsGFAZqUw8JHQYUDqZSRWw8VhQGFzINEKm2FApqWlpaWlYUD3WMvQAbthQOplJFbDxWFAt23btm3bYUD3WMvQAbthQKDt3ipN8WFAFYpKwlbmYUB2Yid2YgdiQPpoNQlR/GFA+mg1CVH8YUAecKRoiD9iQIK5dmCuHWJA95DLioESYkD6aDUJUfxhQBWKSsJW5mFA+mg1CVH8YUD3kMuKgRJiQPeQy4qBEmJAFYpKwlbmYUB2Yid2YgdiQKDt3ipN8WFA95DLioESYkCg7d4qTfFhQKDt3ipN8WFA+mg1CVH8YUC3bdu2bdthQA==",
          "dtype": "f8"
         },
         "yaxis": "y"
        },
        {
         "line": {
          "color": "green"
         },
         "name": "Clean 1",
         "type": "scatter",
         "xaxis": "x",
         "y": {
          "bdata": "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",
          "dtype": "f8"
         },
         "yaxis": "y"
        },
        {
         "marker": {
          "color": "red"
         },
         "name": "Raw 1",
         "opacity": 0.6,
         "type": "bar",
         "x": [
          "Mean",
          "Std"
         ],
         "xaxis": "x4",
         "y": [
          141.56980794858188,
          3.998819115645544
         ],
         "yaxis": "y4"
        },
        {
         "marker": {
          "color": "green"
         },
         "name": "Clean 1",
         "type": "bar",
         "x": [
          "Mean",
          "Std"
         ],
         "xaxis": "x4",
         "y": [
          141.58023954977352,
          3.90163261948929
         ],
         "yaxis": "y4"
        },
        {
         "line": {
          "color": "red"
         },
         "name": "Raw 2",
         "opacity": 0.6,
         "type": "scatter",
         "xaxis": "x2",
         "y": {
          "bdata": "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",
          "dtype": "f8"
         },
         "yaxis": "y2"
        },
        {
         "line": {
          "color": "green"
         },
         "name": "Clean 2",
         "type": "scatter",
         "xaxis": "x2",
         "y": {
          "bdata": "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",
          "dtype": "f8"
         },
         "yaxis": "y2"
        },
        {
         "marker": {
          "color": "red"
         },
         "name": "Raw 2",
         "opacity": 0.6,
         "type": "bar",
         "x": [
          "Mean",
          "Std"
         ],
         "xaxis": "x5",
         "y": [
          156.96070179820245,
          15.560533808911815
         ],
         "yaxis": "y5"
        },
        {
         "marker": {
          "color": "green"
         },
         "name": "Clean 2",
         "type": "bar",
         "x": [
          "Mean",
          "Std"
         ],
         "xaxis": "x5",
         "y": [
          157.9154324523332,
          12.719356384209114
         ],
         "yaxis": "y5"
        },
        {
         "line": {
          "color": "red"
         },
         "name": "Raw 3",
         "opacity": 0.6,
         "type": "scatter",
         "xaxis": "x3",
         "y": {
          "bdata": "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",
          "dtype": "f8"
         },
         "yaxis": "y3"
        },
        {
         "line": {
          "color": "green"
         },
         "name": "Clean 3",
         "type": "scatter",
         "xaxis": "x3",
         "y": {
          "bdata": "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",
          "dtype": "f8"
         },
         "yaxis": "y3"
        },
        {
         "marker": {
          "color": "red"
         },
         "name": "Raw 3",
         "opacity": 0.6,
         "type": "bar",
         "x": [
          "Mean",
          "Std"
         ],
         "xaxis": "x6",
         "y": [
          173.5220312926743,
          19.728398627634103
         ],
         "yaxis": "y6"
        },
        {
         "marker": {
          "color": "green"
         },
         "name": "Clean 3",
         "type": "bar",
         "x": [
          "Mean",
          "Std"
         ],
         "xaxis": "x6",
         "y": [
          174.61029187969135,
          17.668728025878266
         ],
         "yaxis": "y6"
        }
       ],
       "layout": {
        "annotations": [
         {
          "font": {
           "size": 16
          },
          "showarrow": false,
          "text": "Intensity 1",
          "x": 0.14444444444444446,
          "xanchor": "center",
          "xref": "paper",
          "y": 1,
          "yanchor": "bottom",
          "yref": "paper"
         },
         {
          "font": {
           "size": 16
          },
          "showarrow": false,
          "text": "Intensity 2",
          "x": 0.5,
          "xanchor": "center",
          "xref": "paper",
          "y": 1,
          "yanchor": "bottom",
          "yref": "paper"
         },
         {
          "font": {
           "size": 16
          },
          "showarrow": false,
          "text": "Intensity 3",
          "x": 0.8555555555555556,
          "xanchor": "center",
          "xref": "paper",
          "y": 1,
          "yanchor": "bottom",
          "yref": "paper"
         },
         {
          "font": {
           "size": 16
          },
          "showarrow": false,
          "text": "Stats 1",
          "x": 0.14444444444444446,
          "xanchor": "center",
          "xref": "paper",
          "y": 0.375,
          "yanchor": "bottom",
          "yref": "paper"
         },
         {
          "font": {
           "size": 16
          },
          "showarrow": false,
          "text": "Stats 2",
          "x": 0.5,
          "xanchor": "center",
          "xref": "paper",
          "y": 0.375,
          "yanchor": "bottom",
          "yref": "paper"
         },
         {
          "font": {
           "size": 16
          },
          "showarrow": false,
          "text": "Stats 3",
          "x": 0.8555555555555556,
          "xanchor": "center",
          "xref": "paper",
          "y": 0.375,
          "yanchor": "bottom",
          "yref": "paper"
         }
        ],
        "height": 800,
        "showlegend": false,
        "template": {
         "data": {
          "bar": [
           {
            "error_x": {
             "color": "#2a3f5f"
            },
            "error_y": {
             "color": "#2a3f5f"
            },
            "marker": {
             "line": {
              "color": "#E5ECF6",
              "width": 0.5
             },
             "pattern": {
              "fillmode": "overlay",
              "size": 10,
              "solidity": 0.2
             }
            },
            "type": "bar"
           }
          ],
          "barpolar": [
           {
            "marker": {
             "line": {
              "color": "#E5ECF6",
              "width": 0.5
             },
             "pattern": {
              "fillmode": "overlay",
              "size": 10,
              "solidity": 0.2
             }
            },
            "type": "barpolar"
           }
          ],
          "carpet": [
           {
            "aaxis": {
             "endlinecolor": "#2a3f5f",
             "gridcolor": "white",
             "linecolor": "white",
             "minorgridcolor": "white",
             "startlinecolor": "#2a3f5f"
            },
            "baxis": {
             "endlinecolor": "#2a3f5f",
             "gridcolor": "white",
             "linecolor": "white",
             "minorgridcolor": "white",
             "startlinecolor": "#2a3f5f"
            },
            "type": "carpet"
           }
          ],
          "choropleth": [
           {
            "colorbar": {
             "outlinewidth": 0,
             "ticks": ""
            },
            "type": "choropleth"
           }
          ],
          "contour": [
           {
            "colorbar": {
             "outlinewidth": 0,
             "ticks": ""
            },
            "colorscale": [
             [
              0,
              "#0d0887"
             ],
             [
              0.1111111111111111,
              "#46039f"
             ],
             [
              0.2222222222222222,
              "#7201a8"
             ],
             [
              0.3333333333333333,
              "#9c179e"
             ],
             [
              0.4444444444444444,
              "#bd3786"
             ],
             [
              0.5555555555555556,
              "#d8576b"
             ],
             [
              0.6666666666666666,
              "#ed7953"
             ],
             [
              0.7777777777777778,
              "#fb9f3a"
             ],
             [
              0.8888888888888888,
              "#fdca26"
             ],
             [
              1,
              "#f0f921"
             ]
            ],
            "type": "contour"
           }
          ],
          "contourcarpet": [
           {
            "colorbar": {
             "outlinewidth": 0,
             "ticks": ""
            },
            "type": "contourcarpet"
           }
          ],
          "heatmap": [
           {
            "colorbar": {
             "outlinewidth": 0,
             "ticks": ""
            },
            "colorscale": [
             [
              0,
              "#0d0887"
             ],
             [
              0.1111111111111111,
              "#46039f"
             ],
             [
              0.2222222222222222,
              "#7201a8"
             ],
             [
              0.3333333333333333,
              "#9c179e"
             ],
             [
              0.4444444444444444,
              "#bd3786"
             ],
             [
              0.5555555555555556,
              "#d8576b"
             ],
             [
              0.6666666666666666,
              "#ed7953"
             ],
             [
              0.7777777777777778,
              "#fb9f3a"
             ],
             [
              0.8888888888888888,
              "#fdca26"
             ],
             [
              1,
              "#f0f921"
             ]
            ],
            "type": "heatmap"
           }
          ],
          "histogram": [
           {
            "marker": {
             "pattern": {
              "fillmode": "overlay",
              "size": 10,
              "solidity": 0.2
             }
            },
            "type": "histogram"
           }
          ],
          "histogram2d": [
           {
            "colorbar": {
             "outlinewidth": 0,
             "ticks": ""
            },
            "colorscale": [
             [
              0,
              "#0d0887"
             ],
             [
              0.1111111111111111,
              "#46039f"
             ],
             [
              0.2222222222222222,
              "#7201a8"
             ],
             [
              0.3333333333333333,
              "#9c179e"
             ],
             [
              0.4444444444444444,
              "#bd3786"
             ],
             [
              0.5555555555555556,
              "#d8576b"
             ],
             [
              0.6666666666666666,
              "#ed7953"
             ],
             [
              0.7777777777777778,
              "#fb9f3a"
             ],
             [
              0.8888888888888888,
              "#fdca26"
             ],
             [
              1,
              "#f0f921"
             ]
            ],
            "type": "histogram2d"
           }
          ],
          "histogram2dcontour": [
           {
            "colorbar": {
             "outlinewidth": 0,
             "ticks": ""
            },
            "colorscale": [
             [
              0,
              "#0d0887"
             ],
             [
              0.1111111111111111,
              "#46039f"
             ],
             [
              0.2222222222222222,
              "#7201a8"
             ],
             [
              0.3333333333333333,
              "#9c179e"
             ],
             [
              0.4444444444444444,
              "#bd3786"
             ],
             [
              0.5555555555555556,
              "#d8576b"
             ],
             [
              0.6666666666666666,
              "#ed7953"
             ],
             [
              0.7777777777777778,
              "#fb9f3a"
             ],
             [
              0.8888888888888888,
              "#fdca26"
             ],
             [
              1,
              "#f0f921"
             ]
            ],
            "type": "histogram2dcontour"
           }
          ],
          "mesh3d": [
           {
            "colorbar": {
             "outlinewidth": 0,
             "ticks": ""
            },
            "type": "mesh3d"
           }
          ],
          "parcoords": [
           {
            "line": {
             "colorbar": {
              "outlinewidth": 0,
              "ticks": ""
             }
            },
            "type": "parcoords"
           }
          ],
          "pie": [
           {
            "automargin": true,
            "type": "pie"
           }
          ],
          "scatter": [
           {
            "fillpattern": {
             "fillmode": "overlay",
             "size": 10,
             "solidity": 0.2
            },
            "type": "scatter"
           }
          ],
          "scatter3d": [
           {
            "line": {
             "colorbar": {
              "outlinewidth": 0,
              "ticks": ""
             }
            },
            "marker": {
             "colorbar": {
              "outlinewidth": 0,
              "ticks": ""
             }
            },
            "type": "scatter3d"
           }
          ],
          "scattercarpet": [
           {
            "marker": {
             "colorbar": {
              "outlinewidth": 0,
              "ticks": ""
             }
            },
            "type": "scattercarpet"
           }
          ],
          "scattergeo": [
           {
            "marker": {
             "colorbar": {
              "outlinewidth": 0,
              "ticks": ""
             }
            },
            "type": "scattergeo"
           }
          ],
          "scattergl": [
           {
            "marker": {
             "colorbar": {
              "outlinewidth": 0,
              "ticks": ""
             }
            },
            "type": "scattergl"
           }
          ],
          "scattermap": [
           {
            "marker": {
             "colorbar": {
              "outlinewidth": 0,
              "ticks": ""
             }
            },
            "type": "scattermap"
           }
          ],
          "scattermapbox": [
           {
            "marker": {
             "colorbar": {
              "outlinewidth": 0,
              "ticks": ""
             }
            },
            "type": "scattermapbox"
           }
          ],
          "scatterpolar": [
           {
            "marker": {
             "colorbar": {
              "outlinewidth": 0,
              "ticks": ""
             }
            },
            "type": "scatterpolar"
           }
          ],
          "scatterpolargl": [
           {
            "marker": {
             "colorbar": {
              "outlinewidth": 0,
              "ticks": ""
             }
            },
            "type": "scatterpolargl"
           }
          ],
          "scatterternary": [
           {
            "marker": {
             "colorbar": {
              "outlinewidth": 0,
              "ticks": ""
             }
            },
            "type": "scatterternary"
           }
          ],
          "surface": [
           {
            "colorbar": {
             "outlinewidth": 0,
             "ticks": ""
            },
            "colorscale": [
             [
              0,
              "#0d0887"
             ],
             [
              0.1111111111111111,
              "#46039f"
             ],
             [
              0.2222222222222222,
              "#7201a8"
             ],
             [
              0.3333333333333333,
              "#9c179e"
             ],
             [
              0.4444444444444444,
              "#bd3786"
             ],
             [
              0.5555555555555556,
              "#d8576b"
             ],
             [
              0.6666666666666666,
              "#ed7953"
             ],
             [
              0.7777777777777778,
              "#fb9f3a"
             ],
             [
              0.8888888888888888,
              "#fdca26"
             ],
             [
              1,
              "#f0f921"
             ]
            ],
            "type": "surface"
           }
          ],
          "table": [
           {
            "cells": {
             "fill": {
              "color": "#EBF0F8"
             },
             "line": {
              "color": "white"
             }
            },
            "header": {
             "fill": {
              "color": "#C8D4E3"
             },
             "line": {
              "color": "white"
             }
            },
            "type": "table"
           }
          ]
         },
         "layout": {
          "annotationdefaults": {
           "arrowcolor": "#2a3f5f",
           "arrowhead": 0,
           "arrowwidth": 1
          },
          "autotypenumbers": "strict",
          "coloraxis": {
           "colorbar": {
            "outlinewidth": 0,
            "ticks": ""
           }
          },
          "colorscale": {
           "diverging": [
            [
             0,
             "#8e0152"
            ],
            [
             0.1,
             "#c51b7d"
            ],
            [
             0.2,
             "#de77ae"
            ],
            [
             0.3,
             "#f1b6da"
            ],
            [
             0.4,
             "#fde0ef"
            ],
            [
             0.5,
             "#f7f7f7"
            ],
            [
             0.6,
             "#e6f5d0"
            ],
            [
             0.7,
             "#b8e186"
            ],
            [
             0.8,
             "#7fbc41"
            ],
            [
             0.9,
             "#4d9221"
            ],
            [
             1,
             "#276419"
            ]
           ],
           "sequential": [
            [
             0,
             "#0d0887"
            ],
            [
             0.1111111111111111,
             "#46039f"
            ],
            [
             0.2222222222222222,
             "#7201a8"
            ],
            [
             0.3333333333333333,
             "#9c179e"
            ],
            [
             0.4444444444444444,
             "#bd3786"
            ],
            [
             0.5555555555555556,
             "#d8576b"
            ],
            [
             0.6666666666666666,
             "#ed7953"
            ],
            [
             0.7777777777777778,
             "#fb9f3a"
            ],
            [
             0.8888888888888888,
             "#fdca26"
            ],
            [
             1,
             "#f0f921"
            ]
           ],
           "sequentialminus": [
            [
             0,
             "#0d0887"
            ],
            [
             0.1111111111111111,
             "#46039f"
            ],
            [
             0.2222222222222222,
             "#7201a8"
            ],
            [
             0.3333333333333333,
             "#9c179e"
            ],
            [
             0.4444444444444444,
             "#bd3786"
            ],
            [
             0.5555555555555556,
             "#d8576b"
            ],
            [
             0.6666666666666666,
             "#ed7953"
            ],
            [
             0.7777777777777778,
             "#fb9f3a"
            ],
            [
             0.8888888888888888,
             "#fdca26"
            ],
            [
             1,
             "#f0f921"
            ]
           ]
          },
          "colorway": [
           "#636efa",
           "#EF553B",
           "#00cc96",
           "#ab63fa",
           "#FFA15A",
           "#19d3f3",
           "#FF6692",
           "#B6E880",
           "#FF97FF",
           "#FECB52"
          ],
          "font": {
           "color": "#2a3f5f"
          },
          "geo": {
           "bgcolor": "white",
           "lakecolor": "white",
           "landcolor": "#E5ECF6",
           "showlakes": true,
           "showland": true,
           "subunitcolor": "white"
          },
          "hoverlabel": {
           "align": "left"
          },
          "hovermode": "closest",
          "mapbox": {
           "style": "light"
          },
          "paper_bgcolor": "white",
          "plot_bgcolor": "#E5ECF6",
          "polar": {
           "angularaxis": {
            "gridcolor": "white",
            "linecolor": "white",
            "ticks": ""
           },
           "bgcolor": "#E5ECF6",
           "radialaxis": {
            "gridcolor": "white",
            "linecolor": "white",
            "ticks": ""
           }
          },
          "scene": {
           "xaxis": {
            "backgroundcolor": "#E5ECF6",
            "gridcolor": "white",
            "gridwidth": 2,
            "linecolor": "white",
            "showbackground": true,
            "ticks": "",
            "zerolinecolor": "white"
           },
           "yaxis": {
            "backgroundcolor": "#E5ECF6",
            "gridcolor": "white",
            "gridwidth": 2,
            "linecolor": "white",
            "showbackground": true,
            "ticks": "",
            "zerolinecolor": "white"
           },
           "zaxis": {
            "backgroundcolor": "#E5ECF6",
            "gridcolor": "white",
            "gridwidth": 2,
            "linecolor": "white",
            "showbackground": true,
            "ticks": "",
            "zerolinecolor": "white"
           }
          },
          "shapedefaults": {
           "line": {
            "color": "#2a3f5f"
           }
          },
          "ternary": {
           "aaxis": {
            "gridcolor": "white",
            "linecolor": "white",
            "ticks": ""
           },
           "baxis": {
            "gridcolor": "white",
            "linecolor": "white",
            "ticks": ""
           },
           "bgcolor": "#E5ECF6",
           "caxis": {
            "gridcolor": "white",
            "linecolor": "white",
            "ticks": ""
           }
          },
          "title": {
           "x": 0.05
          },
          "xaxis": {
           "automargin": true,
           "gridcolor": "white",
           "linecolor": "white",
           "ticks": "",
           "title": {
            "standoff": 15
           },
           "zerolinecolor": "white",
           "zerolinewidth": 2
          },
          "yaxis": {
           "automargin": true,
           "gridcolor": "white",
           "linecolor": "white",
           "ticks": "",
           "title": {
            "standoff": 15
           },
           "zerolinecolor": "white",
           "zerolinewidth": 2
          }
         }
        },
        "title": {
         "text": "Michelle - Raw vs Cleaned BPM"
        },
        "xaxis": {
         "anchor": "y",
         "domain": [
          0,
          0.2888888888888889
         ]
        },
        "xaxis2": {
         "anchor": "y2",
         "domain": [
          0.35555555555555557,
          0.6444444444444445
         ]
        },
        "xaxis3": {
         "anchor": "y3",
         "domain": [
          0.7111111111111111,
          1
         ]
        },
        "xaxis4": {
         "anchor": "y4",
         "domain": [
          0,
          0.2888888888888889
         ]
        },
        "xaxis5": {
         "anchor": "y5",
         "domain": [
          0.35555555555555557,
          0.6444444444444445
         ]
        },
        "xaxis6": {
         "anchor": "y6",
         "domain": [
          0.7111111111111111,
          1
         ]
        },
        "yaxis": {
         "anchor": "x",
         "domain": [
          0.625,
          1
         ]
        },
        "yaxis2": {
         "anchor": "x2",
         "domain": [
          0.625,
          1
         ]
        },
        "yaxis3": {
         "anchor": "x3",
         "domain": [
          0.625,
          1
         ]
        },
        "yaxis4": {
         "anchor": "x4",
         "domain": [
          0,
          0.375
         ]
        },
        "yaxis5": {
         "anchor": "x5",
         "domain": [
          0,
          0.375
         ]
        },
        "yaxis6": {
         "anchor": "x6",
         "domain": [
          0,
          0.375
         ]
        }
       }
      }
     },
     "metadata": {},
     "output_type": "display_data"
    },
    {
     "name": "stdout",
     "output_type": "stream",
     "text": [
      "\n",
      "Processing Eros...\n",
      "✅ halero01_activity_intensity_1_cleaned_lsdlpr25.csv (artifacts: 163)\n",
      "✅ halero01_activity_intensity_2_cleaned_lsdlpr25.csv (artifacts: 201)\n",
      "✅ halero01_activity_intensity_3_cleaned_lsdlpr25.csv (artifacts: 280)\n"
     ]
    },
    {
     "data": {
      "application/vnd.plotly.v1+json": {
       "config": {
        "plotlyServerURL": "https://plot.ly"
       },
       "data": [
        {
         "line": {
          "color": "red"
         },
         "name": "Raw 1",
         "opacity": 0.6,
         "type": "scatter",
         "xaxis": "x",
         "y": {
          "bdata": "bEuY7hc/VUAa60NjfWhUQO8vNuRPWlRAU9aUNWXNVUBg5AwLLpVVQNiZgMFjeVdAg4KCgoKCWEBIJx+dfHRaQIK5dmCuHWJAAAAAAABwV0DDvQpmSTlaQIcVpfGRCVxAggtc4AIXXEB3NCwLh3ZcQJeNb4bW7ltAggtc4AIXXEAtqPacTF9bQI/3eI/3eFtARhdddNFFW0AVWqxNE+5aQA3lNZTXUFpA5ymifr2wWkAhC1nIQhZaQG/tjdUf6FlA1g86KvDFWUARrbA5kGhaQHEFMbmCmFpAFHG5yXOAWkBcxyjOdYxaQHAwRT7rBltAMQvIF4lSW0CP93iP93hbQFhdhr3Sn1tA6YHK2S38W0CHFaXxkQlcQBcZJqIlOVtAgeNz5E3UW0AkZT+t+lpcQKeFcANxylxAi53YiZ3YXEDRLtEu0S5dQAAAAAAATF1AaWlpaWlpXUDicDgcDoddQC+66KKLTmVANHV+7SGXVkAAAAAAAExdQNZTWE9hPV1AVR9Al0GuXEDDHXFH3BFdQASR1gvY5lxAJsULZFK8XECLndiJndhcQMMdcUfcEV1Ai53YiZ3YXECVPMuIPqBcQO+UoVZhhFxABJHWC9jmXEBVH0CXQa5cQCRJkiRJklxAJEmSJEmSXECsVatWrVpdQLfi8O/erFtABJHWC9jmXECJsHVONHhdQDAMwzAMw11AMAzDMAzDXUD22YzvjxREQP4xR+n2lV1A/jFH6faVXUAAAAAAAExdQNEu0S7RLl1AJGU/rfpaXECT87KITyBdQAAAAAAAAF5Ap4VwA3HKXEAsg1Jh4v1eQJgMwTravF5AE3ybv8KsXkAAAAAAAEBfQEtH9gxEpV9A8WzUdzbqX0AB4qMJeWFfQGmQBmmQBmBA2dmqRd4yYEAmHnNaWQ9gQGDB0PIrGGBA5e+Q59tEYEBbbuMaUGlgQH923sUjYGBArAFXrAFXYEB/dt7FI2BgQJp82aDJl2BArAFXrAFXYEC7x3u8x3tgQCivobyGcmBAW27jGlBpYEAmHnNaWQ9gQCGEEEIIIWBA2dmqRd4yYEAhhBBCCCFgQI/ICcLd2F9AQ3kN5TWUX0A0CQerZLZfQEtH9gxEpV9AXA35krNQX0Anh8uATw5fQCyDUmHi/V5AXA35krNQX0ATzh4Tzh5fQH5YpAw83V5ApuDlFLycXkDxRlPn1x5eQPFGU+fXHl5AmAzBOtq8XkCYDME62rxeQCeHy4BPDl9AS0f2DESlX0DmnkZY7ilgQI/ICcLd2F9AQMNJ3ZfHX0BgwdDyKxhgQEDDSd2Xx19ANAkHq2S2X0CJFs6AUHJfQAAAAAAAQF9AXA35krNQX0BAw0ndl8dfQIkWzoBQcl9AS0f2DESlX0AhhBBCCCFgQKwBV6wBV2BArAFXrAFXYED1pje96U1gQGDvmBrYO2BALn37KxOFYECafNmgyZdgQKuqqqqqqmBAmnzZoMmXYEDYBvRUK7RgQEAjmfUV7mBAQJm40r0BYUBAI5n1Fe5gQPZtwFBNx2BAQJm40r0BYUD58ePHjx9hQNfpCYmTFWFART7rBlPkYEBAI5n1Fe5gQDsjFXOrM2FAOyMVc6szYUDX6QmJkxVhQPnx48ePH2FA+fHjx48fYUDHcRzHcVxhQN2qjx0uUmFAsdzTCMs9YUA7IxVzqzNhQNwRd8QdcWFA3BF3xB1xYUDHcRzHcVxhQK0zJ6LBZmFALSkHRIZ7YUBhcyDRCpthQNwRd8QdcWFAMgfcs3yQYUD3WMvQAbthQGFzINEKm2FA3BF3xB1xYUAtKQdEhnthQHUtBzf7hWFApqWlpaWlYUB1LQc3+4VhQKalpaWlpWFAdS0HN/uFYUB1LQc3+4VhQGalMPCR0GFAMgfcs3yQYUBhcyDRCpthQC0pB0SGe2FAYXMg0QqbYUDHcRzHcVxhQMdxHMdxXGFAx3Ecx3FcYUDcEXfEHXFhQN2qjx0uUmFAx3Ecx3FcYUD3WMvQAbthQN2qjx0uUmFA3aqPHS5SYUCx3NMIyz1hQMdxHMdxXGFArTMnosFmYUDdqo8dLlJhQNwRd8QdcWFAMgfcs3yQYUCtMyeiwWZhQMdxHMdxXGFA3BF3xB1xYUDcEXfEHXFhQHUtBzf7hWFAdS0HN/uFYUAyB9yzfJBhQOplJFbDxWFAYXMg0QqbYUCu7HNITbBhQK7sc0hNsGFA6mUkVsPFYUA82G+1MTRiQGalMPCR0GFAt23btm3bYUD6aDUJUfxhQJNvvBDpKGJAgrl2YK4dYkC3bdu2bdthQGalMPCR0GFA91jL0AG7YUAVikrCVuZhQPeQy4qBEmJAk2+8EOkoYkD6aDUJUfxhQOplJFbDxWFAoO3eKk3xYUB2Yid2YgdiQPeQy4qBEmJAFYpKwlbmYUC3bdu2bdthQPpoNQlR/GFA+mg1CVH8YUAVikrCVuZhQK7sc0hNsGFApqWlpaWlYUCmpaWlpaVhQPdYy9ABu2FA95DLioESYkD3kMuKgRJiQOLh4eHhYWJAFYpKwlbmYUCg7d4qTfFhQJNvvBDpKGJAk2+8EOkoYkD6aDUJUfxhQHZiJ3ZiB2JA4uHh4eFhYkD6aDUJUfxhQBWKSsJW5mFAFYpKwlbmYUB2Yid2YgdiQK0zJ6LBZmFAKtizuZcpYUCMLrroogthQPnx48ePH2FA",
          "dtype": "f8"
         },
         "yaxis": "y"
        },
        {
         "line": {
          "color": "green"
         },
         "name": "Clean 1",
         "type": "scatter",
         "xaxis": "x",
         "y": {
          "bdata": "7y825E9aVEAa60NjfWhUQGxLmO4XP1VAYOQMCy6VVUBT1pQ1Zc1VQNiZgMFjeVdAg4KCgoKCWECDgoKCgoJYQMO9CmZJOVpASCcfnXx0WkCHFaXxkQlcQIcVpfGRCVxAhxWl8ZEJXECCC1zgAhdcQIILXOACF1xAl41vhtbuW0CP93iP93hbQC2o9pxMX1tARhdddNFFW0AVWqxNE+5aQOcpon69sFpADeU1lNdQWkAhC1nIQhZaQCELWchCFlpAIQtZyEIWWkARrbA5kGhaQBRxuclzgFpAXMcoznWMWkBxBTG5gphaQHAwRT7rBltAMQvIF4lSW0CP93iP93hbQFhdhr3Sn1tAWF2GvdKfW0CB43PkTdRbQOmBytkt/FtAhxWl8ZEJXEAkZT+t+lpcQKeFcANxylxAi53YiZ3YXEDRLtEu0S5dQAAAAAAATF1AaWlpaWlpXUBpaWlpaWldQGlpaWlpaV1AAAAAAABMXUDWU1hPYT1dQMMdcUfcEV1Awx1xR9wRXUAEkdYL2OZcQIud2Imd2FxABJHWC9jmXECLndiJndhcQIud2Imd2FxAi53YiZ3YXECLndiJndhcQFUfQJdBrlxAlTzLiD6gXEAkSZIkSZJcQFUfQJdBrlxAJEmSJEmSXEAkSZIkSZJcQASR1gvY5lxArFWrVq1aXUCJsHVONHhdQImwdU40eF1A/jFH6faVXUD+MUfp9pVdQP4xR+n2lV1AAAAAAABMXUAAAAAAAExdQNEu0S7RLl1A0S7RLtEuXUCT87KITyBdQJPzsohPIF1AAAAAAAAAXkATfJu/wqxeQJgMwTravF5ALINSYeL9XkAAAAAAAEBfQAHiowl5YV9AS0f2DESlX0DxbNR3NupfQGmQBmmQBmBAJh5zWlkPYEBgwdDyKxhgQNnZqkXeMmBA5e+Q59tEYECsAVesAVdgQH923sUjYGBAf3bexSNgYEB/dt7FI2BgQH923sUjYGBAKK+hvIZyYEAor6G8hnJgQFtu4xpQaWBAW27jGlBpYEDZ2apF3jJgQCGEEEIIIWBAIYQQQgghYEAhhBBCCCFgQI/ICcLd2F9ANAkHq2S2X0BLR/YMRKVfQEN5DeU1lF9AXA35krNQX0BcDfmSs1BfQBPOHhPOHl9AJ4fLgE8OX0Asg1Jh4v1eQH5YpAw83V5ApuDlFLycXkCm4OUUvJxeQKbg5RS8nF5AmAzBOtq8XkCYDME62rxeQCeHy4BPDl9AS0f2DESlX0BAw0ndl8dfQI/ICcLd2F9Aj8gJwt3YX0BAw0ndl8dfQEDDSd2Xx19ANAkHq2S2X0CJFs6AUHJfQIkWzoBQcl9AiRbOgFByX0CJFs6AUHJfQEtH9gxEpV9AQMNJ3ZfHX0AhhBBCCCFgQPWmN73pTWBA9aY3velNYECsAVesAVdgQKwBV6wBV2BALn37KxOFYECafNmgyZdgQJp82aDJl2BAq6qqqqqqYEDYBvRUK7RgQEAjmfUV7mBAQCOZ9RXuYEBAI5n1Fe5gQECZuNK9AWFAQJm40r0BYUBAmbjSvQFhQECZuNK9AWFA1+kJiZMVYUDX6QmJkxVhQNfpCYmTFWFA+fHjx48fYUD58ePHjx9hQPnx48ePH2FA+fHjx48fYUCx3NMIyz1hQLHc0wjLPWFA3aqPHS5SYUDdqo8dLlJhQMdxHMdxXGFArTMnosFmYUDcEXfEHXFhQNwRd8QdcWFA3BF3xB1xYUAtKQdEhnthQDIH3LN8kGFAYXMg0QqbYUAyB9yzfJBhQDIH3LN8kGFAdS0HN/uFYUB1LQc3+4VhQHUtBzf7hWFAdS0HN/uFYUB1LQc3+4VhQHUtBzf7hWFAdS0HN/uFYUAyB9yzfJBhQDIH3LN8kGFAMgfcs3yQYUBhcyDRCpthQDIH3LN8kGFALSkHRIZ7YUDHcRzHcVxhQMdxHMdxXGFAx3Ecx3FcYUDHcRzHcVxhQMdxHMdxXGFAx3Ecx3FcYUDdqo8dLlJhQN2qjx0uUmFA3aqPHS5SYUDdqo8dLlJhQN2qjx0uUmFAx3Ecx3FcYUCtMyeiwWZhQK0zJ6LBZmFArTMnosFmYUDcEXfEHXFhQNwRd8QdcWFA3BF3xB1xYUDcEXfEHXFhQHUtBzf7hWFAdS0HN/uFYUAyB9yzfJBhQGFzINEKm2FAruxzSE2wYUCu7HNITbBhQK7sc0hNsGFA6mUkVsPFYUBmpTDwkdBhQLdt27Zt22FA+mg1CVH8YUD6aDUJUfxhQPpoNQlR/GFA+mg1CVH8YUC3bdu2bdthQLdt27Zt22FAt23btm3bYUAVikrCVuZhQPpoNQlR/GFA+mg1CVH8YUD6aDUJUfxhQPpoNQlR/GFA+mg1CVH8YUCg7d4qTfFhQKDt3ipN8WFA+mg1CVH8YUD6aDUJUfxhQBWKSsJW5mFAFYpKwlbmYUAVikrCVuZhQK7sc0hNsGFAruxzSE2wYUCu7HNITbBhQPdYy9ABu2FA95DLioESYkD3kMuKgRJiQPeQy4qBEmJA95DLioESYkCTb7wQ6ShiQPpoNQlR/GFAdmIndmIHYkCTb7wQ6ShiQHZiJ3ZiB2JA+mg1CVH8YUD6aDUJUfxhQPpoNQlR/GFAFYpKwlbmYUAVikrCVuZhQK0zJ6LBZmFAKtizuZcpYUD58ePHjx9hQIwuuuiiC2FA",
          "dtype": "f8"
         },
         "yaxis": "y"
        },
        {
         "marker": {
          "color": "red"
         },
         "name": "Raw 1",
         "opacity": 0.6,
         "type": "bar",
         "x": [
          "Mean",
          "Std"
         ],
         "xaxis": "x4",
         "y": [
          128.18105230440733,
          15.439102447062753
         ],
         "yaxis": "y4"
        },
        {
         "marker": {
          "color": "green"
         },
         "name": "Clean 1",
         "type": "bar",
         "x": [
          "Mean",
          "Std"
         ],
         "xaxis": "x4",
         "y": [
          128.24473612850198,
          13.809143153848522
         ],
         "yaxis": "y4"
        },
        {
         "line": {
          "color": "red"
         },
         "name": "Raw 2",
         "opacity": 0.6,
         "type": "scatter",
         "xaxis": "x2",
         "y": {
          "bdata": "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",
          "dtype": "f8"
         },
         "yaxis": "y2"
        },
        {
         "line": {
          "color": "green"
         },
         "name": "Clean 2",
         "type": "scatter",
         "xaxis": "x2",
         "y": {
          "bdata": "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",
          "dtype": "f8"
         },
         "yaxis": "y2"
        },
        {
         "marker": {
          "color": "red"
         },
         "name": "Raw 2",
         "opacity": 0.6,
         "type": "bar",
         "x": [
          "Mean",
          "Std"
         ],
         "xaxis": "x5",
         "y": [
          139.86290643873656,
          41.08144881445442
         ],
         "yaxis": "y5"
        },
        {
         "marker": {
          "color": "green"
         },
         "name": "Clean 2",
         "type": "bar",
         "x": [
          "Mean",
          "Std"
         ],
         "xaxis": "x5",
         "y": [
          147.96314880801083,
          26.34922294948778
         ],
         "yaxis": "y5"
        },
        {
         "line": {
          "color": "red"
         },
         "name": "Raw 3",
         "opacity": 0.6,
         "type": "scatter",
         "xaxis": "x3",
         "y": {
          "bdata": "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",
          "dtype": "f8"
         },
         "yaxis": "y3"
        },
        {
         "line": {
          "color": "green"
         },
         "name": "Clean 3",
         "type": "scatter",
         "xaxis": "x3",
         "y": {
          "bdata": "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",
          "dtype": "f8"
         },
         "yaxis": "y3"
        },
        {
         "marker": {
          "color": "red"
         },
         "name": "Raw 3",
         "opacity": 0.6,
         "type": "bar",
         "x": [
          "Mean",
          "Std"
         ],
         "xaxis": "x6",
         "y": [
          164.12158422058954,
          32.205375041329056
         ],
         "yaxis": "y6"
        },
        {
         "marker": {
          "color": "green"
         },
         "name": "Clean 3",
         "type": "bar",
         "x": [
          "Mean",
          "Std"
         ],
         "xaxis": "x6",
         "y": [
          164.5222064372982,
          28.004309141401805
         ],
         "yaxis": "y6"
        }
       ],
       "layout": {
        "annotations": [
         {
          "font": {
           "size": 16
          },
          "showarrow": false,
          "text": "Intensity 1",
          "x": 0.14444444444444446,
          "xanchor": "center",
          "xref": "paper",
          "y": 1,
          "yanchor": "bottom",
          "yref": "paper"
         },
         {
          "font": {
           "size": 16
          },
          "showarrow": false,
          "text": "Intensity 2",
          "x": 0.5,
          "xanchor": "center",
          "xref": "paper",
          "y": 1,
          "yanchor": "bottom",
          "yref": "paper"
         },
         {
          "font": {
           "size": 16
          },
          "showarrow": false,
          "text": "Intensity 3",
          "x": 0.8555555555555556,
          "xanchor": "center",
          "xref": "paper",
          "y": 1,
          "yanchor": "bottom",
          "yref": "paper"
         },
         {
          "font": {
           "size": 16
          },
          "showarrow": false,
          "text": "Stats 1",
          "x": 0.14444444444444446,
          "xanchor": "center",
          "xref": "paper",
          "y": 0.375,
          "yanchor": "bottom",
          "yref": "paper"
         },
         {
          "font": {
           "size": 16
          },
          "showarrow": false,
          "text": "Stats 2",
          "x": 0.5,
          "xanchor": "center",
          "xref": "paper",
          "y": 0.375,
          "yanchor": "bottom",
          "yref": "paper"
         },
         {
          "font": {
           "size": 16
          },
          "showarrow": false,
          "text": "Stats 3",
          "x": 0.8555555555555556,
          "xanchor": "center",
          "xref": "paper",
          "y": 0.375,
          "yanchor": "bottom",
          "yref": "paper"
         }
        ],
        "height": 800,
        "showlegend": false,
        "template": {
         "data": {
          "bar": [
           {
            "error_x": {
             "color": "#2a3f5f"
            },
            "error_y": {
             "color": "#2a3f5f"
            },
            "marker": {
             "line": {
              "color": "#E5ECF6",
              "width": 0.5
             },
             "pattern": {
              "fillmode": "overlay",
              "size": 10,
              "solidity": 0.2
             }
            },
            "type": "bar"
           }
          ],
          "barpolar": [
           {
            "marker": {
             "line": {
              "color": "#E5ECF6",
              "width": 0.5
             },
             "pattern": {
              "fillmode": "overlay",
              "size": 10,
              "solidity": 0.2
             }
            },
            "type": "barpolar"
           }
          ],
          "carpet": [
           {
            "aaxis": {
             "endlinecolor": "#2a3f5f",
             "gridcolor": "white",
             "linecolor": "white",
             "minorgridcolor": "white",
             "startlinecolor": "#2a3f5f"
            },
            "baxis": {
             "endlinecolor": "#2a3f5f",
             "gridcolor": "white",
             "linecolor": "white",
             "minorgridcolor": "white",
             "startlinecolor": "#2a3f5f"
            },
            "type": "carpet"
           }
          ],
          "choropleth": [
           {
            "colorbar": {
             "outlinewidth": 0,
             "ticks": ""
            },
            "type": "choropleth"
           }
          ],
          "contour": [
           {
            "colorbar": {
             "outlinewidth": 0,
             "ticks": ""
            },
            "colorscale": [
             [
              0,
              "#0d0887"
             ],
             [
              0.1111111111111111,
              "#46039f"
             ],
             [
              0.2222222222222222,
              "#7201a8"
             ],
             [
              0.3333333333333333,
              "#9c179e"
             ],
             [
              0.4444444444444444,
              "#bd3786"
             ],
             [
              0.5555555555555556,
              "#d8576b"
             ],
             [
              0.6666666666666666,
              "#ed7953"
             ],
             [
              0.7777777777777778,
              "#fb9f3a"
             ],
             [
              0.8888888888888888,
              "#fdca26"
             ],
             [
              1,
              "#f0f921"
             ]
            ],
            "type": "contour"
           }
          ],
          "contourcarpet": [
           {
            "colorbar": {
             "outlinewidth": 0,
             "ticks": ""
            },
            "type": "contourcarpet"
           }
          ],
          "heatmap": [
           {
            "colorbar": {
             "outlinewidth": 0,
             "ticks": ""
            },
            "colorscale": [
             [
              0,
              "#0d0887"
             ],
             [
              0.1111111111111111,
              "#46039f"
             ],
             [
              0.2222222222222222,
              "#7201a8"
             ],
             [
              0.3333333333333333,
              "#9c179e"
             ],
             [
              0.4444444444444444,
              "#bd3786"
             ],
             [
              0.5555555555555556,
              "#d8576b"
             ],
             [
              0.6666666666666666,
              "#ed7953"
             ],
             [
              0.7777777777777778,
              "#fb9f3a"
             ],
             [
              0.8888888888888888,
              "#fdca26"
             ],
             [
              1,
              "#f0f921"
             ]
            ],
            "type": "heatmap"
           }
          ],
          "histogram": [
           {
            "marker": {
             "pattern": {
              "fillmode": "overlay",
              "size": 10,
              "solidity": 0.2
             }
            },
            "type": "histogram"
           }
          ],
          "histogram2d": [
           {
            "colorbar": {
             "outlinewidth": 0,
             "ticks": ""
            },
            "colorscale": [
             [
              0,
              "#0d0887"
             ],
             [
              0.1111111111111111,
              "#46039f"
             ],
             [
              0.2222222222222222,
              "#7201a8"
             ],
             [
              0.3333333333333333,
              "#9c179e"
             ],
             [
              0.4444444444444444,
              "#bd3786"
             ],
             [
              0.5555555555555556,
              "#d8576b"
             ],
             [
              0.6666666666666666,
              "#ed7953"
             ],
             [
              0.7777777777777778,
              "#fb9f3a"
             ],
             [
              0.8888888888888888,
              "#fdca26"
             ],
             [
              1,
              "#f0f921"
             ]
            ],
            "type": "histogram2d"
           }
          ],
          "histogram2dcontour": [
           {
            "colorbar": {
             "outlinewidth": 0,
             "ticks": ""
            },
            "colorscale": [
             [
              0,
              "#0d0887"
             ],
             [
              0.1111111111111111,
              "#46039f"
             ],
             [
              0.2222222222222222,
              "#7201a8"
             ],
             [
              0.3333333333333333,
              "#9c179e"
             ],
             [
              0.4444444444444444,
              "#bd3786"
             ],
             [
              0.5555555555555556,
              "#d8576b"
             ],
             [
              0.6666666666666666,
              "#ed7953"
             ],
             [
              0.7777777777777778,
              "#fb9f3a"
             ],
             [
              0.8888888888888888,
              "#fdca26"
             ],
             [
              1,
              "#f0f921"
             ]
            ],
            "type": "histogram2dcontour"
           }
          ],
          "mesh3d": [
           {
            "colorbar": {
             "outlinewidth": 0,
             "ticks": ""
            },
            "type": "mesh3d"
           }
          ],
          "parcoords": [
           {
            "line": {
             "colorbar": {
              "outlinewidth": 0,
              "ticks": ""
             }
            },
            "type": "parcoords"
           }
          ],
          "pie": [
           {
            "automargin": true,
            "type": "pie"
           }
          ],
          "scatter": [
           {
            "fillpattern": {
             "fillmode": "overlay",
             "size": 10,
             "solidity": 0.2
            },
            "type": "scatter"
           }
          ],
          "scatter3d": [
           {
            "line": {
             "colorbar": {
              "outlinewidth": 0,
              "ticks": ""
             }
            },
            "marker": {
             "colorbar": {
              "outlinewidth": 0,
              "ticks": ""
             }
            },
            "type": "scatter3d"
           }
          ],
          "scattercarpet": [
           {
            "marker": {
             "colorbar": {
              "outlinewidth": 0,
              "ticks": ""
             }
            },
            "type": "scattercarpet"
           }
          ],
          "scattergeo": [
           {
            "marker": {
             "colorbar": {
              "outlinewidth": 0,
              "ticks": ""
             }
            },
            "type": "scattergeo"
           }
          ],
          "scattergl": [
           {
            "marker": {
             "colorbar": {
              "outlinewidth": 0,
              "ticks": ""
             }
            },
            "type": "scattergl"
           }
          ],
          "scattermap": [
           {
            "marker": {
             "colorbar": {
              "outlinewidth": 0,
              "ticks": ""
             }
            },
            "type": "scattermap"
           }
          ],
          "scattermapbox": [
           {
            "marker": {
             "colorbar": {
              "outlinewidth": 0,
              "ticks": ""
             }
            },
            "type": "scattermapbox"
           }
          ],
          "scatterpolar": [
           {
            "marker": {
             "colorbar": {
              "outlinewidth": 0,
              "ticks": ""
             }
            },
            "type": "scatterpolar"
           }
          ],
          "scatterpolargl": [
           {
            "marker": {
             "colorbar": {
              "outlinewidth": 0,
              "ticks": ""
             }
            },
            "type": "scatterpolargl"
           }
          ],
          "scatterternary": [
           {
            "marker": {
             "colorbar": {
              "outlinewidth": 0,
              "ticks": ""
             }
            },
            "type": "scatterternary"
           }
          ],
          "surface": [
           {
            "colorbar": {
             "outlinewidth": 0,
             "ticks": ""
            },
            "colorscale": [
             [
              0,
              "#0d0887"
             ],
             [
              0.1111111111111111,
              "#46039f"
             ],
             [
              0.2222222222222222,
              "#7201a8"
             ],
             [
              0.3333333333333333,
              "#9c179e"
             ],
             [
              0.4444444444444444,
              "#bd3786"
             ],
             [
              0.5555555555555556,
              "#d8576b"
             ],
             [
              0.6666666666666666,
              "#ed7953"
             ],
             [
              0.7777777777777778,
              "#fb9f3a"
             ],
             [
              0.8888888888888888,
              "#fdca26"
             ],
             [
              1,
              "#f0f921"
             ]
            ],
            "type": "surface"
           }
          ],
          "table": [
           {
            "cells": {
             "fill": {
              "color": "#EBF0F8"
             },
             "line": {
              "color": "white"
             }
            },
            "header": {
             "fill": {
              "color": "#C8D4E3"
             },
             "line": {
              "color": "white"
             }
            },
            "type": "table"
           }
          ]
         },
         "layout": {
          "annotationdefaults": {
           "arrowcolor": "#2a3f5f",
           "arrowhead": 0,
           "arrowwidth": 1
          },
          "autotypenumbers": "strict",
          "coloraxis": {
           "colorbar": {
            "outlinewidth": 0,
            "ticks": ""
           }
          },
          "colorscale": {
           "diverging": [
            [
             0,
             "#8e0152"
            ],
            [
             0.1,
             "#c51b7d"
            ],
            [
             0.2,
             "#de77ae"
            ],
            [
             0.3,
             "#f1b6da"
            ],
            [
             0.4,
             "#fde0ef"
            ],
            [
             0.5,
             "#f7f7f7"
            ],
            [
             0.6,
             "#e6f5d0"
            ],
            [
             0.7,
             "#b8e186"
            ],
            [
             0.8,
             "#7fbc41"
            ],
            [
             0.9,
             "#4d9221"
            ],
            [
             1,
             "#276419"
            ]
           ],
           "sequential": [
            [
             0,
             "#0d0887"
            ],
            [
             0.1111111111111111,
             "#46039f"
            ],
            [
             0.2222222222222222,
             "#7201a8"
            ],
            [
             0.3333333333333333,
             "#9c179e"
            ],
            [
             0.4444444444444444,
             "#bd3786"
            ],
            [
             0.5555555555555556,
             "#d8576b"
            ],
            [
             0.6666666666666666,
             "#ed7953"
            ],
            [
             0.7777777777777778,
             "#fb9f3a"
            ],
            [
             0.8888888888888888,
             "#fdca26"
            ],
            [
             1,
             "#f0f921"
            ]
           ],
           "sequentialminus": [
            [
             0,
             "#0d0887"
            ],
            [
             0.1111111111111111,
             "#46039f"
            ],
            [
             0.2222222222222222,
             "#7201a8"
            ],
            [
             0.3333333333333333,
             "#9c179e"
            ],
            [
             0.4444444444444444,
             "#bd3786"
            ],
            [
             0.5555555555555556,
             "#d8576b"
            ],
            [
             0.6666666666666666,
             "#ed7953"
            ],
            [
             0.7777777777777778,
             "#fb9f3a"
            ],
            [
             0.8888888888888888,
             "#fdca26"
            ],
            [
             1,
             "#f0f921"
            ]
           ]
          },
          "colorway": [
           "#636efa",
           "#EF553B",
           "#00cc96",
           "#ab63fa",
           "#FFA15A",
           "#19d3f3",
           "#FF6692",
           "#B6E880",
           "#FF97FF",
           "#FECB52"
          ],
          "font": {
           "color": "#2a3f5f"
          },
          "geo": {
           "bgcolor": "white",
           "lakecolor": "white",
           "landcolor": "#E5ECF6",
           "showlakes": true,
           "showland": true,
           "subunitcolor": "white"
          },
          "hoverlabel": {
           "align": "left"
          },
          "hovermode": "closest",
          "mapbox": {
           "style": "light"
          },
          "paper_bgcolor": "white",
          "plot_bgcolor": "#E5ECF6",
          "polar": {
           "angularaxis": {
            "gridcolor": "white",
            "linecolor": "white",
            "ticks": ""
           },
           "bgcolor": "#E5ECF6",
           "radialaxis": {
            "gridcolor": "white",
            "linecolor": "white",
            "ticks": ""
           }
          },
          "scene": {
           "xaxis": {
            "backgroundcolor": "#E5ECF6",
            "gridcolor": "white",
            "gridwidth": 2,
            "linecolor": "white",
            "showbackground": true,
            "ticks": "",
            "zerolinecolor": "white"
           },
           "yaxis": {
            "backgroundcolor": "#E5ECF6",
            "gridcolor": "white",
            "gridwidth": 2,
            "linecolor": "white",
            "showbackground": true,
            "ticks": "",
            "zerolinecolor": "white"
           },
           "zaxis": {
            "backgroundcolor": "#E5ECF6",
            "gridcolor": "white",
            "gridwidth": 2,
            "linecolor": "white",
            "showbackground": true,
            "ticks": "",
            "zerolinecolor": "white"
           }
          },
          "shapedefaults": {
           "line": {
            "color": "#2a3f5f"
           }
          },
          "ternary": {
           "aaxis": {
            "gridcolor": "white",
            "linecolor": "white",
            "ticks": ""
           },
           "baxis": {
            "gridcolor": "white",
            "linecolor": "white",
            "ticks": ""
           },
           "bgcolor": "#E5ECF6",
           "caxis": {
            "gridcolor": "white",
            "linecolor": "white",
            "ticks": ""
           }
          },
          "title": {
           "x": 0.05
          },
          "xaxis": {
           "automargin": true,
           "gridcolor": "white",
           "linecolor": "white",
           "ticks": "",
           "title": {
            "standoff": 15
           },
           "zerolinecolor": "white",
           "zerolinewidth": 2
          },
          "yaxis": {
           "automargin": true,
           "gridcolor": "white",
           "linecolor": "white",
           "ticks": "",
           "title": {
            "standoff": 15
           },
           "zerolinecolor": "white",
           "zerolinewidth": 2
          }
         }
        },
        "title": {
         "text": "Eros - Raw vs Cleaned BPM"
        },
        "xaxis": {
         "anchor": "y",
         "domain": [
          0,
          0.2888888888888889
         ]
        },
        "xaxis2": {
         "anchor": "y2",
         "domain": [
          0.35555555555555557,
          0.6444444444444445
         ]
        },
        "xaxis3": {
         "anchor": "y3",
         "domain": [
          0.7111111111111111,
          1
         ]
        },
        "xaxis4": {
         "anchor": "y4",
         "domain": [
          0,
          0.2888888888888889
         ]
        },
        "xaxis5": {
         "anchor": "y5",
         "domain": [
          0.35555555555555557,
          0.6444444444444445
         ]
        },
        "xaxis6": {
         "anchor": "y6",
         "domain": [
          0.7111111111111111,
          1
         ]
        },
        "yaxis": {
         "anchor": "x",
         "domain": [
          0.625,
          1
         ]
        },
        "yaxis2": {
         "anchor": "x2",
         "domain": [
          0.625,
          1
         ]
        },
        "yaxis3": {
         "anchor": "x3",
         "domain": [
          0.625,
          1
         ]
        },
        "yaxis4": {
         "anchor": "x4",
         "domain": [
          0,
          0.375
         ]
        },
        "yaxis5": {
         "anchor": "x5",
         "domain": [
          0,
          0.375
         ]
        },
        "yaxis6": {
         "anchor": "x6",
         "domain": [
          0,
          0.375
         ]
        }
       }
      }
     },
     "metadata": {},
     "output_type": "display_data"
    },
    {
     "name": "stdout",
     "output_type": "stream",
     "text": [
      "\n",
      "✅ Datenaufbereitung abgeschlossen!\n"
     ]
    }
   ],
   "source": [
    "def plot_comparison(person, zhaw_id, data):\n",
    "    fig = make_subplots(rows=2, cols=3, subplot_titles=[f\"Intensity {d['intensity']}\" for d in data] + [f\"Stats {d['intensity']}\" for d in data], specs=[[{'type': 'scatter'}, {'type': 'scatter'}, {'type': 'scatter'}], [{'type': 'bar'}, {'type': 'bar'}, {'type': 'bar'}]])\n",
    "    \n",
    "    for i, d in enumerate(data, 1):\n",
    "        fig.add_trace(go.Scatter(y=d['raw'], name=f\"Raw {d['intensity']}\", opacity=0.6, line=dict(color='red')), row=1, col=i)\n",
    "        fig.add_trace(go.Scatter(y=d['clean'], name=f\"Clean {d['intensity']}\", line=dict(color='green')), row=1, col=i)\n",
    "        fig.add_trace(go.Bar(x=['Mean', 'Std'], y=[d['mean_raw'], d['std_raw']], name=f\"Raw {d['intensity']}\", marker=dict(color='red'), opacity=0.6), row=2, col=i)\n",
    "        fig.add_trace(go.Bar(x=['Mean', 'Std'], y=[d['mean_clean'], d['std_clean']], name=f\"Clean {d['intensity']}\", marker=dict(color='green')), row=2, col=i)\n",
    "    \n",
    "    fig.update_layout(height=800, title_text=f\"{person.capitalize()} - Raw vs Cleaned BPM\", showlegend=False)\n",
    "    fig.show()\n",
    "\n",
    "print(\"=== Datenaufbereitung & Vergleich ===\\n\")\n",
    "for person, zhaw_id in ZHAW_KUERZEL.items():\n",
    "    print(f\"Processing {person.capitalize()}...\")\n",
    "    data = process_person(person, zhaw_id)\n",
    "    plot_comparison(person, zhaw_id, data)\n",
    "    print()\n",
    "\n",
    "print(\"✅ Datenaufbereitung abgeschlossen!\")\n"
   ]
  },
  {
   "cell_type": "code",
   "execution_count": 16,
   "id": "317f1763",
   "metadata": {},
   "outputs": [
    {
     "data": {
      "text/html": [
       "<div>\n",
       "<style scoped>\n",
       "    .dataframe tbody tr th:only-of-type {\n",
       "        vertical-align: middle;\n",
       "    }\n",
       "\n",
       "    .dataframe tbody tr th {\n",
       "        vertical-align: top;\n",
       "    }\n",
       "\n",
       "    .dataframe thead th {\n",
       "        text-align: right;\n",
       "    }\n",
       "</style>\n",
       "<table border=\"1\" class=\"dataframe\">\n",
       "  <thead>\n",
       "    <tr style=\"text-align: right;\">\n",
       "      <th></th>\n",
       "      <th>rr_interval</th>\n",
       "      <th>bpm_raw</th>\n",
       "      <th>bpm_clean</th>\n",
       "      <th>intensity</th>\n",
       "      <th>artifacts</th>\n",
       "      <th>person_id</th>\n",
       "      <th>sex</th>\n",
       "      <th>age</th>\n",
       "      <th>diet</th>\n",
       "      <th>caffeine</th>\n",
       "      <th>sleep_q</th>\n",
       "      <th>sleep_h</th>\n",
       "      <th>wellbeeing</th>\n",
       "      <th>cold_hist</th>\n",
       "      <th>asthma</th>\n",
       "      <th>smoker</th>\n",
       "      <th>fitness_level</th>\n",
       "      <th>study_modus</th>\n",
       "      <th>bmi</th>\n",
       "      <th>rpm</th>\n",
       "    </tr>\n",
       "  </thead>\n",
       "  <tbody>\n",
       "    <tr>\n",
       "      <th>count</th>\n",
       "      <td>252.000000</td>\n",
       "      <td>252.000000</td>\n",
       "      <td>252.000000</td>\n",
       "      <td>252.0</td>\n",
       "      <td>252.0</td>\n",
       "      <td>252.0</td>\n",
       "      <td>252.0</td>\n",
       "      <td>252.0</td>\n",
       "      <td>252.0</td>\n",
       "      <td>252.0</td>\n",
       "      <td>252.0</td>\n",
       "      <td>252.0</td>\n",
       "      <td>252.0</td>\n",
       "      <td>252.0</td>\n",
       "      <td>252.0</td>\n",
       "      <td>252.0</td>\n",
       "      <td>252.0</td>\n",
       "      <td>252.0</td>\n",
       "      <td>252.0</td>\n",
       "      <td>252.0</td>\n",
       "    </tr>\n",
       "    <tr>\n",
       "      <th>mean</th>\n",
       "      <td>477.595238</td>\n",
       "      <td>128.181052</td>\n",
       "      <td>128.244736</td>\n",
       "      <td>1.0</td>\n",
       "      <td>163.0</td>\n",
       "      <td>3.0</td>\n",
       "      <td>1.0</td>\n",
       "      <td>26.0</td>\n",
       "      <td>0.0</td>\n",
       "      <td>1.0</td>\n",
       "      <td>2.0</td>\n",
       "      <td>8.0</td>\n",
       "      <td>20.0</td>\n",
       "      <td>0.0</td>\n",
       "      <td>1.0</td>\n",
       "      <td>0.0</td>\n",
       "      <td>1.0</td>\n",
       "      <td>0.0</td>\n",
       "      <td>26.0</td>\n",
       "      <td>0.0</td>\n",
       "    </tr>\n",
       "    <tr>\n",
       "      <th>std</th>\n",
       "      <td>88.672654</td>\n",
       "      <td>15.439102</td>\n",
       "      <td>13.836624</td>\n",
       "      <td>0.0</td>\n",
       "      <td>0.0</td>\n",
       "      <td>0.0</td>\n",
       "      <td>0.0</td>\n",
       "      <td>0.0</td>\n",
       "      <td>0.0</td>\n",
       "      <td>0.0</td>\n",
       "      <td>0.0</td>\n",
       "      <td>0.0</td>\n",
       "      <td>0.0</td>\n",
       "      <td>0.0</td>\n",
       "      <td>0.0</td>\n",
       "      <td>0.0</td>\n",
       "      <td>0.0</td>\n",
       "      <td>0.0</td>\n",
       "      <td>0.0</td>\n",
       "      <td>0.0</td>\n",
       "    </tr>\n",
       "    <tr>\n",
       "      <th>min</th>\n",
       "      <td>352.000000</td>\n",
       "      <td>40.160643</td>\n",
       "      <td>81.411126</td>\n",
       "      <td>1.0</td>\n",
       "      <td>163.0</td>\n",
       "      <td>3.0</td>\n",
       "      <td>1.0</td>\n",
       "      <td>26.0</td>\n",
       "      <td>0.0</td>\n",
       "      <td>1.0</td>\n",
       "      <td>2.0</td>\n",
       "      <td>8.0</td>\n",
       "      <td>20.0</td>\n",
       "      <td>0.0</td>\n",
       "      <td>1.0</td>\n",
       "      <td>0.0</td>\n",
       "      <td>1.0</td>\n",
       "      <td>0.0</td>\n",
       "      <td>26.0</td>\n",
       "      <td>0.0</td>\n",
       "    </tr>\n",
       "    <tr>\n",
       "      <th>25%</th>\n",
       "      <td>428.000000</td>\n",
       "      <td>117.187500</td>\n",
       "      <td>117.187500</td>\n",
       "      <td>1.0</td>\n",
       "      <td>163.0</td>\n",
       "      <td>3.0</td>\n",
       "      <td>1.0</td>\n",
       "      <td>26.0</td>\n",
       "      <td>0.0</td>\n",
       "      <td>1.0</td>\n",
       "      <td>2.0</td>\n",
       "      <td>8.0</td>\n",
       "      <td>20.0</td>\n",
       "      <td>0.0</td>\n",
       "      <td>1.0</td>\n",
       "      <td>0.0</td>\n",
       "      <td>1.0</td>\n",
       "      <td>0.0</td>\n",
       "      <td>26.0</td>\n",
       "      <td>0.0</td>\n",
       "    </tr>\n",
       "    <tr>\n",
       "      <th>50%</th>\n",
       "      <td>458.500000</td>\n",
       "      <td>130.861661</td>\n",
       "      <td>130.718954</td>\n",
       "      <td>1.0</td>\n",
       "      <td>163.0</td>\n",
       "      <td>3.0</td>\n",
       "      <td>1.0</td>\n",
       "      <td>26.0</td>\n",
       "      <td>0.0</td>\n",
       "      <td>1.0</td>\n",
       "      <td>2.0</td>\n",
       "      <td>8.0</td>\n",
       "      <td>20.0</td>\n",
       "      <td>0.0</td>\n",
       "      <td>1.0</td>\n",
       "      <td>0.0</td>\n",
       "      <td>1.0</td>\n",
       "      <td>0.0</td>\n",
       "      <td>26.0</td>\n",
       "      <td>0.0</td>\n",
       "    </tr>\n",
       "    <tr>\n",
       "      <th>75%</th>\n",
       "      <td>512.000000</td>\n",
       "      <td>140.186916</td>\n",
       "      <td>140.186916</td>\n",
       "      <td>1.0</td>\n",
       "      <td>163.0</td>\n",
       "      <td>3.0</td>\n",
       "      <td>1.0</td>\n",
       "      <td>26.0</td>\n",
       "      <td>0.0</td>\n",
       "      <td>1.0</td>\n",
       "      <td>2.0</td>\n",
       "      <td>8.0</td>\n",
       "      <td>20.0</td>\n",
       "      <td>0.0</td>\n",
       "      <td>1.0</td>\n",
       "      <td>0.0</td>\n",
       "      <td>1.0</td>\n",
       "      <td>0.0</td>\n",
       "      <td>26.0</td>\n",
       "      <td>0.0</td>\n",
       "    </tr>\n",
       "    <tr>\n",
       "      <th>max</th>\n",
       "      <td>1494.000000</td>\n",
       "      <td>170.454545</td>\n",
       "      <td>145.278450</td>\n",
       "      <td>1.0</td>\n",
       "      <td>163.0</td>\n",
       "      <td>3.0</td>\n",
       "      <td>1.0</td>\n",
       "      <td>26.0</td>\n",
       "      <td>0.0</td>\n",
       "      <td>1.0</td>\n",
       "      <td>2.0</td>\n",
       "      <td>8.0</td>\n",
       "      <td>20.0</td>\n",
       "      <td>0.0</td>\n",
       "      <td>1.0</td>\n",
       "      <td>0.0</td>\n",
       "      <td>1.0</td>\n",
       "      <td>0.0</td>\n",
       "      <td>26.0</td>\n",
       "      <td>0.0</td>\n",
       "    </tr>\n",
       "  </tbody>\n",
       "</table>\n",
       "</div>"
      ],
      "text/plain": [
       "       rr_interval     bpm_raw   bpm_clean  intensity  artifacts  person_id  \\\n",
       "count   252.000000  252.000000  252.000000      252.0      252.0      252.0   \n",
       "mean    477.595238  128.181052  128.244736        1.0      163.0        3.0   \n",
       "std      88.672654   15.439102   13.836624        0.0        0.0        0.0   \n",
       "min     352.000000   40.160643   81.411126        1.0      163.0        3.0   \n",
       "25%     428.000000  117.187500  117.187500        1.0      163.0        3.0   \n",
       "50%     458.500000  130.861661  130.718954        1.0      163.0        3.0   \n",
       "75%     512.000000  140.186916  140.186916        1.0      163.0        3.0   \n",
       "max    1494.000000  170.454545  145.278450        1.0      163.0        3.0   \n",
       "\n",
       "         sex    age   diet  caffeine  sleep_q  sleep_h  wellbeeing  cold_hist  \\\n",
       "count  252.0  252.0  252.0     252.0    252.0    252.0       252.0      252.0   \n",
       "mean     1.0   26.0    0.0       1.0      2.0      8.0        20.0        0.0   \n",
       "std      0.0    0.0    0.0       0.0      0.0      0.0         0.0        0.0   \n",
       "min      1.0   26.0    0.0       1.0      2.0      8.0        20.0        0.0   \n",
       "25%      1.0   26.0    0.0       1.0      2.0      8.0        20.0        0.0   \n",
       "50%      1.0   26.0    0.0       1.0      2.0      8.0        20.0        0.0   \n",
       "75%      1.0   26.0    0.0       1.0      2.0      8.0        20.0        0.0   \n",
       "max      1.0   26.0    0.0       1.0      2.0      8.0        20.0        0.0   \n",
       "\n",
       "       asthma  smoker  fitness_level  study_modus    bmi    rpm  \n",
       "count   252.0   252.0          252.0        252.0  252.0  252.0  \n",
       "mean      1.0     0.0            1.0          0.0   26.0    0.0  \n",
       "std       0.0     0.0            0.0          0.0    0.0    0.0  \n",
       "min       1.0     0.0            1.0          0.0   26.0    0.0  \n",
       "25%       1.0     0.0            1.0          0.0   26.0    0.0  \n",
       "50%       1.0     0.0            1.0          0.0   26.0    0.0  \n",
       "75%       1.0     0.0            1.0          0.0   26.0    0.0  \n",
       "max       1.0     0.0            1.0          0.0   26.0    0.0  "
      ]
     },
     "metadata": {},
     "output_type": "display_data"
    },
    {
     "data": {
      "text/html": [
       "<div>\n",
       "<style scoped>\n",
       "    .dataframe tbody tr th:only-of-type {\n",
       "        vertical-align: middle;\n",
       "    }\n",
       "\n",
       "    .dataframe tbody tr th {\n",
       "        vertical-align: top;\n",
       "    }\n",
       "\n",
       "    .dataframe thead th {\n",
       "        text-align: right;\n",
       "    }\n",
       "</style>\n",
       "<table border=\"1\" class=\"dataframe\">\n",
       "  <thead>\n",
       "    <tr style=\"text-align: right;\">\n",
       "      <th></th>\n",
       "      <th>rr_interval</th>\n",
       "      <th>bpm_raw</th>\n",
       "      <th>bpm_clean</th>\n",
       "      <th>intensity</th>\n",
       "      <th>artifacts</th>\n",
       "      <th>person_id</th>\n",
       "      <th>sex</th>\n",
       "      <th>age</th>\n",
       "      <th>diet</th>\n",
       "      <th>caffeine</th>\n",
       "      <th>sleep_q</th>\n",
       "      <th>sleep_h</th>\n",
       "      <th>wellbeeing</th>\n",
       "      <th>cold_hist</th>\n",
       "      <th>asthma</th>\n",
       "      <th>smoker</th>\n",
       "      <th>fitness_level</th>\n",
       "      <th>study_modus</th>\n",
       "      <th>bmi</th>\n",
       "      <th>rpm</th>\n",
       "    </tr>\n",
       "  </thead>\n",
       "  <tbody>\n",
       "    <tr>\n",
       "      <th>count</th>\n",
       "      <td>288.000000</td>\n",
       "      <td>288.000000</td>\n",
       "      <td>288.000000</td>\n",
       "      <td>288.0</td>\n",
       "      <td>288.0</td>\n",
       "      <td>288.0</td>\n",
       "      <td>288.0</td>\n",
       "      <td>288.0</td>\n",
       "      <td>288.0</td>\n",
       "      <td>288.0</td>\n",
       "      <td>288.0</td>\n",
       "      <td>288.0</td>\n",
       "      <td>288.0</td>\n",
       "      <td>288.0</td>\n",
       "      <td>288.0</td>\n",
       "      <td>288.0</td>\n",
       "      <td>288.0</td>\n",
       "      <td>288.0</td>\n",
       "      <td>288.0</td>\n",
       "      <td>288.0</td>\n",
       "    </tr>\n",
       "    <tr>\n",
       "      <th>mean</th>\n",
       "      <td>528.121528</td>\n",
       "      <td>139.862906</td>\n",
       "      <td>147.963149</td>\n",
       "      <td>2.0</td>\n",
       "      <td>201.0</td>\n",
       "      <td>3.0</td>\n",
       "      <td>1.0</td>\n",
       "      <td>26.0</td>\n",
       "      <td>0.0</td>\n",
       "      <td>1.0</td>\n",
       "      <td>2.0</td>\n",
       "      <td>8.0</td>\n",
       "      <td>20.0</td>\n",
       "      <td>0.0</td>\n",
       "      <td>1.0</td>\n",
       "      <td>0.0</td>\n",
       "      <td>1.0</td>\n",
       "      <td>0.0</td>\n",
       "      <td>26.0</td>\n",
       "      <td>0.0</td>\n",
       "    </tr>\n",
       "    <tr>\n",
       "      <th>std</th>\n",
       "      <td>463.928741</td>\n",
       "      <td>41.081449</td>\n",
       "      <td>26.395088</td>\n",
       "      <td>0.0</td>\n",
       "      <td>0.0</td>\n",
       "      <td>0.0</td>\n",
       "      <td>0.0</td>\n",
       "      <td>0.0</td>\n",
       "      <td>0.0</td>\n",
       "      <td>0.0</td>\n",
       "      <td>0.0</td>\n",
       "      <td>0.0</td>\n",
       "      <td>0.0</td>\n",
       "      <td>0.0</td>\n",
       "      <td>0.0</td>\n",
       "      <td>0.0</td>\n",
       "      <td>0.0</td>\n",
       "      <td>0.0</td>\n",
       "      <td>0.0</td>\n",
       "      <td>0.0</td>\n",
       "    </tr>\n",
       "    <tr>\n",
       "      <th>min</th>\n",
       "      <td>253.000000</td>\n",
       "      <td>11.525163</td>\n",
       "      <td>68.181818</td>\n",
       "      <td>2.0</td>\n",
       "      <td>201.0</td>\n",
       "      <td>3.0</td>\n",
       "      <td>1.0</td>\n",
       "      <td>26.0</td>\n",
       "      <td>0.0</td>\n",
       "      <td>1.0</td>\n",
       "      <td>2.0</td>\n",
       "      <td>8.0</td>\n",
       "      <td>20.0</td>\n",
       "      <td>0.0</td>\n",
       "      <td>1.0</td>\n",
       "      <td>0.0</td>\n",
       "      <td>1.0</td>\n",
       "      <td>0.0</td>\n",
       "      <td>26.0</td>\n",
       "      <td>0.0</td>\n",
       "    </tr>\n",
       "    <tr>\n",
       "      <th>25%</th>\n",
       "      <td>364.000000</td>\n",
       "      <td>123.456790</td>\n",
       "      <td>144.930061</td>\n",
       "      <td>2.0</td>\n",
       "      <td>201.0</td>\n",
       "      <td>3.0</td>\n",
       "      <td>1.0</td>\n",
       "      <td>26.0</td>\n",
       "      <td>0.0</td>\n",
       "      <td>1.0</td>\n",
       "      <td>2.0</td>\n",
       "      <td>8.0</td>\n",
       "      <td>20.0</td>\n",
       "      <td>0.0</td>\n",
       "      <td>1.0</td>\n",
       "      <td>0.0</td>\n",
       "      <td>1.0</td>\n",
       "      <td>0.0</td>\n",
       "      <td>26.0</td>\n",
       "      <td>0.0</td>\n",
       "    </tr>\n",
       "    <tr>\n",
       "      <th>50%</th>\n",
       "      <td>387.500000</td>\n",
       "      <td>154.838967</td>\n",
       "      <td>156.250000</td>\n",
       "      <td>2.0</td>\n",
       "      <td>201.0</td>\n",
       "      <td>3.0</td>\n",
       "      <td>1.0</td>\n",
       "      <td>26.0</td>\n",
       "      <td>0.0</td>\n",
       "      <td>1.0</td>\n",
       "      <td>2.0</td>\n",
       "      <td>8.0</td>\n",
       "      <td>20.0</td>\n",
       "      <td>0.0</td>\n",
       "      <td>1.0</td>\n",
       "      <td>0.0</td>\n",
       "      <td>1.0</td>\n",
       "      <td>0.0</td>\n",
       "      <td>26.0</td>\n",
       "      <td>0.0</td>\n",
       "    </tr>\n",
       "    <tr>\n",
       "      <th>75%</th>\n",
       "      <td>486.000000</td>\n",
       "      <td>164.835165</td>\n",
       "      <td>164.383562</td>\n",
       "      <td>2.0</td>\n",
       "      <td>201.0</td>\n",
       "      <td>3.0</td>\n",
       "      <td>1.0</td>\n",
       "      <td>26.0</td>\n",
       "      <td>0.0</td>\n",
       "      <td>1.0</td>\n",
       "      <td>2.0</td>\n",
       "      <td>8.0</td>\n",
       "      <td>20.0</td>\n",
       "      <td>0.0</td>\n",
       "      <td>1.0</td>\n",
       "      <td>0.0</td>\n",
       "      <td>1.0</td>\n",
       "      <td>0.0</td>\n",
       "      <td>26.0</td>\n",
       "      <td>0.0</td>\n",
       "    </tr>\n",
       "    <tr>\n",
       "      <th>max</th>\n",
       "      <td>5206.000000</td>\n",
       "      <td>237.154150</td>\n",
       "      <td>195.439739</td>\n",
       "      <td>2.0</td>\n",
       "      <td>201.0</td>\n",
       "      <td>3.0</td>\n",
       "      <td>1.0</td>\n",
       "      <td>26.0</td>\n",
       "      <td>0.0</td>\n",
       "      <td>1.0</td>\n",
       "      <td>2.0</td>\n",
       "      <td>8.0</td>\n",
       "      <td>20.0</td>\n",
       "      <td>0.0</td>\n",
       "      <td>1.0</td>\n",
       "      <td>0.0</td>\n",
       "      <td>1.0</td>\n",
       "      <td>0.0</td>\n",
       "      <td>26.0</td>\n",
       "      <td>0.0</td>\n",
       "    </tr>\n",
       "  </tbody>\n",
       "</table>\n",
       "</div>"
      ],
      "text/plain": [
       "       rr_interval     bpm_raw   bpm_clean  intensity  artifacts  person_id  \\\n",
       "count   288.000000  288.000000  288.000000      288.0      288.0      288.0   \n",
       "mean    528.121528  139.862906  147.963149        2.0      201.0        3.0   \n",
       "std     463.928741   41.081449   26.395088        0.0        0.0        0.0   \n",
       "min     253.000000   11.525163   68.181818        2.0      201.0        3.0   \n",
       "25%     364.000000  123.456790  144.930061        2.0      201.0        3.0   \n",
       "50%     387.500000  154.838967  156.250000        2.0      201.0        3.0   \n",
       "75%     486.000000  164.835165  164.383562        2.0      201.0        3.0   \n",
       "max    5206.000000  237.154150  195.439739        2.0      201.0        3.0   \n",
       "\n",
       "         sex    age   diet  caffeine  sleep_q  sleep_h  wellbeeing  cold_hist  \\\n",
       "count  288.0  288.0  288.0     288.0    288.0    288.0       288.0      288.0   \n",
       "mean     1.0   26.0    0.0       1.0      2.0      8.0        20.0        0.0   \n",
       "std      0.0    0.0    0.0       0.0      0.0      0.0         0.0        0.0   \n",
       "min      1.0   26.0    0.0       1.0      2.0      8.0        20.0        0.0   \n",
       "25%      1.0   26.0    0.0       1.0      2.0      8.0        20.0        0.0   \n",
       "50%      1.0   26.0    0.0       1.0      2.0      8.0        20.0        0.0   \n",
       "75%      1.0   26.0    0.0       1.0      2.0      8.0        20.0        0.0   \n",
       "max      1.0   26.0    0.0       1.0      2.0      8.0        20.0        0.0   \n",
       "\n",
       "       asthma  smoker  fitness_level  study_modus    bmi    rpm  \n",
       "count   288.0   288.0          288.0        288.0  288.0  288.0  \n",
       "mean      1.0     0.0            1.0          0.0   26.0    0.0  \n",
       "std       0.0     0.0            0.0          0.0    0.0    0.0  \n",
       "min       1.0     0.0            1.0          0.0   26.0    0.0  \n",
       "25%       1.0     0.0            1.0          0.0   26.0    0.0  \n",
       "50%       1.0     0.0            1.0          0.0   26.0    0.0  \n",
       "75%       1.0     0.0            1.0          0.0   26.0    0.0  \n",
       "max       1.0     0.0            1.0          0.0   26.0    0.0  "
      ]
     },
     "metadata": {},
     "output_type": "display_data"
    },
    {
     "data": {
      "text/html": [
       "<div>\n",
       "<style scoped>\n",
       "    .dataframe tbody tr th:only-of-type {\n",
       "        vertical-align: middle;\n",
       "    }\n",
       "\n",
       "    .dataframe tbody tr th {\n",
       "        vertical-align: top;\n",
       "    }\n",
       "\n",
       "    .dataframe thead th {\n",
       "        text-align: right;\n",
       "    }\n",
       "</style>\n",
       "<table border=\"1\" class=\"dataframe\">\n",
       "  <thead>\n",
       "    <tr style=\"text-align: right;\">\n",
       "      <th></th>\n",
       "      <th>rr_interval</th>\n",
       "      <th>bpm_raw</th>\n",
       "      <th>bpm_clean</th>\n",
       "      <th>intensity</th>\n",
       "      <th>artifacts</th>\n",
       "      <th>person_id</th>\n",
       "      <th>sex</th>\n",
       "      <th>age</th>\n",
       "      <th>diet</th>\n",
       "      <th>caffeine</th>\n",
       "      <th>sleep_q</th>\n",
       "      <th>sleep_h</th>\n",
       "      <th>wellbeeing</th>\n",
       "      <th>cold_hist</th>\n",
       "      <th>asthma</th>\n",
       "      <th>smoker</th>\n",
       "      <th>fitness_level</th>\n",
       "      <th>study_modus</th>\n",
       "      <th>bmi</th>\n",
       "      <th>rpm</th>\n",
       "    </tr>\n",
       "  </thead>\n",
       "  <tbody>\n",
       "    <tr>\n",
       "      <th>count</th>\n",
       "      <td>371.000000</td>\n",
       "      <td>371.000000</td>\n",
       "      <td>371.000000</td>\n",
       "      <td>371.0</td>\n",
       "      <td>371.0</td>\n",
       "      <td>371.0</td>\n",
       "      <td>371.0</td>\n",
       "      <td>371.0</td>\n",
       "      <td>371.0</td>\n",
       "      <td>371.0</td>\n",
       "      <td>371.0</td>\n",
       "      <td>371.0</td>\n",
       "      <td>371.0</td>\n",
       "      <td>371.0</td>\n",
       "      <td>371.0</td>\n",
       "      <td>371.0</td>\n",
       "      <td>371.0</td>\n",
       "      <td>371.0</td>\n",
       "      <td>371.0</td>\n",
       "      <td>371.0</td>\n",
       "    </tr>\n",
       "    <tr>\n",
       "      <th>mean</th>\n",
       "      <td>406.843666</td>\n",
       "      <td>164.121584</td>\n",
       "      <td>164.522206</td>\n",
       "      <td>3.0</td>\n",
       "      <td>280.0</td>\n",
       "      <td>3.0</td>\n",
       "      <td>1.0</td>\n",
       "      <td>26.0</td>\n",
       "      <td>0.0</td>\n",
       "      <td>1.0</td>\n",
       "      <td>2.0</td>\n",
       "      <td>8.0</td>\n",
       "      <td>20.0</td>\n",
       "      <td>0.0</td>\n",
       "      <td>1.0</td>\n",
       "      <td>0.0</td>\n",
       "      <td>1.0</td>\n",
       "      <td>0.0</td>\n",
       "      <td>26.0</td>\n",
       "      <td>0.0</td>\n",
       "    </tr>\n",
       "    <tr>\n",
       "      <th>std</th>\n",
       "      <td>286.436319</td>\n",
       "      <td>32.205375</td>\n",
       "      <td>28.042127</td>\n",
       "      <td>0.0</td>\n",
       "      <td>0.0</td>\n",
       "      <td>0.0</td>\n",
       "      <td>0.0</td>\n",
       "      <td>0.0</td>\n",
       "      <td>0.0</td>\n",
       "      <td>0.0</td>\n",
       "      <td>0.0</td>\n",
       "      <td>0.0</td>\n",
       "      <td>0.0</td>\n",
       "      <td>0.0</td>\n",
       "      <td>0.0</td>\n",
       "      <td>0.0</td>\n",
       "      <td>0.0</td>\n",
       "      <td>0.0</td>\n",
       "      <td>0.0</td>\n",
       "      <td>0.0</td>\n",
       "    </tr>\n",
       "    <tr>\n",
       "      <th>min</th>\n",
       "      <td>272.000000</td>\n",
       "      <td>12.950572</td>\n",
       "      <td>47.732697</td>\n",
       "      <td>3.0</td>\n",
       "      <td>280.0</td>\n",
       "      <td>3.0</td>\n",
       "      <td>1.0</td>\n",
       "      <td>26.0</td>\n",
       "      <td>0.0</td>\n",
       "      <td>1.0</td>\n",
       "      <td>2.0</td>\n",
       "      <td>8.0</td>\n",
       "      <td>20.0</td>\n",
       "      <td>0.0</td>\n",
       "      <td>1.0</td>\n",
       "      <td>0.0</td>\n",
       "      <td>1.0</td>\n",
       "      <td>0.0</td>\n",
       "      <td>26.0</td>\n",
       "      <td>0.0</td>\n",
       "    </tr>\n",
       "    <tr>\n",
       "      <th>25%</th>\n",
       "      <td>335.000000</td>\n",
       "      <td>171.428571</td>\n",
       "      <td>171.428571</td>\n",
       "      <td>3.0</td>\n",
       "      <td>280.0</td>\n",
       "      <td>3.0</td>\n",
       "      <td>1.0</td>\n",
       "      <td>26.0</td>\n",
       "      <td>0.0</td>\n",
       "      <td>1.0</td>\n",
       "      <td>2.0</td>\n",
       "      <td>8.0</td>\n",
       "      <td>20.0</td>\n",
       "      <td>0.0</td>\n",
       "      <td>1.0</td>\n",
       "      <td>0.0</td>\n",
       "      <td>1.0</td>\n",
       "      <td>0.0</td>\n",
       "      <td>26.0</td>\n",
       "      <td>0.0</td>\n",
       "    </tr>\n",
       "    <tr>\n",
       "      <th>50%</th>\n",
       "      <td>343.000000</td>\n",
       "      <td>174.927114</td>\n",
       "      <td>174.418605</td>\n",
       "      <td>3.0</td>\n",
       "      <td>280.0</td>\n",
       "      <td>3.0</td>\n",
       "      <td>1.0</td>\n",
       "      <td>26.0</td>\n",
       "      <td>0.0</td>\n",
       "      <td>1.0</td>\n",
       "      <td>2.0</td>\n",
       "      <td>8.0</td>\n",
       "      <td>20.0</td>\n",
       "      <td>0.0</td>\n",
       "      <td>1.0</td>\n",
       "      <td>0.0</td>\n",
       "      <td>1.0</td>\n",
       "      <td>0.0</td>\n",
       "      <td>26.0</td>\n",
       "      <td>0.0</td>\n",
       "    </tr>\n",
       "    <tr>\n",
       "      <th>75%</th>\n",
       "      <td>350.000000</td>\n",
       "      <td>179.104478</td>\n",
       "      <td>179.104478</td>\n",
       "      <td>3.0</td>\n",
       "      <td>280.0</td>\n",
       "      <td>3.0</td>\n",
       "      <td>1.0</td>\n",
       "      <td>26.0</td>\n",
       "      <td>0.0</td>\n",
       "      <td>1.0</td>\n",
       "      <td>2.0</td>\n",
       "      <td>8.0</td>\n",
       "      <td>20.0</td>\n",
       "      <td>0.0</td>\n",
       "      <td>1.0</td>\n",
       "      <td>0.0</td>\n",
       "      <td>1.0</td>\n",
       "      <td>0.0</td>\n",
       "      <td>26.0</td>\n",
       "      <td>0.0</td>\n",
       "    </tr>\n",
       "    <tr>\n",
       "      <th>max</th>\n",
       "      <td>4633.000000</td>\n",
       "      <td>220.588235</td>\n",
       "      <td>181.818182</td>\n",
       "      <td>3.0</td>\n",
       "      <td>280.0</td>\n",
       "      <td>3.0</td>\n",
       "      <td>1.0</td>\n",
       "      <td>26.0</td>\n",
       "      <td>0.0</td>\n",
       "      <td>1.0</td>\n",
       "      <td>2.0</td>\n",
       "      <td>8.0</td>\n",
       "      <td>20.0</td>\n",
       "      <td>0.0</td>\n",
       "      <td>1.0</td>\n",
       "      <td>0.0</td>\n",
       "      <td>1.0</td>\n",
       "      <td>0.0</td>\n",
       "      <td>26.0</td>\n",
       "      <td>0.0</td>\n",
       "    </tr>\n",
       "  </tbody>\n",
       "</table>\n",
       "</div>"
      ],
      "text/plain": [
       "       rr_interval     bpm_raw   bpm_clean  intensity  artifacts  person_id  \\\n",
       "count   371.000000  371.000000  371.000000      371.0      371.0      371.0   \n",
       "mean    406.843666  164.121584  164.522206        3.0      280.0        3.0   \n",
       "std     286.436319   32.205375   28.042127        0.0        0.0        0.0   \n",
       "min     272.000000   12.950572   47.732697        3.0      280.0        3.0   \n",
       "25%     335.000000  171.428571  171.428571        3.0      280.0        3.0   \n",
       "50%     343.000000  174.927114  174.418605        3.0      280.0        3.0   \n",
       "75%     350.000000  179.104478  179.104478        3.0      280.0        3.0   \n",
       "max    4633.000000  220.588235  181.818182        3.0      280.0        3.0   \n",
       "\n",
       "         sex    age   diet  caffeine  sleep_q  sleep_h  wellbeeing  cold_hist  \\\n",
       "count  371.0  371.0  371.0     371.0    371.0    371.0       371.0      371.0   \n",
       "mean     1.0   26.0    0.0       1.0      2.0      8.0        20.0        0.0   \n",
       "std      0.0    0.0    0.0       0.0      0.0      0.0         0.0        0.0   \n",
       "min      1.0   26.0    0.0       1.0      2.0      8.0        20.0        0.0   \n",
       "25%      1.0   26.0    0.0       1.0      2.0      8.0        20.0        0.0   \n",
       "50%      1.0   26.0    0.0       1.0      2.0      8.0        20.0        0.0   \n",
       "75%      1.0   26.0    0.0       1.0      2.0      8.0        20.0        0.0   \n",
       "max      1.0   26.0    0.0       1.0      2.0      8.0        20.0        0.0   \n",
       "\n",
       "       asthma  smoker  fitness_level  study_modus    bmi    rpm  \n",
       "count   371.0   371.0          371.0        371.0  371.0  371.0  \n",
       "mean      1.0     0.0            1.0          0.0   26.0    0.0  \n",
       "std       0.0     0.0            0.0          0.0    0.0    0.0  \n",
       "min       1.0     0.0            1.0          0.0   26.0    0.0  \n",
       "25%       1.0     0.0            1.0          0.0   26.0    0.0  \n",
       "50%       1.0     0.0            1.0          0.0   26.0    0.0  \n",
       "75%       1.0     0.0            1.0          0.0   26.0    0.0  \n",
       "max       1.0     0.0            1.0          0.0   26.0    0.0  "
      ]
     },
     "metadata": {},
     "output_type": "display_data"
    },
    {
     "data": {
      "text/html": [
       "<div>\n",
       "<style scoped>\n",
       "    .dataframe tbody tr th:only-of-type {\n",
       "        vertical-align: middle;\n",
       "    }\n",
       "\n",
       "    .dataframe tbody tr th {\n",
       "        vertical-align: top;\n",
       "    }\n",
       "\n",
       "    .dataframe thead th {\n",
       "        text-align: right;\n",
       "    }\n",
       "</style>\n",
       "<table border=\"1\" class=\"dataframe\">\n",
       "  <thead>\n",
       "    <tr style=\"text-align: right;\">\n",
       "      <th></th>\n",
       "      <th>rr_interval</th>\n",
       "      <th>bpm_raw</th>\n",
       "      <th>bpm_clean</th>\n",
       "      <th>intensity</th>\n",
       "      <th>artifacts</th>\n",
       "      <th>person_id</th>\n",
       "      <th>sex</th>\n",
       "      <th>age</th>\n",
       "      <th>diet</th>\n",
       "      <th>caffeine</th>\n",
       "      <th>sleep_q</th>\n",
       "      <th>sleep_h</th>\n",
       "      <th>wellbeeing</th>\n",
       "      <th>cold_hist</th>\n",
       "      <th>asthma</th>\n",
       "      <th>smoker</th>\n",
       "      <th>fitness_level</th>\n",
       "      <th>study_modus</th>\n",
       "      <th>bmi</th>\n",
       "      <th>rpm</th>\n",
       "    </tr>\n",
       "  </thead>\n",
       "  <tbody>\n",
       "    <tr>\n",
       "      <th>count</th>\n",
       "      <td>362.000000</td>\n",
       "      <td>362.000000</td>\n",
       "      <td>362.000000</td>\n",
       "      <td>362.0</td>\n",
       "      <td>362.0</td>\n",
       "      <td>362.0</td>\n",
       "      <td>362.0</td>\n",
       "      <td>362.0</td>\n",
       "      <td>362.0</td>\n",
       "      <td>362.0</td>\n",
       "      <td>362.0</td>\n",
       "      <td>362.0</td>\n",
       "      <td>362.0</td>\n",
       "      <td>362.0</td>\n",
       "      <td>362.0</td>\n",
       "      <td>362.0</td>\n",
       "      <td>362.0</td>\n",
       "      <td>362.0</td>\n",
       "      <td>362.0</td>\n",
       "      <td>362.0</td>\n",
       "    </tr>\n",
       "    <tr>\n",
       "      <th>mean</th>\n",
       "      <td>424.162983</td>\n",
       "      <td>141.569808</td>\n",
       "      <td>141.580240</td>\n",
       "      <td>1.0</td>\n",
       "      <td>224.0</td>\n",
       "      <td>2.0</td>\n",
       "      <td>0.0</td>\n",
       "      <td>22.0</td>\n",
       "      <td>0.0</td>\n",
       "      <td>0.0</td>\n",
       "      <td>0.0</td>\n",
       "      <td>0.5</td>\n",
       "      <td>11.0</td>\n",
       "      <td>0.0</td>\n",
       "      <td>0.0</td>\n",
       "      <td>0.0</td>\n",
       "      <td>1.0</td>\n",
       "      <td>0.0</td>\n",
       "      <td>0.0</td>\n",
       "      <td>0.0</td>\n",
       "    </tr>\n",
       "    <tr>\n",
       "      <th>std</th>\n",
       "      <td>12.213632</td>\n",
       "      <td>3.998819</td>\n",
       "      <td>3.907033</td>\n",
       "      <td>0.0</td>\n",
       "      <td>0.0</td>\n",
       "      <td>0.0</td>\n",
       "      <td>0.0</td>\n",
       "      <td>0.0</td>\n",
       "      <td>0.0</td>\n",
       "      <td>0.0</td>\n",
       "      <td>0.0</td>\n",
       "      <td>0.0</td>\n",
       "      <td>0.0</td>\n",
       "      <td>0.0</td>\n",
       "      <td>0.0</td>\n",
       "      <td>0.0</td>\n",
       "      <td>0.0</td>\n",
       "      <td>0.0</td>\n",
       "      <td>0.0</td>\n",
       "      <td>0.0</td>\n",
       "    </tr>\n",
       "    <tr>\n",
       "      <th>min</th>\n",
       "      <td>403.000000</td>\n",
       "      <td>129.310345</td>\n",
       "      <td>130.718954</td>\n",
       "      <td>1.0</td>\n",
       "      <td>224.0</td>\n",
       "      <td>2.0</td>\n",
       "      <td>0.0</td>\n",
       "      <td>22.0</td>\n",
       "      <td>0.0</td>\n",
       "      <td>0.0</td>\n",
       "      <td>0.0</td>\n",
       "      <td>0.5</td>\n",
       "      <td>11.0</td>\n",
       "      <td>0.0</td>\n",
       "      <td>0.0</td>\n",
       "      <td>0.0</td>\n",
       "      <td>1.0</td>\n",
       "      <td>0.0</td>\n",
       "      <td>0.0</td>\n",
       "      <td>0.0</td>\n",
       "    </tr>\n",
       "    <tr>\n",
       "      <th>25%</th>\n",
       "      <td>415.000000</td>\n",
       "      <td>139.292074</td>\n",
       "      <td>139.534884</td>\n",
       "      <td>1.0</td>\n",
       "      <td>224.0</td>\n",
       "      <td>2.0</td>\n",
       "      <td>0.0</td>\n",
       "      <td>22.0</td>\n",
       "      <td>0.0</td>\n",
       "      <td>0.0</td>\n",
       "      <td>0.0</td>\n",
       "      <td>0.5</td>\n",
       "      <td>11.0</td>\n",
       "      <td>0.0</td>\n",
       "      <td>0.0</td>\n",
       "      <td>0.0</td>\n",
       "      <td>1.0</td>\n",
       "      <td>0.0</td>\n",
       "      <td>0.0</td>\n",
       "      <td>0.0</td>\n",
       "    </tr>\n",
       "    <tr>\n",
       "      <th>50%</th>\n",
       "      <td>423.000000</td>\n",
       "      <td>141.843972</td>\n",
       "      <td>141.843972</td>\n",
       "      <td>1.0</td>\n",
       "      <td>224.0</td>\n",
       "      <td>2.0</td>\n",
       "      <td>0.0</td>\n",
       "      <td>22.0</td>\n",
       "      <td>0.0</td>\n",
       "      <td>0.0</td>\n",
       "      <td>0.0</td>\n",
       "      <td>0.5</td>\n",
       "      <td>11.0</td>\n",
       "      <td>0.0</td>\n",
       "      <td>0.0</td>\n",
       "      <td>0.0</td>\n",
       "      <td>1.0</td>\n",
       "      <td>0.0</td>\n",
       "      <td>0.0</td>\n",
       "      <td>0.0</td>\n",
       "    </tr>\n",
       "    <tr>\n",
       "      <th>75%</th>\n",
       "      <td>430.750000</td>\n",
       "      <td>144.578313</td>\n",
       "      <td>144.578313</td>\n",
       "      <td>1.0</td>\n",
       "      <td>224.0</td>\n",
       "      <td>2.0</td>\n",
       "      <td>0.0</td>\n",
       "      <td>22.0</td>\n",
       "      <td>0.0</td>\n",
       "      <td>0.0</td>\n",
       "      <td>0.0</td>\n",
       "      <td>0.5</td>\n",
       "      <td>11.0</td>\n",
       "      <td>0.0</td>\n",
       "      <td>0.0</td>\n",
       "      <td>0.0</td>\n",
       "      <td>1.0</td>\n",
       "      <td>0.0</td>\n",
       "      <td>0.0</td>\n",
       "      <td>0.0</td>\n",
       "    </tr>\n",
       "    <tr>\n",
       "      <th>max</th>\n",
       "      <td>464.000000</td>\n",
       "      <td>148.883375</td>\n",
       "      <td>148.148148</td>\n",
       "      <td>1.0</td>\n",
       "      <td>224.0</td>\n",
       "      <td>2.0</td>\n",
       "      <td>0.0</td>\n",
       "      <td>22.0</td>\n",
       "      <td>0.0</td>\n",
       "      <td>0.0</td>\n",
       "      <td>0.0</td>\n",
       "      <td>0.5</td>\n",
       "      <td>11.0</td>\n",
       "      <td>0.0</td>\n",
       "      <td>0.0</td>\n",
       "      <td>0.0</td>\n",
       "      <td>1.0</td>\n",
       "      <td>0.0</td>\n",
       "      <td>0.0</td>\n",
       "      <td>0.0</td>\n",
       "    </tr>\n",
       "  </tbody>\n",
       "</table>\n",
       "</div>"
      ],
      "text/plain": [
       "       rr_interval     bpm_raw   bpm_clean  intensity  artifacts  person_id  \\\n",
       "count   362.000000  362.000000  362.000000      362.0      362.0      362.0   \n",
       "mean    424.162983  141.569808  141.580240        1.0      224.0        2.0   \n",
       "std      12.213632    3.998819    3.907033        0.0        0.0        0.0   \n",
       "min     403.000000  129.310345  130.718954        1.0      224.0        2.0   \n",
       "25%     415.000000  139.292074  139.534884        1.0      224.0        2.0   \n",
       "50%     423.000000  141.843972  141.843972        1.0      224.0        2.0   \n",
       "75%     430.750000  144.578313  144.578313        1.0      224.0        2.0   \n",
       "max     464.000000  148.883375  148.148148        1.0      224.0        2.0   \n",
       "\n",
       "         sex    age   diet  caffeine  sleep_q  sleep_h  wellbeeing  cold_hist  \\\n",
       "count  362.0  362.0  362.0     362.0    362.0    362.0       362.0      362.0   \n",
       "mean     0.0   22.0    0.0       0.0      0.0      0.5        11.0        0.0   \n",
       "std      0.0    0.0    0.0       0.0      0.0      0.0         0.0        0.0   \n",
       "min      0.0   22.0    0.0       0.0      0.0      0.5        11.0        0.0   \n",
       "25%      0.0   22.0    0.0       0.0      0.0      0.5        11.0        0.0   \n",
       "50%      0.0   22.0    0.0       0.0      0.0      0.5        11.0        0.0   \n",
       "75%      0.0   22.0    0.0       0.0      0.0      0.5        11.0        0.0   \n",
       "max      0.0   22.0    0.0       0.0      0.0      0.5        11.0        0.0   \n",
       "\n",
       "       asthma  smoker  fitness_level  study_modus    bmi    rpm  \n",
       "count   362.0   362.0          362.0        362.0  362.0  362.0  \n",
       "mean      0.0     0.0            1.0          0.0    0.0    0.0  \n",
       "std       0.0     0.0            0.0          0.0    0.0    0.0  \n",
       "min       0.0     0.0            1.0          0.0    0.0    0.0  \n",
       "25%       0.0     0.0            1.0          0.0    0.0    0.0  \n",
       "50%       0.0     0.0            1.0          0.0    0.0    0.0  \n",
       "75%       0.0     0.0            1.0          0.0    0.0    0.0  \n",
       "max       0.0     0.0            1.0          0.0    0.0    0.0  "
      ]
     },
     "metadata": {},
     "output_type": "display_data"
    },
    {
     "data": {
      "text/html": [
       "<div>\n",
       "<style scoped>\n",
       "    .dataframe tbody tr th:only-of-type {\n",
       "        vertical-align: middle;\n",
       "    }\n",
       "\n",
       "    .dataframe tbody tr th {\n",
       "        vertical-align: top;\n",
       "    }\n",
       "\n",
       "    .dataframe thead th {\n",
       "        text-align: right;\n",
       "    }\n",
       "</style>\n",
       "<table border=\"1\" class=\"dataframe\">\n",
       "  <thead>\n",
       "    <tr style=\"text-align: right;\">\n",
       "      <th></th>\n",
       "      <th>rr_interval</th>\n",
       "      <th>bpm_raw</th>\n",
       "      <th>bpm_clean</th>\n",
       "      <th>intensity</th>\n",
       "      <th>artifacts</th>\n",
       "      <th>person_id</th>\n",
       "      <th>sex</th>\n",
       "      <th>age</th>\n",
       "      <th>diet</th>\n",
       "      <th>caffeine</th>\n",
       "      <th>sleep_q</th>\n",
       "      <th>sleep_h</th>\n",
       "      <th>wellbeeing</th>\n",
       "      <th>cold_hist</th>\n",
       "      <th>asthma</th>\n",
       "      <th>smoker</th>\n",
       "      <th>fitness_level</th>\n",
       "      <th>study_modus</th>\n",
       "      <th>bmi</th>\n",
       "      <th>rpm</th>\n",
       "    </tr>\n",
       "  </thead>\n",
       "  <tbody>\n",
       "    <tr>\n",
       "      <th>count</th>\n",
       "      <td>395.000000</td>\n",
       "      <td>395.000000</td>\n",
       "      <td>395.000000</td>\n",
       "      <td>395.0</td>\n",
       "      <td>395.0</td>\n",
       "      <td>395.0</td>\n",
       "      <td>395.0</td>\n",
       "      <td>395.0</td>\n",
       "      <td>395.0</td>\n",
       "      <td>395.0</td>\n",
       "      <td>395.0</td>\n",
       "      <td>395.0</td>\n",
       "      <td>395.0</td>\n",
       "      <td>395.0</td>\n",
       "      <td>395.0</td>\n",
       "      <td>395.0</td>\n",
       "      <td>395.0</td>\n",
       "      <td>395.0</td>\n",
       "      <td>395.0</td>\n",
       "      <td>395.0</td>\n",
       "    </tr>\n",
       "    <tr>\n",
       "      <th>mean</th>\n",
       "      <td>387.559494</td>\n",
       "      <td>156.960702</td>\n",
       "      <td>157.915432</td>\n",
       "      <td>2.0</td>\n",
       "      <td>240.0</td>\n",
       "      <td>2.0</td>\n",
       "      <td>0.0</td>\n",
       "      <td>22.0</td>\n",
       "      <td>0.0</td>\n",
       "      <td>0.0</td>\n",
       "      <td>0.0</td>\n",
       "      <td>0.5</td>\n",
       "      <td>11.0</td>\n",
       "      <td>0.0</td>\n",
       "      <td>0.0</td>\n",
       "      <td>0.0</td>\n",
       "      <td>1.0</td>\n",
       "      <td>0.0</td>\n",
       "      <td>0.0</td>\n",
       "      <td>0.0</td>\n",
       "    </tr>\n",
       "    <tr>\n",
       "      <th>std</th>\n",
       "      <td>56.354330</td>\n",
       "      <td>15.560534</td>\n",
       "      <td>12.735487</td>\n",
       "      <td>0.0</td>\n",
       "      <td>0.0</td>\n",
       "      <td>0.0</td>\n",
       "      <td>0.0</td>\n",
       "      <td>0.0</td>\n",
       "      <td>0.0</td>\n",
       "      <td>0.0</td>\n",
       "      <td>0.0</td>\n",
       "      <td>0.0</td>\n",
       "      <td>0.0</td>\n",
       "      <td>0.0</td>\n",
       "      <td>0.0</td>\n",
       "      <td>0.0</td>\n",
       "      <td>0.0</td>\n",
       "      <td>0.0</td>\n",
       "      <td>0.0</td>\n",
       "      <td>0.0</td>\n",
       "    </tr>\n",
       "    <tr>\n",
       "      <th>min</th>\n",
       "      <td>347.000000</td>\n",
       "      <td>66.815145</td>\n",
       "      <td>114.285714</td>\n",
       "      <td>2.0</td>\n",
       "      <td>240.0</td>\n",
       "      <td>2.0</td>\n",
       "      <td>0.0</td>\n",
       "      <td>22.0</td>\n",
       "      <td>0.0</td>\n",
       "      <td>0.0</td>\n",
       "      <td>0.0</td>\n",
       "      <td>0.5</td>\n",
       "      <td>11.0</td>\n",
       "      <td>0.0</td>\n",
       "      <td>0.0</td>\n",
       "      <td>0.0</td>\n",
       "      <td>1.0</td>\n",
       "      <td>0.0</td>\n",
       "      <td>0.0</td>\n",
       "      <td>0.0</td>\n",
       "    </tr>\n",
       "    <tr>\n",
       "      <th>25%</th>\n",
       "      <td>356.000000</td>\n",
       "      <td>150.000000</td>\n",
       "      <td>150.564854</td>\n",
       "      <td>2.0</td>\n",
       "      <td>240.0</td>\n",
       "      <td>2.0</td>\n",
       "      <td>0.0</td>\n",
       "      <td>22.0</td>\n",
       "      <td>0.0</td>\n",
       "      <td>0.0</td>\n",
       "      <td>0.0</td>\n",
       "      <td>0.5</td>\n",
       "      <td>11.0</td>\n",
       "      <td>0.0</td>\n",
       "      <td>0.0</td>\n",
       "      <td>0.0</td>\n",
       "      <td>1.0</td>\n",
       "      <td>0.0</td>\n",
       "      <td>0.0</td>\n",
       "      <td>0.0</td>\n",
       "    </tr>\n",
       "    <tr>\n",
       "      <th>50%</th>\n",
       "      <td>370.000000</td>\n",
       "      <td>162.162162</td>\n",
       "      <td>162.601626</td>\n",
       "      <td>2.0</td>\n",
       "      <td>240.0</td>\n",
       "      <td>2.0</td>\n",
       "      <td>0.0</td>\n",
       "      <td>22.0</td>\n",
       "      <td>0.0</td>\n",
       "      <td>0.0</td>\n",
       "      <td>0.0</td>\n",
       "      <td>0.5</td>\n",
       "      <td>11.0</td>\n",
       "      <td>0.0</td>\n",
       "      <td>0.0</td>\n",
       "      <td>0.0</td>\n",
       "      <td>1.0</td>\n",
       "      <td>0.0</td>\n",
       "      <td>0.0</td>\n",
       "      <td>0.0</td>\n",
       "    </tr>\n",
       "    <tr>\n",
       "      <th>75%</th>\n",
       "      <td>400.000000</td>\n",
       "      <td>168.539326</td>\n",
       "      <td>168.539326</td>\n",
       "      <td>2.0</td>\n",
       "      <td>240.0</td>\n",
       "      <td>2.0</td>\n",
       "      <td>0.0</td>\n",
       "      <td>22.0</td>\n",
       "      <td>0.0</td>\n",
       "      <td>0.0</td>\n",
       "      <td>0.0</td>\n",
       "      <td>0.5</td>\n",
       "      <td>11.0</td>\n",
       "      <td>0.0</td>\n",
       "      <td>0.0</td>\n",
       "      <td>0.0</td>\n",
       "      <td>1.0</td>\n",
       "      <td>0.0</td>\n",
       "      <td>0.0</td>\n",
       "      <td>0.0</td>\n",
       "    </tr>\n",
       "    <tr>\n",
       "      <th>max</th>\n",
       "      <td>898.000000</td>\n",
       "      <td>172.910663</td>\n",
       "      <td>170.940171</td>\n",
       "      <td>2.0</td>\n",
       "      <td>240.0</td>\n",
       "      <td>2.0</td>\n",
       "      <td>0.0</td>\n",
       "      <td>22.0</td>\n",
       "      <td>0.0</td>\n",
       "      <td>0.0</td>\n",
       "      <td>0.0</td>\n",
       "      <td>0.5</td>\n",
       "      <td>11.0</td>\n",
       "      <td>0.0</td>\n",
       "      <td>0.0</td>\n",
       "      <td>0.0</td>\n",
       "      <td>1.0</td>\n",
       "      <td>0.0</td>\n",
       "      <td>0.0</td>\n",
       "      <td>0.0</td>\n",
       "    </tr>\n",
       "  </tbody>\n",
       "</table>\n",
       "</div>"
      ],
      "text/plain": [
       "       rr_interval     bpm_raw   bpm_clean  intensity  artifacts  person_id  \\\n",
       "count   395.000000  395.000000  395.000000      395.0      395.0      395.0   \n",
       "mean    387.559494  156.960702  157.915432        2.0      240.0        2.0   \n",
       "std      56.354330   15.560534   12.735487        0.0        0.0        0.0   \n",
       "min     347.000000   66.815145  114.285714        2.0      240.0        2.0   \n",
       "25%     356.000000  150.000000  150.564854        2.0      240.0        2.0   \n",
       "50%     370.000000  162.162162  162.601626        2.0      240.0        2.0   \n",
       "75%     400.000000  168.539326  168.539326        2.0      240.0        2.0   \n",
       "max     898.000000  172.910663  170.940171        2.0      240.0        2.0   \n",
       "\n",
       "         sex    age   diet  caffeine  sleep_q  sleep_h  wellbeeing  cold_hist  \\\n",
       "count  395.0  395.0  395.0     395.0    395.0    395.0       395.0      395.0   \n",
       "mean     0.0   22.0    0.0       0.0      0.0      0.5        11.0        0.0   \n",
       "std      0.0    0.0    0.0       0.0      0.0      0.0         0.0        0.0   \n",
       "min      0.0   22.0    0.0       0.0      0.0      0.5        11.0        0.0   \n",
       "25%      0.0   22.0    0.0       0.0      0.0      0.5        11.0        0.0   \n",
       "50%      0.0   22.0    0.0       0.0      0.0      0.5        11.0        0.0   \n",
       "75%      0.0   22.0    0.0       0.0      0.0      0.5        11.0        0.0   \n",
       "max      0.0   22.0    0.0       0.0      0.0      0.5        11.0        0.0   \n",
       "\n",
       "       asthma  smoker  fitness_level  study_modus    bmi    rpm  \n",
       "count   395.0   395.0          395.0        395.0  395.0  395.0  \n",
       "mean      0.0     0.0            1.0          0.0    0.0    0.0  \n",
       "std       0.0     0.0            0.0          0.0    0.0    0.0  \n",
       "min       0.0     0.0            1.0          0.0    0.0    0.0  \n",
       "25%       0.0     0.0            1.0          0.0    0.0    0.0  \n",
       "50%       0.0     0.0            1.0          0.0    0.0    0.0  \n",
       "75%       0.0     0.0            1.0          0.0    0.0    0.0  \n",
       "max       0.0     0.0            1.0          0.0    0.0    0.0  "
      ]
     },
     "metadata": {},
     "output_type": "display_data"
    },
    {
     "data": {
      "text/html": [
       "<div>\n",
       "<style scoped>\n",
       "    .dataframe tbody tr th:only-of-type {\n",
       "        vertical-align: middle;\n",
       "    }\n",
       "\n",
       "    .dataframe tbody tr th {\n",
       "        vertical-align: top;\n",
       "    }\n",
       "\n",
       "    .dataframe thead th {\n",
       "        text-align: right;\n",
       "    }\n",
       "</style>\n",
       "<table border=\"1\" class=\"dataframe\">\n",
       "  <thead>\n",
       "    <tr style=\"text-align: right;\">\n",
       "      <th></th>\n",
       "      <th>rr_interval</th>\n",
       "      <th>bpm_raw</th>\n",
       "      <th>bpm_clean</th>\n",
       "      <th>intensity</th>\n",
       "      <th>artifacts</th>\n",
       "      <th>person_id</th>\n",
       "      <th>sex</th>\n",
       "      <th>age</th>\n",
       "      <th>diet</th>\n",
       "      <th>caffeine</th>\n",
       "      <th>sleep_q</th>\n",
       "      <th>sleep_h</th>\n",
       "      <th>wellbeeing</th>\n",
       "      <th>cold_hist</th>\n",
       "      <th>asthma</th>\n",
       "      <th>smoker</th>\n",
       "      <th>fitness_level</th>\n",
       "      <th>study_modus</th>\n",
       "      <th>bmi</th>\n",
       "      <th>rpm</th>\n",
       "    </tr>\n",
       "  </thead>\n",
       "  <tbody>\n",
       "    <tr>\n",
       "      <th>count</th>\n",
       "      <td>431.000000</td>\n",
       "      <td>431.000000</td>\n",
       "      <td>431.000000</td>\n",
       "      <td>431.0</td>\n",
       "      <td>431.0</td>\n",
       "      <td>431.0</td>\n",
       "      <td>431.0</td>\n",
       "      <td>431.0</td>\n",
       "      <td>431.0</td>\n",
       "      <td>431.0</td>\n",
       "      <td>431.0</td>\n",
       "      <td>431.0</td>\n",
       "      <td>431.0</td>\n",
       "      <td>431.0</td>\n",
       "      <td>431.0</td>\n",
       "      <td>431.0</td>\n",
       "      <td>431.0</td>\n",
       "      <td>431.0</td>\n",
       "      <td>431.0</td>\n",
       "      <td>431.0</td>\n",
       "    </tr>\n",
       "    <tr>\n",
       "      <th>mean</th>\n",
       "      <td>351.638051</td>\n",
       "      <td>173.522031</td>\n",
       "      <td>174.610292</td>\n",
       "      <td>3.0</td>\n",
       "      <td>288.0</td>\n",
       "      <td>2.0</td>\n",
       "      <td>0.0</td>\n",
       "      <td>22.0</td>\n",
       "      <td>0.0</td>\n",
       "      <td>0.0</td>\n",
       "      <td>0.0</td>\n",
       "      <td>0.5</td>\n",
       "      <td>11.0</td>\n",
       "      <td>0.0</td>\n",
       "      <td>0.0</td>\n",
       "      <td>0.0</td>\n",
       "      <td>1.0</td>\n",
       "      <td>0.0</td>\n",
       "      <td>0.0</td>\n",
       "      <td>0.0</td>\n",
       "    </tr>\n",
       "    <tr>\n",
       "      <th>std</th>\n",
       "      <td>52.810665</td>\n",
       "      <td>19.728399</td>\n",
       "      <td>17.689261</td>\n",
       "      <td>0.0</td>\n",
       "      <td>0.0</td>\n",
       "      <td>0.0</td>\n",
       "      <td>0.0</td>\n",
       "      <td>0.0</td>\n",
       "      <td>0.0</td>\n",
       "      <td>0.0</td>\n",
       "      <td>0.0</td>\n",
       "      <td>0.0</td>\n",
       "      <td>0.0</td>\n",
       "      <td>0.0</td>\n",
       "      <td>0.0</td>\n",
       "      <td>0.0</td>\n",
       "      <td>0.0</td>\n",
       "      <td>0.0</td>\n",
       "      <td>0.0</td>\n",
       "      <td>0.0</td>\n",
       "    </tr>\n",
       "    <tr>\n",
       "      <th>min</th>\n",
       "      <td>313.000000</td>\n",
       "      <td>92.307692</td>\n",
       "      <td>122.199593</td>\n",
       "      <td>3.0</td>\n",
       "      <td>288.0</td>\n",
       "      <td>2.0</td>\n",
       "      <td>0.0</td>\n",
       "      <td>22.0</td>\n",
       "      <td>0.0</td>\n",
       "      <td>0.0</td>\n",
       "      <td>0.0</td>\n",
       "      <td>0.5</td>\n",
       "      <td>11.0</td>\n",
       "      <td>0.0</td>\n",
       "      <td>0.0</td>\n",
       "      <td>0.0</td>\n",
       "      <td>1.0</td>\n",
       "      <td>0.0</td>\n",
       "      <td>0.0</td>\n",
       "      <td>0.0</td>\n",
       "    </tr>\n",
       "    <tr>\n",
       "      <th>25%</th>\n",
       "      <td>322.000000</td>\n",
       "      <td>169.015426</td>\n",
       "      <td>171.428571</td>\n",
       "      <td>3.0</td>\n",
       "      <td>288.0</td>\n",
       "      <td>2.0</td>\n",
       "      <td>0.0</td>\n",
       "      <td>22.0</td>\n",
       "      <td>0.0</td>\n",
       "      <td>0.0</td>\n",
       "      <td>0.0</td>\n",
       "      <td>0.5</td>\n",
       "      <td>11.0</td>\n",
       "      <td>0.0</td>\n",
       "      <td>0.0</td>\n",
       "      <td>0.0</td>\n",
       "      <td>1.0</td>\n",
       "      <td>0.0</td>\n",
       "      <td>0.0</td>\n",
       "      <td>0.0</td>\n",
       "    </tr>\n",
       "    <tr>\n",
       "      <th>50%</th>\n",
       "      <td>327.000000</td>\n",
       "      <td>183.486239</td>\n",
       "      <td>183.486239</td>\n",
       "      <td>3.0</td>\n",
       "      <td>288.0</td>\n",
       "      <td>2.0</td>\n",
       "      <td>0.0</td>\n",
       "      <td>22.0</td>\n",
       "      <td>0.0</td>\n",
       "      <td>0.0</td>\n",
       "      <td>0.0</td>\n",
       "      <td>0.5</td>\n",
       "      <td>11.0</td>\n",
       "      <td>0.0</td>\n",
       "      <td>0.0</td>\n",
       "      <td>0.0</td>\n",
       "      <td>1.0</td>\n",
       "      <td>0.0</td>\n",
       "      <td>0.0</td>\n",
       "      <td>0.0</td>\n",
       "    </tr>\n",
       "    <tr>\n",
       "      <th>75%</th>\n",
       "      <td>355.000000</td>\n",
       "      <td>186.335404</td>\n",
       "      <td>186.335404</td>\n",
       "      <td>3.0</td>\n",
       "      <td>288.0</td>\n",
       "      <td>2.0</td>\n",
       "      <td>0.0</td>\n",
       "      <td>22.0</td>\n",
       "      <td>0.0</td>\n",
       "      <td>0.0</td>\n",
       "      <td>0.0</td>\n",
       "      <td>0.5</td>\n",
       "      <td>11.0</td>\n",
       "      <td>0.0</td>\n",
       "      <td>0.0</td>\n",
       "      <td>0.0</td>\n",
       "      <td>1.0</td>\n",
       "      <td>0.0</td>\n",
       "      <td>0.0</td>\n",
       "      <td>0.0</td>\n",
       "    </tr>\n",
       "    <tr>\n",
       "      <th>max</th>\n",
       "      <td>650.000000</td>\n",
       "      <td>191.693291</td>\n",
       "      <td>188.679245</td>\n",
       "      <td>3.0</td>\n",
       "      <td>288.0</td>\n",
       "      <td>2.0</td>\n",
       "      <td>0.0</td>\n",
       "      <td>22.0</td>\n",
       "      <td>0.0</td>\n",
       "      <td>0.0</td>\n",
       "      <td>0.0</td>\n",
       "      <td>0.5</td>\n",
       "      <td>11.0</td>\n",
       "      <td>0.0</td>\n",
       "      <td>0.0</td>\n",
       "      <td>0.0</td>\n",
       "      <td>1.0</td>\n",
       "      <td>0.0</td>\n",
       "      <td>0.0</td>\n",
       "      <td>0.0</td>\n",
       "    </tr>\n",
       "  </tbody>\n",
       "</table>\n",
       "</div>"
      ],
      "text/plain": [
       "       rr_interval     bpm_raw   bpm_clean  intensity  artifacts  person_id  \\\n",
       "count   431.000000  431.000000  431.000000      431.0      431.0      431.0   \n",
       "mean    351.638051  173.522031  174.610292        3.0      288.0        2.0   \n",
       "std      52.810665   19.728399   17.689261        0.0        0.0        0.0   \n",
       "min     313.000000   92.307692  122.199593        3.0      288.0        2.0   \n",
       "25%     322.000000  169.015426  171.428571        3.0      288.0        2.0   \n",
       "50%     327.000000  183.486239  183.486239        3.0      288.0        2.0   \n",
       "75%     355.000000  186.335404  186.335404        3.0      288.0        2.0   \n",
       "max     650.000000  191.693291  188.679245        3.0      288.0        2.0   \n",
       "\n",
       "         sex    age   diet  caffeine  sleep_q  sleep_h  wellbeeing  cold_hist  \\\n",
       "count  431.0  431.0  431.0     431.0    431.0    431.0       431.0      431.0   \n",
       "mean     0.0   22.0    0.0       0.0      0.0      0.5        11.0        0.0   \n",
       "std      0.0    0.0    0.0       0.0      0.0      0.0         0.0        0.0   \n",
       "min      0.0   22.0    0.0       0.0      0.0      0.5        11.0        0.0   \n",
       "25%      0.0   22.0    0.0       0.0      0.0      0.5        11.0        0.0   \n",
       "50%      0.0   22.0    0.0       0.0      0.0      0.5        11.0        0.0   \n",
       "75%      0.0   22.0    0.0       0.0      0.0      0.5        11.0        0.0   \n",
       "max      0.0   22.0    0.0       0.0      0.0      0.5        11.0        0.0   \n",
       "\n",
       "       asthma  smoker  fitness_level  study_modus    bmi    rpm  \n",
       "count   431.0   431.0          431.0        431.0  431.0  431.0  \n",
       "mean      0.0     0.0            1.0          0.0    0.0    0.0  \n",
       "std       0.0     0.0            0.0          0.0    0.0    0.0  \n",
       "min       0.0     0.0            1.0          0.0    0.0    0.0  \n",
       "25%       0.0     0.0            1.0          0.0    0.0    0.0  \n",
       "50%       0.0     0.0            1.0          0.0    0.0    0.0  \n",
       "75%       0.0     0.0            1.0          0.0    0.0    0.0  \n",
       "max       0.0     0.0            1.0          0.0    0.0    0.0  "
      ]
     },
     "metadata": {},
     "output_type": "display_data"
    },
    {
     "data": {
      "text/html": [
       "<div>\n",
       "<style scoped>\n",
       "    .dataframe tbody tr th:only-of-type {\n",
       "        vertical-align: middle;\n",
       "    }\n",
       "\n",
       "    .dataframe tbody tr th {\n",
       "        vertical-align: top;\n",
       "    }\n",
       "\n",
       "    .dataframe thead th {\n",
       "        text-align: right;\n",
       "    }\n",
       "</style>\n",
       "<table border=\"1\" class=\"dataframe\">\n",
       "  <thead>\n",
       "    <tr style=\"text-align: right;\">\n",
       "      <th></th>\n",
       "      <th>rr_interval</th>\n",
       "      <th>bpm_raw</th>\n",
       "      <th>bpm_clean</th>\n",
       "      <th>intensity</th>\n",
       "      <th>artifacts</th>\n",
       "      <th>person_id</th>\n",
       "      <th>sex</th>\n",
       "      <th>age</th>\n",
       "      <th>diet</th>\n",
       "      <th>caffeine</th>\n",
       "      <th>sleep_q</th>\n",
       "      <th>sleep_h</th>\n",
       "      <th>wellbeeing</th>\n",
       "      <th>cold_hist</th>\n",
       "      <th>asthma</th>\n",
       "      <th>smoker</th>\n",
       "      <th>fitness_level</th>\n",
       "      <th>study_modus</th>\n",
       "      <th>bmi</th>\n",
       "      <th>rpm</th>\n",
       "    </tr>\n",
       "  </thead>\n",
       "  <tbody>\n",
       "    <tr>\n",
       "      <th>count</th>\n",
       "      <td>362.000000</td>\n",
       "      <td>362.000000</td>\n",
       "      <td>362.000000</td>\n",
       "      <td>362.0</td>\n",
       "      <td>362.0</td>\n",
       "      <td>362.0</td>\n",
       "      <td>362.0</td>\n",
       "      <td>362.0</td>\n",
       "      <td>362.0</td>\n",
       "      <td>362.0</td>\n",
       "      <td>362.0</td>\n",
       "      <td>362.0</td>\n",
       "      <td>362.0</td>\n",
       "      <td>362.0</td>\n",
       "      <td>362.0</td>\n",
       "      <td>362.0</td>\n",
       "      <td>362.0</td>\n",
       "      <td>362.0</td>\n",
       "      <td>362.0</td>\n",
       "      <td>362.0</td>\n",
       "    </tr>\n",
       "    <tr>\n",
       "      <th>mean</th>\n",
       "      <td>423.754144</td>\n",
       "      <td>144.996898</td>\n",
       "      <td>146.072352</td>\n",
       "      <td>1.0</td>\n",
       "      <td>231.0</td>\n",
       "      <td>1.0</td>\n",
       "      <td>1.0</td>\n",
       "      <td>26.0</td>\n",
       "      <td>0.0</td>\n",
       "      <td>1.0</td>\n",
       "      <td>2.0</td>\n",
       "      <td>7.0</td>\n",
       "      <td>20.0</td>\n",
       "      <td>0.0</td>\n",
       "      <td>0.0</td>\n",
       "      <td>1.0</td>\n",
       "      <td>0.0</td>\n",
       "      <td>1.0</td>\n",
       "      <td>21.0</td>\n",
       "      <td>0.0</td>\n",
       "    </tr>\n",
       "    <tr>\n",
       "      <th>std</th>\n",
       "      <td>81.655128</td>\n",
       "      <td>18.730793</td>\n",
       "      <td>16.549029</td>\n",
       "      <td>0.0</td>\n",
       "      <td>0.0</td>\n",
       "      <td>0.0</td>\n",
       "      <td>0.0</td>\n",
       "      <td>0.0</td>\n",
       "      <td>0.0</td>\n",
       "      <td>0.0</td>\n",
       "      <td>0.0</td>\n",
       "      <td>0.0</td>\n",
       "      <td>0.0</td>\n",
       "      <td>0.0</td>\n",
       "      <td>0.0</td>\n",
       "      <td>0.0</td>\n",
       "      <td>0.0</td>\n",
       "      <td>0.0</td>\n",
       "      <td>0.0</td>\n",
       "      <td>0.0</td>\n",
       "    </tr>\n",
       "    <tr>\n",
       "      <th>min</th>\n",
       "      <td>364.000000</td>\n",
       "      <td>50.547599</td>\n",
       "      <td>89.020772</td>\n",
       "      <td>1.0</td>\n",
       "      <td>231.0</td>\n",
       "      <td>1.0</td>\n",
       "      <td>1.0</td>\n",
       "      <td>26.0</td>\n",
       "      <td>0.0</td>\n",
       "      <td>1.0</td>\n",
       "      <td>2.0</td>\n",
       "      <td>7.0</td>\n",
       "      <td>20.0</td>\n",
       "      <td>0.0</td>\n",
       "      <td>0.0</td>\n",
       "      <td>1.0</td>\n",
       "      <td>0.0</td>\n",
       "      <td>1.0</td>\n",
       "      <td>21.0</td>\n",
       "      <td>0.0</td>\n",
       "    </tr>\n",
       "    <tr>\n",
       "      <th>25%</th>\n",
       "      <td>377.000000</td>\n",
       "      <td>137.693768</td>\n",
       "      <td>138.328668</td>\n",
       "      <td>1.0</td>\n",
       "      <td>231.0</td>\n",
       "      <td>1.0</td>\n",
       "      <td>1.0</td>\n",
       "      <td>26.0</td>\n",
       "      <td>0.0</td>\n",
       "      <td>1.0</td>\n",
       "      <td>2.0</td>\n",
       "      <td>7.0</td>\n",
       "      <td>20.0</td>\n",
       "      <td>0.0</td>\n",
       "      <td>0.0</td>\n",
       "      <td>1.0</td>\n",
       "      <td>0.0</td>\n",
       "      <td>1.0</td>\n",
       "      <td>21.0</td>\n",
       "      <td>0.0</td>\n",
       "    </tr>\n",
       "    <tr>\n",
       "      <th>50%</th>\n",
       "      <td>396.000000</td>\n",
       "      <td>151.515152</td>\n",
       "      <td>152.671756</td>\n",
       "      <td>1.0</td>\n",
       "      <td>231.0</td>\n",
       "      <td>1.0</td>\n",
       "      <td>1.0</td>\n",
       "      <td>26.0</td>\n",
       "      <td>0.0</td>\n",
       "      <td>1.0</td>\n",
       "      <td>2.0</td>\n",
       "      <td>7.0</td>\n",
       "      <td>20.0</td>\n",
       "      <td>0.0</td>\n",
       "      <td>0.0</td>\n",
       "      <td>1.0</td>\n",
       "      <td>0.0</td>\n",
       "      <td>1.0</td>\n",
       "      <td>21.0</td>\n",
       "      <td>0.0</td>\n",
       "    </tr>\n",
       "    <tr>\n",
       "      <th>75%</th>\n",
       "      <td>435.750000</td>\n",
       "      <td>159.151194</td>\n",
       "      <td>159.574468</td>\n",
       "      <td>1.0</td>\n",
       "      <td>231.0</td>\n",
       "      <td>1.0</td>\n",
       "      <td>1.0</td>\n",
       "      <td>26.0</td>\n",
       "      <td>0.0</td>\n",
       "      <td>1.0</td>\n",
       "      <td>2.0</td>\n",
       "      <td>7.0</td>\n",
       "      <td>20.0</td>\n",
       "      <td>0.0</td>\n",
       "      <td>0.0</td>\n",
       "      <td>1.0</td>\n",
       "      <td>0.0</td>\n",
       "      <td>1.0</td>\n",
       "      <td>21.0</td>\n",
       "      <td>0.0</td>\n",
       "    </tr>\n",
       "    <tr>\n",
       "      <th>max</th>\n",
       "      <td>1187.000000</td>\n",
       "      <td>164.835165</td>\n",
       "      <td>163.043478</td>\n",
       "      <td>1.0</td>\n",
       "      <td>231.0</td>\n",
       "      <td>1.0</td>\n",
       "      <td>1.0</td>\n",
       "      <td>26.0</td>\n",
       "      <td>0.0</td>\n",
       "      <td>1.0</td>\n",
       "      <td>2.0</td>\n",
       "      <td>7.0</td>\n",
       "      <td>20.0</td>\n",
       "      <td>0.0</td>\n",
       "      <td>0.0</td>\n",
       "      <td>1.0</td>\n",
       "      <td>0.0</td>\n",
       "      <td>1.0</td>\n",
       "      <td>21.0</td>\n",
       "      <td>0.0</td>\n",
       "    </tr>\n",
       "  </tbody>\n",
       "</table>\n",
       "</div>"
      ],
      "text/plain": [
       "       rr_interval     bpm_raw   bpm_clean  intensity  artifacts  person_id  \\\n",
       "count   362.000000  362.000000  362.000000      362.0      362.0      362.0   \n",
       "mean    423.754144  144.996898  146.072352        1.0      231.0        1.0   \n",
       "std      81.655128   18.730793   16.549029        0.0        0.0        0.0   \n",
       "min     364.000000   50.547599   89.020772        1.0      231.0        1.0   \n",
       "25%     377.000000  137.693768  138.328668        1.0      231.0        1.0   \n",
       "50%     396.000000  151.515152  152.671756        1.0      231.0        1.0   \n",
       "75%     435.750000  159.151194  159.574468        1.0      231.0        1.0   \n",
       "max    1187.000000  164.835165  163.043478        1.0      231.0        1.0   \n",
       "\n",
       "         sex    age   diet  caffeine  sleep_q  sleep_h  wellbeeing  cold_hist  \\\n",
       "count  362.0  362.0  362.0     362.0    362.0    362.0       362.0      362.0   \n",
       "mean     1.0   26.0    0.0       1.0      2.0      7.0        20.0        0.0   \n",
       "std      0.0    0.0    0.0       0.0      0.0      0.0         0.0        0.0   \n",
       "min      1.0   26.0    0.0       1.0      2.0      7.0        20.0        0.0   \n",
       "25%      1.0   26.0    0.0       1.0      2.0      7.0        20.0        0.0   \n",
       "50%      1.0   26.0    0.0       1.0      2.0      7.0        20.0        0.0   \n",
       "75%      1.0   26.0    0.0       1.0      2.0      7.0        20.0        0.0   \n",
       "max      1.0   26.0    0.0       1.0      2.0      7.0        20.0        0.0   \n",
       "\n",
       "       asthma  smoker  fitness_level  study_modus    bmi    rpm  \n",
       "count   362.0   362.0          362.0        362.0  362.0  362.0  \n",
       "mean      0.0     1.0            0.0          1.0   21.0    0.0  \n",
       "std       0.0     0.0            0.0          0.0    0.0    0.0  \n",
       "min       0.0     1.0            0.0          1.0   21.0    0.0  \n",
       "25%       0.0     1.0            0.0          1.0   21.0    0.0  \n",
       "50%       0.0     1.0            0.0          1.0   21.0    0.0  \n",
       "75%       0.0     1.0            0.0          1.0   21.0    0.0  \n",
       "max       0.0     1.0            0.0          1.0   21.0    0.0  "
      ]
     },
     "metadata": {},
     "output_type": "display_data"
    },
    {
     "data": {
      "text/html": [
       "<div>\n",
       "<style scoped>\n",
       "    .dataframe tbody tr th:only-of-type {\n",
       "        vertical-align: middle;\n",
       "    }\n",
       "\n",
       "    .dataframe tbody tr th {\n",
       "        vertical-align: top;\n",
       "    }\n",
       "\n",
       "    .dataframe thead th {\n",
       "        text-align: right;\n",
       "    }\n",
       "</style>\n",
       "<table border=\"1\" class=\"dataframe\">\n",
       "  <thead>\n",
       "    <tr style=\"text-align: right;\">\n",
       "      <th></th>\n",
       "      <th>rr_interval</th>\n",
       "      <th>bpm_raw</th>\n",
       "      <th>bpm_clean</th>\n",
       "      <th>intensity</th>\n",
       "      <th>artifacts</th>\n",
       "      <th>person_id</th>\n",
       "      <th>sex</th>\n",
       "      <th>age</th>\n",
       "      <th>diet</th>\n",
       "      <th>caffeine</th>\n",
       "      <th>sleep_q</th>\n",
       "      <th>sleep_h</th>\n",
       "      <th>wellbeeing</th>\n",
       "      <th>cold_hist</th>\n",
       "      <th>asthma</th>\n",
       "      <th>smoker</th>\n",
       "      <th>fitness_level</th>\n",
       "      <th>study_modus</th>\n",
       "      <th>bmi</th>\n",
       "      <th>rpm</th>\n",
       "    </tr>\n",
       "  </thead>\n",
       "  <tbody>\n",
       "    <tr>\n",
       "      <th>count</th>\n",
       "      <td>409.000000</td>\n",
       "      <td>409.000000</td>\n",
       "      <td>409.000000</td>\n",
       "      <td>409.0</td>\n",
       "      <td>409.0</td>\n",
       "      <td>409.0</td>\n",
       "      <td>409.0</td>\n",
       "      <td>409.0</td>\n",
       "      <td>409.0</td>\n",
       "      <td>409.0</td>\n",
       "      <td>409.0</td>\n",
       "      <td>409.0</td>\n",
       "      <td>409.0</td>\n",
       "      <td>409.0</td>\n",
       "      <td>409.0</td>\n",
       "      <td>409.0</td>\n",
       "      <td>409.0</td>\n",
       "      <td>409.0</td>\n",
       "      <td>409.0</td>\n",
       "      <td>409.0</td>\n",
       "    </tr>\n",
       "    <tr>\n",
       "      <th>mean</th>\n",
       "      <td>372.779951</td>\n",
       "      <td>164.267453</td>\n",
       "      <td>164.286973</td>\n",
       "      <td>2.0</td>\n",
       "      <td>241.0</td>\n",
       "      <td>1.0</td>\n",
       "      <td>1.0</td>\n",
       "      <td>26.0</td>\n",
       "      <td>0.0</td>\n",
       "      <td>1.0</td>\n",
       "      <td>2.0</td>\n",
       "      <td>7.0</td>\n",
       "      <td>20.0</td>\n",
       "      <td>0.0</td>\n",
       "      <td>0.0</td>\n",
       "      <td>1.0</td>\n",
       "      <td>0.0</td>\n",
       "      <td>1.0</td>\n",
       "      <td>21.0</td>\n",
       "      <td>0.0</td>\n",
       "    </tr>\n",
       "    <tr>\n",
       "      <th>std</th>\n",
       "      <td>60.248712</td>\n",
       "      <td>20.868993</td>\n",
       "      <td>20.833004</td>\n",
       "      <td>0.0</td>\n",
       "      <td>0.0</td>\n",
       "      <td>0.0</td>\n",
       "      <td>0.0</td>\n",
       "      <td>0.0</td>\n",
       "      <td>0.0</td>\n",
       "      <td>0.0</td>\n",
       "      <td>0.0</td>\n",
       "      <td>0.0</td>\n",
       "      <td>0.0</td>\n",
       "      <td>0.0</td>\n",
       "      <td>0.0</td>\n",
       "      <td>0.0</td>\n",
       "      <td>0.0</td>\n",
       "      <td>0.0</td>\n",
       "      <td>0.0</td>\n",
       "      <td>0.0</td>\n",
       "    </tr>\n",
       "    <tr>\n",
       "      <th>min</th>\n",
       "      <td>326.000000</td>\n",
       "      <td>89.418778</td>\n",
       "      <td>89.418778</td>\n",
       "      <td>2.0</td>\n",
       "      <td>241.0</td>\n",
       "      <td>1.0</td>\n",
       "      <td>1.0</td>\n",
       "      <td>26.0</td>\n",
       "      <td>0.0</td>\n",
       "      <td>1.0</td>\n",
       "      <td>2.0</td>\n",
       "      <td>7.0</td>\n",
       "      <td>20.0</td>\n",
       "      <td>0.0</td>\n",
       "      <td>0.0</td>\n",
       "      <td>1.0</td>\n",
       "      <td>0.0</td>\n",
       "      <td>1.0</td>\n",
       "      <td>21.0</td>\n",
       "      <td>0.0</td>\n",
       "    </tr>\n",
       "    <tr>\n",
       "      <th>25%</th>\n",
       "      <td>335.000000</td>\n",
       "      <td>151.515152</td>\n",
       "      <td>151.515152</td>\n",
       "      <td>2.0</td>\n",
       "      <td>241.0</td>\n",
       "      <td>1.0</td>\n",
       "      <td>1.0</td>\n",
       "      <td>26.0</td>\n",
       "      <td>0.0</td>\n",
       "      <td>1.0</td>\n",
       "      <td>2.0</td>\n",
       "      <td>7.0</td>\n",
       "      <td>20.0</td>\n",
       "      <td>0.0</td>\n",
       "      <td>0.0</td>\n",
       "      <td>1.0</td>\n",
       "      <td>0.0</td>\n",
       "      <td>1.0</td>\n",
       "      <td>21.0</td>\n",
       "      <td>0.0</td>\n",
       "    </tr>\n",
       "    <tr>\n",
       "      <th>50%</th>\n",
       "      <td>344.000000</td>\n",
       "      <td>174.418605</td>\n",
       "      <td>173.913043</td>\n",
       "      <td>2.0</td>\n",
       "      <td>241.0</td>\n",
       "      <td>1.0</td>\n",
       "      <td>1.0</td>\n",
       "      <td>26.0</td>\n",
       "      <td>0.0</td>\n",
       "      <td>1.0</td>\n",
       "      <td>2.0</td>\n",
       "      <td>7.0</td>\n",
       "      <td>20.0</td>\n",
       "      <td>0.0</td>\n",
       "      <td>0.0</td>\n",
       "      <td>1.0</td>\n",
       "      <td>0.0</td>\n",
       "      <td>1.0</td>\n",
       "      <td>21.0</td>\n",
       "      <td>0.0</td>\n",
       "    </tr>\n",
       "    <tr>\n",
       "      <th>75%</th>\n",
       "      <td>396.000000</td>\n",
       "      <td>179.104478</td>\n",
       "      <td>178.571429</td>\n",
       "      <td>2.0</td>\n",
       "      <td>241.0</td>\n",
       "      <td>1.0</td>\n",
       "      <td>1.0</td>\n",
       "      <td>26.0</td>\n",
       "      <td>0.0</td>\n",
       "      <td>1.0</td>\n",
       "      <td>2.0</td>\n",
       "      <td>7.0</td>\n",
       "      <td>20.0</td>\n",
       "      <td>0.0</td>\n",
       "      <td>0.0</td>\n",
       "      <td>1.0</td>\n",
       "      <td>0.0</td>\n",
       "      <td>1.0</td>\n",
       "      <td>21.0</td>\n",
       "      <td>0.0</td>\n",
       "    </tr>\n",
       "    <tr>\n",
       "      <th>max</th>\n",
       "      <td>671.000000</td>\n",
       "      <td>184.049080</td>\n",
       "      <td>182.926829</td>\n",
       "      <td>2.0</td>\n",
       "      <td>241.0</td>\n",
       "      <td>1.0</td>\n",
       "      <td>1.0</td>\n",
       "      <td>26.0</td>\n",
       "      <td>0.0</td>\n",
       "      <td>1.0</td>\n",
       "      <td>2.0</td>\n",
       "      <td>7.0</td>\n",
       "      <td>20.0</td>\n",
       "      <td>0.0</td>\n",
       "      <td>0.0</td>\n",
       "      <td>1.0</td>\n",
       "      <td>0.0</td>\n",
       "      <td>1.0</td>\n",
       "      <td>21.0</td>\n",
       "      <td>0.0</td>\n",
       "    </tr>\n",
       "  </tbody>\n",
       "</table>\n",
       "</div>"
      ],
      "text/plain": [
       "       rr_interval     bpm_raw   bpm_clean  intensity  artifacts  person_id  \\\n",
       "count   409.000000  409.000000  409.000000      409.0      409.0      409.0   \n",
       "mean    372.779951  164.267453  164.286973        2.0      241.0        1.0   \n",
       "std      60.248712   20.868993   20.833004        0.0        0.0        0.0   \n",
       "min     326.000000   89.418778   89.418778        2.0      241.0        1.0   \n",
       "25%     335.000000  151.515152  151.515152        2.0      241.0        1.0   \n",
       "50%     344.000000  174.418605  173.913043        2.0      241.0        1.0   \n",
       "75%     396.000000  179.104478  178.571429        2.0      241.0        1.0   \n",
       "max     671.000000  184.049080  182.926829        2.0      241.0        1.0   \n",
       "\n",
       "         sex    age   diet  caffeine  sleep_q  sleep_h  wellbeeing  cold_hist  \\\n",
       "count  409.0  409.0  409.0     409.0    409.0    409.0       409.0      409.0   \n",
       "mean     1.0   26.0    0.0       1.0      2.0      7.0        20.0        0.0   \n",
       "std      0.0    0.0    0.0       0.0      0.0      0.0         0.0        0.0   \n",
       "min      1.0   26.0    0.0       1.0      2.0      7.0        20.0        0.0   \n",
       "25%      1.0   26.0    0.0       1.0      2.0      7.0        20.0        0.0   \n",
       "50%      1.0   26.0    0.0       1.0      2.0      7.0        20.0        0.0   \n",
       "75%      1.0   26.0    0.0       1.0      2.0      7.0        20.0        0.0   \n",
       "max      1.0   26.0    0.0       1.0      2.0      7.0        20.0        0.0   \n",
       "\n",
       "       asthma  smoker  fitness_level  study_modus    bmi    rpm  \n",
       "count   409.0   409.0          409.0        409.0  409.0  409.0  \n",
       "mean      0.0     1.0            0.0          1.0   21.0    0.0  \n",
       "std       0.0     0.0            0.0          0.0    0.0    0.0  \n",
       "min       0.0     1.0            0.0          1.0   21.0    0.0  \n",
       "25%       0.0     1.0            0.0          1.0   21.0    0.0  \n",
       "50%       0.0     1.0            0.0          1.0   21.0    0.0  \n",
       "75%       0.0     1.0            0.0          1.0   21.0    0.0  \n",
       "max       0.0     1.0            0.0          1.0   21.0    0.0  "
      ]
     },
     "metadata": {},
     "output_type": "display_data"
    },
    {
     "data": {
      "text/html": [
       "<div>\n",
       "<style scoped>\n",
       "    .dataframe tbody tr th:only-of-type {\n",
       "        vertical-align: middle;\n",
       "    }\n",
       "\n",
       "    .dataframe tbody tr th {\n",
       "        vertical-align: top;\n",
       "    }\n",
       "\n",
       "    .dataframe thead th {\n",
       "        text-align: right;\n",
       "    }\n",
       "</style>\n",
       "<table border=\"1\" class=\"dataframe\">\n",
       "  <thead>\n",
       "    <tr style=\"text-align: right;\">\n",
       "      <th></th>\n",
       "      <th>rr_interval</th>\n",
       "      <th>bpm_raw</th>\n",
       "      <th>bpm_clean</th>\n",
       "      <th>intensity</th>\n",
       "      <th>artifacts</th>\n",
       "      <th>person_id</th>\n",
       "      <th>sex</th>\n",
       "      <th>age</th>\n",
       "      <th>diet</th>\n",
       "      <th>caffeine</th>\n",
       "      <th>sleep_q</th>\n",
       "      <th>sleep_h</th>\n",
       "      <th>wellbeeing</th>\n",
       "      <th>cold_hist</th>\n",
       "      <th>asthma</th>\n",
       "      <th>smoker</th>\n",
       "      <th>fitness_level</th>\n",
       "      <th>study_modus</th>\n",
       "      <th>bmi</th>\n",
       "      <th>rpm</th>\n",
       "    </tr>\n",
       "  </thead>\n",
       "  <tbody>\n",
       "    <tr>\n",
       "      <th>count</th>\n",
       "      <td>438.000000</td>\n",
       "      <td>438.000000</td>\n",
       "      <td>438.000000</td>\n",
       "      <td>438.0</td>\n",
       "      <td>438.0</td>\n",
       "      <td>438.0</td>\n",
       "      <td>438.0</td>\n",
       "      <td>438.0</td>\n",
       "      <td>438.0</td>\n",
       "      <td>438.0</td>\n",
       "      <td>438.0</td>\n",
       "      <td>438.0</td>\n",
       "      <td>438.0</td>\n",
       "      <td>438.0</td>\n",
       "      <td>438.0</td>\n",
       "      <td>438.0</td>\n",
       "      <td>438.0</td>\n",
       "      <td>438.0</td>\n",
       "      <td>438.0</td>\n",
       "      <td>438.0</td>\n",
       "    </tr>\n",
       "    <tr>\n",
       "      <th>mean</th>\n",
       "      <td>351.390411</td>\n",
       "      <td>174.876403</td>\n",
       "      <td>175.092972</td>\n",
       "      <td>3.0</td>\n",
       "      <td>291.0</td>\n",
       "      <td>1.0</td>\n",
       "      <td>1.0</td>\n",
       "      <td>26.0</td>\n",
       "      <td>0.0</td>\n",
       "      <td>1.0</td>\n",
       "      <td>2.0</td>\n",
       "      <td>7.0</td>\n",
       "      <td>20.0</td>\n",
       "      <td>0.0</td>\n",
       "      <td>0.0</td>\n",
       "      <td>1.0</td>\n",
       "      <td>0.0</td>\n",
       "      <td>1.0</td>\n",
       "      <td>21.0</td>\n",
       "      <td>0.0</td>\n",
       "    </tr>\n",
       "    <tr>\n",
       "      <th>std</th>\n",
       "      <td>72.451234</td>\n",
       "      <td>21.313844</td>\n",
       "      <td>20.866397</td>\n",
       "      <td>0.0</td>\n",
       "      <td>0.0</td>\n",
       "      <td>0.0</td>\n",
       "      <td>0.0</td>\n",
       "      <td>0.0</td>\n",
       "      <td>0.0</td>\n",
       "      <td>0.0</td>\n",
       "      <td>0.0</td>\n",
       "      <td>0.0</td>\n",
       "      <td>0.0</td>\n",
       "      <td>0.0</td>\n",
       "      <td>0.0</td>\n",
       "      <td>0.0</td>\n",
       "      <td>0.0</td>\n",
       "      <td>0.0</td>\n",
       "      <td>0.0</td>\n",
       "      <td>0.0</td>\n",
       "    </tr>\n",
       "    <tr>\n",
       "      <th>min</th>\n",
       "      <td>309.000000</td>\n",
       "      <td>65.359477</td>\n",
       "      <td>65.359477</td>\n",
       "      <td>3.0</td>\n",
       "      <td>291.0</td>\n",
       "      <td>1.0</td>\n",
       "      <td>1.0</td>\n",
       "      <td>26.0</td>\n",
       "      <td>0.0</td>\n",
       "      <td>1.0</td>\n",
       "      <td>2.0</td>\n",
       "      <td>7.0</td>\n",
       "      <td>20.0</td>\n",
       "      <td>0.0</td>\n",
       "      <td>0.0</td>\n",
       "      <td>1.0</td>\n",
       "      <td>0.0</td>\n",
       "      <td>1.0</td>\n",
       "      <td>21.0</td>\n",
       "      <td>0.0</td>\n",
       "    </tr>\n",
       "    <tr>\n",
       "      <th>25%</th>\n",
       "      <td>319.000000</td>\n",
       "      <td>169.611562</td>\n",
       "      <td>170.940171</td>\n",
       "      <td>3.0</td>\n",
       "      <td>291.0</td>\n",
       "      <td>1.0</td>\n",
       "      <td>1.0</td>\n",
       "      <td>26.0</td>\n",
       "      <td>0.0</td>\n",
       "      <td>1.0</td>\n",
       "      <td>2.0</td>\n",
       "      <td>7.0</td>\n",
       "      <td>20.0</td>\n",
       "      <td>0.0</td>\n",
       "      <td>0.0</td>\n",
       "      <td>1.0</td>\n",
       "      <td>0.0</td>\n",
       "      <td>1.0</td>\n",
       "      <td>21.0</td>\n",
       "      <td>0.0</td>\n",
       "    </tr>\n",
       "    <tr>\n",
       "      <th>50%</th>\n",
       "      <td>326.000000</td>\n",
       "      <td>184.049080</td>\n",
       "      <td>184.615385</td>\n",
       "      <td>3.0</td>\n",
       "      <td>291.0</td>\n",
       "      <td>1.0</td>\n",
       "      <td>1.0</td>\n",
       "      <td>26.0</td>\n",
       "      <td>0.0</td>\n",
       "      <td>1.0</td>\n",
       "      <td>2.0</td>\n",
       "      <td>7.0</td>\n",
       "      <td>20.0</td>\n",
       "      <td>0.0</td>\n",
       "      <td>0.0</td>\n",
       "      <td>1.0</td>\n",
       "      <td>0.0</td>\n",
       "      <td>1.0</td>\n",
       "      <td>21.0</td>\n",
       "      <td>0.0</td>\n",
       "    </tr>\n",
       "    <tr>\n",
       "      <th>75%</th>\n",
       "      <td>353.750000</td>\n",
       "      <td>188.087774</td>\n",
       "      <td>188.087774</td>\n",
       "      <td>3.0</td>\n",
       "      <td>291.0</td>\n",
       "      <td>1.0</td>\n",
       "      <td>1.0</td>\n",
       "      <td>26.0</td>\n",
       "      <td>0.0</td>\n",
       "      <td>1.0</td>\n",
       "      <td>2.0</td>\n",
       "      <td>7.0</td>\n",
       "      <td>20.0</td>\n",
       "      <td>0.0</td>\n",
       "      <td>0.0</td>\n",
       "      <td>1.0</td>\n",
       "      <td>0.0</td>\n",
       "      <td>1.0</td>\n",
       "      <td>21.0</td>\n",
       "      <td>0.0</td>\n",
       "    </tr>\n",
       "    <tr>\n",
       "      <th>max</th>\n",
       "      <td>918.000000</td>\n",
       "      <td>194.174757</td>\n",
       "      <td>191.693291</td>\n",
       "      <td>3.0</td>\n",
       "      <td>291.0</td>\n",
       "      <td>1.0</td>\n",
       "      <td>1.0</td>\n",
       "      <td>26.0</td>\n",
       "      <td>0.0</td>\n",
       "      <td>1.0</td>\n",
       "      <td>2.0</td>\n",
       "      <td>7.0</td>\n",
       "      <td>20.0</td>\n",
       "      <td>0.0</td>\n",
       "      <td>0.0</td>\n",
       "      <td>1.0</td>\n",
       "      <td>0.0</td>\n",
       "      <td>1.0</td>\n",
       "      <td>21.0</td>\n",
       "      <td>0.0</td>\n",
       "    </tr>\n",
       "  </tbody>\n",
       "</table>\n",
       "</div>"
      ],
      "text/plain": [
       "       rr_interval     bpm_raw   bpm_clean  intensity  artifacts  person_id  \\\n",
       "count   438.000000  438.000000  438.000000      438.0      438.0      438.0   \n",
       "mean    351.390411  174.876403  175.092972        3.0      291.0        1.0   \n",
       "std      72.451234   21.313844   20.866397        0.0        0.0        0.0   \n",
       "min     309.000000   65.359477   65.359477        3.0      291.0        1.0   \n",
       "25%     319.000000  169.611562  170.940171        3.0      291.0        1.0   \n",
       "50%     326.000000  184.049080  184.615385        3.0      291.0        1.0   \n",
       "75%     353.750000  188.087774  188.087774        3.0      291.0        1.0   \n",
       "max     918.000000  194.174757  191.693291        3.0      291.0        1.0   \n",
       "\n",
       "         sex    age   diet  caffeine  sleep_q  sleep_h  wellbeeing  cold_hist  \\\n",
       "count  438.0  438.0  438.0     438.0    438.0    438.0       438.0      438.0   \n",
       "mean     1.0   26.0    0.0       1.0      2.0      7.0        20.0        0.0   \n",
       "std      0.0    0.0    0.0       0.0      0.0      0.0         0.0        0.0   \n",
       "min      1.0   26.0    0.0       1.0      2.0      7.0        20.0        0.0   \n",
       "25%      1.0   26.0    0.0       1.0      2.0      7.0        20.0        0.0   \n",
       "50%      1.0   26.0    0.0       1.0      2.0      7.0        20.0        0.0   \n",
       "75%      1.0   26.0    0.0       1.0      2.0      7.0        20.0        0.0   \n",
       "max      1.0   26.0    0.0       1.0      2.0      7.0        20.0        0.0   \n",
       "\n",
       "       asthma  smoker  fitness_level  study_modus    bmi    rpm  \n",
       "count   438.0   438.0          438.0        438.0  438.0  438.0  \n",
       "mean      0.0     1.0            0.0          1.0   21.0    0.0  \n",
       "std       0.0     0.0            0.0          0.0    0.0    0.0  \n",
       "min       0.0     1.0            0.0          1.0   21.0    0.0  \n",
       "25%       0.0     1.0            0.0          1.0   21.0    0.0  \n",
       "50%       0.0     1.0            0.0          1.0   21.0    0.0  \n",
       "75%       0.0     1.0            0.0          1.0   21.0    0.0  \n",
       "max       0.0     1.0            0.0          1.0   21.0    0.0  "
      ]
     },
     "metadata": {},
     "output_type": "display_data"
    }
   ],
   "source": [
    "# Final Combined Dataset for Submission\n",
    "import pandas as pd\n",
    "from pathlib import Path\n",
    "\n",
    "# Combine all cleaned datasets into final submission format\n",
    "cleaned_files = Path(\"data\").glob(\"*_cleaned_lsdlpr25.csv\")\n",
    "\n",
    "# show head of each cleaned file\n",
    "for file in sorted(cleaned_files):\n",
    "    df = pd.read_csv(file)\n",
    "    display(df.describe())\n"
   ]
  }
 ],
 "metadata": {
  "kernelspec": {
   "display_name": ".venv",
   "language": "python",
   "name": "python3"
  },
  "language_info": {
   "codemirror_mode": {
    "name": "ipython",
    "version": 3
   },
   "file_extension": ".py",
   "mimetype": "text/x-python",
   "name": "python",
   "nbconvert_exporter": "python",
   "pygments_lexer": "ipython3",
   "version": "3.13.7"
  }
 },
 "nbformat": 4,
 "nbformat_minor": 5
}
