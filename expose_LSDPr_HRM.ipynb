{
 "cells": [
  {
   "cell_type": "markdown",
   "id": "6ac0de31",
   "metadata": {},
   "source": [
    "# Expose Life Science Data Lab Praktikum\n",
    "## Hearth Rate Monitor Data Analysis\n"
   ]
  },
  {
   "cell_type": "markdown",
   "id": "d0443351",
   "metadata": {},
   "source": [
    "\n"
   ]
  },
  {
   "cell_type": "code",
   "execution_count": 2,
   "id": "69bf6546",
   "metadata": {},
   "outputs": [],
   "source": [
    "import os\n",
    "import pandas as pd\n",
    "import scipy as sp\n",
    "import numpy as np"
   ]
  },
  {
   "cell_type": "code",
   "execution_count": 3,
   "id": "824c30f7",
   "metadata": {},
   "outputs": [
    {
     "data": {
      "application/vnd.plotly.v1+json": {
       "config": {
        "plotlyServerURL": "https://plot.ly"
       },
       "data": [
        {
         "hovertemplate": "time=%{x}<br>bpm_raw=%{y}<extra></extra>",
         "legendgroup": "",
         "line": {
          "color": "#636efa",
          "dash": "solid"
         },
         "marker": {
          "symbol": "circle"
         },
         "mode": "lines",
         "name": "",
         "orientation": "v",
         "showlegend": false,
         "type": "scatter",
         "x": [
          "2025-10-16 09:20:31.625",
          "2025-10-16 09:20:32.254",
          "2025-10-16 09:20:32.894",
          "2025-10-16 09:20:33.559",
          "2025-10-16 09:20:34.223",
          "2025-10-16 09:20:34.897",
          "2025-10-16 09:20:35.586",
          "2025-10-16 09:20:36.266",
          "2025-10-16 09:20:36.896",
          "2025-10-16 09:20:37.529",
          "2025-10-16 09:20:38.114",
          "2025-10-16 09:20:38.686",
          "2025-10-16 09:20:39.249",
          "2025-10-16 09:20:39.803",
          "2025-10-16 09:20:40.354",
          "2025-10-16 09:20:40.900",
          "2025-10-16 09:20:41.442",
          "2025-10-16 09:20:41.985",
          "2025-10-16 09:20:42.520",
          "2025-10-16 09:20:43.059",
          "2025-10-16 09:20:43.591",
          "2025-10-16 09:20:44.129",
          "2025-10-16 09:20:44.656",
          "2025-10-16 09:20:45.184",
          "2025-10-16 09:20:45.717",
          "2025-10-16 09:20:46.237",
          "2025-10-16 09:20:46.756",
          "2025-10-16 09:20:47.271",
          "2025-10-16 09:20:47.787",
          "2025-10-16 09:20:48.295",
          "2025-10-16 09:20:48.800",
          "2025-10-16 09:20:49.305",
          "2025-10-16 09:20:49.807",
          "2025-10-16 09:20:50.307",
          "2025-10-16 09:20:50.800",
          "2025-10-16 09:20:51.287",
          "2025-10-16 09:20:51.774",
          "2025-10-16 09:20:52.260",
          "2025-10-16 09:20:52.741",
          "2025-10-16 09:20:53.222",
          "2025-10-16 09:20:53.695",
          "2025-10-16 09:20:54.166",
          "2025-10-16 09:20:54.643",
          "2025-10-16 09:20:55.114",
          "2025-10-16 09:20:55.579",
          "2025-10-16 09:20:56.039",
          "2025-10-16 09:20:56.502",
          "2025-10-16 09:20:56.966",
          "2025-10-16 09:20:57.427",
          "2025-10-16 09:20:57.885",
          "2025-10-16 09:20:58.347",
          "2025-10-16 09:20:58.805",
          "2025-10-16 09:20:59.265",
          "2025-10-16 09:20:59.723",
          "2025-10-16 09:21:00.181",
          "2025-10-16 09:21:00.640",
          "2025-10-16 09:21:01.101",
          "2025-10-16 09:21:01.561",
          "2025-10-16 09:21:02.020",
          "2025-10-16 09:21:02.476",
          "2025-10-16 09:21:02.934",
          "2025-10-16 09:21:03.390",
          "2025-10-16 09:21:03.842",
          "2025-10-16 09:21:04.294",
          "2025-10-16 09:21:04.746",
          "2025-10-16 09:21:05.197",
          "2025-10-16 09:21:05.650",
          "2025-10-16 09:21:06.097",
          "2025-10-16 09:21:06.543",
          "2025-10-16 09:21:07.443",
          "2025-10-16 09:21:07.890",
          "2025-10-16 09:21:08.332",
          "2025-10-16 09:21:08.776",
          "2025-10-16 09:21:09.221",
          "2025-10-16 09:21:09.668",
          "2025-10-16 09:21:10.116",
          "2025-10-16 09:21:10.555",
          "2025-10-16 09:21:10.994",
          "2025-10-16 09:21:11.435",
          "2025-10-16 09:21:11.882",
          "2025-10-16 09:21:12.325",
          "2025-10-16 09:21:12.767",
          "2025-10-16 09:21:13.205",
          "2025-10-16 09:21:13.637",
          "2025-10-16 09:21:14.071",
          "2025-10-16 09:21:14.509",
          "2025-10-16 09:21:14.949",
          "2025-10-16 09:21:15.385",
          "2025-10-16 09:21:15.818",
          "2025-10-16 09:21:16.249",
          "2025-10-16 09:21:16.674",
          "2025-10-16 09:21:17.109",
          "2025-10-16 09:21:17.543",
          "2025-10-16 09:21:17.980",
          "2025-10-16 09:21:18.412",
          "2025-10-16 09:21:18.845",
          "2025-10-16 09:21:19.275",
          "2025-10-16 09:21:19.700",
          "2025-10-16 09:21:20.132",
          "2025-10-16 09:21:20.559",
          "2025-10-16 09:21:20.982",
          "2025-10-16 09:21:21.409",
          "2025-10-16 09:21:21.834",
          "2025-10-16 09:21:22.264",
          "2025-10-16 09:21:22.692",
          "2025-10-16 09:21:23.115",
          "2025-10-16 09:21:23.538",
          "2025-10-16 09:21:23.963",
          "2025-10-16 09:21:24.390",
          "2025-10-16 09:21:24.813",
          "2025-10-16 09:21:25.237",
          "2025-10-16 09:21:25.666",
          "2025-10-16 09:21:26.092",
          "2025-10-16 09:21:26.519",
          "2025-10-16 09:21:26.939",
          "2025-10-16 09:21:27.363",
          "2025-10-16 09:21:27.784",
          "2025-10-16 09:21:28.205",
          "2025-10-16 09:21:28.628",
          "2025-10-16 09:21:29.041",
          "2025-10-16 09:21:29.457",
          "2025-10-16 09:21:29.870",
          "2025-10-16 09:21:30.287",
          "2025-10-16 09:21:30.702",
          "2025-10-16 09:21:31.117",
          "2025-10-16 09:21:31.532",
          "2025-10-16 09:21:31.952",
          "2025-10-16 09:21:32.370",
          "2025-10-16 09:21:32.783",
          "2025-10-16 09:21:33.196",
          "2025-10-16 09:21:33.612",
          "2025-10-16 09:21:34.025",
          "2025-10-16 09:21:34.440",
          "2025-10-16 09:21:34.848",
          "2025-10-16 09:21:35.257",
          "2025-10-16 09:21:35.666",
          "2025-10-16 09:21:36.072",
          "2025-10-16 09:21:36.482",
          "2025-10-16 09:21:36.889",
          "2025-10-16 09:21:37.299",
          "2025-10-16 09:21:37.707",
          "2025-10-16 09:21:38.115",
          "2025-10-16 09:21:38.522",
          "2025-10-16 09:21:38.932",
          "2025-10-16 09:21:39.341",
          "2025-10-16 09:21:39.751",
          "2025-10-16 09:21:40.158",
          "2025-10-16 09:21:40.561",
          "2025-10-16 09:21:40.968",
          "2025-10-16 09:21:41.374",
          "2025-10-16 09:21:41.779",
          "2025-10-16 09:21:42.187",
          "2025-10-16 09:21:42.587",
          "2025-10-16 09:21:42.998",
          "2025-10-16 09:21:43.408",
          "2025-10-16 09:21:43.817",
          "2025-10-16 09:21:44.222",
          "2025-10-16 09:21:44.628",
          "2025-10-16 09:21:45.035",
          "2025-10-16 09:21:45.446",
          "2025-10-16 09:21:45.855",
          "2025-10-16 09:21:46.263",
          "2025-10-16 09:21:46.673",
          "2025-10-16 09:21:47.085",
          "2025-10-16 09:21:47.497",
          "2025-10-16 09:21:47.908",
          "2025-10-16 09:21:48.314",
          "2025-10-16 09:21:48.718",
          "2025-10-16 09:21:49.122",
          "2025-10-16 09:21:49.527",
          "2025-10-16 09:21:49.932",
          "2025-10-16 09:21:50.328",
          "2025-10-16 09:21:50.727",
          "2025-10-16 09:21:51.128",
          "2025-10-16 09:21:51.528",
          "2025-10-16 09:21:51.924",
          "2025-10-16 09:21:53.111",
          "2025-10-16 09:21:53.507",
          "2025-10-16 09:21:53.902",
          "2025-10-16 09:21:54.292",
          "2025-10-16 09:21:54.684",
          "2025-10-16 09:21:55.074",
          "2025-10-16 09:21:55.470",
          "2025-10-16 09:21:55.862",
          "2025-10-16 09:21:56.251",
          "2025-10-16 09:21:56.640",
          "2025-10-16 09:21:57.030",
          "2025-10-16 09:21:57.422",
          "2025-10-16 09:21:57.813",
          "2025-10-16 09:21:58.200",
          "2025-10-16 09:21:58.592",
          "2025-10-16 09:21:58.982",
          "2025-10-16 09:21:59.378",
          "2025-10-16 09:21:59.769",
          "2025-10-16 09:22:00.162",
          "2025-10-16 09:22:00.555",
          "2025-10-16 09:22:00.952",
          "2025-10-16 09:22:01.347",
          "2025-10-16 09:22:01.740",
          "2025-10-16 09:22:02.130",
          "2025-10-16 09:22:02.521",
          "2025-10-16 09:22:02.910",
          "2025-10-16 09:22:03.304",
          "2025-10-16 09:22:03.698",
          "2025-10-16 09:22:04.090",
          "2025-10-16 09:22:04.480",
          "2025-10-16 09:22:04.873",
          "2025-10-16 09:22:05.266",
          "2025-10-16 09:22:05.661",
          "2025-10-16 09:22:06.051",
          "2025-10-16 09:22:06.443",
          "2025-10-16 09:22:06.834",
          "2025-10-16 09:22:07.224",
          "2025-10-16 09:22:07.614",
          "2025-10-16 09:22:08.002",
          "2025-10-16 09:22:08.394",
          "2025-10-16 09:22:08.785",
          "2025-10-16 09:22:09.175",
          "2025-10-16 09:22:09.568",
          "2025-10-16 09:22:09.959",
          "2025-10-16 09:22:10.351",
          "2025-10-16 09:22:10.741",
          "2025-10-16 09:22:11.131",
          "2025-10-16 09:22:11.520",
          "2025-10-16 09:22:11.908",
          "2025-10-16 09:22:12.292",
          "2025-10-16 09:22:12.676",
          "2025-10-16 09:22:13.063",
          "2025-10-16 09:22:13.450",
          "2025-10-16 09:22:13.830",
          "2025-10-16 09:22:14.213",
          "2025-10-16 09:22:14.596",
          "2025-10-16 09:22:14.980",
          "2025-10-16 09:22:15.359",
          "2025-10-16 09:22:15.738",
          "2025-10-16 09:22:16.118",
          "2025-10-16 09:22:16.493",
          "2025-10-16 09:22:16.876",
          "2025-10-16 09:22:17.257",
          "2025-10-16 09:22:17.639",
          "2025-10-16 09:22:18.016",
          "2025-10-16 09:22:18.396",
          "2025-10-16 09:22:18.782",
          "2025-10-16 09:22:19.159",
          "2025-10-16 09:22:19.535",
          "2025-10-16 09:22:19.914",
          "2025-10-16 09:22:20.294",
          "2025-10-16 09:22:20.673",
          "2025-10-16 09:22:21.048",
          "2025-10-16 09:22:21.422",
          "2025-10-16 09:22:21.796",
          "2025-10-16 09:22:22.169",
          "2025-10-16 09:22:22.545",
          "2025-10-16 09:22:22.917",
          "2025-10-16 09:22:23.294",
          "2025-10-16 09:22:23.671",
          "2025-10-16 09:22:24.045",
          "2025-10-16 09:22:24.413",
          "2025-10-16 09:22:24.784",
          "2025-10-16 09:22:25.155",
          "2025-10-16 09:22:25.527",
          "2025-10-16 09:22:25.899",
          "2025-10-16 09:22:26.269",
          "2025-10-16 09:22:26.638",
          "2025-10-16 09:22:27.004",
          "2025-10-16 09:22:27.372",
          "2025-10-16 09:22:27.744",
          "2025-10-16 09:22:28.115",
          "2025-10-16 09:22:28.855",
          "2025-10-16 09:22:29.227",
          "2025-10-16 09:22:29.603",
          "2025-10-16 09:22:29.973",
          "2025-10-16 09:22:30.352",
          "2025-10-16 09:22:31.108",
          "2025-10-16 09:22:31.482",
          "2025-10-16 09:22:32.234",
          "2025-10-16 09:22:32.613",
          "2025-10-16 09:22:32.990",
          "2025-10-16 09:22:33.364",
          "2025-10-16 09:22:33.738",
          "2025-10-16 09:22:34.112",
          "2025-10-16 09:22:34.483",
          "2025-10-16 09:22:34.859",
          "2025-10-16 09:22:35.236",
          "2025-10-16 09:22:35.611",
          "2025-10-16 09:22:35.982",
          "2025-10-16 09:22:36.355",
          "2025-10-16 09:22:36.731",
          "2025-10-16 09:22:37.105",
          "2025-10-16 09:22:37.483",
          "2025-10-16 09:22:37.860",
          "2025-10-16 09:22:38.240",
          "2025-10-16 09:22:38.615",
          "2025-10-16 09:22:38.994",
          "2025-10-16 09:22:39.378",
          "2025-10-16 09:22:39.756",
          "2025-10-16 09:22:40.132",
          "2025-10-16 09:22:40.509",
          "2025-10-16 09:22:40.889",
          "2025-10-16 09:22:41.268",
          "2025-10-16 09:22:41.644",
          "2025-10-16 09:22:42.017",
          "2025-10-16 09:22:42.388",
          "2025-10-16 09:22:42.764",
          "2025-10-16 09:22:43.137",
          "2025-10-16 09:22:43.511",
          "2025-10-16 09:22:43.883",
          "2025-10-16 09:22:44.253",
          "2025-10-16 09:22:44.626",
          "2025-10-16 09:22:44.997",
          "2025-10-16 09:22:45.372",
          "2025-10-16 09:22:45.746",
          "2025-10-16 09:22:46.126",
          "2025-10-16 09:22:46.501",
          "2025-10-16 09:22:46.875",
          "2025-10-16 09:22:47.252",
          "2025-10-16 09:22:47.630",
          "2025-10-16 09:22:48.007",
          "2025-10-16 09:22:48.378",
          "2025-10-16 09:22:48.750",
          "2025-10-16 09:22:49.125",
          "2025-10-16 09:22:49.499",
          "2025-10-16 09:22:49.873",
          "2025-10-16 09:22:50.246",
          "2025-10-16 09:22:50.616",
          "2025-10-16 09:22:50.990",
          "2025-10-16 09:22:51.361",
          "2025-10-16 09:22:51.740",
          "2025-10-16 09:22:52.113",
          "2025-10-16 09:22:52.488",
          "2025-10-16 09:22:52.861",
          "2025-10-16 09:22:53.238",
          "2025-10-16 09:22:53.615",
          "2025-10-16 09:22:53.990",
          "2025-10-16 09:22:54.361",
          "2025-10-16 09:22:54.735",
          "2025-10-16 09:22:55.109",
          "2025-10-16 09:22:55.483",
          "2025-10-16 09:22:55.857",
          "2025-10-16 09:22:56.230",
          "2025-10-16 09:22:56.600",
          "2025-10-16 09:22:56.972",
          "2025-10-16 09:22:57.343",
          "2025-10-16 09:22:57.715",
          "2025-10-16 09:22:58.090",
          "2025-10-16 09:22:58.459",
          "2025-10-16 09:22:58.837",
          "2025-10-16 09:22:59.211",
          "2025-10-16 09:22:59.582",
          "2025-10-16 09:22:59.953",
          "2025-10-16 09:23:00.326",
          "2025-10-16 09:23:00.700",
          "2025-10-16 09:23:01.074",
          "2025-10-16 09:23:01.441",
          "2025-10-16 09:23:01.811",
          "2025-10-16 09:23:02.184",
          "2025-10-16 09:23:02.555",
          "2025-10-16 09:23:02.924",
          "2025-10-16 09:23:03.292",
          "2025-10-16 09:23:03.660",
          "2025-10-16 09:23:04.024",
          "2025-10-16 09:23:04.399"
         ],
         "xaxis": "x",
         "y": {
          "bdata": "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",
          "dtype": "f8"
         },
         "yaxis": "y"
        }
       ],
       "layout": {
        "legend": {
         "tracegroupgap": 0
        },
        "template": {
         "data": {
          "bar": [
           {
            "error_x": {
             "color": "#2a3f5f"
            },
            "error_y": {
             "color": "#2a3f5f"
            },
            "marker": {
             "line": {
              "color": "#E5ECF6",
              "width": 0.5
             },
             "pattern": {
              "fillmode": "overlay",
              "size": 10,
              "solidity": 0.2
             }
            },
            "type": "bar"
           }
          ],
          "barpolar": [
           {
            "marker": {
             "line": {
              "color": "#E5ECF6",
              "width": 0.5
             },
             "pattern": {
              "fillmode": "overlay",
              "size": 10,
              "solidity": 0.2
             }
            },
            "type": "barpolar"
           }
          ],
          "carpet": [
           {
            "aaxis": {
             "endlinecolor": "#2a3f5f",
             "gridcolor": "white",
             "linecolor": "white",
             "minorgridcolor": "white",
             "startlinecolor": "#2a3f5f"
            },
            "baxis": {
             "endlinecolor": "#2a3f5f",
             "gridcolor": "white",
             "linecolor": "white",
             "minorgridcolor": "white",
             "startlinecolor": "#2a3f5f"
            },
            "type": "carpet"
           }
          ],
          "choropleth": [
           {
            "colorbar": {
             "outlinewidth": 0,
             "ticks": ""
            },
            "type": "choropleth"
           }
          ],
          "contour": [
           {
            "colorbar": {
             "outlinewidth": 0,
             "ticks": ""
            },
            "colorscale": [
             [
              0,
              "#0d0887"
             ],
             [
              0.1111111111111111,
              "#46039f"
             ],
             [
              0.2222222222222222,
              "#7201a8"
             ],
             [
              0.3333333333333333,
              "#9c179e"
             ],
             [
              0.4444444444444444,
              "#bd3786"
             ],
             [
              0.5555555555555556,
              "#d8576b"
             ],
             [
              0.6666666666666666,
              "#ed7953"
             ],
             [
              0.7777777777777778,
              "#fb9f3a"
             ],
             [
              0.8888888888888888,
              "#fdca26"
             ],
             [
              1,
              "#f0f921"
             ]
            ],
            "type": "contour"
           }
          ],
          "contourcarpet": [
           {
            "colorbar": {
             "outlinewidth": 0,
             "ticks": ""
            },
            "type": "contourcarpet"
           }
          ],
          "heatmap": [
           {
            "colorbar": {
             "outlinewidth": 0,
             "ticks": ""
            },
            "colorscale": [
             [
              0,
              "#0d0887"
             ],
             [
              0.1111111111111111,
              "#46039f"
             ],
             [
              0.2222222222222222,
              "#7201a8"
             ],
             [
              0.3333333333333333,
              "#9c179e"
             ],
             [
              0.4444444444444444,
              "#bd3786"
             ],
             [
              0.5555555555555556,
              "#d8576b"
             ],
             [
              0.6666666666666666,
              "#ed7953"
             ],
             [
              0.7777777777777778,
              "#fb9f3a"
             ],
             [
              0.8888888888888888,
              "#fdca26"
             ],
             [
              1,
              "#f0f921"
             ]
            ],
            "type": "heatmap"
           }
          ],
          "histogram": [
           {
            "marker": {
             "pattern": {
              "fillmode": "overlay",
              "size": 10,
              "solidity": 0.2
             }
            },
            "type": "histogram"
           }
          ],
          "histogram2d": [
           {
            "colorbar": {
             "outlinewidth": 0,
             "ticks": ""
            },
            "colorscale": [
             [
              0,
              "#0d0887"
             ],
             [
              0.1111111111111111,
              "#46039f"
             ],
             [
              0.2222222222222222,
              "#7201a8"
             ],
             [
              0.3333333333333333,
              "#9c179e"
             ],
             [
              0.4444444444444444,
              "#bd3786"
             ],
             [
              0.5555555555555556,
              "#d8576b"
             ],
             [
              0.6666666666666666,
              "#ed7953"
             ],
             [
              0.7777777777777778,
              "#fb9f3a"
             ],
             [
              0.8888888888888888,
              "#fdca26"
             ],
             [
              1,
              "#f0f921"
             ]
            ],
            "type": "histogram2d"
           }
          ],
          "histogram2dcontour": [
           {
            "colorbar": {
             "outlinewidth": 0,
             "ticks": ""
            },
            "colorscale": [
             [
              0,
              "#0d0887"
             ],
             [
              0.1111111111111111,
              "#46039f"
             ],
             [
              0.2222222222222222,
              "#7201a8"
             ],
             [
              0.3333333333333333,
              "#9c179e"
             ],
             [
              0.4444444444444444,
              "#bd3786"
             ],
             [
              0.5555555555555556,
              "#d8576b"
             ],
             [
              0.6666666666666666,
              "#ed7953"
             ],
             [
              0.7777777777777778,
              "#fb9f3a"
             ],
             [
              0.8888888888888888,
              "#fdca26"
             ],
             [
              1,
              "#f0f921"
             ]
            ],
            "type": "histogram2dcontour"
           }
          ],
          "mesh3d": [
           {
            "colorbar": {
             "outlinewidth": 0,
             "ticks": ""
            },
            "type": "mesh3d"
           }
          ],
          "parcoords": [
           {
            "line": {
             "colorbar": {
              "outlinewidth": 0,
              "ticks": ""
             }
            },
            "type": "parcoords"
           }
          ],
          "pie": [
           {
            "automargin": true,
            "type": "pie"
           }
          ],
          "scatter": [
           {
            "fillpattern": {
             "fillmode": "overlay",
             "size": 10,
             "solidity": 0.2
            },
            "type": "scatter"
           }
          ],
          "scatter3d": [
           {
            "line": {
             "colorbar": {
              "outlinewidth": 0,
              "ticks": ""
             }
            },
            "marker": {
             "colorbar": {
              "outlinewidth": 0,
              "ticks": ""
             }
            },
            "type": "scatter3d"
           }
          ],
          "scattercarpet": [
           {
            "marker": {
             "colorbar": {
              "outlinewidth": 0,
              "ticks": ""
             }
            },
            "type": "scattercarpet"
           }
          ],
          "scattergeo": [
           {
            "marker": {
             "colorbar": {
              "outlinewidth": 0,
              "ticks": ""
             }
            },
            "type": "scattergeo"
           }
          ],
          "scattergl": [
           {
            "marker": {
             "colorbar": {
              "outlinewidth": 0,
              "ticks": ""
             }
            },
            "type": "scattergl"
           }
          ],
          "scattermap": [
           {
            "marker": {
             "colorbar": {
              "outlinewidth": 0,
              "ticks": ""
             }
            },
            "type": "scattermap"
           }
          ],
          "scattermapbox": [
           {
            "marker": {
             "colorbar": {
              "outlinewidth": 0,
              "ticks": ""
             }
            },
            "type": "scattermapbox"
           }
          ],
          "scatterpolar": [
           {
            "marker": {
             "colorbar": {
              "outlinewidth": 0,
              "ticks": ""
             }
            },
            "type": "scatterpolar"
           }
          ],
          "scatterpolargl": [
           {
            "marker": {
             "colorbar": {
              "outlinewidth": 0,
              "ticks": ""
             }
            },
            "type": "scatterpolargl"
           }
          ],
          "scatterternary": [
           {
            "marker": {
             "colorbar": {
              "outlinewidth": 0,
              "ticks": ""
             }
            },
            "type": "scatterternary"
           }
          ],
          "surface": [
           {
            "colorbar": {
             "outlinewidth": 0,
             "ticks": ""
            },
            "colorscale": [
             [
              0,
              "#0d0887"
             ],
             [
              0.1111111111111111,
              "#46039f"
             ],
             [
              0.2222222222222222,
              "#7201a8"
             ],
             [
              0.3333333333333333,
              "#9c179e"
             ],
             [
              0.4444444444444444,
              "#bd3786"
             ],
             [
              0.5555555555555556,
              "#d8576b"
             ],
             [
              0.6666666666666666,
              "#ed7953"
             ],
             [
              0.7777777777777778,
              "#fb9f3a"
             ],
             [
              0.8888888888888888,
              "#fdca26"
             ],
             [
              1,
              "#f0f921"
             ]
            ],
            "type": "surface"
           }
          ],
          "table": [
           {
            "cells": {
             "fill": {
              "color": "#EBF0F8"
             },
             "line": {
              "color": "white"
             }
            },
            "header": {
             "fill": {
              "color": "#C8D4E3"
             },
             "line": {
              "color": "white"
             }
            },
            "type": "table"
           }
          ]
         },
         "layout": {
          "annotationdefaults": {
           "arrowcolor": "#2a3f5f",
           "arrowhead": 0,
           "arrowwidth": 1
          },
          "autotypenumbers": "strict",
          "coloraxis": {
           "colorbar": {
            "outlinewidth": 0,
            "ticks": ""
           }
          },
          "colorscale": {
           "diverging": [
            [
             0,
             "#8e0152"
            ],
            [
             0.1,
             "#c51b7d"
            ],
            [
             0.2,
             "#de77ae"
            ],
            [
             0.3,
             "#f1b6da"
            ],
            [
             0.4,
             "#fde0ef"
            ],
            [
             0.5,
             "#f7f7f7"
            ],
            [
             0.6,
             "#e6f5d0"
            ],
            [
             0.7,
             "#b8e186"
            ],
            [
             0.8,
             "#7fbc41"
            ],
            [
             0.9,
             "#4d9221"
            ],
            [
             1,
             "#276419"
            ]
           ],
           "sequential": [
            [
             0,
             "#0d0887"
            ],
            [
             0.1111111111111111,
             "#46039f"
            ],
            [
             0.2222222222222222,
             "#7201a8"
            ],
            [
             0.3333333333333333,
             "#9c179e"
            ],
            [
             0.4444444444444444,
             "#bd3786"
            ],
            [
             0.5555555555555556,
             "#d8576b"
            ],
            [
             0.6666666666666666,
             "#ed7953"
            ],
            [
             0.7777777777777778,
             "#fb9f3a"
            ],
            [
             0.8888888888888888,
             "#fdca26"
            ],
            [
             1,
             "#f0f921"
            ]
           ],
           "sequentialminus": [
            [
             0,
             "#0d0887"
            ],
            [
             0.1111111111111111,
             "#46039f"
            ],
            [
             0.2222222222222222,
             "#7201a8"
            ],
            [
             0.3333333333333333,
             "#9c179e"
            ],
            [
             0.4444444444444444,
             "#bd3786"
            ],
            [
             0.5555555555555556,
             "#d8576b"
            ],
            [
             0.6666666666666666,
             "#ed7953"
            ],
            [
             0.7777777777777778,
             "#fb9f3a"
            ],
            [
             0.8888888888888888,
             "#fdca26"
            ],
            [
             1,
             "#f0f921"
            ]
           ]
          },
          "colorway": [
           "#636efa",
           "#EF553B",
           "#00cc96",
           "#ab63fa",
           "#FFA15A",
           "#19d3f3",
           "#FF6692",
           "#B6E880",
           "#FF97FF",
           "#FECB52"
          ],
          "font": {
           "color": "#2a3f5f"
          },
          "geo": {
           "bgcolor": "white",
           "lakecolor": "white",
           "landcolor": "#E5ECF6",
           "showlakes": true,
           "showland": true,
           "subunitcolor": "white"
          },
          "hoverlabel": {
           "align": "left"
          },
          "hovermode": "closest",
          "mapbox": {
           "style": "light"
          },
          "paper_bgcolor": "white",
          "plot_bgcolor": "#E5ECF6",
          "polar": {
           "angularaxis": {
            "gridcolor": "white",
            "linecolor": "white",
            "ticks": ""
           },
           "bgcolor": "#E5ECF6",
           "radialaxis": {
            "gridcolor": "white",
            "linecolor": "white",
            "ticks": ""
           }
          },
          "scene": {
           "xaxis": {
            "backgroundcolor": "#E5ECF6",
            "gridcolor": "white",
            "gridwidth": 2,
            "linecolor": "white",
            "showbackground": true,
            "ticks": "",
            "zerolinecolor": "white"
           },
           "yaxis": {
            "backgroundcolor": "#E5ECF6",
            "gridcolor": "white",
            "gridwidth": 2,
            "linecolor": "white",
            "showbackground": true,
            "ticks": "",
            "zerolinecolor": "white"
           },
           "zaxis": {
            "backgroundcolor": "#E5ECF6",
            "gridcolor": "white",
            "gridwidth": 2,
            "linecolor": "white",
            "showbackground": true,
            "ticks": "",
            "zerolinecolor": "white"
           }
          },
          "shapedefaults": {
           "line": {
            "color": "#2a3f5f"
           }
          },
          "ternary": {
           "aaxis": {
            "gridcolor": "white",
            "linecolor": "white",
            "ticks": ""
           },
           "baxis": {
            "gridcolor": "white",
            "linecolor": "white",
            "ticks": ""
           },
           "bgcolor": "#E5ECF6",
           "caxis": {
            "gridcolor": "white",
            "linecolor": "white",
            "ticks": ""
           }
          },
          "title": {
           "x": 0.05
          },
          "xaxis": {
           "automargin": true,
           "gridcolor": "white",
           "linecolor": "white",
           "ticks": "",
           "title": {
            "standoff": 15
           },
           "zerolinecolor": "white",
           "zerolinewidth": 2
          },
          "yaxis": {
           "automargin": true,
           "gridcolor": "white",
           "linecolor": "white",
           "ticks": "",
           "title": {
            "standoff": 15
           },
           "zerolinecolor": "white",
           "zerolinewidth": 2
          }
         }
        },
        "title": {
         "text": "Heart Rate over Time for steinosk_activity_intensity_1_cleaned_lsdlpr25.csv"
        },
        "xaxis": {
         "anchor": "y",
         "domain": [
          0,
          1
         ],
         "title": {
          "text": "time"
         }
        },
        "yaxis": {
         "anchor": "x",
         "domain": [
          0,
          1
         ],
         "title": {
          "text": "bpm_raw"
         }
        }
       }
      }
     },
     "metadata": {},
     "output_type": "display_data"
    },
    {
     "data": {
      "application/vnd.plotly.v1+json": {
       "config": {
        "plotlyServerURL": "https://plot.ly"
       },
       "data": [
        {
         "hovertemplate": "time=%{x}<br>bpm_raw=%{y}<extra></extra>",
         "legendgroup": "",
         "line": {
          "color": "#636efa",
          "dash": "solid"
         },
         "marker": {
          "symbol": "circle"
         },
         "mode": "lines",
         "name": "",
         "orientation": "v",
         "showlegend": false,
         "type": "scatter",
         "x": [
          "2025-10-16 09:20:31.417",
          "2025-10-16 09:20:31.832",
          "2025-10-16 09:20:32.251",
          "2025-10-16 09:20:32.670",
          "2025-10-16 09:20:33.090",
          "2025-10-16 09:20:33.512",
          "2025-10-16 09:20:33.937",
          "2025-10-16 09:20:34.360",
          "2025-10-16 09:20:34.780",
          "2025-10-16 09:20:35.199",
          "2025-10-16 09:20:35.615",
          "2025-10-16 09:20:36.028",
          "2025-10-16 09:20:36.444",
          "2025-10-16 09:20:36.857",
          "2025-10-16 09:20:37.271",
          "2025-10-16 09:20:37.683",
          "2025-10-16 09:20:38.096",
          "2025-10-16 09:20:38.510",
          "2025-10-16 09:20:38.913",
          "2025-10-16 09:20:39.323",
          "2025-10-16 09:20:39.732",
          "2025-10-16 09:20:40.145",
          "2025-10-16 09:20:40.561",
          "2025-10-16 09:20:40.977",
          "2025-10-16 09:20:41.401",
          "2025-10-16 09:20:41.836",
          "2025-10-16 09:20:42.285",
          "2025-10-16 09:20:42.736",
          "2025-10-16 09:20:43.188",
          "2025-10-16 09:20:43.646",
          "2025-10-16 09:20:44.100",
          "2025-10-16 09:20:44.559",
          "2025-10-16 09:20:45.021",
          "2025-10-16 09:20:45.485",
          "2025-10-16 09:20:45.942",
          "2025-10-16 09:20:46.399",
          "2025-10-16 09:20:46.858",
          "2025-10-16 09:20:47.310",
          "2025-10-16 09:20:47.760",
          "2025-10-16 09:20:48.208",
          "2025-10-16 09:20:48.655",
          "2025-10-16 09:20:49.100",
          "2025-10-16 09:20:49.545",
          "2025-10-16 09:20:49.986",
          "2025-10-16 09:20:50.429",
          "2025-10-16 09:20:50.874",
          "2025-10-16 09:20:51.318",
          "2025-10-16 09:20:51.761",
          "2025-10-16 09:20:52.201",
          "2025-10-16 09:20:52.649",
          "2025-10-16 09:20:53.096",
          "2025-10-16 09:20:53.546",
          "2025-10-16 09:20:53.993",
          "2025-10-16 09:20:54.439",
          "2025-10-16 09:20:54.886",
          "2025-10-16 09:20:55.327",
          "2025-10-16 09:20:55.771",
          "2025-10-16 09:20:56.206",
          "2025-10-16 09:20:56.644",
          "2025-10-16 09:20:57.082",
          "2025-10-16 09:20:57.520",
          "2025-10-16 09:20:57.951",
          "2025-10-16 09:20:58.383",
          "2025-10-16 09:20:58.813",
          "2025-10-16 09:20:59.245",
          "2025-10-16 09:20:59.679",
          "2025-10-16 09:21:00.110",
          "2025-10-16 09:21:00.543",
          "2025-10-16 09:21:00.975",
          "2025-10-16 09:21:01.403",
          "2025-10-16 09:21:01.831",
          "2025-10-16 09:21:02.260",
          "2025-10-16 09:21:02.693",
          "2025-10-16 09:21:03.119",
          "2025-10-16 09:21:03.545",
          "2025-10-16 09:21:03.969",
          "2025-10-16 09:21:04.391",
          "2025-10-16 09:21:04.817",
          "2025-10-16 09:21:05.238",
          "2025-10-16 09:21:05.661",
          "2025-10-16 09:21:06.088",
          "2025-10-16 09:21:06.510",
          "2025-10-16 09:21:06.936",
          "2025-10-16 09:21:07.366",
          "2025-10-16 09:21:07.795",
          "2025-10-16 09:21:08.215",
          "2025-10-16 09:21:08.641",
          "2025-10-16 09:21:09.070",
          "2025-10-16 09:21:09.499",
          "2025-10-16 09:21:09.921",
          "2025-10-16 09:21:10.348",
          "2025-10-16 09:21:10.779",
          "2025-10-16 09:21:11.206",
          "2025-10-16 09:21:11.632",
          "2025-10-16 09:21:12.059",
          "2025-10-16 09:21:12.485",
          "2025-10-16 09:21:12.914",
          "2025-10-16 09:21:13.341",
          "2025-10-16 09:21:13.770",
          "2025-10-16 09:21:14.198",
          "2025-10-16 09:21:14.628",
          "2025-10-16 09:21:15.055",
          "2025-10-16 09:21:15.485",
          "2025-10-16 09:21:15.913",
          "2025-10-16 09:21:16.341",
          "2025-10-16 09:21:16.765",
          "2025-10-16 09:21:17.190",
          "2025-10-16 09:21:17.620",
          "2025-10-16 09:21:18.053",
          "2025-10-16 09:21:18.486",
          "2025-10-16 09:21:18.913",
          "2025-10-16 09:21:19.343",
          "2025-10-16 09:21:19.775",
          "2025-10-16 09:21:20.207",
          "2025-10-16 09:21:20.642",
          "2025-10-16 09:21:21.076",
          "2025-10-16 09:21:21.511",
          "2025-10-16 09:21:21.943",
          "2025-10-16 09:21:22.377",
          "2025-10-16 09:21:22.814",
          "2025-10-16 09:21:23.252",
          "2025-10-16 09:21:23.690",
          "2025-10-16 09:21:24.129",
          "2025-10-16 09:21:24.566",
          "2025-10-16 09:21:24.999",
          "2025-10-16 09:21:25.435",
          "2025-10-16 09:21:25.866",
          "2025-10-16 09:21:26.303",
          "2025-10-16 09:21:26.736",
          "2025-10-16 09:21:27.163",
          "2025-10-16 09:21:27.591",
          "2025-10-16 09:21:28.018",
          "2025-10-16 09:21:28.447",
          "2025-10-16 09:21:28.872",
          "2025-10-16 09:21:29.296",
          "2025-10-16 09:21:29.724",
          "2025-10-16 09:21:30.150",
          "2025-10-16 09:21:30.582",
          "2025-10-16 09:21:31.014",
          "2025-10-16 09:21:31.444",
          "2025-10-16 09:21:31.873",
          "2025-10-16 09:21:32.305",
          "2025-10-16 09:21:32.743",
          "2025-10-16 09:21:33.179",
          "2025-10-16 09:21:33.625",
          "2025-10-16 09:21:34.065",
          "2025-10-16 09:21:34.518",
          "2025-10-16 09:21:34.968",
          "2025-10-16 09:21:35.407",
          "2025-10-16 09:21:35.850",
          "2025-10-16 09:21:36.288",
          "2025-10-16 09:21:36.738",
          "2025-10-16 09:21:37.184",
          "2025-10-16 09:21:37.630",
          "2025-10-16 09:21:38.074",
          "2025-10-16 09:21:38.516",
          "2025-10-16 09:21:38.954",
          "2025-10-16 09:21:39.387",
          "2025-10-16 09:21:39.820",
          "2025-10-16 09:21:40.246",
          "2025-10-16 09:21:40.678",
          "2025-10-16 09:21:41.107",
          "2025-10-16 09:21:41.533",
          "2025-10-16 09:21:41.961",
          "2025-10-16 09:21:42.396",
          "2025-10-16 09:21:42.825",
          "2025-10-16 09:21:43.254",
          "2025-10-16 09:21:43.685",
          "2025-10-16 09:21:44.115",
          "2025-10-16 09:21:44.547",
          "2025-10-16 09:21:44.980",
          "2025-10-16 09:21:45.418",
          "2025-10-16 09:21:45.848",
          "2025-10-16 09:21:46.276",
          "2025-10-16 09:21:46.706",
          "2025-10-16 09:21:47.134",
          "2025-10-16 09:21:47.561",
          "2025-10-16 09:21:47.986",
          "2025-10-16 09:21:48.414",
          "2025-10-16 09:21:48.840",
          "2025-10-16 09:21:49.266",
          "2025-10-16 09:21:49.694",
          "2025-10-16 09:21:50.120",
          "2025-10-16 09:21:50.550",
          "2025-10-16 09:21:50.974",
          "2025-10-16 09:21:51.399",
          "2025-10-16 09:21:51.827",
          "2025-10-16 09:21:52.249",
          "2025-10-16 09:21:52.675",
          "2025-10-16 09:21:53.101",
          "2025-10-16 09:21:53.533",
          "2025-10-16 09:21:53.962",
          "2025-10-16 09:21:54.386",
          "2025-10-16 09:21:54.809",
          "2025-10-16 09:21:55.233",
          "2025-10-16 09:21:55.656",
          "2025-10-16 09:21:56.077",
          "2025-10-16 09:21:56.498",
          "2025-10-16 09:21:56.915",
          "2025-10-16 09:21:57.333",
          "2025-10-16 09:21:57.755",
          "2025-10-16 09:21:58.173",
          "2025-10-16 09:21:58.596",
          "2025-10-16 09:21:59.019",
          "2025-10-16 09:21:59.444",
          "2025-10-16 09:21:59.864",
          "2025-10-16 09:22:00.283",
          "2025-10-16 09:22:00.702",
          "2025-10-16 09:22:01.121",
          "2025-10-16 09:22:01.539",
          "2025-10-16 09:22:01.954",
          "2025-10-16 09:22:02.366",
          "2025-10-16 09:22:02.784",
          "2025-10-16 09:22:03.192",
          "2025-10-16 09:22:03.603",
          "2025-10-16 09:22:04.011",
          "2025-10-16 09:22:04.421",
          "2025-10-16 09:22:04.832",
          "2025-10-16 09:22:05.243",
          "2025-10-16 09:22:05.658",
          "2025-10-16 09:22:06.074",
          "2025-10-16 09:22:06.489",
          "2025-10-16 09:22:06.905",
          "2025-10-16 09:22:07.322",
          "2025-10-16 09:22:07.744",
          "2025-10-16 09:22:08.164",
          "2025-10-16 09:22:08.594",
          "2025-10-16 09:22:09.019",
          "2025-10-16 09:22:09.448",
          "2025-10-16 09:22:09.874",
          "2025-10-16 09:22:10.292",
          "2025-10-16 09:22:10.710",
          "2025-10-16 09:22:11.123",
          "2025-10-16 09:22:11.537",
          "2025-10-16 09:22:11.948",
          "2025-10-16 09:22:12.359",
          "2025-10-16 09:22:12.773",
          "2025-10-16 09:22:13.182",
          "2025-10-16 09:22:13.597",
          "2025-10-16 09:22:14.005",
          "2025-10-16 09:22:14.419",
          "2025-10-16 09:22:14.832",
          "2025-10-16 09:22:15.243",
          "2025-10-16 09:22:15.656",
          "2025-10-16 09:22:16.074",
          "2025-10-16 09:22:16.491",
          "2025-10-16 09:22:16.914",
          "2025-10-16 09:22:17.333",
          "2025-10-16 09:22:17.750",
          "2025-10-16 09:22:18.168",
          "2025-10-16 09:22:18.591",
          "2025-10-16 09:22:19.006",
          "2025-10-16 09:22:19.422",
          "2025-10-16 09:22:19.840",
          "2025-10-16 09:22:20.258",
          "2025-10-16 09:22:20.682",
          "2025-10-16 09:22:21.097",
          "2025-10-16 09:22:21.513",
          "2025-10-16 09:22:21.931",
          "2025-10-16 09:22:22.348",
          "2025-10-16 09:22:22.766",
          "2025-10-16 09:22:23.187",
          "2025-10-16 09:22:23.608",
          "2025-10-16 09:22:24.027",
          "2025-10-16 09:22:24.442",
          "2025-10-16 09:22:24.855",
          "2025-10-16 09:22:25.268",
          "2025-10-16 09:22:25.682",
          "2025-10-16 09:22:26.098",
          "2025-10-16 09:22:26.515",
          "2025-10-16 09:22:26.926",
          "2025-10-16 09:22:27.338",
          "2025-10-16 09:22:27.750",
          "2025-10-16 09:22:28.171",
          "2025-10-16 09:22:28.588",
          "2025-10-16 09:22:29.003",
          "2025-10-16 09:22:29.417",
          "2025-10-16 09:22:29.833",
          "2025-10-16 09:22:30.251",
          "2025-10-16 09:22:30.671",
          "2025-10-16 09:22:31.090",
          "2025-10-16 09:22:31.506",
          "2025-10-16 09:22:31.916",
          "2025-10-16 09:22:32.324",
          "2025-10-16 09:22:32.736",
          "2025-10-16 09:22:33.142",
          "2025-10-16 09:22:33.551",
          "2025-10-16 09:22:33.957",
          "2025-10-16 09:22:34.364",
          "2025-10-16 09:22:34.772",
          "2025-10-16 09:22:35.176",
          "2025-10-16 09:22:35.585",
          "2025-10-16 09:22:35.992",
          "2025-10-16 09:22:36.398",
          "2025-10-16 09:22:36.802",
          "2025-10-16 09:22:37.207",
          "2025-10-16 09:22:37.616",
          "2025-10-16 09:22:38.026",
          "2025-10-16 09:22:38.435",
          "2025-10-16 09:22:38.844",
          "2025-10-16 09:22:39.252",
          "2025-10-16 09:22:39.660",
          "2025-10-16 09:22:40.066",
          "2025-10-16 09:22:40.472",
          "2025-10-16 09:22:40.878",
          "2025-10-16 09:22:41.283",
          "2025-10-16 09:22:41.691",
          "2025-10-16 09:22:42.095",
          "2025-10-16 09:22:42.500",
          "2025-10-16 09:22:42.905",
          "2025-10-16 09:22:43.312",
          "2025-10-16 09:22:43.718",
          "2025-10-16 09:22:44.126",
          "2025-10-16 09:22:44.538",
          "2025-10-16 09:22:44.953",
          "2025-10-16 09:22:45.367",
          "2025-10-16 09:22:45.781",
          "2025-10-16 09:22:46.193",
          "2025-10-16 09:22:46.607",
          "2025-10-16 09:22:47.017",
          "2025-10-16 09:22:47.428",
          "2025-10-16 09:22:47.837",
          "2025-10-16 09:22:48.248",
          "2025-10-16 09:22:48.660",
          "2025-10-16 09:22:49.071",
          "2025-10-16 09:22:49.485",
          "2025-10-16 09:22:49.900",
          "2025-10-16 09:22:50.315",
          "2025-10-16 09:22:50.733",
          "2025-10-16 09:22:51.149",
          "2025-10-16 09:22:51.572",
          "2025-10-16 09:22:51.990",
          "2025-10-16 09:22:52.414",
          "2025-10-16 09:22:52.835",
          "2025-10-16 09:22:53.257",
          "2025-10-16 09:22:53.683",
          "2025-10-16 09:22:54.108",
          "2025-10-16 09:22:54.531",
          "2025-10-16 09:22:54.953",
          "2025-10-16 09:22:55.373",
          "2025-10-16 09:22:55.796",
          "2025-10-16 09:22:56.214",
          "2025-10-16 09:22:56.633",
          "2025-10-16 09:22:57.049",
          "2025-10-16 09:22:57.466",
          "2025-10-16 09:22:57.883",
          "2025-10-16 09:22:58.294",
          "2025-10-16 09:22:58.708",
          "2025-10-16 09:22:59.123",
          "2025-10-16 09:22:59.540",
          "2025-10-16 09:22:59.959",
          "2025-10-16 09:23:00.376",
          "2025-10-16 09:23:00.791",
          "2025-10-16 09:23:01.206",
          "2025-10-16 09:23:01.625",
          "2025-10-16 09:23:02.041",
          "2025-10-16 09:23:02.459",
          "2025-10-16 09:23:02.874",
          "2025-10-16 09:23:03.292",
          "2025-10-16 09:23:03.710",
          "2025-10-16 09:23:04.127",
          "2025-10-16 09:23:04.547"
         ],
         "xaxis": "x",
         "y": {
          "bdata": "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",
          "dtype": "f8"
         },
         "yaxis": "y"
        }
       ],
       "layout": {
        "legend": {
         "tracegroupgap": 0
        },
        "template": {
         "data": {
          "bar": [
           {
            "error_x": {
             "color": "#2a3f5f"
            },
            "error_y": {
             "color": "#2a3f5f"
            },
            "marker": {
             "line": {
              "color": "#E5ECF6",
              "width": 0.5
             },
             "pattern": {
              "fillmode": "overlay",
              "size": 10,
              "solidity": 0.2
             }
            },
            "type": "bar"
           }
          ],
          "barpolar": [
           {
            "marker": {
             "line": {
              "color": "#E5ECF6",
              "width": 0.5
             },
             "pattern": {
              "fillmode": "overlay",
              "size": 10,
              "solidity": 0.2
             }
            },
            "type": "barpolar"
           }
          ],
          "carpet": [
           {
            "aaxis": {
             "endlinecolor": "#2a3f5f",
             "gridcolor": "white",
             "linecolor": "white",
             "minorgridcolor": "white",
             "startlinecolor": "#2a3f5f"
            },
            "baxis": {
             "endlinecolor": "#2a3f5f",
             "gridcolor": "white",
             "linecolor": "white",
             "minorgridcolor": "white",
             "startlinecolor": "#2a3f5f"
            },
            "type": "carpet"
           }
          ],
          "choropleth": [
           {
            "colorbar": {
             "outlinewidth": 0,
             "ticks": ""
            },
            "type": "choropleth"
           }
          ],
          "contour": [
           {
            "colorbar": {
             "outlinewidth": 0,
             "ticks": ""
            },
            "colorscale": [
             [
              0,
              "#0d0887"
             ],
             [
              0.1111111111111111,
              "#46039f"
             ],
             [
              0.2222222222222222,
              "#7201a8"
             ],
             [
              0.3333333333333333,
              "#9c179e"
             ],
             [
              0.4444444444444444,
              "#bd3786"
             ],
             [
              0.5555555555555556,
              "#d8576b"
             ],
             [
              0.6666666666666666,
              "#ed7953"
             ],
             [
              0.7777777777777778,
              "#fb9f3a"
             ],
             [
              0.8888888888888888,
              "#fdca26"
             ],
             [
              1,
              "#f0f921"
             ]
            ],
            "type": "contour"
           }
          ],
          "contourcarpet": [
           {
            "colorbar": {
             "outlinewidth": 0,
             "ticks": ""
            },
            "type": "contourcarpet"
           }
          ],
          "heatmap": [
           {
            "colorbar": {
             "outlinewidth": 0,
             "ticks": ""
            },
            "colorscale": [
             [
              0,
              "#0d0887"
             ],
             [
              0.1111111111111111,
              "#46039f"
             ],
             [
              0.2222222222222222,
              "#7201a8"
             ],
             [
              0.3333333333333333,
              "#9c179e"
             ],
             [
              0.4444444444444444,
              "#bd3786"
             ],
             [
              0.5555555555555556,
              "#d8576b"
             ],
             [
              0.6666666666666666,
              "#ed7953"
             ],
             [
              0.7777777777777778,
              "#fb9f3a"
             ],
             [
              0.8888888888888888,
              "#fdca26"
             ],
             [
              1,
              "#f0f921"
             ]
            ],
            "type": "heatmap"
           }
          ],
          "histogram": [
           {
            "marker": {
             "pattern": {
              "fillmode": "overlay",
              "size": 10,
              "solidity": 0.2
             }
            },
            "type": "histogram"
           }
          ],
          "histogram2d": [
           {
            "colorbar": {
             "outlinewidth": 0,
             "ticks": ""
            },
            "colorscale": [
             [
              0,
              "#0d0887"
             ],
             [
              0.1111111111111111,
              "#46039f"
             ],
             [
              0.2222222222222222,
              "#7201a8"
             ],
             [
              0.3333333333333333,
              "#9c179e"
             ],
             [
              0.4444444444444444,
              "#bd3786"
             ],
             [
              0.5555555555555556,
              "#d8576b"
             ],
             [
              0.6666666666666666,
              "#ed7953"
             ],
             [
              0.7777777777777778,
              "#fb9f3a"
             ],
             [
              0.8888888888888888,
              "#fdca26"
             ],
             [
              1,
              "#f0f921"
             ]
            ],
            "type": "histogram2d"
           }
          ],
          "histogram2dcontour": [
           {
            "colorbar": {
             "outlinewidth": 0,
             "ticks": ""
            },
            "colorscale": [
             [
              0,
              "#0d0887"
             ],
             [
              0.1111111111111111,
              "#46039f"
             ],
             [
              0.2222222222222222,
              "#7201a8"
             ],
             [
              0.3333333333333333,
              "#9c179e"
             ],
             [
              0.4444444444444444,
              "#bd3786"
             ],
             [
              0.5555555555555556,
              "#d8576b"
             ],
             [
              0.6666666666666666,
              "#ed7953"
             ],
             [
              0.7777777777777778,
              "#fb9f3a"
             ],
             [
              0.8888888888888888,
              "#fdca26"
             ],
             [
              1,
              "#f0f921"
             ]
            ],
            "type": "histogram2dcontour"
           }
          ],
          "mesh3d": [
           {
            "colorbar": {
             "outlinewidth": 0,
             "ticks": ""
            },
            "type": "mesh3d"
           }
          ],
          "parcoords": [
           {
            "line": {
             "colorbar": {
              "outlinewidth": 0,
              "ticks": ""
             }
            },
            "type": "parcoords"
           }
          ],
          "pie": [
           {
            "automargin": true,
            "type": "pie"
           }
          ],
          "scatter": [
           {
            "fillpattern": {
             "fillmode": "overlay",
             "size": 10,
             "solidity": 0.2
            },
            "type": "scatter"
           }
          ],
          "scatter3d": [
           {
            "line": {
             "colorbar": {
              "outlinewidth": 0,
              "ticks": ""
             }
            },
            "marker": {
             "colorbar": {
              "outlinewidth": 0,
              "ticks": ""
             }
            },
            "type": "scatter3d"
           }
          ],
          "scattercarpet": [
           {
            "marker": {
             "colorbar": {
              "outlinewidth": 0,
              "ticks": ""
             }
            },
            "type": "scattercarpet"
           }
          ],
          "scattergeo": [
           {
            "marker": {
             "colorbar": {
              "outlinewidth": 0,
              "ticks": ""
             }
            },
            "type": "scattergeo"
           }
          ],
          "scattergl": [
           {
            "marker": {
             "colorbar": {
              "outlinewidth": 0,
              "ticks": ""
             }
            },
            "type": "scattergl"
           }
          ],
          "scattermap": [
           {
            "marker": {
             "colorbar": {
              "outlinewidth": 0,
              "ticks": ""
             }
            },
            "type": "scattermap"
           }
          ],
          "scattermapbox": [
           {
            "marker": {
             "colorbar": {
              "outlinewidth": 0,
              "ticks": ""
             }
            },
            "type": "scattermapbox"
           }
          ],
          "scatterpolar": [
           {
            "marker": {
             "colorbar": {
              "outlinewidth": 0,
              "ticks": ""
             }
            },
            "type": "scatterpolar"
           }
          ],
          "scatterpolargl": [
           {
            "marker": {
             "colorbar": {
              "outlinewidth": 0,
              "ticks": ""
             }
            },
            "type": "scatterpolargl"
           }
          ],
          "scatterternary": [
           {
            "marker": {
             "colorbar": {
              "outlinewidth": 0,
              "ticks": ""
             }
            },
            "type": "scatterternary"
           }
          ],
          "surface": [
           {
            "colorbar": {
             "outlinewidth": 0,
             "ticks": ""
            },
            "colorscale": [
             [
              0,
              "#0d0887"
             ],
             [
              0.1111111111111111,
              "#46039f"
             ],
             [
              0.2222222222222222,
              "#7201a8"
             ],
             [
              0.3333333333333333,
              "#9c179e"
             ],
             [
              0.4444444444444444,
              "#bd3786"
             ],
             [
              0.5555555555555556,
              "#d8576b"
             ],
             [
              0.6666666666666666,
              "#ed7953"
             ],
             [
              0.7777777777777778,
              "#fb9f3a"
             ],
             [
              0.8888888888888888,
              "#fdca26"
             ],
             [
              1,
              "#f0f921"
             ]
            ],
            "type": "surface"
           }
          ],
          "table": [
           {
            "cells": {
             "fill": {
              "color": "#EBF0F8"
             },
             "line": {
              "color": "white"
             }
            },
            "header": {
             "fill": {
              "color": "#C8D4E3"
             },
             "line": {
              "color": "white"
             }
            },
            "type": "table"
           }
          ]
         },
         "layout": {
          "annotationdefaults": {
           "arrowcolor": "#2a3f5f",
           "arrowhead": 0,
           "arrowwidth": 1
          },
          "autotypenumbers": "strict",
          "coloraxis": {
           "colorbar": {
            "outlinewidth": 0,
            "ticks": ""
           }
          },
          "colorscale": {
           "diverging": [
            [
             0,
             "#8e0152"
            ],
            [
             0.1,
             "#c51b7d"
            ],
            [
             0.2,
             "#de77ae"
            ],
            [
             0.3,
             "#f1b6da"
            ],
            [
             0.4,
             "#fde0ef"
            ],
            [
             0.5,
             "#f7f7f7"
            ],
            [
             0.6,
             "#e6f5d0"
            ],
            [
             0.7,
             "#b8e186"
            ],
            [
             0.8,
             "#7fbc41"
            ],
            [
             0.9,
             "#4d9221"
            ],
            [
             1,
             "#276419"
            ]
           ],
           "sequential": [
            [
             0,
             "#0d0887"
            ],
            [
             0.1111111111111111,
             "#46039f"
            ],
            [
             0.2222222222222222,
             "#7201a8"
            ],
            [
             0.3333333333333333,
             "#9c179e"
            ],
            [
             0.4444444444444444,
             "#bd3786"
            ],
            [
             0.5555555555555556,
             "#d8576b"
            ],
            [
             0.6666666666666666,
             "#ed7953"
            ],
            [
             0.7777777777777778,
             "#fb9f3a"
            ],
            [
             0.8888888888888888,
             "#fdca26"
            ],
            [
             1,
             "#f0f921"
            ]
           ],
           "sequentialminus": [
            [
             0,
             "#0d0887"
            ],
            [
             0.1111111111111111,
             "#46039f"
            ],
            [
             0.2222222222222222,
             "#7201a8"
            ],
            [
             0.3333333333333333,
             "#9c179e"
            ],
            [
             0.4444444444444444,
             "#bd3786"
            ],
            [
             0.5555555555555556,
             "#d8576b"
            ],
            [
             0.6666666666666666,
             "#ed7953"
            ],
            [
             0.7777777777777778,
             "#fb9f3a"
            ],
            [
             0.8888888888888888,
             "#fdca26"
            ],
            [
             1,
             "#f0f921"
            ]
           ]
          },
          "colorway": [
           "#636efa",
           "#EF553B",
           "#00cc96",
           "#ab63fa",
           "#FFA15A",
           "#19d3f3",
           "#FF6692",
           "#B6E880",
           "#FF97FF",
           "#FECB52"
          ],
          "font": {
           "color": "#2a3f5f"
          },
          "geo": {
           "bgcolor": "white",
           "lakecolor": "white",
           "landcolor": "#E5ECF6",
           "showlakes": true,
           "showland": true,
           "subunitcolor": "white"
          },
          "hoverlabel": {
           "align": "left"
          },
          "hovermode": "closest",
          "mapbox": {
           "style": "light"
          },
          "paper_bgcolor": "white",
          "plot_bgcolor": "#E5ECF6",
          "polar": {
           "angularaxis": {
            "gridcolor": "white",
            "linecolor": "white",
            "ticks": ""
           },
           "bgcolor": "#E5ECF6",
           "radialaxis": {
            "gridcolor": "white",
            "linecolor": "white",
            "ticks": ""
           }
          },
          "scene": {
           "xaxis": {
            "backgroundcolor": "#E5ECF6",
            "gridcolor": "white",
            "gridwidth": 2,
            "linecolor": "white",
            "showbackground": true,
            "ticks": "",
            "zerolinecolor": "white"
           },
           "yaxis": {
            "backgroundcolor": "#E5ECF6",
            "gridcolor": "white",
            "gridwidth": 2,
            "linecolor": "white",
            "showbackground": true,
            "ticks": "",
            "zerolinecolor": "white"
           },
           "zaxis": {
            "backgroundcolor": "#E5ECF6",
            "gridcolor": "white",
            "gridwidth": 2,
            "linecolor": "white",
            "showbackground": true,
            "ticks": "",
            "zerolinecolor": "white"
           }
          },
          "shapedefaults": {
           "line": {
            "color": "#2a3f5f"
           }
          },
          "ternary": {
           "aaxis": {
            "gridcolor": "white",
            "linecolor": "white",
            "ticks": ""
           },
           "baxis": {
            "gridcolor": "white",
            "linecolor": "white",
            "ticks": ""
           },
           "bgcolor": "#E5ECF6",
           "caxis": {
            "gridcolor": "white",
            "linecolor": "white",
            "ticks": ""
           }
          },
          "title": {
           "x": 0.05
          },
          "xaxis": {
           "automargin": true,
           "gridcolor": "white",
           "linecolor": "white",
           "ticks": "",
           "title": {
            "standoff": 15
           },
           "zerolinecolor": "white",
           "zerolinewidth": 2
          },
          "yaxis": {
           "automargin": true,
           "gridcolor": "white",
           "linecolor": "white",
           "ticks": "",
           "title": {
            "standoff": 15
           },
           "zerolinecolor": "white",
           "zerolinewidth": 2
          }
         }
        },
        "title": {
         "text": "Heart Rate over Time for linamic_activity_intensity_1_cleaned_lsdlpr25.csv"
        },
        "xaxis": {
         "anchor": "y",
         "domain": [
          0,
          1
         ],
         "title": {
          "text": "time"
         }
        },
        "yaxis": {
         "anchor": "x",
         "domain": [
          0,
          1
         ],
         "title": {
          "text": "bpm_raw"
         }
        }
       }
      }
     },
     "metadata": {},
     "output_type": "display_data"
    },
    {
     "data": {
      "application/vnd.plotly.v1+json": {
       "config": {
        "plotlyServerURL": "https://plot.ly"
       },
       "data": [
        {
         "hovertemplate": "time=%{x}<br>bpm_raw=%{y}<extra></extra>",
         "legendgroup": "",
         "line": {
          "color": "#636efa",
          "dash": "solid"
         },
         "marker": {
          "symbol": "circle"
         },
         "mode": "lines",
         "name": "",
         "orientation": "v",
         "showlegend": false,
         "type": "scatter",
         "x": [
          "2025-10-16 09:20:31.706",
          "2025-10-16 09:20:32.441",
          "2025-10-16 09:20:33.178",
          "2025-10-16 09:20:33.866",
          "2025-10-16 09:20:34.561",
          "2025-10-16 09:20:35.200",
          "2025-10-16 09:20:35.812",
          "2025-10-16 09:20:36.379",
          "2025-10-16 09:20:36.793",
          "2025-10-16 09:20:37.433",
          "2025-10-16 09:20:38.005",
          "2025-10-16 09:20:38.540",
          "2025-10-16 09:20:39.074",
          "2025-10-16 09:20:39.601",
          "2025-10-16 09:20:40.138",
          "2025-10-16 09:20:40.672",
          "2025-10-16 09:20:41.220",
          "2025-10-16 09:20:41.766",
          "2025-10-16 09:20:42.316",
          "2025-10-16 09:20:42.873",
          "2025-10-16 09:20:43.443",
          "2025-10-16 09:20:44.005",
          "2025-10-16 09:20:44.580",
          "2025-10-16 09:20:45.159",
          "2025-10-16 09:20:45.741",
          "2025-10-16 09:20:46.309",
          "2025-10-16 09:20:46.873",
          "2025-10-16 09:20:47.439",
          "2025-10-16 09:20:48.004",
          "2025-10-16 09:20:48.559",
          "2025-10-16 09:20:49.108",
          "2025-10-16 09:20:49.654",
          "2025-10-16 09:20:50.197",
          "2025-10-16 09:20:50.733",
          "2025-10-16 09:20:51.268",
          "2025-10-16 09:20:51.819",
          "2025-10-16 09:20:52.358",
          "2025-10-16 09:20:52.887",
          "2025-10-16 09:20:53.408",
          "2025-10-16 09:20:53.928",
          "2025-10-16 09:20:54.442",
          "2025-10-16 09:20:54.954",
          "2025-10-16 09:20:55.464",
          "2025-10-16 09:20:55.972",
          "2025-10-16 09:20:56.324",
          "2025-10-16 09:20:56.988",
          "2025-10-16 09:20:57.500",
          "2025-10-16 09:20:58.013",
          "2025-10-16 09:20:58.536",
          "2025-10-16 09:20:59.052",
          "2025-10-16 09:20:59.571",
          "2025-10-16 09:21:00.093",
          "2025-10-16 09:21:00.613",
          "2025-10-16 09:21:01.129",
          "2025-10-16 09:21:01.649",
          "2025-10-16 09:21:02.173",
          "2025-10-16 09:21:02.699",
          "2025-10-16 09:21:03.218",
          "2025-10-16 09:21:03.741",
          "2025-10-16 09:21:04.266",
          "2025-10-16 09:21:04.791",
          "2025-10-16 09:21:05.302",
          "2025-10-16 09:21:05.844",
          "2025-10-16 09:21:06.363",
          "2025-10-16 09:21:06.872",
          "2025-10-16 09:21:07.376",
          "2025-10-16 09:21:07.880",
          "2025-10-16 09:21:09.374",
          "2025-10-16 09:21:09.881",
          "2025-10-16 09:21:10.388",
          "2025-10-16 09:21:10.900",
          "2025-10-16 09:21:11.414",
          "2025-10-16 09:21:11.943",
          "2025-10-16 09:21:12.458",
          "2025-10-16 09:21:12.958",
          "2025-10-16 09:21:13.479",
          "2025-10-16 09:21:13.963",
          "2025-10-16 09:21:14.451",
          "2025-10-16 09:21:14.940",
          "2025-10-16 09:21:15.420",
          "2025-10-16 09:21:15.894",
          "2025-10-16 09:21:16.364",
          "2025-10-16 09:21:16.842",
          "2025-10-16 09:21:17.310",
          "2025-10-16 09:21:17.773",
          "2025-10-16 09:21:18.240",
          "2025-10-16 09:21:18.706",
          "2025-10-16 09:21:19.167",
          "2025-10-16 09:21:19.624",
          "2025-10-16 09:21:20.082",
          "2025-10-16 09:21:20.541",
          "2025-10-16 09:21:20.999",
          "2025-10-16 09:21:21.451",
          "2025-10-16 09:21:21.910",
          "2025-10-16 09:21:22.365",
          "2025-10-16 09:21:22.821",
          "2025-10-16 09:21:23.278",
          "2025-10-16 09:21:23.745",
          "2025-10-16 09:21:24.210",
          "2025-10-16 09:21:24.673",
          "2025-10-16 09:21:25.138",
          "2025-10-16 09:21:25.609",
          "2025-10-16 09:21:26.084",
          "2025-10-16 09:21:26.557",
          "2025-10-16 09:21:27.031",
          "2025-10-16 09:21:27.510",
          "2025-10-16 09:21:27.993",
          "2025-10-16 09:21:28.477",
          "2025-10-16 09:21:28.956",
          "2025-10-16 09:21:29.438",
          "2025-10-16 09:21:29.924",
          "2025-10-16 09:21:30.414",
          "2025-10-16 09:21:30.912",
          "2025-10-16 09:21:31.410",
          "2025-10-16 09:21:31.898",
          "2025-10-16 09:21:32.386",
          "2025-10-16 09:21:32.869",
          "2025-10-16 09:21:33.343",
          "2025-10-16 09:21:33.807",
          "2025-10-16 09:21:34.278",
          "2025-10-16 09:21:34.750",
          "2025-10-16 09:21:35.216",
          "2025-10-16 09:21:35.688",
          "2025-10-16 09:21:36.161",
          "2025-10-16 09:21:36.638",
          "2025-10-16 09:21:37.118",
          "2025-10-16 09:21:37.597",
          "2025-10-16 09:21:38.069",
          "2025-10-16 09:21:38.546",
          "2025-10-16 09:21:39.020",
          "2025-10-16 09:21:39.485",
          "2025-10-16 09:21:39.944",
          "2025-10-16 09:21:40.403",
          "2025-10-16 09:21:40.863",
          "2025-10-16 09:21:41.325",
          "2025-10-16 09:21:41.779",
          "2025-10-16 09:21:42.231",
          "2025-10-16 09:21:42.681",
          "2025-10-16 09:21:43.133",
          "2025-10-16 09:21:43.582",
          "2025-10-16 09:21:44.025",
          "2025-10-16 09:21:44.466",
          "2025-10-16 09:21:44.909",
          "2025-10-16 09:21:45.356",
          "2025-10-16 09:21:45.797",
          "2025-10-16 09:21:46.235",
          "2025-10-16 09:21:46.674",
          "2025-10-16 09:21:47.118",
          "2025-10-16 09:21:47.561",
          "2025-10-16 09:21:47.997",
          "2025-10-16 09:21:48.433",
          "2025-10-16 09:21:48.872",
          "2025-10-16 09:21:49.310",
          "2025-10-16 09:21:49.748",
          "2025-10-16 09:21:50.180",
          "2025-10-16 09:21:50.613",
          "2025-10-16 09:21:51.048",
          "2025-10-16 09:21:51.484",
          "2025-10-16 09:21:51.914",
          "2025-10-16 09:21:52.344",
          "2025-10-16 09:21:52.776",
          "2025-10-16 09:21:53.207",
          "2025-10-16 09:21:53.636",
          "2025-10-16 09:21:54.062",
          "2025-10-16 09:21:54.492",
          "2025-10-16 09:21:54.919",
          "2025-10-16 09:21:55.342",
          "2025-10-16 09:21:55.768",
          "2025-10-16 09:21:56.198",
          "2025-10-16 09:21:56.627",
          "2025-10-16 09:21:57.055",
          "2025-10-16 09:21:57.480",
          "2025-10-16 09:21:57.908",
          "2025-10-16 09:21:58.333",
          "2025-10-16 09:21:58.761",
          "2025-10-16 09:21:59.189",
          "2025-10-16 09:21:59.610",
          "2025-10-16 09:22:00.037",
          "2025-10-16 09:22:00.463",
          "2025-10-16 09:22:00.892",
          "2025-10-16 09:22:01.318",
          "2025-10-16 09:22:01.750",
          "2025-10-16 09:22:02.182",
          "2025-10-16 09:22:02.614",
          "2025-10-16 09:22:03.044",
          "2025-10-16 09:22:03.477",
          "2025-10-16 09:22:03.909",
          "2025-10-16 09:22:04.332",
          "2025-10-16 09:22:04.765",
          "2025-10-16 09:22:05.198",
          "2025-10-16 09:22:05.633",
          "2025-10-16 09:22:06.065",
          "2025-10-16 09:22:06.496",
          "2025-10-16 09:22:06.929",
          "2025-10-16 09:22:07.359",
          "2025-10-16 09:22:07.786",
          "2025-10-16 09:22:08.217",
          "2025-10-16 09:22:08.649",
          "2025-10-16 09:22:09.079",
          "2025-10-16 09:22:09.509",
          "2025-10-16 09:22:09.937",
          "2025-10-16 09:22:10.365",
          "2025-10-16 09:22:10.792",
          "2025-10-16 09:22:11.214",
          "2025-10-16 09:22:11.640",
          "2025-10-16 09:22:12.064",
          "2025-10-16 09:22:12.488",
          "2025-10-16 09:22:12.910",
          "2025-10-16 09:22:13.322",
          "2025-10-16 09:22:13.743",
          "2025-10-16 09:22:14.163",
          "2025-10-16 09:22:14.580",
          "2025-10-16 09:22:14.993",
          "2025-10-16 09:22:15.407",
          "2025-10-16 09:22:15.827",
          "2025-10-16 09:22:16.248",
          "2025-10-16 09:22:16.671",
          "2025-10-16 09:22:17.090",
          "2025-10-16 09:22:17.505",
          "2025-10-16 09:22:17.918",
          "2025-10-16 09:22:18.335",
          "2025-10-16 09:22:18.757",
          "2025-10-16 09:22:19.175",
          "2025-10-16 09:22:19.591",
          "2025-10-16 09:22:20.006",
          "2025-10-16 09:22:20.425",
          "2025-10-16 09:22:20.845",
          "2025-10-16 09:22:21.262",
          "2025-10-16 09:22:21.679",
          "2025-10-16 09:22:22.098",
          "2025-10-16 09:22:22.522",
          "2025-10-16 09:22:22.947",
          "2025-10-16 09:22:23.372",
          "2025-10-16 09:22:23.795",
          "2025-10-16 09:22:24.210",
          "2025-10-16 09:22:24.625",
          "2025-10-16 09:22:25.033",
          "2025-10-16 09:22:25.452",
          "2025-10-16 09:22:25.870",
          "2025-10-16 09:22:26.283",
          "2025-10-16 09:22:26.696",
          "2025-10-16 09:22:27.113",
          "2025-10-16 09:22:27.529",
          "2025-10-16 09:22:27.937",
          "2025-10-16 09:22:28.354",
          "2025-10-16 09:22:28.773",
          "2025-10-16 09:22:29.192",
          "2025-10-16 09:22:29.608",
          "2025-10-16 09:22:30.039",
          "2025-10-16 09:22:30.476",
          "2025-10-16 09:22:30.916",
          "2025-10-16 09:22:31.354"
         ],
         "xaxis": "x",
         "y": {
          "bdata": "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",
          "dtype": "f8"
         },
         "yaxis": "y"
        }
       ],
       "layout": {
        "legend": {
         "tracegroupgap": 0
        },
        "template": {
         "data": {
          "bar": [
           {
            "error_x": {
             "color": "#2a3f5f"
            },
            "error_y": {
             "color": "#2a3f5f"
            },
            "marker": {
             "line": {
              "color": "#E5ECF6",
              "width": 0.5
             },
             "pattern": {
              "fillmode": "overlay",
              "size": 10,
              "solidity": 0.2
             }
            },
            "type": "bar"
           }
          ],
          "barpolar": [
           {
            "marker": {
             "line": {
              "color": "#E5ECF6",
              "width": 0.5
             },
             "pattern": {
              "fillmode": "overlay",
              "size": 10,
              "solidity": 0.2
             }
            },
            "type": "barpolar"
           }
          ],
          "carpet": [
           {
            "aaxis": {
             "endlinecolor": "#2a3f5f",
             "gridcolor": "white",
             "linecolor": "white",
             "minorgridcolor": "white",
             "startlinecolor": "#2a3f5f"
            },
            "baxis": {
             "endlinecolor": "#2a3f5f",
             "gridcolor": "white",
             "linecolor": "white",
             "minorgridcolor": "white",
             "startlinecolor": "#2a3f5f"
            },
            "type": "carpet"
           }
          ],
          "choropleth": [
           {
            "colorbar": {
             "outlinewidth": 0,
             "ticks": ""
            },
            "type": "choropleth"
           }
          ],
          "contour": [
           {
            "colorbar": {
             "outlinewidth": 0,
             "ticks": ""
            },
            "colorscale": [
             [
              0,
              "#0d0887"
             ],
             [
              0.1111111111111111,
              "#46039f"
             ],
             [
              0.2222222222222222,
              "#7201a8"
             ],
             [
              0.3333333333333333,
              "#9c179e"
             ],
             [
              0.4444444444444444,
              "#bd3786"
             ],
             [
              0.5555555555555556,
              "#d8576b"
             ],
             [
              0.6666666666666666,
              "#ed7953"
             ],
             [
              0.7777777777777778,
              "#fb9f3a"
             ],
             [
              0.8888888888888888,
              "#fdca26"
             ],
             [
              1,
              "#f0f921"
             ]
            ],
            "type": "contour"
           }
          ],
          "contourcarpet": [
           {
            "colorbar": {
             "outlinewidth": 0,
             "ticks": ""
            },
            "type": "contourcarpet"
           }
          ],
          "heatmap": [
           {
            "colorbar": {
             "outlinewidth": 0,
             "ticks": ""
            },
            "colorscale": [
             [
              0,
              "#0d0887"
             ],
             [
              0.1111111111111111,
              "#46039f"
             ],
             [
              0.2222222222222222,
              "#7201a8"
             ],
             [
              0.3333333333333333,
              "#9c179e"
             ],
             [
              0.4444444444444444,
              "#bd3786"
             ],
             [
              0.5555555555555556,
              "#d8576b"
             ],
             [
              0.6666666666666666,
              "#ed7953"
             ],
             [
              0.7777777777777778,
              "#fb9f3a"
             ],
             [
              0.8888888888888888,
              "#fdca26"
             ],
             [
              1,
              "#f0f921"
             ]
            ],
            "type": "heatmap"
           }
          ],
          "histogram": [
           {
            "marker": {
             "pattern": {
              "fillmode": "overlay",
              "size": 10,
              "solidity": 0.2
             }
            },
            "type": "histogram"
           }
          ],
          "histogram2d": [
           {
            "colorbar": {
             "outlinewidth": 0,
             "ticks": ""
            },
            "colorscale": [
             [
              0,
              "#0d0887"
             ],
             [
              0.1111111111111111,
              "#46039f"
             ],
             [
              0.2222222222222222,
              "#7201a8"
             ],
             [
              0.3333333333333333,
              "#9c179e"
             ],
             [
              0.4444444444444444,
              "#bd3786"
             ],
             [
              0.5555555555555556,
              "#d8576b"
             ],
             [
              0.6666666666666666,
              "#ed7953"
             ],
             [
              0.7777777777777778,
              "#fb9f3a"
             ],
             [
              0.8888888888888888,
              "#fdca26"
             ],
             [
              1,
              "#f0f921"
             ]
            ],
            "type": "histogram2d"
           }
          ],
          "histogram2dcontour": [
           {
            "colorbar": {
             "outlinewidth": 0,
             "ticks": ""
            },
            "colorscale": [
             [
              0,
              "#0d0887"
             ],
             [
              0.1111111111111111,
              "#46039f"
             ],
             [
              0.2222222222222222,
              "#7201a8"
             ],
             [
              0.3333333333333333,
              "#9c179e"
             ],
             [
              0.4444444444444444,
              "#bd3786"
             ],
             [
              0.5555555555555556,
              "#d8576b"
             ],
             [
              0.6666666666666666,
              "#ed7953"
             ],
             [
              0.7777777777777778,
              "#fb9f3a"
             ],
             [
              0.8888888888888888,
              "#fdca26"
             ],
             [
              1,
              "#f0f921"
             ]
            ],
            "type": "histogram2dcontour"
           }
          ],
          "mesh3d": [
           {
            "colorbar": {
             "outlinewidth": 0,
             "ticks": ""
            },
            "type": "mesh3d"
           }
          ],
          "parcoords": [
           {
            "line": {
             "colorbar": {
              "outlinewidth": 0,
              "ticks": ""
             }
            },
            "type": "parcoords"
           }
          ],
          "pie": [
           {
            "automargin": true,
            "type": "pie"
           }
          ],
          "scatter": [
           {
            "fillpattern": {
             "fillmode": "overlay",
             "size": 10,
             "solidity": 0.2
            },
            "type": "scatter"
           }
          ],
          "scatter3d": [
           {
            "line": {
             "colorbar": {
              "outlinewidth": 0,
              "ticks": ""
             }
            },
            "marker": {
             "colorbar": {
              "outlinewidth": 0,
              "ticks": ""
             }
            },
            "type": "scatter3d"
           }
          ],
          "scattercarpet": [
           {
            "marker": {
             "colorbar": {
              "outlinewidth": 0,
              "ticks": ""
             }
            },
            "type": "scattercarpet"
           }
          ],
          "scattergeo": [
           {
            "marker": {
             "colorbar": {
              "outlinewidth": 0,
              "ticks": ""
             }
            },
            "type": "scattergeo"
           }
          ],
          "scattergl": [
           {
            "marker": {
             "colorbar": {
              "outlinewidth": 0,
              "ticks": ""
             }
            },
            "type": "scattergl"
           }
          ],
          "scattermap": [
           {
            "marker": {
             "colorbar": {
              "outlinewidth": 0,
              "ticks": ""
             }
            },
            "type": "scattermap"
           }
          ],
          "scattermapbox": [
           {
            "marker": {
             "colorbar": {
              "outlinewidth": 0,
              "ticks": ""
             }
            },
            "type": "scattermapbox"
           }
          ],
          "scatterpolar": [
           {
            "marker": {
             "colorbar": {
              "outlinewidth": 0,
              "ticks": ""
             }
            },
            "type": "scatterpolar"
           }
          ],
          "scatterpolargl": [
           {
            "marker": {
             "colorbar": {
              "outlinewidth": 0,
              "ticks": ""
             }
            },
            "type": "scatterpolargl"
           }
          ],
          "scatterternary": [
           {
            "marker": {
             "colorbar": {
              "outlinewidth": 0,
              "ticks": ""
             }
            },
            "type": "scatterternary"
           }
          ],
          "surface": [
           {
            "colorbar": {
             "outlinewidth": 0,
             "ticks": ""
            },
            "colorscale": [
             [
              0,
              "#0d0887"
             ],
             [
              0.1111111111111111,
              "#46039f"
             ],
             [
              0.2222222222222222,
              "#7201a8"
             ],
             [
              0.3333333333333333,
              "#9c179e"
             ],
             [
              0.4444444444444444,
              "#bd3786"
             ],
             [
              0.5555555555555556,
              "#d8576b"
             ],
             [
              0.6666666666666666,
              "#ed7953"
             ],
             [
              0.7777777777777778,
              "#fb9f3a"
             ],
             [
              0.8888888888888888,
              "#fdca26"
             ],
             [
              1,
              "#f0f921"
             ]
            ],
            "type": "surface"
           }
          ],
          "table": [
           {
            "cells": {
             "fill": {
              "color": "#EBF0F8"
             },
             "line": {
              "color": "white"
             }
            },
            "header": {
             "fill": {
              "color": "#C8D4E3"
             },
             "line": {
              "color": "white"
             }
            },
            "type": "table"
           }
          ]
         },
         "layout": {
          "annotationdefaults": {
           "arrowcolor": "#2a3f5f",
           "arrowhead": 0,
           "arrowwidth": 1
          },
          "autotypenumbers": "strict",
          "coloraxis": {
           "colorbar": {
            "outlinewidth": 0,
            "ticks": ""
           }
          },
          "colorscale": {
           "diverging": [
            [
             0,
             "#8e0152"
            ],
            [
             0.1,
             "#c51b7d"
            ],
            [
             0.2,
             "#de77ae"
            ],
            [
             0.3,
             "#f1b6da"
            ],
            [
             0.4,
             "#fde0ef"
            ],
            [
             0.5,
             "#f7f7f7"
            ],
            [
             0.6,
             "#e6f5d0"
            ],
            [
             0.7,
             "#b8e186"
            ],
            [
             0.8,
             "#7fbc41"
            ],
            [
             0.9,
             "#4d9221"
            ],
            [
             1,
             "#276419"
            ]
           ],
           "sequential": [
            [
             0,
             "#0d0887"
            ],
            [
             0.1111111111111111,
             "#46039f"
            ],
            [
             0.2222222222222222,
             "#7201a8"
            ],
            [
             0.3333333333333333,
             "#9c179e"
            ],
            [
             0.4444444444444444,
             "#bd3786"
            ],
            [
             0.5555555555555556,
             "#d8576b"
            ],
            [
             0.6666666666666666,
             "#ed7953"
            ],
            [
             0.7777777777777778,
             "#fb9f3a"
            ],
            [
             0.8888888888888888,
             "#fdca26"
            ],
            [
             1,
             "#f0f921"
            ]
           ],
           "sequentialminus": [
            [
             0,
             "#0d0887"
            ],
            [
             0.1111111111111111,
             "#46039f"
            ],
            [
             0.2222222222222222,
             "#7201a8"
            ],
            [
             0.3333333333333333,
             "#9c179e"
            ],
            [
             0.4444444444444444,
             "#bd3786"
            ],
            [
             0.5555555555555556,
             "#d8576b"
            ],
            [
             0.6666666666666666,
             "#ed7953"
            ],
            [
             0.7777777777777778,
             "#fb9f3a"
            ],
            [
             0.8888888888888888,
             "#fdca26"
            ],
            [
             1,
             "#f0f921"
            ]
           ]
          },
          "colorway": [
           "#636efa",
           "#EF553B",
           "#00cc96",
           "#ab63fa",
           "#FFA15A",
           "#19d3f3",
           "#FF6692",
           "#B6E880",
           "#FF97FF",
           "#FECB52"
          ],
          "font": {
           "color": "#2a3f5f"
          },
          "geo": {
           "bgcolor": "white",
           "lakecolor": "white",
           "landcolor": "#E5ECF6",
           "showlakes": true,
           "showland": true,
           "subunitcolor": "white"
          },
          "hoverlabel": {
           "align": "left"
          },
          "hovermode": "closest",
          "mapbox": {
           "style": "light"
          },
          "paper_bgcolor": "white",
          "plot_bgcolor": "#E5ECF6",
          "polar": {
           "angularaxis": {
            "gridcolor": "white",
            "linecolor": "white",
            "ticks": ""
           },
           "bgcolor": "#E5ECF6",
           "radialaxis": {
            "gridcolor": "white",
            "linecolor": "white",
            "ticks": ""
           }
          },
          "scene": {
           "xaxis": {
            "backgroundcolor": "#E5ECF6",
            "gridcolor": "white",
            "gridwidth": 2,
            "linecolor": "white",
            "showbackground": true,
            "ticks": "",
            "zerolinecolor": "white"
           },
           "yaxis": {
            "backgroundcolor": "#E5ECF6",
            "gridcolor": "white",
            "gridwidth": 2,
            "linecolor": "white",
            "showbackground": true,
            "ticks": "",
            "zerolinecolor": "white"
           },
           "zaxis": {
            "backgroundcolor": "#E5ECF6",
            "gridcolor": "white",
            "gridwidth": 2,
            "linecolor": "white",
            "showbackground": true,
            "ticks": "",
            "zerolinecolor": "white"
           }
          },
          "shapedefaults": {
           "line": {
            "color": "#2a3f5f"
           }
          },
          "ternary": {
           "aaxis": {
            "gridcolor": "white",
            "linecolor": "white",
            "ticks": ""
           },
           "baxis": {
            "gridcolor": "white",
            "linecolor": "white",
            "ticks": ""
           },
           "bgcolor": "#E5ECF6",
           "caxis": {
            "gridcolor": "white",
            "linecolor": "white",
            "ticks": ""
           }
          },
          "title": {
           "x": 0.05
          },
          "xaxis": {
           "automargin": true,
           "gridcolor": "white",
           "linecolor": "white",
           "ticks": "",
           "title": {
            "standoff": 15
           },
           "zerolinecolor": "white",
           "zerolinewidth": 2
          },
          "yaxis": {
           "automargin": true,
           "gridcolor": "white",
           "linecolor": "white",
           "ticks": "",
           "title": {
            "standoff": 15
           },
           "zerolinecolor": "white",
           "zerolinewidth": 2
          }
         }
        },
        "title": {
         "text": "Heart Rate over Time for halero01_activity_intensity_1_cleaned_lsdlpr25.csv"
        },
        "xaxis": {
         "anchor": "y",
         "domain": [
          0,
          1
         ],
         "title": {
          "text": "time"
         }
        },
        "yaxis": {
         "anchor": "x",
         "domain": [
          0,
          1
         ],
         "title": {
          "text": "bpm_raw"
         }
        }
       }
      }
     },
     "metadata": {},
     "output_type": "display_data"
    },
    {
     "data": {
      "application/vnd.plotly.v1+json": {
       "config": {
        "plotlyServerURL": "https://plot.ly"
       },
       "data": [
        {
         "hovertemplate": "time=%{x}<br>bpm_raw=%{y}<extra></extra>",
         "legendgroup": "",
         "line": {
          "color": "#636efa",
          "dash": "solid"
         },
         "marker": {
          "symbol": "circle"
         },
         "mode": "lines",
         "name": "",
         "orientation": "v",
         "showlegend": false,
         "type": "scatter",
         "x": [
          "2025-10-16 09:20:31.613",
          "2025-10-16 09:20:32.252",
          "2025-10-16 09:20:32.932",
          "2025-10-16 09:20:33.612",
          "2025-10-16 09:20:34.298",
          "2025-10-16 09:20:34.990",
          "2025-10-16 09:20:35.698",
          "2025-10-16 09:20:36.373",
          "2025-10-16 09:20:37.018",
          "2025-10-16 09:20:37.642",
          "2025-10-16 09:20:38.232",
          "2025-10-16 09:20:39.085",
          "2025-10-16 09:20:40.676",
          "2025-10-16 09:20:41.076",
          "2025-10-16 09:20:41.864",
          "2025-10-16 09:20:42.650",
          "2025-10-16 09:20:43.451",
          "2025-10-16 09:20:43.838",
          "2025-10-16 09:20:44.206",
          "2025-10-16 09:20:44.603",
          "2025-10-16 09:20:45.032",
          "2025-10-16 09:20:45.424",
          "2025-10-16 09:20:48.698",
          "2025-10-16 09:20:49.483",
          "2025-10-16 09:20:54.689",
          "2025-10-16 09:20:55.442",
          "2025-10-16 09:20:55.936",
          "2025-10-16 09:20:56.430",
          "2025-10-16 09:20:56.919",
          "2025-10-16 09:20:57.405",
          "2025-10-16 09:20:57.891",
          "2025-10-16 09:20:58.377",
          "2025-10-16 09:20:59.339",
          "2025-10-16 09:20:59.819",
          "2025-10-16 09:21:00.328",
          "2025-10-16 09:21:01.096",
          "2025-10-16 09:21:01.738",
          "2025-10-16 09:21:02.222",
          "2025-10-16 09:21:02.700",
          "2025-10-16 09:21:03.180",
          "2025-10-16 09:21:03.658",
          "2025-10-16 09:21:04.090",
          "2025-10-16 09:21:04.425",
          "2025-10-16 09:21:04.796",
          "2025-10-16 09:21:05.094",
          "2025-10-16 09:21:05.959",
          "2025-10-16 09:21:06.503",
          "2025-10-16 09:21:06.969",
          "2025-10-16 09:21:07.887",
          "2025-10-16 09:21:08.358",
          "2025-10-16 09:21:08.634",
          "2025-10-16 09:21:09.015",
          "2025-10-16 09:21:09.382",
          "2025-10-16 09:21:10.115",
          "2025-10-16 09:21:10.490",
          "2025-10-16 09:21:10.884",
          "2025-10-16 09:21:11.637",
          "2025-10-16 09:21:12.002",
          "2025-10-16 09:21:12.351",
          "2025-10-16 09:21:12.733",
          "2025-10-16 09:21:13.098",
          "2025-10-16 09:21:14.191",
          "2025-10-16 09:21:16.700",
          "2025-10-16 09:21:17.134",
          "2025-10-16 09:21:18.014",
          "2025-10-16 09:21:18.389",
          "2025-10-16 09:21:18.749",
          "2025-10-16 09:21:19.096",
          "2025-10-16 09:21:19.733",
          "2025-10-16 09:21:20.597",
          "2025-10-16 09:21:21.448",
          "2025-10-16 09:21:21.736",
          "2025-10-16 09:21:22.299",
          "2025-10-16 09:21:22.725",
          "2025-10-16 09:21:23.144",
          "2025-10-16 09:21:23.997",
          "2025-10-16 09:21:24.415",
          "2025-10-16 09:21:24.757",
          "2025-10-16 09:21:25.259",
          "2025-10-16 09:21:25.512",
          "2025-10-16 09:21:26.099",
          "2025-10-16 09:21:26.518",
          "2025-10-16 09:21:26.938",
          "2025-10-16 09:21:27.776",
          "2025-10-16 09:21:28.193",
          "2025-10-16 09:21:28.605",
          "2025-10-16 09:21:29.016",
          "2025-10-16 09:21:29.429",
          "2025-10-16 09:21:29.846",
          "2025-10-16 09:21:30.257",
          "2025-10-16 09:21:30.667",
          "2025-10-16 09:21:31.072",
          "2025-10-16 09:21:31.484",
          "2025-10-16 09:21:31.892",
          "2025-10-16 09:21:32.297",
          "2025-10-16 09:21:32.702",
          "2025-10-16 09:21:33.114",
          "2025-10-16 09:21:33.516",
          "2025-10-16 09:21:33.919",
          "2025-10-16 09:21:34.323",
          "2025-10-16 09:21:34.726",
          "2025-10-16 09:21:34.996",
          "2025-10-16 09:21:35.303",
          "2025-10-16 09:21:36.463",
          "2025-10-16 09:21:36.863",
          "2025-10-16 09:21:37.164",
          "2025-10-16 09:21:41.126",
          "2025-10-16 09:21:41.521",
          "2025-10-16 09:21:41.918",
          "2025-10-16 09:21:42.797",
          "2025-10-16 09:21:43.120",
          "2025-10-16 09:21:43.877",
          "2025-10-16 09:21:44.676",
          "2025-10-16 09:21:45.075",
          "2025-10-16 09:21:45.474",
          "2025-10-16 09:21:45.869",
          "2025-10-16 09:21:46.265",
          "2025-10-16 09:21:46.662",
          "2025-10-16 09:21:47.061",
          "2025-10-16 09:21:47.457",
          "2025-10-16 09:21:49.011",
          "2025-10-16 09:21:49.823",
          "2025-10-16 09:21:50.534",
          "2025-10-16 09:21:51.007",
          "2025-10-16 09:21:51.398",
          "2025-10-16 09:21:51.793",
          "2025-10-16 09:21:52.186",
          "2025-10-16 09:21:52.582",
          "2025-10-16 09:21:52.974",
          "2025-10-16 09:21:53.365",
          "2025-10-16 09:21:53.759",
          "2025-10-16 09:21:54.157",
          "2025-10-16 09:21:54.557",
          "2025-10-16 09:21:54.952",
          "2025-10-16 09:21:55.348",
          "2025-10-16 09:21:55.747",
          "2025-10-16 09:21:56.147",
          "2025-10-16 09:21:56.541",
          "2025-10-16 09:21:57.334",
          "2025-10-16 09:21:57.728",
          "2025-10-16 09:21:58.127",
          "2025-10-16 09:21:58.523",
          "2025-10-16 09:21:59.697",
          "2025-10-16 09:22:01.198",
          "2025-10-16 09:22:01.551",
          "2025-10-16 09:22:02.042",
          "2025-10-16 09:22:02.432",
          "2025-10-16 09:22:02.823",
          "2025-10-16 09:22:03.212",
          "2025-10-16 09:22:04.003",
          "2025-10-16 09:22:04.393",
          "2025-10-16 09:22:04.781",
          "2025-10-16 09:22:05.173",
          "2025-10-16 09:22:05.560",
          "2025-10-16 09:22:05.950",
          "2025-10-16 09:22:06.335",
          "2025-10-16 09:22:06.720",
          "2025-10-16 09:22:07.104",
          "2025-10-16 09:22:07.491",
          "2025-10-16 09:22:07.875",
          "2025-10-16 09:22:08.260",
          "2025-10-16 09:22:08.637",
          "2025-10-16 09:22:09.017",
          "2025-10-16 09:22:09.398",
          "2025-10-16 09:22:09.781",
          "2025-10-16 09:22:10.161",
          "2025-10-16 09:22:10.536",
          "2025-10-16 09:22:10.911",
          "2025-10-16 09:22:11.290",
          "2025-10-16 09:22:11.667",
          "2025-10-16 09:22:12.039",
          "2025-10-16 09:22:12.413",
          "2025-10-16 09:22:13.162",
          "2025-10-16 09:22:13.909",
          "2025-10-16 09:22:14.279",
          "2025-10-16 09:22:14.650",
          "2025-10-16 09:22:15.024",
          "2025-10-16 09:22:15.762",
          "2025-10-16 09:22:16.125",
          "2025-10-16 09:22:16.496",
          "2025-10-16 09:22:16.864",
          "2025-10-16 09:22:17.230",
          "2025-10-16 09:22:17.596",
          "2025-10-16 09:22:17.959",
          "2025-10-16 09:22:19.049",
          "2025-10-16 09:22:19.412",
          "2025-10-16 09:22:19.773",
          "2025-10-16 09:22:20.135",
          "2025-10-16 09:22:20.497",
          "2025-10-16 09:22:20.858",
          "2025-10-16 09:22:21.218",
          "2025-10-16 09:22:21.577",
          "2025-10-16 09:22:21.940",
          "2025-10-16 09:22:22.301",
          "2025-10-16 09:22:22.662",
          "2025-10-16 09:22:23.021",
          "2025-10-16 09:22:23.381",
          "2025-10-16 09:22:23.744",
          "2025-10-16 09:22:25.188",
          "2025-10-16 09:22:25.546",
          "2025-10-16 09:22:25.911",
          "2025-10-16 09:22:26.277",
          "2025-10-16 09:22:26.637",
          "2025-10-16 09:22:27.001",
          "2025-10-16 09:22:27.363",
          "2025-10-16 09:22:27.727",
          "2025-10-16 09:22:28.092",
          "2025-10-16 09:22:28.826",
          "2025-10-16 09:22:29.190",
          "2025-10-16 09:22:29.559",
          "2025-10-16 09:22:29.928",
          "2025-10-16 09:22:30.295",
          "2025-10-16 09:22:30.661",
          "2025-10-16 09:22:31.031",
          "2025-10-16 09:22:31.403",
          "2025-10-16 09:22:31.769",
          "2025-10-16 09:22:32.137",
          "2025-10-16 09:22:32.508",
          "2025-10-16 09:22:32.877",
          "2025-10-16 09:22:33.246",
          "2025-10-16 09:22:33.612",
          "2025-10-16 09:22:33.982",
          "2025-10-16 09:22:34.351",
          "2025-10-16 09:22:34.719",
          "2025-10-16 09:22:35.083",
          "2025-10-16 09:22:36.909",
          "2025-10-16 09:22:37.274",
          "2025-10-16 09:22:37.642",
          "2025-10-16 09:22:38.007",
          "2025-10-16 09:22:38.377",
          "2025-10-16 09:22:38.741",
          "2025-10-16 09:22:39.109",
          "2025-10-16 09:22:39.474",
          "2025-10-16 09:22:39.843",
          "2025-10-16 09:22:40.208",
          "2025-10-16 09:22:40.569",
          "2025-10-16 09:22:40.932",
          "2025-10-16 09:22:41.295",
          "2025-10-16 09:22:41.662",
          "2025-10-16 09:22:42.383",
          "2025-10-16 09:22:42.747",
          "2025-10-16 09:22:43.112",
          "2025-10-16 09:22:43.476",
          "2025-10-16 09:22:43.841",
          "2025-10-16 09:22:44.570",
          "2025-10-16 09:22:44.935",
          "2025-10-16 09:22:45.301",
          "2025-10-16 09:22:46.379",
          "2025-10-16 09:22:46.741",
          "2025-10-16 09:22:47.101",
          "2025-10-16 09:22:47.458",
          "2025-10-16 09:22:47.814",
          "2025-10-16 09:22:48.173",
          "2025-10-16 09:22:48.530",
          "2025-10-16 09:22:48.887",
          "2025-10-16 09:22:49.240",
          "2025-10-16 09:22:49.591",
          "2025-10-16 09:22:49.945",
          "2025-10-16 09:22:50.300",
          "2025-10-16 09:22:51.704",
          "2025-10-16 09:22:52.058",
          "2025-10-16 09:22:52.408",
          "2025-10-16 09:22:52.757",
          "2025-10-16 09:22:53.102",
          "2025-10-16 09:22:53.454",
          "2025-10-16 09:22:53.804",
          "2025-10-16 09:22:54.152",
          "2025-10-16 09:22:54.497",
          "2025-10-16 09:22:54.772",
          "2025-10-16 09:22:55.880",
          "2025-10-16 09:22:56.925",
          "2025-10-16 09:22:57.271",
          "2025-10-16 09:22:57.614",
          "2025-10-16 09:22:57.959",
          "2025-10-16 09:22:58.305",
          "2025-10-16 09:22:58.650",
          "2025-10-16 09:22:59.334",
          "2025-10-16 09:22:59.676",
          "2025-10-16 09:23:00.017",
          "2025-10-16 09:23:00.359",
          "2025-10-16 09:23:00.709",
          "2025-10-16 09:23:01.045",
          "2025-10-16 09:23:01.386",
          "2025-10-16 09:23:01.733",
          "2025-10-16 09:23:02.075",
          "2025-10-16 09:23:02.416",
          "2025-10-16 09:23:02.754",
          "2025-10-16 09:23:03.099"
         ],
         "xaxis": "x",
         "y": {
          "bdata": "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",
          "dtype": "f8"
         },
         "yaxis": "y"
        }
       ],
       "layout": {
        "legend": {
         "tracegroupgap": 0
        },
        "template": {
         "data": {
          "bar": [
           {
            "error_x": {
             "color": "#2a3f5f"
            },
            "error_y": {
             "color": "#2a3f5f"
            },
            "marker": {
             "line": {
              "color": "#E5ECF6",
              "width": 0.5
             },
             "pattern": {
              "fillmode": "overlay",
              "size": 10,
              "solidity": 0.2
             }
            },
            "type": "bar"
           }
          ],
          "barpolar": [
           {
            "marker": {
             "line": {
              "color": "#E5ECF6",
              "width": 0.5
             },
             "pattern": {
              "fillmode": "overlay",
              "size": 10,
              "solidity": 0.2
             }
            },
            "type": "barpolar"
           }
          ],
          "carpet": [
           {
            "aaxis": {
             "endlinecolor": "#2a3f5f",
             "gridcolor": "white",
             "linecolor": "white",
             "minorgridcolor": "white",
             "startlinecolor": "#2a3f5f"
            },
            "baxis": {
             "endlinecolor": "#2a3f5f",
             "gridcolor": "white",
             "linecolor": "white",
             "minorgridcolor": "white",
             "startlinecolor": "#2a3f5f"
            },
            "type": "carpet"
           }
          ],
          "choropleth": [
           {
            "colorbar": {
             "outlinewidth": 0,
             "ticks": ""
            },
            "type": "choropleth"
           }
          ],
          "contour": [
           {
            "colorbar": {
             "outlinewidth": 0,
             "ticks": ""
            },
            "colorscale": [
             [
              0,
              "#0d0887"
             ],
             [
              0.1111111111111111,
              "#46039f"
             ],
             [
              0.2222222222222222,
              "#7201a8"
             ],
             [
              0.3333333333333333,
              "#9c179e"
             ],
             [
              0.4444444444444444,
              "#bd3786"
             ],
             [
              0.5555555555555556,
              "#d8576b"
             ],
             [
              0.6666666666666666,
              "#ed7953"
             ],
             [
              0.7777777777777778,
              "#fb9f3a"
             ],
             [
              0.8888888888888888,
              "#fdca26"
             ],
             [
              1,
              "#f0f921"
             ]
            ],
            "type": "contour"
           }
          ],
          "contourcarpet": [
           {
            "colorbar": {
             "outlinewidth": 0,
             "ticks": ""
            },
            "type": "contourcarpet"
           }
          ],
          "heatmap": [
           {
            "colorbar": {
             "outlinewidth": 0,
             "ticks": ""
            },
            "colorscale": [
             [
              0,
              "#0d0887"
             ],
             [
              0.1111111111111111,
              "#46039f"
             ],
             [
              0.2222222222222222,
              "#7201a8"
             ],
             [
              0.3333333333333333,
              "#9c179e"
             ],
             [
              0.4444444444444444,
              "#bd3786"
             ],
             [
              0.5555555555555556,
              "#d8576b"
             ],
             [
              0.6666666666666666,
              "#ed7953"
             ],
             [
              0.7777777777777778,
              "#fb9f3a"
             ],
             [
              0.8888888888888888,
              "#fdca26"
             ],
             [
              1,
              "#f0f921"
             ]
            ],
            "type": "heatmap"
           }
          ],
          "histogram": [
           {
            "marker": {
             "pattern": {
              "fillmode": "overlay",
              "size": 10,
              "solidity": 0.2
             }
            },
            "type": "histogram"
           }
          ],
          "histogram2d": [
           {
            "colorbar": {
             "outlinewidth": 0,
             "ticks": ""
            },
            "colorscale": [
             [
              0,
              "#0d0887"
             ],
             [
              0.1111111111111111,
              "#46039f"
             ],
             [
              0.2222222222222222,
              "#7201a8"
             ],
             [
              0.3333333333333333,
              "#9c179e"
             ],
             [
              0.4444444444444444,
              "#bd3786"
             ],
             [
              0.5555555555555556,
              "#d8576b"
             ],
             [
              0.6666666666666666,
              "#ed7953"
             ],
             [
              0.7777777777777778,
              "#fb9f3a"
             ],
             [
              0.8888888888888888,
              "#fdca26"
             ],
             [
              1,
              "#f0f921"
             ]
            ],
            "type": "histogram2d"
           }
          ],
          "histogram2dcontour": [
           {
            "colorbar": {
             "outlinewidth": 0,
             "ticks": ""
            },
            "colorscale": [
             [
              0,
              "#0d0887"
             ],
             [
              0.1111111111111111,
              "#46039f"
             ],
             [
              0.2222222222222222,
              "#7201a8"
             ],
             [
              0.3333333333333333,
              "#9c179e"
             ],
             [
              0.4444444444444444,
              "#bd3786"
             ],
             [
              0.5555555555555556,
              "#d8576b"
             ],
             [
              0.6666666666666666,
              "#ed7953"
             ],
             [
              0.7777777777777778,
              "#fb9f3a"
             ],
             [
              0.8888888888888888,
              "#fdca26"
             ],
             [
              1,
              "#f0f921"
             ]
            ],
            "type": "histogram2dcontour"
           }
          ],
          "mesh3d": [
           {
            "colorbar": {
             "outlinewidth": 0,
             "ticks": ""
            },
            "type": "mesh3d"
           }
          ],
          "parcoords": [
           {
            "line": {
             "colorbar": {
              "outlinewidth": 0,
              "ticks": ""
             }
            },
            "type": "parcoords"
           }
          ],
          "pie": [
           {
            "automargin": true,
            "type": "pie"
           }
          ],
          "scatter": [
           {
            "fillpattern": {
             "fillmode": "overlay",
             "size": 10,
             "solidity": 0.2
            },
            "type": "scatter"
           }
          ],
          "scatter3d": [
           {
            "line": {
             "colorbar": {
              "outlinewidth": 0,
              "ticks": ""
             }
            },
            "marker": {
             "colorbar": {
              "outlinewidth": 0,
              "ticks": ""
             }
            },
            "type": "scatter3d"
           }
          ],
          "scattercarpet": [
           {
            "marker": {
             "colorbar": {
              "outlinewidth": 0,
              "ticks": ""
             }
            },
            "type": "scattercarpet"
           }
          ],
          "scattergeo": [
           {
            "marker": {
             "colorbar": {
              "outlinewidth": 0,
              "ticks": ""
             }
            },
            "type": "scattergeo"
           }
          ],
          "scattergl": [
           {
            "marker": {
             "colorbar": {
              "outlinewidth": 0,
              "ticks": ""
             }
            },
            "type": "scattergl"
           }
          ],
          "scattermap": [
           {
            "marker": {
             "colorbar": {
              "outlinewidth": 0,
              "ticks": ""
             }
            },
            "type": "scattermap"
           }
          ],
          "scattermapbox": [
           {
            "marker": {
             "colorbar": {
              "outlinewidth": 0,
              "ticks": ""
             }
            },
            "type": "scattermapbox"
           }
          ],
          "scatterpolar": [
           {
            "marker": {
             "colorbar": {
              "outlinewidth": 0,
              "ticks": ""
             }
            },
            "type": "scatterpolar"
           }
          ],
          "scatterpolargl": [
           {
            "marker": {
             "colorbar": {
              "outlinewidth": 0,
              "ticks": ""
             }
            },
            "type": "scatterpolargl"
           }
          ],
          "scatterternary": [
           {
            "marker": {
             "colorbar": {
              "outlinewidth": 0,
              "ticks": ""
             }
            },
            "type": "scatterternary"
           }
          ],
          "surface": [
           {
            "colorbar": {
             "outlinewidth": 0,
             "ticks": ""
            },
            "colorscale": [
             [
              0,
              "#0d0887"
             ],
             [
              0.1111111111111111,
              "#46039f"
             ],
             [
              0.2222222222222222,
              "#7201a8"
             ],
             [
              0.3333333333333333,
              "#9c179e"
             ],
             [
              0.4444444444444444,
              "#bd3786"
             ],
             [
              0.5555555555555556,
              "#d8576b"
             ],
             [
              0.6666666666666666,
              "#ed7953"
             ],
             [
              0.7777777777777778,
              "#fb9f3a"
             ],
             [
              0.8888888888888888,
              "#fdca26"
             ],
             [
              1,
              "#f0f921"
             ]
            ],
            "type": "surface"
           }
          ],
          "table": [
           {
            "cells": {
             "fill": {
              "color": "#EBF0F8"
             },
             "line": {
              "color": "white"
             }
            },
            "header": {
             "fill": {
              "color": "#C8D4E3"
             },
             "line": {
              "color": "white"
             }
            },
            "type": "table"
           }
          ]
         },
         "layout": {
          "annotationdefaults": {
           "arrowcolor": "#2a3f5f",
           "arrowhead": 0,
           "arrowwidth": 1
          },
          "autotypenumbers": "strict",
          "coloraxis": {
           "colorbar": {
            "outlinewidth": 0,
            "ticks": ""
           }
          },
          "colorscale": {
           "diverging": [
            [
             0,
             "#8e0152"
            ],
            [
             0.1,
             "#c51b7d"
            ],
            [
             0.2,
             "#de77ae"
            ],
            [
             0.3,
             "#f1b6da"
            ],
            [
             0.4,
             "#fde0ef"
            ],
            [
             0.5,
             "#f7f7f7"
            ],
            [
             0.6,
             "#e6f5d0"
            ],
            [
             0.7,
             "#b8e186"
            ],
            [
             0.8,
             "#7fbc41"
            ],
            [
             0.9,
             "#4d9221"
            ],
            [
             1,
             "#276419"
            ]
           ],
           "sequential": [
            [
             0,
             "#0d0887"
            ],
            [
             0.1111111111111111,
             "#46039f"
            ],
            [
             0.2222222222222222,
             "#7201a8"
            ],
            [
             0.3333333333333333,
             "#9c179e"
            ],
            [
             0.4444444444444444,
             "#bd3786"
            ],
            [
             0.5555555555555556,
             "#d8576b"
            ],
            [
             0.6666666666666666,
             "#ed7953"
            ],
            [
             0.7777777777777778,
             "#fb9f3a"
            ],
            [
             0.8888888888888888,
             "#fdca26"
            ],
            [
             1,
             "#f0f921"
            ]
           ],
           "sequentialminus": [
            [
             0,
             "#0d0887"
            ],
            [
             0.1111111111111111,
             "#46039f"
            ],
            [
             0.2222222222222222,
             "#7201a8"
            ],
            [
             0.3333333333333333,
             "#9c179e"
            ],
            [
             0.4444444444444444,
             "#bd3786"
            ],
            [
             0.5555555555555556,
             "#d8576b"
            ],
            [
             0.6666666666666666,
             "#ed7953"
            ],
            [
             0.7777777777777778,
             "#fb9f3a"
            ],
            [
             0.8888888888888888,
             "#fdca26"
            ],
            [
             1,
             "#f0f921"
            ]
           ]
          },
          "colorway": [
           "#636efa",
           "#EF553B",
           "#00cc96",
           "#ab63fa",
           "#FFA15A",
           "#19d3f3",
           "#FF6692",
           "#B6E880",
           "#FF97FF",
           "#FECB52"
          ],
          "font": {
           "color": "#2a3f5f"
          },
          "geo": {
           "bgcolor": "white",
           "lakecolor": "white",
           "landcolor": "#E5ECF6",
           "showlakes": true,
           "showland": true,
           "subunitcolor": "white"
          },
          "hoverlabel": {
           "align": "left"
          },
          "hovermode": "closest",
          "mapbox": {
           "style": "light"
          },
          "paper_bgcolor": "white",
          "plot_bgcolor": "#E5ECF6",
          "polar": {
           "angularaxis": {
            "gridcolor": "white",
            "linecolor": "white",
            "ticks": ""
           },
           "bgcolor": "#E5ECF6",
           "radialaxis": {
            "gridcolor": "white",
            "linecolor": "white",
            "ticks": ""
           }
          },
          "scene": {
           "xaxis": {
            "backgroundcolor": "#E5ECF6",
            "gridcolor": "white",
            "gridwidth": 2,
            "linecolor": "white",
            "showbackground": true,
            "ticks": "",
            "zerolinecolor": "white"
           },
           "yaxis": {
            "backgroundcolor": "#E5ECF6",
            "gridcolor": "white",
            "gridwidth": 2,
            "linecolor": "white",
            "showbackground": true,
            "ticks": "",
            "zerolinecolor": "white"
           },
           "zaxis": {
            "backgroundcolor": "#E5ECF6",
            "gridcolor": "white",
            "gridwidth": 2,
            "linecolor": "white",
            "showbackground": true,
            "ticks": "",
            "zerolinecolor": "white"
           }
          },
          "shapedefaults": {
           "line": {
            "color": "#2a3f5f"
           }
          },
          "ternary": {
           "aaxis": {
            "gridcolor": "white",
            "linecolor": "white",
            "ticks": ""
           },
           "baxis": {
            "gridcolor": "white",
            "linecolor": "white",
            "ticks": ""
           },
           "bgcolor": "#E5ECF6",
           "caxis": {
            "gridcolor": "white",
            "linecolor": "white",
            "ticks": ""
           }
          },
          "title": {
           "x": 0.05
          },
          "xaxis": {
           "automargin": true,
           "gridcolor": "white",
           "linecolor": "white",
           "ticks": "",
           "title": {
            "standoff": 15
           },
           "zerolinecolor": "white",
           "zerolinewidth": 2
          },
          "yaxis": {
           "automargin": true,
           "gridcolor": "white",
           "linecolor": "white",
           "ticks": "",
           "title": {
            "standoff": 15
           },
           "zerolinecolor": "white",
           "zerolinewidth": 2
          }
         }
        },
        "title": {
         "text": "Heart Rate over Time for halero01_activity_intensity_2_cleaned_lsdlpr25.csv"
        },
        "xaxis": {
         "anchor": "y",
         "domain": [
          0,
          1
         ],
         "title": {
          "text": "time"
         }
        },
        "yaxis": {
         "anchor": "x",
         "domain": [
          0,
          1
         ],
         "title": {
          "text": "bpm_raw"
         }
        }
       }
      }
     },
     "metadata": {},
     "output_type": "display_data"
    },
    {
     "data": {
      "application/vnd.plotly.v1+json": {
       "config": {
        "plotlyServerURL": "https://plot.ly"
       },
       "data": [
        {
         "hovertemplate": "time=%{x}<br>bpm_raw=%{y}<extra></extra>",
         "legendgroup": "",
         "line": {
          "color": "#636efa",
          "dash": "solid"
         },
         "marker": {
          "symbol": "circle"
         },
         "mode": "lines",
         "name": "",
         "orientation": "v",
         "showlegend": false,
         "type": "scatter",
         "x": [
          "2025-10-16 09:20:31.918",
          "2025-10-16 09:20:32.794",
          "2025-10-16 09:20:33.676",
          "2025-10-16 09:20:34.498",
          "2025-10-16 09:20:35.289",
          "2025-10-16 09:20:35.964",
          "2025-10-16 09:20:36.551",
          "2025-10-16 09:20:37.092",
          "2025-10-16 09:20:37.621",
          "2025-10-16 09:20:38.144",
          "2025-10-16 09:20:38.652",
          "2025-10-16 09:20:39.163",
          "2025-10-16 09:20:39.669",
          "2025-10-16 09:20:40.155",
          "2025-10-16 09:20:40.638",
          "2025-10-16 09:20:41.115",
          "2025-10-16 09:20:41.593",
          "2025-10-16 09:20:42.064",
          "2025-10-16 09:20:42.529",
          "2025-10-16 09:20:42.997",
          "2025-10-16 09:20:43.460",
          "2025-10-16 09:20:43.910",
          "2025-10-16 09:20:44.365",
          "2025-10-16 09:20:44.813",
          "2025-10-16 09:20:45.259",
          "2025-10-16 09:20:45.699",
          "2025-10-16 09:20:46.137",
          "2025-10-16 09:20:46.576",
          "2025-10-16 09:20:47.008",
          "2025-10-16 09:20:47.435",
          "2025-10-16 09:20:47.861",
          "2025-10-16 09:20:48.284",
          "2025-10-16 09:20:48.712",
          "2025-10-16 09:20:49.137",
          "2025-10-16 09:20:49.547",
          "2025-10-16 09:20:49.960",
          "2025-10-16 09:20:50.372",
          "2025-10-16 09:20:50.785",
          "2025-10-16 09:20:51.191",
          "2025-10-16 09:20:51.595",
          "2025-10-16 09:20:51.995",
          "2025-10-16 09:20:52.393",
          "2025-10-16 09:20:52.789",
          "2025-10-16 09:20:53.187",
          "2025-10-16 09:20:53.585",
          "2025-10-16 09:20:53.984",
          "2025-10-16 09:20:54.375",
          "2025-10-16 09:20:54.765",
          "2025-10-16 09:20:55.155",
          "2025-10-16 09:20:55.547",
          "2025-10-16 09:20:55.939",
          "2025-10-16 09:20:56.329",
          "2025-10-16 09:20:56.716",
          "2025-10-16 09:20:57.104",
          "2025-10-16 09:20:57.495",
          "2025-10-16 09:20:57.880",
          "2025-10-16 09:20:58.265",
          "2025-10-16 09:20:58.649",
          "2025-10-16 09:20:59.034",
          "2025-10-16 09:20:59.420",
          "2025-10-16 09:20:59.803",
          "2025-10-16 09:21:00.183",
          "2025-10-16 09:21:00.568",
          "2025-10-16 09:21:00.951",
          "2025-10-16 09:21:01.329",
          "2025-10-16 09:21:01.706",
          "2025-10-16 09:21:02.083",
          "2025-10-16 09:21:02.460",
          "2025-10-16 09:21:02.835",
          "2025-10-16 09:21:03.210",
          "2025-10-16 09:21:03.588",
          "2025-10-16 09:21:03.966",
          "2025-10-16 09:21:04.339",
          "2025-10-16 09:21:04.715",
          "2025-10-16 09:21:05.088",
          "2025-10-16 09:21:05.463",
          "2025-10-16 09:21:05.839",
          "2025-10-16 09:21:06.211",
          "2025-10-16 09:21:06.580",
          "2025-10-16 09:21:06.954",
          "2025-10-16 09:21:07.322",
          "2025-10-16 09:21:07.690",
          "2025-10-16 09:21:08.062",
          "2025-10-16 09:21:08.433",
          "2025-10-16 09:21:08.803",
          "2025-10-16 09:21:09.173",
          "2025-10-16 09:21:09.543",
          "2025-10-16 09:21:09.908",
          "2025-10-16 09:21:10.276",
          "2025-10-16 09:21:10.642",
          "2025-10-16 09:21:11.009",
          "2025-10-16 09:21:11.373",
          "2025-10-16 09:21:11.736",
          "2025-10-16 09:21:12.097",
          "2025-10-16 09:21:12.458",
          "2025-10-16 09:21:12.820",
          "2025-10-16 09:21:13.180",
          "2025-10-16 09:21:13.537",
          "2025-10-16 09:21:13.897",
          "2025-10-16 09:21:14.255",
          "2025-10-16 09:21:14.614",
          "2025-10-16 09:21:14.968",
          "2025-10-16 09:21:15.324",
          "2025-10-16 09:21:15.678",
          "2025-10-16 09:21:16.034",
          "2025-10-16 09:21:16.386",
          "2025-10-16 09:21:16.739",
          "2025-10-16 09:21:17.093",
          "2025-10-16 09:21:17.447",
          "2025-10-16 09:21:17.795",
          "2025-10-16 09:21:18.146",
          "2025-10-16 09:21:18.496",
          "2025-10-16 09:21:18.851",
          "2025-10-16 09:21:19.200",
          "2025-10-16 09:21:19.550",
          "2025-10-16 09:21:20.251",
          "2025-10-16 09:21:20.602",
          "2025-10-16 09:21:20.951",
          "2025-10-16 09:21:21.303",
          "2025-10-16 09:21:21.654",
          "2025-10-16 09:21:22.005",
          "2025-10-16 09:21:22.359",
          "2025-10-16 09:21:22.707",
          "2025-10-16 09:21:23.059",
          "2025-10-16 09:21:23.406",
          "2025-10-16 09:21:23.756",
          "2025-10-16 09:21:24.103",
          "2025-10-16 09:21:24.451",
          "2025-10-16 09:21:24.799",
          "2025-10-16 09:21:25.145",
          "2025-10-16 09:21:25.494",
          "2025-10-16 09:21:25.842",
          "2025-10-16 09:21:26.188",
          "2025-10-16 09:21:26.535",
          "2025-10-16 09:21:26.883",
          "2025-10-16 09:21:27.226",
          "2025-10-16 09:21:27.576",
          "2025-10-16 09:21:27.920",
          "2025-10-16 09:21:28.268",
          "2025-10-16 09:21:28.614",
          "2025-10-16 09:21:28.962",
          "2025-10-16 09:21:29.307",
          "2025-10-16 09:21:29.653",
          "2025-10-16 09:21:29.999",
          "2025-10-16 09:21:30.348",
          "2025-10-16 09:21:30.694",
          "2025-10-16 09:21:31.040",
          "2025-10-16 09:21:31.386",
          "2025-10-16 09:21:31.733",
          "2025-10-16 09:21:32.079",
          "2025-10-16 09:21:32.425",
          "2025-10-16 09:21:32.769",
          "2025-10-16 09:21:33.112",
          "2025-10-16 09:21:33.456",
          "2025-10-16 09:21:33.801",
          "2025-10-16 09:21:34.146",
          "2025-10-16 09:21:34.488",
          "2025-10-16 09:21:34.833",
          "2025-10-16 09:21:35.176",
          "2025-10-16 09:21:35.517",
          "2025-10-16 09:21:35.860",
          "2025-10-16 09:21:36.203",
          "2025-10-16 09:21:36.545",
          "2025-10-16 09:21:36.884",
          "2025-10-16 09:21:37.224",
          "2025-10-16 09:21:37.565",
          "2025-10-16 09:21:37.903",
          "2025-10-16 09:21:38.237",
          "2025-10-16 09:21:38.574",
          "2025-10-16 09:21:38.916",
          "2025-10-16 09:21:39.252",
          "2025-10-16 09:21:39.588",
          "2025-10-16 09:21:39.926",
          "2025-10-16 09:21:40.265",
          "2025-10-16 09:21:40.601",
          "2025-10-16 09:21:40.936",
          "2025-10-16 09:21:41.274",
          "2025-10-16 09:21:41.606",
          "2025-10-16 09:21:41.940",
          "2025-10-16 09:21:42.273",
          "2025-10-16 09:21:42.603",
          "2025-10-16 09:21:42.937",
          "2025-10-16 09:21:43.269",
          "2025-10-16 09:21:43.600",
          "2025-10-16 09:21:43.932",
          "2025-10-16 09:21:44.267",
          "2025-10-16 09:21:44.598",
          "2025-10-16 09:21:44.927",
          "2025-10-16 09:21:45.257",
          "2025-10-16 09:21:45.584",
          "2025-10-16 09:21:45.911",
          "2025-10-16 09:21:46.241",
          "2025-10-16 09:21:46.572",
          "2025-10-16 09:21:46.899",
          "2025-10-16 09:21:47.230",
          "2025-10-16 09:21:47.561",
          "2025-10-16 09:21:47.892",
          "2025-10-16 09:21:48.219",
          "2025-10-16 09:21:48.544",
          "2025-10-16 09:21:48.877",
          "2025-10-16 09:21:49.203",
          "2025-10-16 09:21:49.533",
          "2025-10-16 09:21:49.856",
          "2025-10-16 09:21:50.186",
          "2025-10-16 09:21:50.514",
          "2025-10-16 09:21:50.842",
          "2025-10-16 09:21:51.167",
          "2025-10-16 09:21:51.493",
          "2025-10-16 09:21:51.821",
          "2025-10-16 09:21:52.147",
          "2025-10-16 09:21:52.472",
          "2025-10-16 09:21:52.799",
          "2025-10-16 09:21:53.128",
          "2025-10-16 09:21:53.456",
          "2025-10-16 09:21:53.784",
          "2025-10-16 09:21:54.109",
          "2025-10-16 09:21:54.436",
          "2025-10-16 09:21:54.761",
          "2025-10-16 09:21:55.086",
          "2025-10-16 09:21:55.407",
          "2025-10-16 09:21:55.730",
          "2025-10-16 09:21:56.061",
          "2025-10-16 09:21:56.386",
          "2025-10-16 09:21:56.709",
          "2025-10-16 09:21:57.032",
          "2025-10-16 09:21:57.353",
          "2025-10-16 09:21:57.680",
          "2025-10-16 09:21:58.003",
          "2025-10-16 09:21:58.325",
          "2025-10-16 09:21:58.653",
          "2025-10-16 09:21:58.979",
          "2025-10-16 09:21:59.303",
          "2025-10-16 09:21:59.623",
          "2025-10-16 09:21:59.946",
          "2025-10-16 09:22:00.266",
          "2025-10-16 09:22:00.595",
          "2025-10-16 09:22:00.917",
          "2025-10-16 09:22:01.241",
          "2025-10-16 09:22:01.566",
          "2025-10-16 09:22:01.892",
          "2025-10-16 09:22:02.215",
          "2025-10-16 09:22:02.538",
          "2025-10-16 09:22:02.855",
          "2025-10-16 09:22:03.182",
          "2025-10-16 09:22:03.508",
          "2025-10-16 09:22:03.830",
          "2025-10-16 09:22:04.152",
          "2025-10-16 09:22:04.478",
          "2025-10-16 09:22:04.803",
          "2025-10-16 09:22:05.125",
          "2025-10-16 09:22:05.444",
          "2025-10-16 09:22:05.766",
          "2025-10-16 09:22:06.093",
          "2025-10-16 09:22:06.413",
          "2025-10-16 09:22:06.736",
          "2025-10-16 09:22:07.062",
          "2025-10-16 09:22:07.384",
          "2025-10-16 09:22:07.705",
          "2025-10-16 09:22:08.024",
          "2025-10-16 09:22:08.342",
          "2025-10-16 09:22:08.670",
          "2025-10-16 09:22:08.991",
          "2025-10-16 09:22:09.313",
          "2025-10-16 09:22:09.637",
          "2025-10-16 09:22:09.959",
          "2025-10-16 09:22:10.282",
          "2025-10-16 09:22:10.599",
          "2025-10-16 09:22:10.919",
          "2025-10-16 09:22:11.243",
          "2025-10-16 09:22:11.563",
          "2025-10-16 09:22:11.884",
          "2025-10-16 09:22:12.207",
          "2025-10-16 09:22:12.527",
          "2025-10-16 09:22:12.848",
          "2025-10-16 09:22:13.168",
          "2025-10-16 09:22:13.488",
          "2025-10-16 09:22:13.812",
          "2025-10-16 09:22:14.133",
          "2025-10-16 09:22:14.449",
          "2025-10-16 09:22:14.766",
          "2025-10-16 09:22:15.084",
          "2025-10-16 09:22:15.408",
          "2025-10-16 09:22:15.728",
          "2025-10-16 09:22:16.049",
          "2025-10-16 09:22:16.364",
          "2025-10-16 09:22:16.686",
          "2025-10-16 09:22:17.003",
          "2025-10-16 09:22:17.321",
          "2025-10-16 09:22:17.645",
          "2025-10-16 09:22:17.964",
          "2025-10-16 09:22:18.282",
          "2025-10-16 09:22:18.600",
          "2025-10-16 09:22:18.915",
          "2025-10-16 09:22:19.239",
          "2025-10-16 09:22:19.555",
          "2025-10-16 09:22:19.875",
          "2025-10-16 09:22:20.195",
          "2025-10-16 09:22:20.516",
          "2025-10-16 09:22:20.832",
          "2025-10-16 09:22:21.145",
          "2025-10-16 09:22:21.464",
          "2025-10-16 09:22:21.784",
          "2025-10-16 09:22:22.100",
          "2025-10-16 09:22:22.418",
          "2025-10-16 09:22:22.740",
          "2025-10-16 09:22:23.057",
          "2025-10-16 09:22:23.371",
          "2025-10-16 09:22:23.687",
          "2025-10-16 09:22:24.008",
          "2025-10-16 09:22:24.330",
          "2025-10-16 09:22:24.645",
          "2025-10-16 09:22:24.964",
          "2025-10-16 09:22:25.284",
          "2025-10-16 09:22:25.600",
          "2025-10-16 09:22:25.921",
          "2025-10-16 09:22:26.235",
          "2025-10-16 09:22:26.555",
          "2025-10-16 09:22:26.874",
          "2025-10-16 09:22:27.193",
          "2025-10-16 09:22:27.512",
          "2025-10-16 09:22:27.825",
          "2025-10-16 09:22:28.146",
          "2025-10-16 09:22:28.468",
          "2025-10-16 09:22:28.787",
          "2025-10-16 09:22:29.104",
          "2025-10-16 09:22:29.427",
          "2025-10-16 09:22:29.745",
          "2025-10-16 09:22:30.064",
          "2025-10-16 09:22:30.380",
          "2025-10-16 09:22:30.701",
          "2025-10-16 09:22:31.024",
          "2025-10-16 09:22:31.340",
          "2025-10-16 09:22:31.661",
          "2025-10-16 09:22:31.980",
          "2025-10-16 09:22:32.296",
          "2025-10-16 09:22:32.617",
          "2025-10-16 09:22:32.934",
          "2025-10-16 09:22:33.253",
          "2025-10-16 09:22:33.574",
          "2025-10-16 09:22:33.898",
          "2025-10-16 09:22:34.216",
          "2025-10-16 09:22:34.537",
          "2025-10-16 09:22:34.854",
          "2025-10-16 09:22:35.176",
          "2025-10-16 09:22:35.492",
          "2025-10-16 09:22:35.809",
          "2025-10-16 09:22:36.130",
          "2025-10-16 09:22:36.450",
          "2025-10-16 09:22:36.768",
          "2025-10-16 09:22:37.087",
          "2025-10-16 09:22:37.404",
          "2025-10-16 09:22:37.728",
          "2025-10-16 09:22:38.042",
          "2025-10-16 09:22:38.360",
          "2025-10-16 09:22:38.680",
          "2025-10-16 09:22:38.998",
          "2025-10-16 09:22:39.313",
          "2025-10-16 09:22:39.636",
          "2025-10-16 09:22:39.952",
          "2025-10-16 09:22:40.268",
          "2025-10-16 09:22:40.583",
          "2025-10-16 09:22:40.900",
          "2025-10-16 09:22:41.219",
          "2025-10-16 09:22:41.534",
          "2025-10-16 09:22:41.852",
          "2025-10-16 09:22:42.171",
          "2025-10-16 09:22:42.490",
          "2025-10-16 09:22:42.807",
          "2025-10-16 09:22:43.118",
          "2025-10-16 09:22:43.438",
          "2025-10-16 09:22:43.755",
          "2025-10-16 09:22:44.069",
          "2025-10-16 09:22:44.382",
          "2025-10-16 09:22:44.705",
          "2025-10-16 09:22:45.020",
          "2025-10-16 09:22:45.333",
          "2025-10-16 09:22:45.646",
          "2025-10-16 09:22:45.961",
          "2025-10-16 09:22:46.278",
          "2025-10-16 09:22:46.591",
          "2025-10-16 09:22:46.907",
          "2025-10-16 09:22:47.225",
          "2025-10-16 09:22:47.538",
          "2025-10-16 09:22:47.855",
          "2025-10-16 09:22:48.166",
          "2025-10-16 09:22:48.480",
          "2025-10-16 09:22:48.796",
          "2025-10-16 09:22:49.115",
          "2025-10-16 09:22:49.429",
          "2025-10-16 09:22:49.741",
          "2025-10-16 09:22:50.056",
          "2025-10-16 09:22:50.370",
          "2025-10-16 09:22:50.687",
          "2025-10-16 09:22:51.000",
          "2025-10-16 09:22:51.318",
          "2025-10-16 09:22:51.633",
          "2025-10-16 09:22:51.948",
          "2025-10-16 09:22:52.260",
          "2025-10-16 09:22:52.573",
          "2025-10-16 09:22:52.889",
          "2025-10-16 09:22:53.206",
          "2025-10-16 09:22:53.521",
          "2025-10-16 09:22:53.836",
          "2025-10-16 09:22:54.147",
          "2025-10-16 09:22:54.466",
          "2025-10-16 09:22:54.783",
          "2025-10-16 09:22:55.096",
          "2025-10-16 09:22:55.409",
          "2025-10-16 09:22:55.728",
          "2025-10-16 09:22:56.042",
          "2025-10-16 09:22:56.359",
          "2025-10-16 09:22:56.673",
          "2025-10-16 09:22:56.986",
          "2025-10-16 09:22:57.306",
          "2025-10-16 09:22:57.625",
          "2025-10-16 09:22:57.940",
          "2025-10-16 09:22:58.254",
          "2025-10-16 09:22:58.568",
          "2025-10-16 09:22:58.889",
          "2025-10-16 09:22:59.204",
          "2025-10-16 09:22:59.520",
          "2025-10-16 09:22:59.838",
          "2025-10-16 09:23:00.150",
          "2025-10-16 09:23:00.472",
          "2025-10-16 09:23:00.782",
          "2025-10-16 09:23:01.101",
          "2025-10-16 09:23:01.421",
          "2025-10-16 09:23:01.739",
          "2025-10-16 09:23:02.057",
          "2025-10-16 09:23:02.366",
          "2025-10-16 09:23:02.687",
          "2025-10-16 09:23:03.005",
          "2025-10-16 09:23:03.323",
          "2025-10-16 09:23:03.640",
          "2025-10-16 09:23:03.956",
          "2025-10-16 09:23:04.276",
          "2025-10-16 09:23:04.593",
          "2025-10-16 09:23:04.909"
         ],
         "xaxis": "x",
         "y": {
          "bdata": "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",
          "dtype": "f8"
         },
         "yaxis": "y"
        }
       ],
       "layout": {
        "legend": {
         "tracegroupgap": 0
        },
        "template": {
         "data": {
          "bar": [
           {
            "error_x": {
             "color": "#2a3f5f"
            },
            "error_y": {
             "color": "#2a3f5f"
            },
            "marker": {
             "line": {
              "color": "#E5ECF6",
              "width": 0.5
             },
             "pattern": {
              "fillmode": "overlay",
              "size": 10,
              "solidity": 0.2
             }
            },
            "type": "bar"
           }
          ],
          "barpolar": [
           {
            "marker": {
             "line": {
              "color": "#E5ECF6",
              "width": 0.5
             },
             "pattern": {
              "fillmode": "overlay",
              "size": 10,
              "solidity": 0.2
             }
            },
            "type": "barpolar"
           }
          ],
          "carpet": [
           {
            "aaxis": {
             "endlinecolor": "#2a3f5f",
             "gridcolor": "white",
             "linecolor": "white",
             "minorgridcolor": "white",
             "startlinecolor": "#2a3f5f"
            },
            "baxis": {
             "endlinecolor": "#2a3f5f",
             "gridcolor": "white",
             "linecolor": "white",
             "minorgridcolor": "white",
             "startlinecolor": "#2a3f5f"
            },
            "type": "carpet"
           }
          ],
          "choropleth": [
           {
            "colorbar": {
             "outlinewidth": 0,
             "ticks": ""
            },
            "type": "choropleth"
           }
          ],
          "contour": [
           {
            "colorbar": {
             "outlinewidth": 0,
             "ticks": ""
            },
            "colorscale": [
             [
              0,
              "#0d0887"
             ],
             [
              0.1111111111111111,
              "#46039f"
             ],
             [
              0.2222222222222222,
              "#7201a8"
             ],
             [
              0.3333333333333333,
              "#9c179e"
             ],
             [
              0.4444444444444444,
              "#bd3786"
             ],
             [
              0.5555555555555556,
              "#d8576b"
             ],
             [
              0.6666666666666666,
              "#ed7953"
             ],
             [
              0.7777777777777778,
              "#fb9f3a"
             ],
             [
              0.8888888888888888,
              "#fdca26"
             ],
             [
              1,
              "#f0f921"
             ]
            ],
            "type": "contour"
           }
          ],
          "contourcarpet": [
           {
            "colorbar": {
             "outlinewidth": 0,
             "ticks": ""
            },
            "type": "contourcarpet"
           }
          ],
          "heatmap": [
           {
            "colorbar": {
             "outlinewidth": 0,
             "ticks": ""
            },
            "colorscale": [
             [
              0,
              "#0d0887"
             ],
             [
              0.1111111111111111,
              "#46039f"
             ],
             [
              0.2222222222222222,
              "#7201a8"
             ],
             [
              0.3333333333333333,
              "#9c179e"
             ],
             [
              0.4444444444444444,
              "#bd3786"
             ],
             [
              0.5555555555555556,
              "#d8576b"
             ],
             [
              0.6666666666666666,
              "#ed7953"
             ],
             [
              0.7777777777777778,
              "#fb9f3a"
             ],
             [
              0.8888888888888888,
              "#fdca26"
             ],
             [
              1,
              "#f0f921"
             ]
            ],
            "type": "heatmap"
           }
          ],
          "histogram": [
           {
            "marker": {
             "pattern": {
              "fillmode": "overlay",
              "size": 10,
              "solidity": 0.2
             }
            },
            "type": "histogram"
           }
          ],
          "histogram2d": [
           {
            "colorbar": {
             "outlinewidth": 0,
             "ticks": ""
            },
            "colorscale": [
             [
              0,
              "#0d0887"
             ],
             [
              0.1111111111111111,
              "#46039f"
             ],
             [
              0.2222222222222222,
              "#7201a8"
             ],
             [
              0.3333333333333333,
              "#9c179e"
             ],
             [
              0.4444444444444444,
              "#bd3786"
             ],
             [
              0.5555555555555556,
              "#d8576b"
             ],
             [
              0.6666666666666666,
              "#ed7953"
             ],
             [
              0.7777777777777778,
              "#fb9f3a"
             ],
             [
              0.8888888888888888,
              "#fdca26"
             ],
             [
              1,
              "#f0f921"
             ]
            ],
            "type": "histogram2d"
           }
          ],
          "histogram2dcontour": [
           {
            "colorbar": {
             "outlinewidth": 0,
             "ticks": ""
            },
            "colorscale": [
             [
              0,
              "#0d0887"
             ],
             [
              0.1111111111111111,
              "#46039f"
             ],
             [
              0.2222222222222222,
              "#7201a8"
             ],
             [
              0.3333333333333333,
              "#9c179e"
             ],
             [
              0.4444444444444444,
              "#bd3786"
             ],
             [
              0.5555555555555556,
              "#d8576b"
             ],
             [
              0.6666666666666666,
              "#ed7953"
             ],
             [
              0.7777777777777778,
              "#fb9f3a"
             ],
             [
              0.8888888888888888,
              "#fdca26"
             ],
             [
              1,
              "#f0f921"
             ]
            ],
            "type": "histogram2dcontour"
           }
          ],
          "mesh3d": [
           {
            "colorbar": {
             "outlinewidth": 0,
             "ticks": ""
            },
            "type": "mesh3d"
           }
          ],
          "parcoords": [
           {
            "line": {
             "colorbar": {
              "outlinewidth": 0,
              "ticks": ""
             }
            },
            "type": "parcoords"
           }
          ],
          "pie": [
           {
            "automargin": true,
            "type": "pie"
           }
          ],
          "scatter": [
           {
            "fillpattern": {
             "fillmode": "overlay",
             "size": 10,
             "solidity": 0.2
            },
            "type": "scatter"
           }
          ],
          "scatter3d": [
           {
            "line": {
             "colorbar": {
              "outlinewidth": 0,
              "ticks": ""
             }
            },
            "marker": {
             "colorbar": {
              "outlinewidth": 0,
              "ticks": ""
             }
            },
            "type": "scatter3d"
           }
          ],
          "scattercarpet": [
           {
            "marker": {
             "colorbar": {
              "outlinewidth": 0,
              "ticks": ""
             }
            },
            "type": "scattercarpet"
           }
          ],
          "scattergeo": [
           {
            "marker": {
             "colorbar": {
              "outlinewidth": 0,
              "ticks": ""
             }
            },
            "type": "scattergeo"
           }
          ],
          "scattergl": [
           {
            "marker": {
             "colorbar": {
              "outlinewidth": 0,
              "ticks": ""
             }
            },
            "type": "scattergl"
           }
          ],
          "scattermap": [
           {
            "marker": {
             "colorbar": {
              "outlinewidth": 0,
              "ticks": ""
             }
            },
            "type": "scattermap"
           }
          ],
          "scattermapbox": [
           {
            "marker": {
             "colorbar": {
              "outlinewidth": 0,
              "ticks": ""
             }
            },
            "type": "scattermapbox"
           }
          ],
          "scatterpolar": [
           {
            "marker": {
             "colorbar": {
              "outlinewidth": 0,
              "ticks": ""
             }
            },
            "type": "scatterpolar"
           }
          ],
          "scatterpolargl": [
           {
            "marker": {
             "colorbar": {
              "outlinewidth": 0,
              "ticks": ""
             }
            },
            "type": "scatterpolargl"
           }
          ],
          "scatterternary": [
           {
            "marker": {
             "colorbar": {
              "outlinewidth": 0,
              "ticks": ""
             }
            },
            "type": "scatterternary"
           }
          ],
          "surface": [
           {
            "colorbar": {
             "outlinewidth": 0,
             "ticks": ""
            },
            "colorscale": [
             [
              0,
              "#0d0887"
             ],
             [
              0.1111111111111111,
              "#46039f"
             ],
             [
              0.2222222222222222,
              "#7201a8"
             ],
             [
              0.3333333333333333,
              "#9c179e"
             ],
             [
              0.4444444444444444,
              "#bd3786"
             ],
             [
              0.5555555555555556,
              "#d8576b"
             ],
             [
              0.6666666666666666,
              "#ed7953"
             ],
             [
              0.7777777777777778,
              "#fb9f3a"
             ],
             [
              0.8888888888888888,
              "#fdca26"
             ],
             [
              1,
              "#f0f921"
             ]
            ],
            "type": "surface"
           }
          ],
          "table": [
           {
            "cells": {
             "fill": {
              "color": "#EBF0F8"
             },
             "line": {
              "color": "white"
             }
            },
            "header": {
             "fill": {
              "color": "#C8D4E3"
             },
             "line": {
              "color": "white"
             }
            },
            "type": "table"
           }
          ]
         },
         "layout": {
          "annotationdefaults": {
           "arrowcolor": "#2a3f5f",
           "arrowhead": 0,
           "arrowwidth": 1
          },
          "autotypenumbers": "strict",
          "coloraxis": {
           "colorbar": {
            "outlinewidth": 0,
            "ticks": ""
           }
          },
          "colorscale": {
           "diverging": [
            [
             0,
             "#8e0152"
            ],
            [
             0.1,
             "#c51b7d"
            ],
            [
             0.2,
             "#de77ae"
            ],
            [
             0.3,
             "#f1b6da"
            ],
            [
             0.4,
             "#fde0ef"
            ],
            [
             0.5,
             "#f7f7f7"
            ],
            [
             0.6,
             "#e6f5d0"
            ],
            [
             0.7,
             "#b8e186"
            ],
            [
             0.8,
             "#7fbc41"
            ],
            [
             0.9,
             "#4d9221"
            ],
            [
             1,
             "#276419"
            ]
           ],
           "sequential": [
            [
             0,
             "#0d0887"
            ],
            [
             0.1111111111111111,
             "#46039f"
            ],
            [
             0.2222222222222222,
             "#7201a8"
            ],
            [
             0.3333333333333333,
             "#9c179e"
            ],
            [
             0.4444444444444444,
             "#bd3786"
            ],
            [
             0.5555555555555556,
             "#d8576b"
            ],
            [
             0.6666666666666666,
             "#ed7953"
            ],
            [
             0.7777777777777778,
             "#fb9f3a"
            ],
            [
             0.8888888888888888,
             "#fdca26"
            ],
            [
             1,
             "#f0f921"
            ]
           ],
           "sequentialminus": [
            [
             0,
             "#0d0887"
            ],
            [
             0.1111111111111111,
             "#46039f"
            ],
            [
             0.2222222222222222,
             "#7201a8"
            ],
            [
             0.3333333333333333,
             "#9c179e"
            ],
            [
             0.4444444444444444,
             "#bd3786"
            ],
            [
             0.5555555555555556,
             "#d8576b"
            ],
            [
             0.6666666666666666,
             "#ed7953"
            ],
            [
             0.7777777777777778,
             "#fb9f3a"
            ],
            [
             0.8888888888888888,
             "#fdca26"
            ],
            [
             1,
             "#f0f921"
            ]
           ]
          },
          "colorway": [
           "#636efa",
           "#EF553B",
           "#00cc96",
           "#ab63fa",
           "#FFA15A",
           "#19d3f3",
           "#FF6692",
           "#B6E880",
           "#FF97FF",
           "#FECB52"
          ],
          "font": {
           "color": "#2a3f5f"
          },
          "geo": {
           "bgcolor": "white",
           "lakecolor": "white",
           "landcolor": "#E5ECF6",
           "showlakes": true,
           "showland": true,
           "subunitcolor": "white"
          },
          "hoverlabel": {
           "align": "left"
          },
          "hovermode": "closest",
          "mapbox": {
           "style": "light"
          },
          "paper_bgcolor": "white",
          "plot_bgcolor": "#E5ECF6",
          "polar": {
           "angularaxis": {
            "gridcolor": "white",
            "linecolor": "white",
            "ticks": ""
           },
           "bgcolor": "#E5ECF6",
           "radialaxis": {
            "gridcolor": "white",
            "linecolor": "white",
            "ticks": ""
           }
          },
          "scene": {
           "xaxis": {
            "backgroundcolor": "#E5ECF6",
            "gridcolor": "white",
            "gridwidth": 2,
            "linecolor": "white",
            "showbackground": true,
            "ticks": "",
            "zerolinecolor": "white"
           },
           "yaxis": {
            "backgroundcolor": "#E5ECF6",
            "gridcolor": "white",
            "gridwidth": 2,
            "linecolor": "white",
            "showbackground": true,
            "ticks": "",
            "zerolinecolor": "white"
           },
           "zaxis": {
            "backgroundcolor": "#E5ECF6",
            "gridcolor": "white",
            "gridwidth": 2,
            "linecolor": "white",
            "showbackground": true,
            "ticks": "",
            "zerolinecolor": "white"
           }
          },
          "shapedefaults": {
           "line": {
            "color": "#2a3f5f"
           }
          },
          "ternary": {
           "aaxis": {
            "gridcolor": "white",
            "linecolor": "white",
            "ticks": ""
           },
           "baxis": {
            "gridcolor": "white",
            "linecolor": "white",
            "ticks": ""
           },
           "bgcolor": "#E5ECF6",
           "caxis": {
            "gridcolor": "white",
            "linecolor": "white",
            "ticks": ""
           }
          },
          "title": {
           "x": 0.05
          },
          "xaxis": {
           "automargin": true,
           "gridcolor": "white",
           "linecolor": "white",
           "ticks": "",
           "title": {
            "standoff": 15
           },
           "zerolinecolor": "white",
           "zerolinewidth": 2
          },
          "yaxis": {
           "automargin": true,
           "gridcolor": "white",
           "linecolor": "white",
           "ticks": "",
           "title": {
            "standoff": 15
           },
           "zerolinecolor": "white",
           "zerolinewidth": 2
          }
         }
        },
        "title": {
         "text": "Heart Rate over Time for steinosk_activity_intensity_3_cleaned_lsdlpr25.csv"
        },
        "xaxis": {
         "anchor": "y",
         "domain": [
          0,
          1
         ],
         "title": {
          "text": "time"
         }
        },
        "yaxis": {
         "anchor": "x",
         "domain": [
          0,
          1
         ],
         "title": {
          "text": "bpm_raw"
         }
        }
       }
      }
     },
     "metadata": {},
     "output_type": "display_data"
    },
    {
     "data": {
      "application/vnd.plotly.v1+json": {
       "config": {
        "plotlyServerURL": "https://plot.ly"
       },
       "data": [
        {
         "hovertemplate": "time=%{x}<br>bpm_raw=%{y}<extra></extra>",
         "legendgroup": "",
         "line": {
          "color": "#636efa",
          "dash": "solid"
         },
         "marker": {
          "symbol": "circle"
         },
         "mode": "lines",
         "name": "",
         "orientation": "v",
         "showlegend": false,
         "type": "scatter",
         "x": [
          "2025-10-16 09:20:31.525",
          "2025-10-16 09:20:32.043",
          "2025-10-16 09:20:32.545",
          "2025-10-16 09:20:33.038",
          "2025-10-16 09:20:33.524",
          "2025-10-16 09:20:34.011",
          "2025-10-16 09:20:34.491",
          "2025-10-16 09:20:34.965",
          "2025-10-16 09:20:35.444",
          "2025-10-16 09:20:35.916",
          "2025-10-16 09:20:36.380",
          "2025-10-16 09:20:37.278",
          "2025-10-16 09:20:37.727",
          "2025-10-16 09:20:38.168",
          "2025-10-16 09:20:38.611",
          "2025-10-16 09:20:39.058",
          "2025-10-16 09:20:39.501",
          "2025-10-16 09:20:39.944",
          "2025-10-16 09:20:40.372",
          "2025-10-16 09:20:40.813",
          "2025-10-16 09:20:41.261",
          "2025-10-16 09:20:41.706",
          "2025-10-16 09:20:42.150",
          "2025-10-16 09:20:42.594",
          "2025-10-16 09:20:43.034",
          "2025-10-16 09:20:43.482",
          "2025-10-16 09:20:43.930",
          "2025-10-16 09:20:44.382",
          "2025-10-16 09:20:44.822",
          "2025-10-16 09:20:45.259",
          "2025-10-16 09:20:45.699",
          "2025-10-16 09:20:46.144",
          "2025-10-16 09:20:46.586",
          "2025-10-16 09:20:47.027",
          "2025-10-16 09:20:47.467",
          "2025-10-16 09:20:47.905",
          "2025-10-16 09:20:48.349",
          "2025-10-16 09:20:48.793",
          "2025-10-16 09:20:49.241",
          "2025-10-16 09:20:49.691",
          "2025-10-16 09:20:50.135",
          "2025-10-16 09:20:50.575",
          "2025-10-16 09:20:51.017",
          "2025-10-16 09:20:51.463",
          "2025-10-16 09:20:51.903",
          "2025-10-16 09:20:52.343",
          "2025-10-16 09:20:52.781",
          "2025-10-16 09:20:53.223",
          "2025-10-16 09:20:53.666",
          "2025-10-16 09:20:54.104",
          "2025-10-16 09:20:54.544",
          "2025-10-16 09:20:54.983",
          "2025-10-16 09:20:55.414",
          "2025-10-16 09:20:55.848",
          "2025-10-16 09:20:56.282",
          "2025-10-16 09:20:56.718",
          "2025-10-16 09:20:57.156",
          "2025-10-16 09:20:57.588",
          "2025-10-16 09:20:58.014",
          "2025-10-16 09:20:58.439",
          "2025-10-16 09:20:58.864",
          "2025-10-16 09:20:59.289",
          "2025-10-16 09:20:59.716",
          "2025-10-16 09:21:00.142",
          "2025-10-16 09:21:00.567",
          "2025-10-16 09:21:00.991",
          "2025-10-16 09:21:01.412",
          "2025-10-16 09:21:01.834",
          "2025-10-16 09:21:02.255",
          "2025-10-16 09:21:02.671",
          "2025-10-16 09:21:03.087",
          "2025-10-16 09:21:03.507",
          "2025-10-16 09:21:03.923",
          "2025-10-16 09:21:04.343",
          "2025-10-16 09:21:04.759",
          "2025-10-16 09:21:05.174",
          "2025-10-16 09:21:05.589",
          "2025-10-16 09:21:06.001",
          "2025-10-16 09:21:06.411",
          "2025-10-16 09:21:06.822",
          "2025-10-16 09:21:07.232",
          "2025-10-16 09:21:07.644",
          "2025-10-16 09:21:08.056",
          "2025-10-16 09:21:08.462",
          "2025-10-16 09:21:08.865",
          "2025-10-16 09:21:09.266",
          "2025-10-16 09:21:09.665",
          "2025-10-16 09:21:10.065",
          "2025-10-16 09:21:10.466",
          "2025-10-16 09:21:10.873",
          "2025-10-16 09:21:11.279",
          "2025-10-16 09:21:11.682",
          "2025-10-16 09:21:12.087",
          "2025-10-16 09:21:12.492",
          "2025-10-16 09:21:12.890",
          "2025-10-16 09:21:13.289",
          "2025-10-16 09:21:13.689",
          "2025-10-16 09:21:14.095",
          "2025-10-16 09:21:14.493",
          "2025-10-16 09:21:14.893",
          "2025-10-16 09:21:15.289",
          "2025-10-16 09:21:15.687",
          "2025-10-16 09:21:16.083",
          "2025-10-16 09:21:16.485",
          "2025-10-16 09:21:16.881",
          "2025-10-16 09:21:17.276",
          "2025-10-16 09:21:17.668",
          "2025-10-16 09:21:18.064",
          "2025-10-16 09:21:18.460",
          "2025-10-16 09:21:18.848",
          "2025-10-16 09:21:19.237",
          "2025-10-16 09:21:19.632",
          "2025-10-16 09:21:20.414",
          "2025-10-16 09:21:20.802",
          "2025-10-16 09:21:21.188",
          "2025-10-16 09:21:21.574",
          "2025-10-16 09:21:21.961",
          "2025-10-16 09:21:22.347",
          "2025-10-16 09:21:22.729",
          "2025-10-16 09:21:23.112",
          "2025-10-16 09:21:23.498",
          "2025-10-16 09:21:23.878",
          "2025-10-16 09:21:24.264",
          "2025-10-16 09:21:24.646",
          "2025-10-16 09:21:25.025",
          "2025-10-16 09:21:25.408",
          "2025-10-16 09:21:25.789",
          "2025-10-16 09:21:26.169",
          "2025-10-16 09:21:26.550",
          "2025-10-16 09:21:26.934",
          "2025-10-16 09:21:27.316",
          "2025-10-16 09:21:27.695",
          "2025-10-16 09:21:28.077",
          "2025-10-16 09:21:28.461",
          "2025-10-16 09:21:28.844",
          "2025-10-16 09:21:29.225",
          "2025-10-16 09:21:29.599",
          "2025-10-16 09:21:29.979",
          "2025-10-16 09:21:30.358",
          "2025-10-16 09:21:31.114",
          "2025-10-16 09:21:31.488",
          "2025-10-16 09:21:31.865",
          "2025-10-16 09:21:32.245",
          "2025-10-16 09:21:32.618",
          "2025-10-16 09:21:32.991",
          "2025-10-16 09:21:33.363",
          "2025-10-16 09:21:33.740",
          "2025-10-16 09:21:34.114",
          "2025-10-16 09:21:34.489",
          "2025-10-16 09:21:34.861",
          "2025-10-16 09:21:35.233",
          "2025-10-16 09:21:35.980",
          "2025-10-16 09:21:36.345",
          "2025-10-16 09:21:36.714",
          "2025-10-16 09:21:37.086",
          "2025-10-16 09:21:37.455",
          "2025-10-16 09:21:37.825",
          "2025-10-16 09:21:38.194",
          "2025-10-16 09:21:38.562",
          "2025-10-16 09:21:38.933",
          "2025-10-16 09:21:39.301",
          "2025-10-16 09:21:39.668",
          "2025-10-16 09:21:40.037",
          "2025-10-16 09:21:40.407",
          "2025-10-16 09:21:40.774",
          "2025-10-16 09:21:41.141",
          "2025-10-16 09:21:41.510",
          "2025-10-16 09:21:41.879",
          "2025-10-16 09:21:42.249",
          "2025-10-16 09:21:42.617",
          "2025-10-16 09:21:42.985",
          "2025-10-16 09:21:43.353",
          "2025-10-16 09:21:43.719",
          "2025-10-16 09:21:44.086",
          "2025-10-16 09:21:44.455",
          "2025-10-16 09:21:44.824",
          "2025-10-16 09:21:45.192",
          "2025-10-16 09:21:45.559",
          "2025-10-16 09:21:45.930",
          "2025-10-16 09:21:46.300",
          "2025-10-16 09:21:46.671",
          "2025-10-16 09:21:47.043",
          "2025-10-16 09:21:47.419",
          "2025-10-16 09:21:47.794",
          "2025-10-16 09:21:48.166",
          "2025-10-16 09:21:48.541",
          "2025-10-16 09:21:48.911",
          "2025-10-16 09:21:49.291",
          "2025-10-16 09:21:49.662",
          "2025-10-16 09:21:50.032",
          "2025-10-16 09:21:50.406",
          "2025-10-16 09:21:50.780",
          "2025-10-16 09:21:51.154",
          "2025-10-16 09:21:51.527",
          "2025-10-16 09:21:51.900",
          "2025-10-16 09:21:52.276",
          "2025-10-16 09:21:52.649",
          "2025-10-16 09:21:53.018",
          "2025-10-16 09:21:53.392",
          "2025-10-16 09:21:53.763",
          "2025-10-16 09:21:54.135",
          "2025-10-16 09:21:54.504",
          "2025-10-16 09:21:54.875",
          "2025-10-16 09:21:55.246",
          "2025-10-16 09:21:55.617",
          "2025-10-16 09:21:55.986",
          "2025-10-16 09:21:56.360",
          "2025-10-16 09:21:56.729",
          "2025-10-16 09:21:57.099",
          "2025-10-16 09:21:57.469",
          "2025-10-16 09:21:57.843",
          "2025-10-16 09:21:58.213",
          "2025-10-16 09:21:58.583",
          "2025-10-16 09:21:58.951",
          "2025-10-16 09:21:59.322",
          "2025-10-16 09:21:59.693",
          "2025-10-16 09:22:00.062",
          "2025-10-16 09:22:00.427",
          "2025-10-16 09:22:00.798",
          "2025-10-16 09:22:01.167",
          "2025-10-16 09:22:01.540",
          "2025-10-16 09:22:01.909",
          "2025-10-16 09:22:02.280",
          "2025-10-16 09:22:02.647",
          "2025-10-16 09:22:03.022",
          "2025-10-16 09:22:03.385",
          "2025-10-16 09:22:03.757",
          "2025-10-16 09:22:04.124",
          "2025-10-16 09:22:04.499",
          "2025-10-16 09:22:04.865",
          "2025-10-16 09:22:05.231",
          "2025-10-16 09:22:05.599",
          "2025-10-16 09:22:05.969",
          "2025-10-16 09:22:06.335",
          "2025-10-16 09:22:06.706",
          "2025-10-16 09:22:07.071",
          "2025-10-16 09:22:07.442",
          "2025-10-16 09:22:07.806",
          "2025-10-16 09:22:08.174",
          "2025-10-16 09:22:08.539",
          "2025-10-16 09:22:08.908",
          "2025-10-16 09:22:09.273",
          "2025-10-16 09:22:09.639",
          "2025-10-16 09:22:10.003",
          "2025-10-16 09:22:10.371",
          "2025-10-16 09:22:10.739",
          "2025-10-16 09:22:11.105",
          "2025-10-16 09:22:11.472",
          "2025-10-16 09:22:11.839",
          "2025-10-16 09:22:12.208",
          "2025-10-16 09:22:12.574",
          "2025-10-16 09:22:12.942",
          "2025-10-16 09:22:13.311",
          "2025-10-16 09:22:13.679",
          "2025-10-16 09:22:14.043",
          "2025-10-16 09:22:14.407",
          "2025-10-16 09:22:14.774",
          "2025-10-16 09:22:15.140",
          "2025-10-16 09:22:15.501",
          "2025-10-16 09:22:15.865",
          "2025-10-16 09:22:16.229",
          "2025-10-16 09:22:16.591",
          "2025-10-16 09:22:16.952",
          "2025-10-16 09:22:17.314",
          "2025-10-16 09:22:17.678",
          "2025-10-16 09:22:18.033",
          "2025-10-16 09:22:18.397",
          "2025-10-16 09:22:18.759",
          "2025-10-16 09:22:19.118",
          "2025-10-16 09:22:19.475",
          "2025-10-16 09:22:19.833",
          "2025-10-16 09:22:20.190",
          "2025-10-16 09:22:20.548",
          "2025-10-16 09:22:20.904",
          "2025-10-16 09:22:21.262",
          "2025-10-16 09:22:21.620",
          "2025-10-16 09:22:21.977",
          "2025-10-16 09:22:22.337",
          "2025-10-16 09:22:22.695",
          "2025-10-16 09:22:23.052",
          "2025-10-16 09:22:23.408",
          "2025-10-16 09:22:23.768",
          "2025-10-16 09:22:24.122",
          "2025-10-16 09:22:24.480",
          "2025-10-16 09:22:24.835",
          "2025-10-16 09:22:25.191",
          "2025-10-16 09:22:25.548",
          "2025-10-16 09:22:25.902",
          "2025-10-16 09:22:26.262",
          "2025-10-16 09:22:26.616",
          "2025-10-16 09:22:26.974",
          "2025-10-16 09:22:27.329",
          "2025-10-16 09:22:27.687",
          "2025-10-16 09:22:28.041",
          "2025-10-16 09:22:28.397",
          "2025-10-16 09:22:28.753",
          "2025-10-16 09:22:29.108",
          "2025-10-16 09:22:29.814",
          "2025-10-16 09:22:30.167",
          "2025-10-16 09:22:30.524",
          "2025-10-16 09:22:30.879",
          "2025-10-16 09:22:31.237",
          "2025-10-16 09:22:31.591",
          "2025-10-16 09:22:31.948",
          "2025-10-16 09:22:32.305",
          "2025-10-16 09:22:32.658",
          "2025-10-16 09:22:33.013",
          "2025-10-16 09:22:33.369",
          "2025-10-16 09:22:33.727",
          "2025-10-16 09:22:34.082",
          "2025-10-16 09:22:34.437",
          "2025-10-16 09:22:34.793",
          "2025-10-16 09:22:35.151",
          "2025-10-16 09:22:35.505",
          "2025-10-16 09:22:35.859",
          "2025-10-16 09:22:36.214",
          "2025-10-16 09:22:36.568",
          "2025-10-16 09:22:36.921",
          "2025-10-16 09:22:37.274",
          "2025-10-16 09:22:37.628",
          "2025-10-16 09:22:37.983",
          "2025-10-16 09:22:38.336",
          "2025-10-16 09:22:38.690",
          "2025-10-16 09:22:39.044",
          "2025-10-16 09:22:39.398",
          "2025-10-16 09:22:39.752",
          "2025-10-16 09:22:40.104",
          "2025-10-16 09:22:40.462",
          "2025-10-16 09:22:40.816",
          "2025-10-16 09:22:41.169",
          "2025-10-16 09:22:41.520",
          "2025-10-16 09:22:41.875",
          "2025-10-16 09:22:42.226",
          "2025-10-16 09:22:42.579",
          "2025-10-16 09:22:42.929",
          "2025-10-16 09:22:43.283",
          "2025-10-16 09:22:43.637",
          "2025-10-16 09:22:43.991",
          "2025-10-16 09:22:44.344",
          "2025-10-16 09:22:44.698",
          "2025-10-16 09:22:45.053",
          "2025-10-16 09:22:45.404",
          "2025-10-16 09:22:45.756",
          "2025-10-16 09:22:46.110",
          "2025-10-16 09:22:46.466",
          "2025-10-16 09:22:46.819",
          "2025-10-16 09:22:47.172",
          "2025-10-16 09:22:47.525",
          "2025-10-16 09:22:47.879",
          "2025-10-16 09:22:48.232",
          "2025-10-16 09:22:48.586",
          "2025-10-16 09:22:48.940",
          "2025-10-16 09:22:49.293",
          "2025-10-16 09:22:49.647",
          "2025-10-16 09:22:50.000",
          "2025-10-16 09:22:50.354",
          "2025-10-16 09:22:50.704",
          "2025-10-16 09:22:51.062",
          "2025-10-16 09:22:51.412",
          "2025-10-16 09:22:51.764",
          "2025-10-16 09:22:52.116",
          "2025-10-16 09:22:52.469",
          "2025-10-16 09:22:52.816",
          "2025-10-16 09:22:53.171",
          "2025-10-16 09:22:53.524",
          "2025-10-16 09:22:53.876",
          "2025-10-16 09:22:54.229",
          "2025-10-16 09:22:54.583",
          "2025-10-16 09:22:54.936",
          "2025-10-16 09:22:55.290",
          "2025-10-16 09:22:55.642",
          "2025-10-16 09:22:55.996",
          "2025-10-16 09:22:56.349",
          "2025-10-16 09:22:56.699",
          "2025-10-16 09:22:57.053",
          "2025-10-16 09:22:57.407",
          "2025-10-16 09:22:57.757",
          "2025-10-16 09:22:58.109",
          "2025-10-16 09:22:58.462",
          "2025-10-16 09:22:58.809",
          "2025-10-16 09:22:59.161",
          "2025-10-16 09:22:59.512",
          "2025-10-16 09:22:59.866",
          "2025-10-16 09:23:00.219",
          "2025-10-16 09:23:00.569",
          "2025-10-16 09:23:00.922",
          "2025-10-16 09:23:01.274",
          "2025-10-16 09:23:01.630",
          "2025-10-16 09:23:01.980",
          "2025-10-16 09:23:02.331",
          "2025-10-16 09:23:02.679",
          "2025-10-16 09:23:03.032",
          "2025-10-16 09:23:03.384",
          "2025-10-16 09:23:03.738",
          "2025-10-16 09:23:04.086"
         ],
         "xaxis": "x",
         "y": {
          "bdata": "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",
          "dtype": "f8"
         },
         "yaxis": "y"
        }
       ],
       "layout": {
        "legend": {
         "tracegroupgap": 0
        },
        "template": {
         "data": {
          "bar": [
           {
            "error_x": {
             "color": "#2a3f5f"
            },
            "error_y": {
             "color": "#2a3f5f"
            },
            "marker": {
             "line": {
              "color": "#E5ECF6",
              "width": 0.5
             },
             "pattern": {
              "fillmode": "overlay",
              "size": 10,
              "solidity": 0.2
             }
            },
            "type": "bar"
           }
          ],
          "barpolar": [
           {
            "marker": {
             "line": {
              "color": "#E5ECF6",
              "width": 0.5
             },
             "pattern": {
              "fillmode": "overlay",
              "size": 10,
              "solidity": 0.2
             }
            },
            "type": "barpolar"
           }
          ],
          "carpet": [
           {
            "aaxis": {
             "endlinecolor": "#2a3f5f",
             "gridcolor": "white",
             "linecolor": "white",
             "minorgridcolor": "white",
             "startlinecolor": "#2a3f5f"
            },
            "baxis": {
             "endlinecolor": "#2a3f5f",
             "gridcolor": "white",
             "linecolor": "white",
             "minorgridcolor": "white",
             "startlinecolor": "#2a3f5f"
            },
            "type": "carpet"
           }
          ],
          "choropleth": [
           {
            "colorbar": {
             "outlinewidth": 0,
             "ticks": ""
            },
            "type": "choropleth"
           }
          ],
          "contour": [
           {
            "colorbar": {
             "outlinewidth": 0,
             "ticks": ""
            },
            "colorscale": [
             [
              0,
              "#0d0887"
             ],
             [
              0.1111111111111111,
              "#46039f"
             ],
             [
              0.2222222222222222,
              "#7201a8"
             ],
             [
              0.3333333333333333,
              "#9c179e"
             ],
             [
              0.4444444444444444,
              "#bd3786"
             ],
             [
              0.5555555555555556,
              "#d8576b"
             ],
             [
              0.6666666666666666,
              "#ed7953"
             ],
             [
              0.7777777777777778,
              "#fb9f3a"
             ],
             [
              0.8888888888888888,
              "#fdca26"
             ],
             [
              1,
              "#f0f921"
             ]
            ],
            "type": "contour"
           }
          ],
          "contourcarpet": [
           {
            "colorbar": {
             "outlinewidth": 0,
             "ticks": ""
            },
            "type": "contourcarpet"
           }
          ],
          "heatmap": [
           {
            "colorbar": {
             "outlinewidth": 0,
             "ticks": ""
            },
            "colorscale": [
             [
              0,
              "#0d0887"
             ],
             [
              0.1111111111111111,
              "#46039f"
             ],
             [
              0.2222222222222222,
              "#7201a8"
             ],
             [
              0.3333333333333333,
              "#9c179e"
             ],
             [
              0.4444444444444444,
              "#bd3786"
             ],
             [
              0.5555555555555556,
              "#d8576b"
             ],
             [
              0.6666666666666666,
              "#ed7953"
             ],
             [
              0.7777777777777778,
              "#fb9f3a"
             ],
             [
              0.8888888888888888,
              "#fdca26"
             ],
             [
              1,
              "#f0f921"
             ]
            ],
            "type": "heatmap"
           }
          ],
          "histogram": [
           {
            "marker": {
             "pattern": {
              "fillmode": "overlay",
              "size": 10,
              "solidity": 0.2
             }
            },
            "type": "histogram"
           }
          ],
          "histogram2d": [
           {
            "colorbar": {
             "outlinewidth": 0,
             "ticks": ""
            },
            "colorscale": [
             [
              0,
              "#0d0887"
             ],
             [
              0.1111111111111111,
              "#46039f"
             ],
             [
              0.2222222222222222,
              "#7201a8"
             ],
             [
              0.3333333333333333,
              "#9c179e"
             ],
             [
              0.4444444444444444,
              "#bd3786"
             ],
             [
              0.5555555555555556,
              "#d8576b"
             ],
             [
              0.6666666666666666,
              "#ed7953"
             ],
             [
              0.7777777777777778,
              "#fb9f3a"
             ],
             [
              0.8888888888888888,
              "#fdca26"
             ],
             [
              1,
              "#f0f921"
             ]
            ],
            "type": "histogram2d"
           }
          ],
          "histogram2dcontour": [
           {
            "colorbar": {
             "outlinewidth": 0,
             "ticks": ""
            },
            "colorscale": [
             [
              0,
              "#0d0887"
             ],
             [
              0.1111111111111111,
              "#46039f"
             ],
             [
              0.2222222222222222,
              "#7201a8"
             ],
             [
              0.3333333333333333,
              "#9c179e"
             ],
             [
              0.4444444444444444,
              "#bd3786"
             ],
             [
              0.5555555555555556,
              "#d8576b"
             ],
             [
              0.6666666666666666,
              "#ed7953"
             ],
             [
              0.7777777777777778,
              "#fb9f3a"
             ],
             [
              0.8888888888888888,
              "#fdca26"
             ],
             [
              1,
              "#f0f921"
             ]
            ],
            "type": "histogram2dcontour"
           }
          ],
          "mesh3d": [
           {
            "colorbar": {
             "outlinewidth": 0,
             "ticks": ""
            },
            "type": "mesh3d"
           }
          ],
          "parcoords": [
           {
            "line": {
             "colorbar": {
              "outlinewidth": 0,
              "ticks": ""
             }
            },
            "type": "parcoords"
           }
          ],
          "pie": [
           {
            "automargin": true,
            "type": "pie"
           }
          ],
          "scatter": [
           {
            "fillpattern": {
             "fillmode": "overlay",
             "size": 10,
             "solidity": 0.2
            },
            "type": "scatter"
           }
          ],
          "scatter3d": [
           {
            "line": {
             "colorbar": {
              "outlinewidth": 0,
              "ticks": ""
             }
            },
            "marker": {
             "colorbar": {
              "outlinewidth": 0,
              "ticks": ""
             }
            },
            "type": "scatter3d"
           }
          ],
          "scattercarpet": [
           {
            "marker": {
             "colorbar": {
              "outlinewidth": 0,
              "ticks": ""
             }
            },
            "type": "scattercarpet"
           }
          ],
          "scattergeo": [
           {
            "marker": {
             "colorbar": {
              "outlinewidth": 0,
              "ticks": ""
             }
            },
            "type": "scattergeo"
           }
          ],
          "scattergl": [
           {
            "marker": {
             "colorbar": {
              "outlinewidth": 0,
              "ticks": ""
             }
            },
            "type": "scattergl"
           }
          ],
          "scattermap": [
           {
            "marker": {
             "colorbar": {
              "outlinewidth": 0,
              "ticks": ""
             }
            },
            "type": "scattermap"
           }
          ],
          "scattermapbox": [
           {
            "marker": {
             "colorbar": {
              "outlinewidth": 0,
              "ticks": ""
             }
            },
            "type": "scattermapbox"
           }
          ],
          "scatterpolar": [
           {
            "marker": {
             "colorbar": {
              "outlinewidth": 0,
              "ticks": ""
             }
            },
            "type": "scatterpolar"
           }
          ],
          "scatterpolargl": [
           {
            "marker": {
             "colorbar": {
              "outlinewidth": 0,
              "ticks": ""
             }
            },
            "type": "scatterpolargl"
           }
          ],
          "scatterternary": [
           {
            "marker": {
             "colorbar": {
              "outlinewidth": 0,
              "ticks": ""
             }
            },
            "type": "scatterternary"
           }
          ],
          "surface": [
           {
            "colorbar": {
             "outlinewidth": 0,
             "ticks": ""
            },
            "colorscale": [
             [
              0,
              "#0d0887"
             ],
             [
              0.1111111111111111,
              "#46039f"
             ],
             [
              0.2222222222222222,
              "#7201a8"
             ],
             [
              0.3333333333333333,
              "#9c179e"
             ],
             [
              0.4444444444444444,
              "#bd3786"
             ],
             [
              0.5555555555555556,
              "#d8576b"
             ],
             [
              0.6666666666666666,
              "#ed7953"
             ],
             [
              0.7777777777777778,
              "#fb9f3a"
             ],
             [
              0.8888888888888888,
              "#fdca26"
             ],
             [
              1,
              "#f0f921"
             ]
            ],
            "type": "surface"
           }
          ],
          "table": [
           {
            "cells": {
             "fill": {
              "color": "#EBF0F8"
             },
             "line": {
              "color": "white"
             }
            },
            "header": {
             "fill": {
              "color": "#C8D4E3"
             },
             "line": {
              "color": "white"
             }
            },
            "type": "table"
           }
          ]
         },
         "layout": {
          "annotationdefaults": {
           "arrowcolor": "#2a3f5f",
           "arrowhead": 0,
           "arrowwidth": 1
          },
          "autotypenumbers": "strict",
          "coloraxis": {
           "colorbar": {
            "outlinewidth": 0,
            "ticks": ""
           }
          },
          "colorscale": {
           "diverging": [
            [
             0,
             "#8e0152"
            ],
            [
             0.1,
             "#c51b7d"
            ],
            [
             0.2,
             "#de77ae"
            ],
            [
             0.3,
             "#f1b6da"
            ],
            [
             0.4,
             "#fde0ef"
            ],
            [
             0.5,
             "#f7f7f7"
            ],
            [
             0.6,
             "#e6f5d0"
            ],
            [
             0.7,
             "#b8e186"
            ],
            [
             0.8,
             "#7fbc41"
            ],
            [
             0.9,
             "#4d9221"
            ],
            [
             1,
             "#276419"
            ]
           ],
           "sequential": [
            [
             0,
             "#0d0887"
            ],
            [
             0.1111111111111111,
             "#46039f"
            ],
            [
             0.2222222222222222,
             "#7201a8"
            ],
            [
             0.3333333333333333,
             "#9c179e"
            ],
            [
             0.4444444444444444,
             "#bd3786"
            ],
            [
             0.5555555555555556,
             "#d8576b"
            ],
            [
             0.6666666666666666,
             "#ed7953"
            ],
            [
             0.7777777777777778,
             "#fb9f3a"
            ],
            [
             0.8888888888888888,
             "#fdca26"
            ],
            [
             1,
             "#f0f921"
            ]
           ],
           "sequentialminus": [
            [
             0,
             "#0d0887"
            ],
            [
             0.1111111111111111,
             "#46039f"
            ],
            [
             0.2222222222222222,
             "#7201a8"
            ],
            [
             0.3333333333333333,
             "#9c179e"
            ],
            [
             0.4444444444444444,
             "#bd3786"
            ],
            [
             0.5555555555555556,
             "#d8576b"
            ],
            [
             0.6666666666666666,
             "#ed7953"
            ],
            [
             0.7777777777777778,
             "#fb9f3a"
            ],
            [
             0.8888888888888888,
             "#fdca26"
            ],
            [
             1,
             "#f0f921"
            ]
           ]
          },
          "colorway": [
           "#636efa",
           "#EF553B",
           "#00cc96",
           "#ab63fa",
           "#FFA15A",
           "#19d3f3",
           "#FF6692",
           "#B6E880",
           "#FF97FF",
           "#FECB52"
          ],
          "font": {
           "color": "#2a3f5f"
          },
          "geo": {
           "bgcolor": "white",
           "lakecolor": "white",
           "landcolor": "#E5ECF6",
           "showlakes": true,
           "showland": true,
           "subunitcolor": "white"
          },
          "hoverlabel": {
           "align": "left"
          },
          "hovermode": "closest",
          "mapbox": {
           "style": "light"
          },
          "paper_bgcolor": "white",
          "plot_bgcolor": "#E5ECF6",
          "polar": {
           "angularaxis": {
            "gridcolor": "white",
            "linecolor": "white",
            "ticks": ""
           },
           "bgcolor": "#E5ECF6",
           "radialaxis": {
            "gridcolor": "white",
            "linecolor": "white",
            "ticks": ""
           }
          },
          "scene": {
           "xaxis": {
            "backgroundcolor": "#E5ECF6",
            "gridcolor": "white",
            "gridwidth": 2,
            "linecolor": "white",
            "showbackground": true,
            "ticks": "",
            "zerolinecolor": "white"
           },
           "yaxis": {
            "backgroundcolor": "#E5ECF6",
            "gridcolor": "white",
            "gridwidth": 2,
            "linecolor": "white",
            "showbackground": true,
            "ticks": "",
            "zerolinecolor": "white"
           },
           "zaxis": {
            "backgroundcolor": "#E5ECF6",
            "gridcolor": "white",
            "gridwidth": 2,
            "linecolor": "white",
            "showbackground": true,
            "ticks": "",
            "zerolinecolor": "white"
           }
          },
          "shapedefaults": {
           "line": {
            "color": "#2a3f5f"
           }
          },
          "ternary": {
           "aaxis": {
            "gridcolor": "white",
            "linecolor": "white",
            "ticks": ""
           },
           "baxis": {
            "gridcolor": "white",
            "linecolor": "white",
            "ticks": ""
           },
           "bgcolor": "#E5ECF6",
           "caxis": {
            "gridcolor": "white",
            "linecolor": "white",
            "ticks": ""
           }
          },
          "title": {
           "x": 0.05
          },
          "xaxis": {
           "automargin": true,
           "gridcolor": "white",
           "linecolor": "white",
           "ticks": "",
           "title": {
            "standoff": 15
           },
           "zerolinecolor": "white",
           "zerolinewidth": 2
          },
          "yaxis": {
           "automargin": true,
           "gridcolor": "white",
           "linecolor": "white",
           "ticks": "",
           "title": {
            "standoff": 15
           },
           "zerolinecolor": "white",
           "zerolinewidth": 2
          }
         }
        },
        "title": {
         "text": "Heart Rate over Time for linamic_activity_intensity_2_cleaned_lsdlpr25.csv"
        },
        "xaxis": {
         "anchor": "y",
         "domain": [
          0,
          1
         ],
         "title": {
          "text": "time"
         }
        },
        "yaxis": {
         "anchor": "x",
         "domain": [
          0,
          1
         ],
         "title": {
          "text": "bpm_raw"
         }
        }
       }
      }
     },
     "metadata": {},
     "output_type": "display_data"
    },
    {
     "data": {
      "application/vnd.plotly.v1+json": {
       "config": {
        "plotlyServerURL": "https://plot.ly"
       },
       "data": [
        {
         "hovertemplate": "time=%{x}<br>bpm_raw=%{y}<extra></extra>",
         "legendgroup": "",
         "line": {
          "color": "#636efa",
          "dash": "solid"
         },
         "marker": {
          "symbol": "circle"
         },
         "mode": "lines",
         "name": "",
         "orientation": "v",
         "showlegend": false,
         "type": "scatter",
         "x": [
          "2025-10-16 09:20:31.671",
          "2025-10-16 09:20:32.308",
          "2025-10-16 09:20:32.925",
          "2025-10-16 09:20:33.535",
          "2025-10-16 09:20:34.133",
          "2025-10-16 09:20:34.718",
          "2025-10-16 09:20:35.273",
          "2025-10-16 09:20:35.816",
          "2025-10-16 09:20:36.355",
          "2025-10-16 09:20:36.884",
          "2025-10-16 09:20:37.412",
          "2025-10-16 09:20:37.936",
          "2025-10-16 09:20:38.460",
          "2025-10-16 09:20:38.983",
          "2025-10-16 09:20:39.518",
          "2025-10-16 09:20:40.046",
          "2025-10-16 09:20:40.586",
          "2025-10-16 09:20:41.107",
          "2025-10-16 09:20:41.626",
          "2025-10-16 09:20:42.143",
          "2025-10-16 09:20:42.652",
          "2025-10-16 09:20:43.159",
          "2025-10-16 09:20:43.666",
          "2025-10-16 09:20:44.175",
          "2025-10-16 09:20:44.678",
          "2025-10-16 09:20:45.182",
          "2025-10-16 09:20:45.687",
          "2025-10-16 09:20:46.191",
          "2025-10-16 09:20:46.693",
          "2025-10-16 09:20:47.190",
          "2025-10-16 09:20:47.688",
          "2025-10-16 09:20:48.182",
          "2025-10-16 09:20:48.671",
          "2025-10-16 09:20:49.157",
          "2025-10-16 09:20:49.645",
          "2025-10-16 09:20:50.128",
          "2025-10-16 09:20:50.601",
          "2025-10-16 09:20:51.077",
          "2025-10-16 09:20:51.554",
          "2025-10-16 09:20:52.025",
          "2025-10-16 09:20:52.485",
          "2025-10-16 09:20:52.946",
          "2025-10-16 09:20:53.408",
          "2025-10-16 09:20:53.867",
          "2025-10-16 09:20:54.317",
          "2025-10-16 09:20:54.766",
          "2025-10-16 09:20:55.216",
          "2025-10-16 09:20:55.667",
          "2025-10-16 09:20:56.112",
          "2025-10-16 09:20:56.550",
          "2025-10-16 09:20:56.988",
          "2025-10-16 09:20:57.423",
          "2025-10-16 09:20:57.859",
          "2025-10-16 09:20:58.290",
          "2025-10-16 09:20:58.718",
          "2025-10-16 09:20:59.141",
          "2025-10-16 09:20:59.561",
          "2025-10-16 09:20:59.981",
          "2025-10-16 09:21:00.396",
          "2025-10-16 09:21:00.817",
          "2025-10-16 09:21:01.238",
          "2025-10-16 09:21:01.658",
          "2025-10-16 09:21:02.077",
          "2025-10-16 09:21:02.489",
          "2025-10-16 09:21:02.899",
          "2025-10-16 09:21:03.312",
          "2025-10-16 09:21:03.723",
          "2025-10-16 09:21:04.133",
          "2025-10-16 09:21:04.541",
          "2025-10-16 09:21:04.950",
          "2025-10-16 09:21:05.362",
          "2025-10-16 09:21:05.772",
          "2025-10-16 09:21:06.179",
          "2025-10-16 09:21:06.583",
          "2025-10-16 09:21:06.986",
          "2025-10-16 09:21:07.389",
          "2025-10-16 09:21:07.790",
          "2025-10-16 09:21:08.190",
          "2025-10-16 09:21:08.591",
          "2025-10-16 09:21:08.996",
          "2025-10-16 09:21:09.398",
          "2025-10-16 09:21:09.802",
          "2025-10-16 09:21:10.202",
          "2025-10-16 09:21:10.604",
          "2025-10-16 09:21:11.004",
          "2025-10-16 09:21:11.408",
          "2025-10-16 09:21:11.807",
          "2025-10-16 09:21:12.206",
          "2025-10-16 09:21:12.604",
          "2025-10-16 09:21:13.005",
          "2025-10-16 09:21:13.403",
          "2025-10-16 09:21:13.799",
          "2025-10-16 09:21:14.195",
          "2025-10-16 09:21:14.592",
          "2025-10-16 09:21:14.992",
          "2025-10-16 09:21:15.388",
          "2025-10-16 09:21:15.785",
          "2025-10-16 09:21:16.181",
          "2025-10-16 09:21:16.578",
          "2025-10-16 09:21:16.979",
          "2025-10-16 09:21:17.378",
          "2025-10-16 09:21:17.776",
          "2025-10-16 09:21:18.171",
          "2025-10-16 09:21:18.564",
          "2025-10-16 09:21:18.960",
          "2025-10-16 09:21:19.355",
          "2025-10-16 09:21:19.747",
          "2025-10-16 09:21:20.136",
          "2025-10-16 09:21:20.525",
          "2025-10-16 09:21:20.913",
          "2025-10-16 09:21:21.300",
          "2025-10-16 09:21:21.684",
          "2025-10-16 09:21:22.068",
          "2025-10-16 09:21:22.454",
          "2025-10-16 09:21:22.837",
          "2025-10-16 09:21:23.221",
          "2025-10-16 09:21:23.600",
          "2025-10-16 09:21:23.982",
          "2025-10-16 09:21:24.361",
          "2025-10-16 09:21:24.742",
          "2025-10-16 09:21:25.122",
          "2025-10-16 09:21:25.500",
          "2025-10-16 09:21:25.875",
          "2025-10-16 09:21:26.249",
          "2025-10-16 09:21:26.621",
          "2025-10-16 09:21:26.998",
          "2025-10-16 09:21:27.373",
          "2025-10-16 09:21:27.749",
          "2025-10-16 09:21:28.121",
          "2025-10-16 09:21:28.495",
          "2025-10-16 09:21:28.864",
          "2025-10-16 09:21:29.234",
          "2025-10-16 09:21:29.607",
          "2025-10-16 09:21:29.978",
          "2025-10-16 09:21:30.351",
          "2025-10-16 09:21:30.720",
          "2025-10-16 09:21:31.088",
          "2025-10-16 09:21:31.457",
          "2025-10-16 09:21:31.827",
          "2025-10-16 09:21:32.195",
          "2025-10-16 09:21:32.561",
          "2025-10-16 09:21:32.925",
          "2025-10-16 09:21:33.292",
          "2025-10-16 09:21:33.657",
          "2025-10-16 09:21:34.019",
          "2025-10-16 09:21:34.380",
          "2025-10-16 09:21:34.740",
          "2025-10-16 09:21:35.102",
          "2025-10-16 09:21:35.461",
          "2025-10-16 09:21:35.820",
          "2025-10-16 09:21:36.178",
          "2025-10-16 09:21:36.537",
          "2025-10-16 09:21:36.893",
          "2025-10-16 09:21:37.251",
          "2025-10-16 09:21:37.607",
          "2025-10-16 09:21:37.964",
          "2025-10-16 09:21:38.319",
          "2025-10-16 09:21:38.678",
          "2025-10-16 09:21:39.033",
          "2025-10-16 09:21:39.391",
          "2025-10-16 09:21:39.742",
          "2025-10-16 09:21:40.098",
          "2025-10-16 09:21:40.454",
          "2025-10-16 09:21:40.808",
          "2025-10-16 09:21:41.160",
          "2025-10-16 09:21:41.513",
          "2025-10-16 09:21:41.867",
          "2025-10-16 09:21:42.219",
          "2025-10-16 09:21:42.572",
          "2025-10-16 09:21:42.925",
          "2025-10-16 09:21:43.277",
          "2025-10-16 09:21:43.627",
          "2025-10-16 09:21:43.978",
          "2025-10-16 09:21:44.332",
          "2025-10-16 09:21:44.687",
          "2025-10-16 09:21:45.039",
          "2025-10-16 09:21:45.391",
          "2025-10-16 09:21:45.745",
          "2025-10-16 09:21:46.098",
          "2025-10-16 09:21:46.449",
          "2025-10-16 09:21:46.801",
          "2025-10-16 09:21:47.151",
          "2025-10-16 09:21:47.501",
          "2025-10-16 09:21:47.854",
          "2025-10-16 09:21:48.205",
          "2025-10-16 09:21:48.556",
          "2025-10-16 09:21:48.903",
          "2025-10-16 09:21:49.255",
          "2025-10-16 09:21:49.607",
          "2025-10-16 09:21:49.961",
          "2025-10-16 09:21:50.309",
          "2025-10-16 09:21:50.658",
          "2025-10-16 09:21:51.008",
          "2025-10-16 09:21:51.357",
          "2025-10-16 09:21:51.704",
          "2025-10-16 09:21:52.052",
          "2025-10-16 09:21:52.399",
          "2025-10-16 09:21:52.741",
          "2025-10-16 09:21:53.090",
          "2025-10-16 09:21:53.435",
          "2025-10-16 09:21:53.783",
          "2025-10-16 09:21:54.129",
          "2025-10-16 09:21:54.474",
          "2025-10-16 09:21:54.820",
          "2025-10-16 09:21:55.166",
          "2025-10-16 09:21:55.508",
          "2025-10-16 09:21:55.850",
          "2025-10-16 09:21:56.190",
          "2025-10-16 09:21:56.530",
          "2025-10-16 09:21:56.873",
          "2025-10-16 09:21:57.217",
          "2025-10-16 09:21:57.557",
          "2025-10-16 09:21:57.898",
          "2025-10-16 09:21:58.241",
          "2025-10-16 09:21:58.582",
          "2025-10-16 09:21:58.922",
          "2025-10-16 09:21:59.263",
          "2025-10-16 09:21:59.602",
          "2025-10-16 09:21:59.943",
          "2025-10-16 09:22:00.286",
          "2025-10-16 09:22:00.627",
          "2025-10-16 09:22:00.965",
          "2025-10-16 09:22:01.304",
          "2025-10-16 09:22:01.642",
          "2025-10-16 09:22:01.981",
          "2025-10-16 09:22:02.323",
          "2025-10-16 09:22:02.659",
          "2025-10-16 09:22:02.997",
          "2025-10-16 09:22:03.335",
          "2025-10-16 09:22:03.678",
          "2025-10-16 09:22:04.016",
          "2025-10-16 09:22:04.353",
          "2025-10-16 09:22:04.689",
          "2025-10-16 09:22:05.022",
          "2025-10-16 09:22:05.361",
          "2025-10-16 09:22:05.698",
          "2025-10-16 09:22:06.035",
          "2025-10-16 09:22:06.372",
          "2025-10-16 09:22:06.712",
          "2025-10-16 09:22:07.050",
          "2025-10-16 09:22:07.387",
          "2025-10-16 09:22:07.722",
          "2025-10-16 09:22:08.055",
          "2025-10-16 09:22:08.393",
          "2025-10-16 09:22:08.731",
          "2025-10-16 09:22:09.068",
          "2025-10-16 09:22:09.405",
          "2025-10-16 09:22:09.745",
          "2025-10-16 09:22:10.082",
          "2025-10-16 09:22:10.417",
          "2025-10-16 09:22:10.755",
          "2025-10-16 09:22:11.090",
          "2025-10-16 09:22:11.426",
          "2025-10-16 09:22:11.764",
          "2025-10-16 09:22:12.103",
          "2025-10-16 09:22:12.439",
          "2025-10-16 09:22:12.777",
          "2025-10-16 09:22:13.112",
          "2025-10-16 09:22:13.448",
          "2025-10-16 09:22:13.786",
          "2025-10-16 09:22:14.127",
          "2025-10-16 09:22:14.464",
          "2025-10-16 09:22:14.800",
          "2025-10-16 09:22:15.137",
          "2025-10-16 09:22:15.470",
          "2025-10-16 09:22:15.811",
          "2025-10-16 09:22:16.146",
          "2025-10-16 09:22:16.484",
          "2025-10-16 09:22:16.824",
          "2025-10-16 09:22:17.162",
          "2025-10-16 09:22:17.501",
          "2025-10-16 09:22:17.839",
          "2025-10-16 09:22:18.173",
          "2025-10-16 09:22:18.511",
          "2025-10-16 09:22:18.849",
          "2025-10-16 09:22:19.188",
          "2025-10-16 09:22:19.523",
          "2025-10-16 09:22:19.860",
          "2025-10-16 09:22:20.198",
          "2025-10-16 09:22:20.533",
          "2025-10-16 09:22:20.872",
          "2025-10-16 09:22:21.206",
          "2025-10-16 09:22:21.542",
          "2025-10-16 09:22:21.880",
          "2025-10-16 09:22:22.219",
          "2025-10-16 09:22:22.554",
          "2025-10-16 09:22:22.890",
          "2025-10-16 09:22:23.223",
          "2025-10-16 09:22:23.560",
          "2025-10-16 09:22:23.900",
          "2025-10-16 09:22:24.233",
          "2025-10-16 09:22:24.567",
          "2025-10-16 09:22:24.901",
          "2025-10-16 09:22:25.232",
          "2025-10-16 09:22:25.570",
          "2025-10-16 09:22:25.904",
          "2025-10-16 09:22:26.237",
          "2025-10-16 09:22:26.571",
          "2025-10-16 09:22:26.908",
          "2025-10-16 09:22:27.241",
          "2025-10-16 09:22:27.573",
          "2025-10-16 09:22:27.905",
          "2025-10-16 09:22:28.236",
          "2025-10-16 09:22:28.571",
          "2025-10-16 09:22:28.905",
          "2025-10-16 09:22:29.237",
          "2025-10-16 09:22:29.569",
          "2025-10-16 09:22:29.897",
          "2025-10-16 09:22:30.229",
          "2025-10-16 09:22:30.565",
          "2025-10-16 09:22:30.897",
          "2025-10-16 09:22:31.230",
          "2025-10-16 09:22:31.561",
          "2025-10-16 09:22:31.891",
          "2025-10-16 09:22:32.223",
          "2025-10-16 09:22:32.555",
          "2025-10-16 09:22:32.887",
          "2025-10-16 09:22:33.222",
          "2025-10-16 09:22:33.554",
          "2025-10-16 09:22:33.886",
          "2025-10-16 09:22:34.218",
          "2025-10-16 09:22:34.549",
          "2025-10-16 09:22:34.881",
          "2025-10-16 09:22:35.216",
          "2025-10-16 09:22:35.548",
          "2025-10-16 09:22:35.878",
          "2025-10-16 09:22:36.208",
          "2025-10-16 09:22:36.536",
          "2025-10-16 09:22:36.868",
          "2025-10-16 09:22:37.200",
          "2025-10-16 09:22:37.532",
          "2025-10-16 09:22:37.861",
          "2025-10-16 09:22:38.190",
          "2025-10-16 09:22:38.517",
          "2025-10-16 09:22:38.847",
          "2025-10-16 09:22:39.180",
          "2025-10-16 09:22:39.510",
          "2025-10-16 09:22:39.840",
          "2025-10-16 09:22:40.166",
          "2025-10-16 09:22:40.494",
          "2025-10-16 09:22:40.822",
          "2025-10-16 09:22:41.157",
          "2025-10-16 09:22:41.486",
          "2025-10-16 09:22:41.816",
          "2025-10-16 09:22:42.147",
          "2025-10-16 09:22:42.476",
          "2025-10-16 09:22:42.804",
          "2025-10-16 09:22:43.134",
          "2025-10-16 09:22:43.463",
          "2025-10-16 09:22:43.795",
          "2025-10-16 09:22:44.124",
          "2025-10-16 09:22:44.454",
          "2025-10-16 09:22:44.782",
          "2025-10-16 09:22:45.113",
          "2025-10-16 09:22:45.440",
          "2025-10-16 09:22:45.772",
          "2025-10-16 09:22:46.104",
          "2025-10-16 09:22:46.434",
          "2025-10-16 09:22:46.762",
          "2025-10-16 09:22:47.093",
          "2025-10-16 09:22:47.422",
          "2025-10-16 09:22:47.753",
          "2025-10-16 09:22:48.086",
          "2025-10-16 09:22:48.417",
          "2025-10-16 09:22:48.746",
          "2025-10-16 09:22:49.078",
          "2025-10-16 09:22:49.406",
          "2025-10-16 09:22:49.737",
          "2025-10-16 09:22:50.070",
          "2025-10-16 09:22:50.406",
          "2025-10-16 09:22:50.737",
          "2025-10-16 09:22:51.066",
          "2025-10-16 09:22:51.398",
          "2025-10-16 09:22:51.731",
          "2025-10-16 09:22:52.067",
          "2025-10-16 09:22:52.397",
          "2025-10-16 09:22:52.730",
          "2025-10-16 09:22:53.062",
          "2025-10-16 09:22:53.393",
          "2025-10-16 09:22:53.725",
          "2025-10-16 09:22:54.057",
          "2025-10-16 09:22:54.388",
          "2025-10-16 09:22:54.723",
          "2025-10-16 09:22:55.059",
          "2025-10-16 09:22:55.394",
          "2025-10-16 09:22:55.728",
          "2025-10-16 09:22:56.065",
          "2025-10-16 09:22:56.399",
          "2025-10-16 09:22:56.734",
          "2025-10-16 09:22:57.072",
          "2025-10-16 09:22:57.411",
          "2025-10-16 09:22:57.747",
          "2025-10-16 09:22:58.084",
          "2025-10-16 09:22:58.419",
          "2025-10-16 09:22:58.755",
          "2025-10-16 09:22:59.094",
          "2025-10-16 09:22:59.432",
          "2025-10-16 09:22:59.768",
          "2025-10-16 09:23:00.106",
          "2025-10-16 09:23:00.440",
          "2025-10-16 09:23:00.778",
          "2025-10-16 09:23:01.116",
          "2025-10-16 09:23:01.453",
          "2025-10-16 09:23:01.789",
          "2025-10-16 09:23:02.125",
          "2025-10-16 09:23:02.461",
          "2025-10-16 09:23:02.792",
          "2025-10-16 09:23:03.133",
          "2025-10-16 09:23:03.467"
         ],
         "xaxis": "x",
         "y": {
          "bdata": "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",
          "dtype": "f8"
         },
         "yaxis": "y"
        }
       ],
       "layout": {
        "legend": {
         "tracegroupgap": 0
        },
        "template": {
         "data": {
          "bar": [
           {
            "error_x": {
             "color": "#2a3f5f"
            },
            "error_y": {
             "color": "#2a3f5f"
            },
            "marker": {
             "line": {
              "color": "#E5ECF6",
              "width": 0.5
             },
             "pattern": {
              "fillmode": "overlay",
              "size": 10,
              "solidity": 0.2
             }
            },
            "type": "bar"
           }
          ],
          "barpolar": [
           {
            "marker": {
             "line": {
              "color": "#E5ECF6",
              "width": 0.5
             },
             "pattern": {
              "fillmode": "overlay",
              "size": 10,
              "solidity": 0.2
             }
            },
            "type": "barpolar"
           }
          ],
          "carpet": [
           {
            "aaxis": {
             "endlinecolor": "#2a3f5f",
             "gridcolor": "white",
             "linecolor": "white",
             "minorgridcolor": "white",
             "startlinecolor": "#2a3f5f"
            },
            "baxis": {
             "endlinecolor": "#2a3f5f",
             "gridcolor": "white",
             "linecolor": "white",
             "minorgridcolor": "white",
             "startlinecolor": "#2a3f5f"
            },
            "type": "carpet"
           }
          ],
          "choropleth": [
           {
            "colorbar": {
             "outlinewidth": 0,
             "ticks": ""
            },
            "type": "choropleth"
           }
          ],
          "contour": [
           {
            "colorbar": {
             "outlinewidth": 0,
             "ticks": ""
            },
            "colorscale": [
             [
              0,
              "#0d0887"
             ],
             [
              0.1111111111111111,
              "#46039f"
             ],
             [
              0.2222222222222222,
              "#7201a8"
             ],
             [
              0.3333333333333333,
              "#9c179e"
             ],
             [
              0.4444444444444444,
              "#bd3786"
             ],
             [
              0.5555555555555556,
              "#d8576b"
             ],
             [
              0.6666666666666666,
              "#ed7953"
             ],
             [
              0.7777777777777778,
              "#fb9f3a"
             ],
             [
              0.8888888888888888,
              "#fdca26"
             ],
             [
              1,
              "#f0f921"
             ]
            ],
            "type": "contour"
           }
          ],
          "contourcarpet": [
           {
            "colorbar": {
             "outlinewidth": 0,
             "ticks": ""
            },
            "type": "contourcarpet"
           }
          ],
          "heatmap": [
           {
            "colorbar": {
             "outlinewidth": 0,
             "ticks": ""
            },
            "colorscale": [
             [
              0,
              "#0d0887"
             ],
             [
              0.1111111111111111,
              "#46039f"
             ],
             [
              0.2222222222222222,
              "#7201a8"
             ],
             [
              0.3333333333333333,
              "#9c179e"
             ],
             [
              0.4444444444444444,
              "#bd3786"
             ],
             [
              0.5555555555555556,
              "#d8576b"
             ],
             [
              0.6666666666666666,
              "#ed7953"
             ],
             [
              0.7777777777777778,
              "#fb9f3a"
             ],
             [
              0.8888888888888888,
              "#fdca26"
             ],
             [
              1,
              "#f0f921"
             ]
            ],
            "type": "heatmap"
           }
          ],
          "histogram": [
           {
            "marker": {
             "pattern": {
              "fillmode": "overlay",
              "size": 10,
              "solidity": 0.2
             }
            },
            "type": "histogram"
           }
          ],
          "histogram2d": [
           {
            "colorbar": {
             "outlinewidth": 0,
             "ticks": ""
            },
            "colorscale": [
             [
              0,
              "#0d0887"
             ],
             [
              0.1111111111111111,
              "#46039f"
             ],
             [
              0.2222222222222222,
              "#7201a8"
             ],
             [
              0.3333333333333333,
              "#9c179e"
             ],
             [
              0.4444444444444444,
              "#bd3786"
             ],
             [
              0.5555555555555556,
              "#d8576b"
             ],
             [
              0.6666666666666666,
              "#ed7953"
             ],
             [
              0.7777777777777778,
              "#fb9f3a"
             ],
             [
              0.8888888888888888,
              "#fdca26"
             ],
             [
              1,
              "#f0f921"
             ]
            ],
            "type": "histogram2d"
           }
          ],
          "histogram2dcontour": [
           {
            "colorbar": {
             "outlinewidth": 0,
             "ticks": ""
            },
            "colorscale": [
             [
              0,
              "#0d0887"
             ],
             [
              0.1111111111111111,
              "#46039f"
             ],
             [
              0.2222222222222222,
              "#7201a8"
             ],
             [
              0.3333333333333333,
              "#9c179e"
             ],
             [
              0.4444444444444444,
              "#bd3786"
             ],
             [
              0.5555555555555556,
              "#d8576b"
             ],
             [
              0.6666666666666666,
              "#ed7953"
             ],
             [
              0.7777777777777778,
              "#fb9f3a"
             ],
             [
              0.8888888888888888,
              "#fdca26"
             ],
             [
              1,
              "#f0f921"
             ]
            ],
            "type": "histogram2dcontour"
           }
          ],
          "mesh3d": [
           {
            "colorbar": {
             "outlinewidth": 0,
             "ticks": ""
            },
            "type": "mesh3d"
           }
          ],
          "parcoords": [
           {
            "line": {
             "colorbar": {
              "outlinewidth": 0,
              "ticks": ""
             }
            },
            "type": "parcoords"
           }
          ],
          "pie": [
           {
            "automargin": true,
            "type": "pie"
           }
          ],
          "scatter": [
           {
            "fillpattern": {
             "fillmode": "overlay",
             "size": 10,
             "solidity": 0.2
            },
            "type": "scatter"
           }
          ],
          "scatter3d": [
           {
            "line": {
             "colorbar": {
              "outlinewidth": 0,
              "ticks": ""
             }
            },
            "marker": {
             "colorbar": {
              "outlinewidth": 0,
              "ticks": ""
             }
            },
            "type": "scatter3d"
           }
          ],
          "scattercarpet": [
           {
            "marker": {
             "colorbar": {
              "outlinewidth": 0,
              "ticks": ""
             }
            },
            "type": "scattercarpet"
           }
          ],
          "scattergeo": [
           {
            "marker": {
             "colorbar": {
              "outlinewidth": 0,
              "ticks": ""
             }
            },
            "type": "scattergeo"
           }
          ],
          "scattergl": [
           {
            "marker": {
             "colorbar": {
              "outlinewidth": 0,
              "ticks": ""
             }
            },
            "type": "scattergl"
           }
          ],
          "scattermap": [
           {
            "marker": {
             "colorbar": {
              "outlinewidth": 0,
              "ticks": ""
             }
            },
            "type": "scattermap"
           }
          ],
          "scattermapbox": [
           {
            "marker": {
             "colorbar": {
              "outlinewidth": 0,
              "ticks": ""
             }
            },
            "type": "scattermapbox"
           }
          ],
          "scatterpolar": [
           {
            "marker": {
             "colorbar": {
              "outlinewidth": 0,
              "ticks": ""
             }
            },
            "type": "scatterpolar"
           }
          ],
          "scatterpolargl": [
           {
            "marker": {
             "colorbar": {
              "outlinewidth": 0,
              "ticks": ""
             }
            },
            "type": "scatterpolargl"
           }
          ],
          "scatterternary": [
           {
            "marker": {
             "colorbar": {
              "outlinewidth": 0,
              "ticks": ""
             }
            },
            "type": "scatterternary"
           }
          ],
          "surface": [
           {
            "colorbar": {
             "outlinewidth": 0,
             "ticks": ""
            },
            "colorscale": [
             [
              0,
              "#0d0887"
             ],
             [
              0.1111111111111111,
              "#46039f"
             ],
             [
              0.2222222222222222,
              "#7201a8"
             ],
             [
              0.3333333333333333,
              "#9c179e"
             ],
             [
              0.4444444444444444,
              "#bd3786"
             ],
             [
              0.5555555555555556,
              "#d8576b"
             ],
             [
              0.6666666666666666,
              "#ed7953"
             ],
             [
              0.7777777777777778,
              "#fb9f3a"
             ],
             [
              0.8888888888888888,
              "#fdca26"
             ],
             [
              1,
              "#f0f921"
             ]
            ],
            "type": "surface"
           }
          ],
          "table": [
           {
            "cells": {
             "fill": {
              "color": "#EBF0F8"
             },
             "line": {
              "color": "white"
             }
            },
            "header": {
             "fill": {
              "color": "#C8D4E3"
             },
             "line": {
              "color": "white"
             }
            },
            "type": "table"
           }
          ]
         },
         "layout": {
          "annotationdefaults": {
           "arrowcolor": "#2a3f5f",
           "arrowhead": 0,
           "arrowwidth": 1
          },
          "autotypenumbers": "strict",
          "coloraxis": {
           "colorbar": {
            "outlinewidth": 0,
            "ticks": ""
           }
          },
          "colorscale": {
           "diverging": [
            [
             0,
             "#8e0152"
            ],
            [
             0.1,
             "#c51b7d"
            ],
            [
             0.2,
             "#de77ae"
            ],
            [
             0.3,
             "#f1b6da"
            ],
            [
             0.4,
             "#fde0ef"
            ],
            [
             0.5,
             "#f7f7f7"
            ],
            [
             0.6,
             "#e6f5d0"
            ],
            [
             0.7,
             "#b8e186"
            ],
            [
             0.8,
             "#7fbc41"
            ],
            [
             0.9,
             "#4d9221"
            ],
            [
             1,
             "#276419"
            ]
           ],
           "sequential": [
            [
             0,
             "#0d0887"
            ],
            [
             0.1111111111111111,
             "#46039f"
            ],
            [
             0.2222222222222222,
             "#7201a8"
            ],
            [
             0.3333333333333333,
             "#9c179e"
            ],
            [
             0.4444444444444444,
             "#bd3786"
            ],
            [
             0.5555555555555556,
             "#d8576b"
            ],
            [
             0.6666666666666666,
             "#ed7953"
            ],
            [
             0.7777777777777778,
             "#fb9f3a"
            ],
            [
             0.8888888888888888,
             "#fdca26"
            ],
            [
             1,
             "#f0f921"
            ]
           ],
           "sequentialminus": [
            [
             0,
             "#0d0887"
            ],
            [
             0.1111111111111111,
             "#46039f"
            ],
            [
             0.2222222222222222,
             "#7201a8"
            ],
            [
             0.3333333333333333,
             "#9c179e"
            ],
            [
             0.4444444444444444,
             "#bd3786"
            ],
            [
             0.5555555555555556,
             "#d8576b"
            ],
            [
             0.6666666666666666,
             "#ed7953"
            ],
            [
             0.7777777777777778,
             "#fb9f3a"
            ],
            [
             0.8888888888888888,
             "#fdca26"
            ],
            [
             1,
             "#f0f921"
            ]
           ]
          },
          "colorway": [
           "#636efa",
           "#EF553B",
           "#00cc96",
           "#ab63fa",
           "#FFA15A",
           "#19d3f3",
           "#FF6692",
           "#B6E880",
           "#FF97FF",
           "#FECB52"
          ],
          "font": {
           "color": "#2a3f5f"
          },
          "geo": {
           "bgcolor": "white",
           "lakecolor": "white",
           "landcolor": "#E5ECF6",
           "showlakes": true,
           "showland": true,
           "subunitcolor": "white"
          },
          "hoverlabel": {
           "align": "left"
          },
          "hovermode": "closest",
          "mapbox": {
           "style": "light"
          },
          "paper_bgcolor": "white",
          "plot_bgcolor": "#E5ECF6",
          "polar": {
           "angularaxis": {
            "gridcolor": "white",
            "linecolor": "white",
            "ticks": ""
           },
           "bgcolor": "#E5ECF6",
           "radialaxis": {
            "gridcolor": "white",
            "linecolor": "white",
            "ticks": ""
           }
          },
          "scene": {
           "xaxis": {
            "backgroundcolor": "#E5ECF6",
            "gridcolor": "white",
            "gridwidth": 2,
            "linecolor": "white",
            "showbackground": true,
            "ticks": "",
            "zerolinecolor": "white"
           },
           "yaxis": {
            "backgroundcolor": "#E5ECF6",
            "gridcolor": "white",
            "gridwidth": 2,
            "linecolor": "white",
            "showbackground": true,
            "ticks": "",
            "zerolinecolor": "white"
           },
           "zaxis": {
            "backgroundcolor": "#E5ECF6",
            "gridcolor": "white",
            "gridwidth": 2,
            "linecolor": "white",
            "showbackground": true,
            "ticks": "",
            "zerolinecolor": "white"
           }
          },
          "shapedefaults": {
           "line": {
            "color": "#2a3f5f"
           }
          },
          "ternary": {
           "aaxis": {
            "gridcolor": "white",
            "linecolor": "white",
            "ticks": ""
           },
           "baxis": {
            "gridcolor": "white",
            "linecolor": "white",
            "ticks": ""
           },
           "bgcolor": "#E5ECF6",
           "caxis": {
            "gridcolor": "white",
            "linecolor": "white",
            "ticks": ""
           }
          },
          "title": {
           "x": 0.05
          },
          "xaxis": {
           "automargin": true,
           "gridcolor": "white",
           "linecolor": "white",
           "ticks": "",
           "title": {
            "standoff": 15
           },
           "zerolinecolor": "white",
           "zerolinewidth": 2
          },
          "yaxis": {
           "automargin": true,
           "gridcolor": "white",
           "linecolor": "white",
           "ticks": "",
           "title": {
            "standoff": 15
           },
           "zerolinecolor": "white",
           "zerolinewidth": 2
          }
         }
        },
        "title": {
         "text": "Heart Rate over Time for steinosk_activity_intensity_2_cleaned_lsdlpr25.csv"
        },
        "xaxis": {
         "anchor": "y",
         "domain": [
          0,
          1
         ],
         "title": {
          "text": "time"
         }
        },
        "yaxis": {
         "anchor": "x",
         "domain": [
          0,
          1
         ],
         "title": {
          "text": "bpm_raw"
         }
        }
       }
      }
     },
     "metadata": {},
     "output_type": "display_data"
    },
    {
     "data": {
      "application/vnd.plotly.v1+json": {
       "config": {
        "plotlyServerURL": "https://plot.ly"
       },
       "data": [
        {
         "hovertemplate": "time=%{x}<br>bpm_raw=%{y}<extra></extra>",
         "legendgroup": "",
         "line": {
          "color": "#636efa",
          "dash": "solid"
         },
         "marker": {
          "symbol": "circle"
         },
         "mode": "lines",
         "name": "",
         "orientation": "v",
         "showlegend": false,
         "type": "scatter",
         "x": [
          "2025-10-16 09:20:31.557",
          "2025-10-16 09:20:32.108",
          "2025-10-16 09:20:32.648",
          "2025-10-16 09:20:33.180",
          "2025-10-16 09:20:33.731",
          "2025-10-16 09:20:34.275",
          "2025-10-16 09:20:34.815",
          "2025-10-16 09:20:35.364",
          "2025-10-16 09:20:35.915",
          "2025-10-16 09:20:36.478",
          "2025-10-16 09:20:37.060",
          "2025-10-16 09:20:37.644",
          "2025-10-16 09:20:38.230",
          "2025-10-16 09:20:38.788",
          "2025-10-16 09:20:39.351",
          "2025-10-16 09:20:39.878",
          "2025-10-16 09:20:40.391",
          "2025-10-16 09:20:41.877",
          "2025-10-16 09:20:42.627",
          "2025-10-16 09:20:42.899",
          "2025-10-16 09:20:43.199",
          "2025-10-16 09:20:43.802",
          "2025-10-16 09:20:44.436",
          "2025-10-16 09:20:45.693",
          "2025-10-16 09:20:46.260",
          "2025-10-16 09:20:47.844",
          "2025-10-16 09:20:48.135",
          "2025-10-16 09:20:52.768",
          "2025-10-16 09:20:53.734",
          "2025-10-16 09:20:54.162",
          "2025-10-16 09:20:54.721",
          "2025-10-16 09:20:55.417",
          "2025-10-16 09:20:55.834",
          "2025-10-16 09:20:57.947",
          "2025-10-16 09:20:58.663",
          "2025-10-16 09:20:58.949",
          "2025-10-16 09:20:59.334",
          "2025-10-16 09:20:59.859",
          "2025-10-16 09:21:00.649",
          "2025-10-16 09:21:00.936",
          "2025-10-16 09:21:01.236",
          "2025-10-16 09:21:01.567",
          "2025-10-16 09:21:02.202",
          "2025-10-16 09:21:02.832",
          "2025-10-16 09:21:03.365",
          "2025-10-16 09:21:03.748",
          "2025-10-16 09:21:04.805",
          "2025-10-16 09:21:05.276",
          "2025-10-16 09:21:05.656",
          "2025-10-16 09:21:06.036",
          "2025-10-16 09:21:06.794",
          "2025-10-16 09:21:08.486",
          "2025-10-16 09:21:08.844",
          "2025-10-16 09:21:09.763",
          "2025-10-16 09:21:10.493",
          "2025-10-16 09:21:10.860",
          "2025-10-16 09:21:11.590",
          "2025-10-16 09:21:12.316",
          "2025-10-16 09:21:12.674",
          "2025-10-16 09:21:13.031",
          "2025-10-16 09:21:13.386",
          "2025-10-16 09:21:14.103",
          "2025-10-16 09:21:14.456",
          "2025-10-16 09:21:14.816",
          "2025-10-16 09:21:15.522",
          "2025-10-16 09:21:15.875",
          "2025-10-16 09:21:16.233",
          "2025-10-16 09:21:16.587",
          "2025-10-16 09:21:16.941",
          "2025-10-16 09:21:17.296",
          "2025-10-16 09:21:17.648",
          "2025-10-16 09:21:18.001",
          "2025-10-16 09:21:18.356",
          "2025-10-16 09:21:18.711",
          "2025-10-16 09:21:19.063",
          "2025-10-16 09:21:19.417",
          "2025-10-16 09:21:19.771",
          "2025-10-16 09:21:20.125",
          "2025-10-16 09:21:20.827",
          "2025-10-16 09:21:21.535",
          "2025-10-16 09:21:22.239",
          "2025-10-16 09:21:22.593",
          "2025-10-16 09:21:22.943",
          "2025-10-16 09:21:23.650",
          "2025-10-16 09:21:24.353",
          "2025-10-16 09:21:24.703",
          "2025-10-16 09:21:25.054",
          "2025-10-16 09:21:25.406",
          "2025-10-16 09:21:25.759",
          "2025-10-16 09:21:26.113",
          "2025-10-16 09:21:26.458",
          "2025-10-16 09:21:26.807",
          "2025-10-16 09:21:27.157",
          "2025-10-16 09:21:27.509",
          "2025-10-16 09:21:27.858",
          "2025-10-16 09:21:28.204",
          "2025-10-16 09:21:28.551",
          "2025-10-16 09:21:28.902",
          "2025-10-16 09:21:29.250",
          "2025-10-16 09:21:29.599",
          "2025-10-16 09:21:29.947",
          "2025-10-16 09:21:30.296",
          "2025-10-16 09:21:30.646",
          "2025-10-16 09:21:30.994",
          "2025-10-16 09:21:31.343",
          "2025-10-16 09:21:31.691",
          "2025-10-16 09:21:32.038",
          "2025-10-16 09:21:32.380",
          "2025-10-16 09:21:32.733",
          "2025-10-16 09:21:33.083",
          "2025-10-16 09:21:33.428",
          "2025-10-16 09:21:33.777",
          "2025-10-16 09:21:34.126",
          "2025-10-16 09:21:34.470",
          "2025-10-16 09:21:34.817",
          "2025-10-16 09:21:35.164",
          "2025-10-16 09:21:35.509",
          "2025-10-16 09:21:35.854",
          "2025-10-16 09:21:36.199",
          "2025-10-16 09:21:36.546",
          "2025-10-16 09:21:36.892",
          "2025-10-16 09:21:37.235",
          "2025-10-16 09:21:37.579",
          "2025-10-16 09:21:37.923",
          "2025-10-16 09:21:38.265",
          "2025-10-16 09:21:38.607",
          "2025-10-16 09:21:38.951",
          "2025-10-16 09:21:39.295",
          "2025-10-16 09:21:39.639",
          "2025-10-16 09:21:39.979",
          "2025-10-16 09:21:40.322",
          "2025-10-16 09:21:40.666",
          "2025-10-16 09:21:41.007",
          "2025-10-16 09:21:41.350",
          "2025-10-16 09:21:41.695",
          "2025-10-16 09:21:42.041",
          "2025-10-16 09:21:42.383",
          "2025-10-16 09:21:42.726",
          "2025-10-16 09:21:43.069",
          "2025-10-16 09:21:43.413",
          "2025-10-16 09:21:43.754",
          "2025-10-16 09:21:44.101",
          "2025-10-16 09:21:44.444",
          "2025-10-16 09:21:44.790",
          "2025-10-16 09:21:45.135",
          "2025-10-16 09:21:45.481",
          "2025-10-16 09:21:46.167",
          "2025-10-16 09:21:46.509",
          "2025-10-16 09:21:46.855",
          "2025-10-16 09:21:47.196",
          "2025-10-16 09:21:47.540",
          "2025-10-16 09:21:47.882",
          "2025-10-16 09:21:48.226",
          "2025-10-16 09:21:48.569",
          "2025-10-16 09:21:48.912",
          "2025-10-16 09:21:49.255",
          "2025-10-16 09:21:49.600",
          "2025-10-16 09:21:49.945",
          "2025-10-16 09:21:50.287",
          "2025-10-16 09:21:50.630",
          "2025-10-16 09:21:50.975",
          "2025-10-16 09:21:51.322",
          "2025-10-16 09:21:51.665",
          "2025-10-16 09:21:52.016",
          "2025-10-16 09:21:52.365",
          "2025-10-16 09:21:52.712",
          "2025-10-16 09:21:53.058",
          "2025-10-16 09:21:53.410",
          "2025-10-16 09:21:53.760",
          "2025-10-16 09:21:54.109",
          "2025-10-16 09:21:54.457",
          "2025-10-16 09:21:54.810",
          "2025-10-16 09:21:55.163",
          "2025-10-16 09:21:55.513",
          "2025-10-16 09:21:55.863",
          "2025-10-16 09:21:56.214",
          "2025-10-16 09:21:56.566",
          "2025-10-16 09:21:56.917",
          "2025-10-16 09:21:57.266",
          "2025-10-16 09:21:57.614",
          "2025-10-16 09:21:57.963",
          "2025-10-16 09:21:58.309",
          "2025-10-16 09:21:58.658",
          "2025-10-16 09:21:59.005",
          "2025-10-16 09:21:59.350",
          "2025-10-16 09:21:59.697",
          "2025-10-16 09:22:00.044",
          "2025-10-16 09:22:00.387",
          "2025-10-16 09:22:00.731",
          "2025-10-16 09:22:01.077",
          "2025-10-16 09:22:01.423",
          "2025-10-16 09:22:01.765",
          "2025-10-16 09:22:02.109",
          "2025-10-16 09:22:02.452",
          "2025-10-16 09:22:02.795",
          "2025-10-16 09:22:03.140",
          "2025-10-16 09:22:03.484",
          "2025-10-16 09:22:03.826",
          "2025-10-16 09:22:04.168",
          "2025-10-16 09:22:04.512",
          "2025-10-16 09:22:04.856",
          "2025-10-16 09:22:05.199",
          "2025-10-16 09:22:05.541",
          "2025-10-16 09:22:05.887",
          "2025-10-16 09:22:06.233",
          "2025-10-16 09:22:06.578",
          "2025-10-16 09:22:06.919",
          "2025-10-16 09:22:07.263",
          "2025-10-16 09:22:07.608",
          "2025-10-16 09:22:07.953",
          "2025-10-16 09:22:08.295",
          "2025-10-16 09:22:08.636",
          "2025-10-16 09:22:08.982",
          "2025-10-16 09:22:09.326",
          "2025-10-16 09:22:09.668",
          "2025-10-16 09:22:10.009",
          "2025-10-16 09:22:10.353",
          "2025-10-16 09:22:10.697",
          "2025-10-16 09:22:11.040",
          "2025-10-16 09:22:11.382",
          "2025-10-16 09:22:11.725",
          "2025-10-16 09:22:12.069",
          "2025-10-16 09:22:12.413",
          "2025-10-16 09:22:12.755",
          "2025-10-16 09:22:13.100",
          "2025-10-16 09:22:13.447",
          "2025-10-16 09:22:13.787",
          "2025-10-16 09:22:14.126",
          "2025-10-16 09:22:14.471",
          "2025-10-16 09:22:14.812",
          "2025-10-16 09:22:15.154",
          "2025-10-16 09:22:15.494",
          "2025-10-16 09:22:15.833",
          "2025-10-16 09:22:16.175",
          "2025-10-16 09:22:16.516",
          "2025-10-16 09:22:16.853",
          "2025-10-16 09:22:17.190",
          "2025-10-16 09:22:17.532",
          "2025-10-16 09:22:17.871",
          "2025-10-16 09:22:18.208",
          "2025-10-16 09:22:18.541",
          "2025-10-16 09:22:18.883",
          "2025-10-16 09:22:19.220",
          "2025-10-16 09:22:19.556",
          "2025-10-16 09:22:19.890",
          "2025-10-16 09:22:20.229",
          "2025-10-16 09:22:20.568",
          "2025-10-16 09:22:20.902",
          "2025-10-16 09:22:21.240",
          "2025-10-16 09:22:21.578",
          "2025-10-16 09:22:21.914",
          "2025-10-16 09:22:22.249",
          "2025-10-16 09:22:22.585",
          "2025-10-16 09:22:22.919",
          "2025-10-16 09:22:23.253",
          "2025-10-16 09:22:23.591",
          "2025-10-16 09:22:23.926",
          "2025-10-16 09:22:24.258",
          "2025-10-16 09:22:24.591",
          "2025-10-16 09:22:24.927",
          "2025-10-16 09:22:25.259",
          "2025-10-16 09:22:25.590",
          "2025-10-16 09:22:25.921",
          "2025-10-16 09:22:26.258",
          "2025-10-16 09:22:26.590",
          "2025-10-16 09:22:26.921",
          "2025-10-16 09:22:27.251",
          "2025-10-16 09:22:27.584",
          "2025-10-16 09:22:27.921",
          "2025-10-16 09:22:28.251",
          "2025-10-16 09:22:28.582",
          "2025-10-16 09:22:28.915",
          "2025-10-16 09:22:29.251",
          "2025-10-16 09:22:29.583",
          "2025-10-16 09:22:29.913",
          "2025-10-16 09:22:30.244",
          "2025-10-16 09:22:30.579",
          "2025-10-16 09:22:30.910",
          "2025-10-16 09:22:31.239",
          "2025-10-16 09:22:31.565",
          "2025-10-16 09:22:31.898",
          "2025-10-16 09:22:32.231",
          "2025-10-16 09:22:32.562",
          "2025-10-16 09:22:32.890",
          "2025-10-16 09:22:33.218",
          "2025-10-16 09:22:33.552",
          "2025-10-16 09:22:33.884",
          "2025-10-16 09:22:34.214",
          "2025-10-16 09:22:34.542",
          "2025-10-16 09:22:34.876",
          "2025-10-16 09:22:35.210",
          "2025-10-16 09:22:35.537",
          "2025-10-16 09:22:35.870",
          "2025-10-16 09:22:36.201",
          "2025-10-16 09:22:36.537",
          "2025-10-16 09:22:36.868",
          "2025-10-16 09:22:37.198",
          "2025-10-16 09:22:37.527",
          "2025-10-16 09:22:37.860",
          "2025-10-16 09:22:38.193",
          "2025-10-16 09:22:38.527",
          "2025-10-16 09:22:38.857",
          "2025-10-16 09:22:39.187",
          "2025-10-16 09:22:39.519",
          "2025-10-16 09:22:39.855",
          "2025-10-16 09:22:40.186",
          "2025-10-16 09:22:40.519",
          "2025-10-16 09:22:40.848",
          "2025-10-16 09:22:41.180",
          "2025-10-16 09:22:41.515",
          "2025-10-16 09:22:41.849",
          "2025-10-16 09:22:42.181",
          "2025-10-16 09:22:42.513",
          "2025-10-16 09:22:42.846",
          "2025-10-16 09:22:43.181",
          "2025-10-16 09:22:43.515",
          "2025-10-16 09:22:43.846",
          "2025-10-16 09:22:44.180",
          "2025-10-16 09:22:44.512",
          "2025-10-16 09:22:44.847",
          "2025-10-16 09:22:45.183",
          "2025-10-16 09:22:45.516",
          "2025-10-16 09:22:45.849",
          "2025-10-16 09:22:46.181",
          "2025-10-16 09:22:46.514",
          "2025-10-16 09:22:46.854",
          "2025-10-16 09:22:47.187",
          "2025-10-16 09:22:47.521",
          "2025-10-16 09:22:47.853",
          "2025-10-16 09:22:48.188",
          "2025-10-16 09:22:48.523",
          "2025-10-16 09:22:48.857",
          "2025-10-16 09:22:49.192",
          "2025-10-16 09:22:49.524",
          "2025-10-16 09:22:49.861",
          "2025-10-16 09:22:50.195",
          "2025-10-16 09:22:50.532",
          "2025-10-16 09:22:50.866",
          "2025-10-16 09:22:51.202",
          "2025-10-16 09:22:51.540",
          "2025-10-16 09:22:51.877",
          "2025-10-16 09:22:52.213",
          "2025-10-16 09:22:52.547",
          "2025-10-16 09:22:52.881",
          "2025-10-16 09:22:53.219",
          "2025-10-16 09:22:53.553",
          "2025-10-16 09:22:53.888",
          "2025-10-16 09:22:54.221",
          "2025-10-16 09:22:54.554",
          "2025-10-16 09:22:54.891",
          "2025-10-16 09:22:55.226",
          "2025-10-16 09:22:55.561",
          "2025-10-16 09:22:55.894",
          "2025-10-16 09:22:56.232",
          "2025-10-16 09:22:56.567",
          "2025-10-16 09:22:56.901",
          "2025-10-16 09:22:57.235",
          "2025-10-16 09:22:57.571",
          "2025-10-16 09:22:57.910",
          "2025-10-16 09:22:58.245",
          "2025-10-16 09:22:58.579",
          "2025-10-16 09:22:58.915",
          "2025-10-16 09:22:59.252",
          "2025-10-16 09:22:59.588",
          "2025-10-16 09:22:59.924",
          "2025-10-16 09:23:00.260",
          "2025-10-16 09:23:00.598",
          "2025-10-16 09:23:00.933",
          "2025-10-16 09:23:01.268",
          "2025-10-16 09:23:01.602",
          "2025-10-16 09:23:01.939"
         ],
         "xaxis": "x",
         "y": {
          "bdata": "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",
          "dtype": "f8"
         },
         "yaxis": "y"
        }
       ],
       "layout": {
        "legend": {
         "tracegroupgap": 0
        },
        "template": {
         "data": {
          "bar": [
           {
            "error_x": {
             "color": "#2a3f5f"
            },
            "error_y": {
             "color": "#2a3f5f"
            },
            "marker": {
             "line": {
              "color": "#E5ECF6",
              "width": 0.5
             },
             "pattern": {
              "fillmode": "overlay",
              "size": 10,
              "solidity": 0.2
             }
            },
            "type": "bar"
           }
          ],
          "barpolar": [
           {
            "marker": {
             "line": {
              "color": "#E5ECF6",
              "width": 0.5
             },
             "pattern": {
              "fillmode": "overlay",
              "size": 10,
              "solidity": 0.2
             }
            },
            "type": "barpolar"
           }
          ],
          "carpet": [
           {
            "aaxis": {
             "endlinecolor": "#2a3f5f",
             "gridcolor": "white",
             "linecolor": "white",
             "minorgridcolor": "white",
             "startlinecolor": "#2a3f5f"
            },
            "baxis": {
             "endlinecolor": "#2a3f5f",
             "gridcolor": "white",
             "linecolor": "white",
             "minorgridcolor": "white",
             "startlinecolor": "#2a3f5f"
            },
            "type": "carpet"
           }
          ],
          "choropleth": [
           {
            "colorbar": {
             "outlinewidth": 0,
             "ticks": ""
            },
            "type": "choropleth"
           }
          ],
          "contour": [
           {
            "colorbar": {
             "outlinewidth": 0,
             "ticks": ""
            },
            "colorscale": [
             [
              0,
              "#0d0887"
             ],
             [
              0.1111111111111111,
              "#46039f"
             ],
             [
              0.2222222222222222,
              "#7201a8"
             ],
             [
              0.3333333333333333,
              "#9c179e"
             ],
             [
              0.4444444444444444,
              "#bd3786"
             ],
             [
              0.5555555555555556,
              "#d8576b"
             ],
             [
              0.6666666666666666,
              "#ed7953"
             ],
             [
              0.7777777777777778,
              "#fb9f3a"
             ],
             [
              0.8888888888888888,
              "#fdca26"
             ],
             [
              1,
              "#f0f921"
             ]
            ],
            "type": "contour"
           }
          ],
          "contourcarpet": [
           {
            "colorbar": {
             "outlinewidth": 0,
             "ticks": ""
            },
            "type": "contourcarpet"
           }
          ],
          "heatmap": [
           {
            "colorbar": {
             "outlinewidth": 0,
             "ticks": ""
            },
            "colorscale": [
             [
              0,
              "#0d0887"
             ],
             [
              0.1111111111111111,
              "#46039f"
             ],
             [
              0.2222222222222222,
              "#7201a8"
             ],
             [
              0.3333333333333333,
              "#9c179e"
             ],
             [
              0.4444444444444444,
              "#bd3786"
             ],
             [
              0.5555555555555556,
              "#d8576b"
             ],
             [
              0.6666666666666666,
              "#ed7953"
             ],
             [
              0.7777777777777778,
              "#fb9f3a"
             ],
             [
              0.8888888888888888,
              "#fdca26"
             ],
             [
              1,
              "#f0f921"
             ]
            ],
            "type": "heatmap"
           }
          ],
          "histogram": [
           {
            "marker": {
             "pattern": {
              "fillmode": "overlay",
              "size": 10,
              "solidity": 0.2
             }
            },
            "type": "histogram"
           }
          ],
          "histogram2d": [
           {
            "colorbar": {
             "outlinewidth": 0,
             "ticks": ""
            },
            "colorscale": [
             [
              0,
              "#0d0887"
             ],
             [
              0.1111111111111111,
              "#46039f"
             ],
             [
              0.2222222222222222,
              "#7201a8"
             ],
             [
              0.3333333333333333,
              "#9c179e"
             ],
             [
              0.4444444444444444,
              "#bd3786"
             ],
             [
              0.5555555555555556,
              "#d8576b"
             ],
             [
              0.6666666666666666,
              "#ed7953"
             ],
             [
              0.7777777777777778,
              "#fb9f3a"
             ],
             [
              0.8888888888888888,
              "#fdca26"
             ],
             [
              1,
              "#f0f921"
             ]
            ],
            "type": "histogram2d"
           }
          ],
          "histogram2dcontour": [
           {
            "colorbar": {
             "outlinewidth": 0,
             "ticks": ""
            },
            "colorscale": [
             [
              0,
              "#0d0887"
             ],
             [
              0.1111111111111111,
              "#46039f"
             ],
             [
              0.2222222222222222,
              "#7201a8"
             ],
             [
              0.3333333333333333,
              "#9c179e"
             ],
             [
              0.4444444444444444,
              "#bd3786"
             ],
             [
              0.5555555555555556,
              "#d8576b"
             ],
             [
              0.6666666666666666,
              "#ed7953"
             ],
             [
              0.7777777777777778,
              "#fb9f3a"
             ],
             [
              0.8888888888888888,
              "#fdca26"
             ],
             [
              1,
              "#f0f921"
             ]
            ],
            "type": "histogram2dcontour"
           }
          ],
          "mesh3d": [
           {
            "colorbar": {
             "outlinewidth": 0,
             "ticks": ""
            },
            "type": "mesh3d"
           }
          ],
          "parcoords": [
           {
            "line": {
             "colorbar": {
              "outlinewidth": 0,
              "ticks": ""
             }
            },
            "type": "parcoords"
           }
          ],
          "pie": [
           {
            "automargin": true,
            "type": "pie"
           }
          ],
          "scatter": [
           {
            "fillpattern": {
             "fillmode": "overlay",
             "size": 10,
             "solidity": 0.2
            },
            "type": "scatter"
           }
          ],
          "scatter3d": [
           {
            "line": {
             "colorbar": {
              "outlinewidth": 0,
              "ticks": ""
             }
            },
            "marker": {
             "colorbar": {
              "outlinewidth": 0,
              "ticks": ""
             }
            },
            "type": "scatter3d"
           }
          ],
          "scattercarpet": [
           {
            "marker": {
             "colorbar": {
              "outlinewidth": 0,
              "ticks": ""
             }
            },
            "type": "scattercarpet"
           }
          ],
          "scattergeo": [
           {
            "marker": {
             "colorbar": {
              "outlinewidth": 0,
              "ticks": ""
             }
            },
            "type": "scattergeo"
           }
          ],
          "scattergl": [
           {
            "marker": {
             "colorbar": {
              "outlinewidth": 0,
              "ticks": ""
             }
            },
            "type": "scattergl"
           }
          ],
          "scattermap": [
           {
            "marker": {
             "colorbar": {
              "outlinewidth": 0,
              "ticks": ""
             }
            },
            "type": "scattermap"
           }
          ],
          "scattermapbox": [
           {
            "marker": {
             "colorbar": {
              "outlinewidth": 0,
              "ticks": ""
             }
            },
            "type": "scattermapbox"
           }
          ],
          "scatterpolar": [
           {
            "marker": {
             "colorbar": {
              "outlinewidth": 0,
              "ticks": ""
             }
            },
            "type": "scatterpolar"
           }
          ],
          "scatterpolargl": [
           {
            "marker": {
             "colorbar": {
              "outlinewidth": 0,
              "ticks": ""
             }
            },
            "type": "scatterpolargl"
           }
          ],
          "scatterternary": [
           {
            "marker": {
             "colorbar": {
              "outlinewidth": 0,
              "ticks": ""
             }
            },
            "type": "scatterternary"
           }
          ],
          "surface": [
           {
            "colorbar": {
             "outlinewidth": 0,
             "ticks": ""
            },
            "colorscale": [
             [
              0,
              "#0d0887"
             ],
             [
              0.1111111111111111,
              "#46039f"
             ],
             [
              0.2222222222222222,
              "#7201a8"
             ],
             [
              0.3333333333333333,
              "#9c179e"
             ],
             [
              0.4444444444444444,
              "#bd3786"
             ],
             [
              0.5555555555555556,
              "#d8576b"
             ],
             [
              0.6666666666666666,
              "#ed7953"
             ],
             [
              0.7777777777777778,
              "#fb9f3a"
             ],
             [
              0.8888888888888888,
              "#fdca26"
             ],
             [
              1,
              "#f0f921"
             ]
            ],
            "type": "surface"
           }
          ],
          "table": [
           {
            "cells": {
             "fill": {
              "color": "#EBF0F8"
             },
             "line": {
              "color": "white"
             }
            },
            "header": {
             "fill": {
              "color": "#C8D4E3"
             },
             "line": {
              "color": "white"
             }
            },
            "type": "table"
           }
          ]
         },
         "layout": {
          "annotationdefaults": {
           "arrowcolor": "#2a3f5f",
           "arrowhead": 0,
           "arrowwidth": 1
          },
          "autotypenumbers": "strict",
          "coloraxis": {
           "colorbar": {
            "outlinewidth": 0,
            "ticks": ""
           }
          },
          "colorscale": {
           "diverging": [
            [
             0,
             "#8e0152"
            ],
            [
             0.1,
             "#c51b7d"
            ],
            [
             0.2,
             "#de77ae"
            ],
            [
             0.3,
             "#f1b6da"
            ],
            [
             0.4,
             "#fde0ef"
            ],
            [
             0.5,
             "#f7f7f7"
            ],
            [
             0.6,
             "#e6f5d0"
            ],
            [
             0.7,
             "#b8e186"
            ],
            [
             0.8,
             "#7fbc41"
            ],
            [
             0.9,
             "#4d9221"
            ],
            [
             1,
             "#276419"
            ]
           ],
           "sequential": [
            [
             0,
             "#0d0887"
            ],
            [
             0.1111111111111111,
             "#46039f"
            ],
            [
             0.2222222222222222,
             "#7201a8"
            ],
            [
             0.3333333333333333,
             "#9c179e"
            ],
            [
             0.4444444444444444,
             "#bd3786"
            ],
            [
             0.5555555555555556,
             "#d8576b"
            ],
            [
             0.6666666666666666,
             "#ed7953"
            ],
            [
             0.7777777777777778,
             "#fb9f3a"
            ],
            [
             0.8888888888888888,
             "#fdca26"
            ],
            [
             1,
             "#f0f921"
            ]
           ],
           "sequentialminus": [
            [
             0,
             "#0d0887"
            ],
            [
             0.1111111111111111,
             "#46039f"
            ],
            [
             0.2222222222222222,
             "#7201a8"
            ],
            [
             0.3333333333333333,
             "#9c179e"
            ],
            [
             0.4444444444444444,
             "#bd3786"
            ],
            [
             0.5555555555555556,
             "#d8576b"
            ],
            [
             0.6666666666666666,
             "#ed7953"
            ],
            [
             0.7777777777777778,
             "#fb9f3a"
            ],
            [
             0.8888888888888888,
             "#fdca26"
            ],
            [
             1,
             "#f0f921"
            ]
           ]
          },
          "colorway": [
           "#636efa",
           "#EF553B",
           "#00cc96",
           "#ab63fa",
           "#FFA15A",
           "#19d3f3",
           "#FF6692",
           "#B6E880",
           "#FF97FF",
           "#FECB52"
          ],
          "font": {
           "color": "#2a3f5f"
          },
          "geo": {
           "bgcolor": "white",
           "lakecolor": "white",
           "landcolor": "#E5ECF6",
           "showlakes": true,
           "showland": true,
           "subunitcolor": "white"
          },
          "hoverlabel": {
           "align": "left"
          },
          "hovermode": "closest",
          "mapbox": {
           "style": "light"
          },
          "paper_bgcolor": "white",
          "plot_bgcolor": "#E5ECF6",
          "polar": {
           "angularaxis": {
            "gridcolor": "white",
            "linecolor": "white",
            "ticks": ""
           },
           "bgcolor": "#E5ECF6",
           "radialaxis": {
            "gridcolor": "white",
            "linecolor": "white",
            "ticks": ""
           }
          },
          "scene": {
           "xaxis": {
            "backgroundcolor": "#E5ECF6",
            "gridcolor": "white",
            "gridwidth": 2,
            "linecolor": "white",
            "showbackground": true,
            "ticks": "",
            "zerolinecolor": "white"
           },
           "yaxis": {
            "backgroundcolor": "#E5ECF6",
            "gridcolor": "white",
            "gridwidth": 2,
            "linecolor": "white",
            "showbackground": true,
            "ticks": "",
            "zerolinecolor": "white"
           },
           "zaxis": {
            "backgroundcolor": "#E5ECF6",
            "gridcolor": "white",
            "gridwidth": 2,
            "linecolor": "white",
            "showbackground": true,
            "ticks": "",
            "zerolinecolor": "white"
           }
          },
          "shapedefaults": {
           "line": {
            "color": "#2a3f5f"
           }
          },
          "ternary": {
           "aaxis": {
            "gridcolor": "white",
            "linecolor": "white",
            "ticks": ""
           },
           "baxis": {
            "gridcolor": "white",
            "linecolor": "white",
            "ticks": ""
           },
           "bgcolor": "#E5ECF6",
           "caxis": {
            "gridcolor": "white",
            "linecolor": "white",
            "ticks": ""
           }
          },
          "title": {
           "x": 0.05
          },
          "xaxis": {
           "automargin": true,
           "gridcolor": "white",
           "linecolor": "white",
           "ticks": "",
           "title": {
            "standoff": 15
           },
           "zerolinecolor": "white",
           "zerolinewidth": 2
          },
          "yaxis": {
           "automargin": true,
           "gridcolor": "white",
           "linecolor": "white",
           "ticks": "",
           "title": {
            "standoff": 15
           },
           "zerolinecolor": "white",
           "zerolinewidth": 2
          }
         }
        },
        "title": {
         "text": "Heart Rate over Time for halero01_activity_intensity_3_cleaned_lsdlpr25.csv"
        },
        "xaxis": {
         "anchor": "y",
         "domain": [
          0,
          1
         ],
         "title": {
          "text": "time"
         }
        },
        "yaxis": {
         "anchor": "x",
         "domain": [
          0,
          1
         ],
         "title": {
          "text": "bpm_raw"
         }
        }
       }
      }
     },
     "metadata": {},
     "output_type": "display_data"
    },
    {
     "data": {
      "application/vnd.plotly.v1+json": {
       "config": {
        "plotlyServerURL": "https://plot.ly"
       },
       "data": [
        {
         "hovertemplate": "time=%{x}<br>bpm_raw=%{y}<extra></extra>",
         "legendgroup": "",
         "line": {
          "color": "#636efa",
          "dash": "solid"
         },
         "marker": {
          "symbol": "circle"
         },
         "mode": "lines",
         "name": "",
         "orientation": "v",
         "showlegend": false,
         "type": "scatter",
         "x": [
          "2025-10-16 09:20:31.462",
          "2025-10-16 09:20:31.919",
          "2025-10-16 09:20:32.370",
          "2025-10-16 09:20:32.815",
          "2025-10-16 09:20:33.253",
          "2025-10-16 09:20:33.688",
          "2025-10-16 09:20:34.122",
          "2025-10-16 09:20:34.553",
          "2025-10-16 09:20:34.980",
          "2025-10-16 09:20:35.408",
          "2025-10-16 09:20:35.841",
          "2025-10-16 09:20:36.279",
          "2025-10-16 09:20:36.722",
          "2025-10-16 09:20:37.175",
          "2025-10-16 09:20:37.645",
          "2025-10-16 09:20:38.113",
          "2025-10-16 09:20:38.586",
          "2025-10-16 09:20:39.074",
          "2025-10-16 09:20:39.568",
          "2025-10-16 09:20:40.057",
          "2025-10-16 09:20:40.548",
          "2025-10-16 09:20:41.033",
          "2025-10-16 09:20:41.525",
          "2025-10-16 09:20:42.008",
          "2025-10-16 09:20:42.487",
          "2025-10-16 09:20:42.958",
          "2025-10-16 09:20:43.424",
          "2025-10-16 09:20:43.887",
          "2025-10-16 09:20:44.344",
          "2025-10-16 09:20:44.799",
          "2025-10-16 09:20:45.249",
          "2025-10-16 09:20:45.691",
          "2025-10-16 09:20:46.130",
          "2025-10-16 09:20:46.566",
          "2025-10-16 09:20:46.994",
          "2025-10-16 09:20:47.421",
          "2025-10-16 09:20:47.841",
          "2025-10-16 09:20:48.267",
          "2025-10-16 09:20:48.697",
          "2025-10-16 09:20:49.115",
          "2025-10-16 09:20:49.519",
          "2025-10-16 09:20:49.929",
          "2025-10-16 09:20:50.339",
          "2025-10-16 09:20:50.759",
          "2025-10-16 09:20:51.173",
          "2025-10-16 09:20:51.586",
          "2025-10-16 09:20:51.992",
          "2025-10-16 09:20:52.395",
          "2025-10-16 09:20:52.803",
          "2025-10-16 09:20:53.206",
          "2025-10-16 09:20:53.609",
          "2025-10-16 09:20:54.017",
          "2025-10-16 09:20:54.427",
          "2025-10-16 09:20:54.832",
          "2025-10-16 09:20:55.246",
          "2025-10-16 09:20:55.655",
          "2025-10-16 09:20:56.064",
          "2025-10-16 09:20:56.477",
          "2025-10-16 09:20:56.889",
          "2025-10-16 09:20:57.298",
          "2025-10-16 09:20:57.708",
          "2025-10-16 09:20:58.113",
          "2025-10-16 09:20:58.519",
          "2025-10-16 09:20:58.924",
          "2025-10-16 09:20:59.326",
          "2025-10-16 09:20:59.724",
          "2025-10-16 09:21:00.130",
          "2025-10-16 09:21:00.526",
          "2025-10-16 09:21:00.923",
          "2025-10-16 09:21:01.322",
          "2025-10-16 09:21:01.719",
          "2025-10-16 09:21:02.114",
          "2025-10-16 09:21:02.514",
          "2025-10-16 09:21:02.908",
          "2025-10-16 09:21:03.297",
          "2025-10-16 09:21:03.688",
          "2025-10-16 09:21:04.082",
          "2025-10-16 09:21:04.467",
          "2025-10-16 09:21:04.849",
          "2025-10-16 09:21:05.236",
          "2025-10-16 09:21:05.626",
          "2025-10-16 09:21:06.009",
          "2025-10-16 09:21:06.387",
          "2025-10-16 09:21:06.770",
          "2025-10-16 09:21:07.151",
          "2025-10-16 09:21:07.522",
          "2025-10-16 09:21:07.901",
          "2025-10-16 09:21:08.276",
          "2025-10-16 09:21:08.648",
          "2025-10-16 09:21:09.020",
          "2025-10-16 09:21:09.387",
          "2025-10-16 09:21:09.758",
          "2025-10-16 09:21:10.126",
          "2025-10-16 09:21:10.495",
          "2025-10-16 09:21:10.867",
          "2025-10-16 09:21:11.223",
          "2025-10-16 09:21:11.585",
          "2025-10-16 09:21:11.946",
          "2025-10-16 09:21:12.306",
          "2025-10-16 09:21:12.665",
          "2025-10-16 09:21:13.025",
          "2025-10-16 09:21:13.383",
          "2025-10-16 09:21:13.739",
          "2025-10-16 09:21:14.091",
          "2025-10-16 09:21:14.445",
          "2025-10-16 09:21:14.795",
          "2025-10-16 09:21:15.145",
          "2025-10-16 09:21:15.497",
          "2025-10-16 09:21:15.848",
          "2025-10-16 09:21:16.195",
          "2025-10-16 09:21:16.543",
          "2025-10-16 09:21:16.890",
          "2025-10-16 09:21:17.238",
          "2025-10-16 09:21:17.580",
          "2025-10-16 09:21:17.925",
          "2025-10-16 09:21:18.268",
          "2025-10-16 09:21:18.614",
          "2025-10-16 09:21:18.952",
          "2025-10-16 09:21:19.296",
          "2025-10-16 09:21:19.635",
          "2025-10-16 09:21:19.975",
          "2025-10-16 09:21:20.315",
          "2025-10-16 09:21:20.659",
          "2025-10-16 09:21:20.994",
          "2025-10-16 09:21:21.334",
          "2025-10-16 09:21:21.674",
          "2025-10-16 09:21:22.015",
          "2025-10-16 09:21:22.352",
          "2025-10-16 09:21:22.690",
          "2025-10-16 09:21:23.028",
          "2025-10-16 09:21:23.361",
          "2025-10-16 09:21:23.698",
          "2025-10-16 09:21:24.036",
          "2025-10-16 09:21:24.369",
          "2025-10-16 09:21:24.702",
          "2025-10-16 09:21:25.040",
          "2025-10-16 09:21:25.376",
          "2025-10-16 09:21:25.708",
          "2025-10-16 09:21:26.047",
          "2025-10-16 09:21:26.378",
          "2025-10-16 09:21:26.713",
          "2025-10-16 09:21:27.048",
          "2025-10-16 09:21:27.387",
          "2025-10-16 09:21:27.720",
          "2025-10-16 09:21:28.054",
          "2025-10-16 09:21:28.392",
          "2025-10-16 09:21:28.725",
          "2025-10-16 09:21:29.058",
          "2025-10-16 09:21:29.395",
          "2025-10-16 09:21:29.726",
          "2025-10-16 09:21:30.063",
          "2025-10-16 09:21:30.398",
          "2025-10-16 09:21:30.733",
          "2025-10-16 09:21:31.070",
          "2025-10-16 09:21:31.408",
          "2025-10-16 09:21:31.743",
          "2025-10-16 09:21:32.081",
          "2025-10-16 09:21:32.417",
          "2025-10-16 09:21:32.758",
          "2025-10-16 09:21:33.095",
          "2025-10-16 09:21:33.435",
          "2025-10-16 09:21:33.775",
          "2025-10-16 09:21:34.116",
          "2025-10-16 09:21:34.453",
          "2025-10-16 09:21:34.792",
          "2025-10-16 09:21:35.132",
          "2025-10-16 09:21:35.466",
          "2025-10-16 09:21:35.804",
          "2025-10-16 09:21:36.142",
          "2025-10-16 09:21:36.477",
          "2025-10-16 09:21:36.816",
          "2025-10-16 09:21:37.153",
          "2025-10-16 09:21:37.484",
          "2025-10-16 09:21:37.819",
          "2025-10-16 09:21:38.151",
          "2025-10-16 09:21:38.484",
          "2025-10-16 09:21:38.816",
          "2025-10-16 09:21:39.152",
          "2025-10-16 09:21:39.482",
          "2025-10-16 09:21:39.816",
          "2025-10-16 09:21:40.149",
          "2025-10-16 09:21:40.478",
          "2025-10-16 09:21:40.807",
          "2025-10-16 09:21:41.142",
          "2025-10-16 09:21:41.471",
          "2025-10-16 09:21:41.803",
          "2025-10-16 09:21:42.135",
          "2025-10-16 09:21:42.464",
          "2025-10-16 09:21:42.793",
          "2025-10-16 09:21:43.126",
          "2025-10-16 09:21:43.459",
          "2025-10-16 09:21:43.784",
          "2025-10-16 09:21:44.116",
          "2025-10-16 09:21:44.446",
          "2025-10-16 09:21:44.775",
          "2025-10-16 09:21:45.104",
          "2025-10-16 09:21:45.436",
          "2025-10-16 09:21:45.761",
          "2025-10-16 09:21:46.089",
          "2025-10-16 09:21:46.418",
          "2025-10-16 09:21:46.745",
          "2025-10-16 09:21:47.076",
          "2025-10-16 09:21:47.404",
          "2025-10-16 09:21:47.724",
          "2025-10-16 09:21:48.054",
          "2025-10-16 09:21:48.380",
          "2025-10-16 09:21:48.705",
          "2025-10-16 09:21:49.028",
          "2025-10-16 09:21:49.356",
          "2025-10-16 09:21:49.683",
          "2025-10-16 09:21:50.009",
          "2025-10-16 09:21:50.337",
          "2025-10-16 09:21:50.663",
          "2025-10-16 09:21:50.982",
          "2025-10-16 09:21:51.312",
          "2025-10-16 09:21:51.639",
          "2025-10-16 09:21:51.961",
          "2025-10-16 09:21:52.284",
          "2025-10-16 09:21:52.614",
          "2025-10-16 09:21:52.935",
          "2025-10-16 09:21:53.260",
          "2025-10-16 09:21:53.589",
          "2025-10-16 09:21:53.911",
          "2025-10-16 09:21:54.560",
          "2025-10-16 09:21:54.879",
          "2025-10-16 09:21:55.204",
          "2025-10-16 09:21:55.530",
          "2025-10-16 09:21:55.852",
          "2025-10-16 09:21:56.179",
          "2025-10-16 09:21:56.505",
          "2025-10-16 09:21:56.828",
          "2025-10-16 09:21:57.154",
          "2025-10-16 09:21:57.481",
          "2025-10-16 09:21:57.803",
          "2025-10-16 09:21:58.126",
          "2025-10-16 09:21:58.452",
          "2025-10-16 09:21:58.774",
          "2025-10-16 09:21:59.100",
          "2025-10-16 09:21:59.426",
          "2025-10-16 09:21:59.748",
          "2025-10-16 09:22:00.071",
          "2025-10-16 09:22:00.396",
          "2025-10-16 09:22:00.722",
          "2025-10-16 09:22:01.046",
          "2025-10-16 09:22:01.369",
          "2025-10-16 09:22:01.696",
          "2025-10-16 09:22:02.017",
          "2025-10-16 09:22:02.339",
          "2025-10-16 09:22:02.665",
          "2025-10-16 09:22:02.990",
          "2025-10-16 09:22:03.313",
          "2025-10-16 09:22:03.639",
          "2025-10-16 09:22:03.961",
          "2025-10-16 09:22:04.285",
          "2025-10-16 09:22:04.609",
          "2025-10-16 09:22:04.936",
          "2025-10-16 09:22:05.258",
          "2025-10-16 09:22:05.583",
          "2025-10-16 09:22:05.910",
          "2025-10-16 09:22:06.555",
          "2025-10-16 09:22:06.882",
          "2025-10-16 09:22:07.205",
          "2025-10-16 09:22:07.529",
          "2025-10-16 09:22:07.853",
          "2025-10-16 09:22:08.176",
          "2025-10-16 09:22:08.498",
          "2025-10-16 09:22:08.824",
          "2025-10-16 09:22:09.150",
          "2025-10-16 09:22:09.472",
          "2025-10-16 09:22:09.796",
          "2025-10-16 09:22:10.121",
          "2025-10-16 09:22:10.446",
          "2025-10-16 09:22:10.771",
          "2025-10-16 09:22:11.096",
          "2025-10-16 09:22:11.422",
          "2025-10-16 09:22:11.748",
          "2025-10-16 09:22:12.073",
          "2025-10-16 09:22:12.398",
          "2025-10-16 09:22:12.722",
          "2025-10-16 09:22:13.049",
          "2025-10-16 09:22:13.374",
          "2025-10-16 09:22:13.701",
          "2025-10-16 09:22:14.351",
          "2025-10-16 09:22:14.676",
          "2025-10-16 09:22:15.003",
          "2025-10-16 09:22:15.326",
          "2025-10-16 09:22:15.649",
          "2025-10-16 09:22:15.977",
          "2025-10-16 09:22:16.301",
          "2025-10-16 09:22:16.624",
          "2025-10-16 09:22:16.950",
          "2025-10-16 09:22:17.275",
          "2025-10-16 09:22:17.596",
          "2025-10-16 09:22:17.921",
          "2025-10-16 09:22:18.243",
          "2025-10-16 09:22:18.568",
          "2025-10-16 09:22:18.892",
          "2025-10-16 09:22:19.213",
          "2025-10-16 09:22:19.540",
          "2025-10-16 09:22:19.862",
          "2025-10-16 09:22:20.183",
          "2025-10-16 09:22:20.510",
          "2025-10-16 09:22:20.831",
          "2025-10-16 09:22:21.153",
          "2025-10-16 09:22:21.475",
          "2025-10-16 09:22:21.800",
          "2025-10-16 09:22:22.119",
          "2025-10-16 09:22:22.441",
          "2025-10-16 09:22:22.765",
          "2025-10-16 09:22:23.086",
          "2025-10-16 09:22:23.407",
          "2025-10-16 09:22:23.733",
          "2025-10-16 09:22:24.053",
          "2025-10-16 09:22:24.375",
          "2025-10-16 09:22:24.702",
          "2025-10-16 09:22:25.024",
          "2025-10-16 09:22:25.345",
          "2025-10-16 09:22:25.667",
          "2025-10-16 09:22:25.990",
          "2025-10-16 09:22:26.312",
          "2025-10-16 09:22:26.634",
          "2025-10-16 09:22:26.957",
          "2025-10-16 09:22:27.276",
          "2025-10-16 09:22:27.600",
          "2025-10-16 09:22:27.922",
          "2025-10-16 09:22:28.245",
          "2025-10-16 09:22:28.567",
          "2025-10-16 09:22:28.888",
          "2025-10-16 09:22:29.209",
          "2025-10-16 09:22:29.534",
          "2025-10-16 09:22:29.856",
          "2025-10-16 09:22:30.175",
          "2025-10-16 09:22:30.495",
          "2025-10-16 09:22:30.817",
          "2025-10-16 09:22:31.142",
          "2025-10-16 09:22:31.460",
          "2025-10-16 09:22:31.785",
          "2025-10-16 09:22:32.103",
          "2025-10-16 09:22:32.422",
          "2025-10-16 09:22:32.745",
          "2025-10-16 09:22:33.065",
          "2025-10-16 09:22:33.383",
          "2025-10-16 09:22:33.703",
          "2025-10-16 09:22:34.028",
          "2025-10-16 09:22:34.347",
          "2025-10-16 09:22:34.666",
          "2025-10-16 09:22:34.990",
          "2025-10-16 09:22:35.309",
          "2025-10-16 09:22:35.631",
          "2025-10-16 09:22:35.953",
          "2025-10-16 09:22:36.274",
          "2025-10-16 09:22:36.593",
          "2025-10-16 09:22:36.914",
          "2025-10-16 09:22:37.239",
          "2025-10-16 09:22:37.557",
          "2025-10-16 09:22:37.874",
          "2025-10-16 09:22:38.197",
          "2025-10-16 09:22:38.513",
          "2025-10-16 09:22:38.832",
          "2025-10-16 09:22:39.155",
          "2025-10-16 09:22:39.473",
          "2025-10-16 09:22:39.792",
          "2025-10-16 09:22:40.117",
          "2025-10-16 09:22:40.435",
          "2025-10-16 09:22:40.755",
          "2025-10-16 09:22:41.075",
          "2025-10-16 09:22:41.399",
          "2025-10-16 09:22:41.721",
          "2025-10-16 09:22:42.040",
          "2025-10-16 09:22:42.354",
          "2025-10-16 09:22:42.682",
          "2025-10-16 09:22:42.995",
          "2025-10-16 09:22:43.315",
          "2025-10-16 09:22:43.638",
          "2025-10-16 09:22:43.954",
          "2025-10-16 09:22:44.275",
          "2025-10-16 09:22:44.596",
          "2025-10-16 09:22:44.915",
          "2025-10-16 09:22:45.234",
          "2025-10-16 09:22:45.557",
          "2025-10-16 09:22:45.876",
          "2025-10-16 09:22:46.196",
          "2025-10-16 09:22:46.519",
          "2025-10-16 09:22:46.838",
          "2025-10-16 09:22:47.157",
          "2025-10-16 09:22:47.477",
          "2025-10-16 09:22:47.793",
          "2025-10-16 09:22:48.111",
          "2025-10-16 09:22:48.435",
          "2025-10-16 09:22:48.752",
          "2025-10-16 09:22:49.074",
          "2025-10-16 09:22:49.396",
          "2025-10-16 09:22:49.716",
          "2025-10-16 09:22:50.037",
          "2025-10-16 09:22:50.358",
          "2025-10-16 09:22:50.677",
          "2025-10-16 09:22:50.999",
          "2025-10-16 09:22:51.322",
          "2025-10-16 09:22:51.643",
          "2025-10-16 09:22:51.963",
          "2025-10-16 09:22:52.286",
          "2025-10-16 09:22:52.606",
          "2025-10-16 09:22:52.926",
          "2025-10-16 09:22:53.247",
          "2025-10-16 09:22:53.569",
          "2025-10-16 09:22:53.888",
          "2025-10-16 09:22:54.208",
          "2025-10-16 09:22:54.530",
          "2025-10-16 09:22:54.849",
          "2025-10-16 09:22:55.173",
          "2025-10-16 09:22:55.499",
          "2025-10-16 09:22:55.814",
          "2025-10-16 09:22:56.133",
          "2025-10-16 09:22:56.458",
          "2025-10-16 09:22:56.778",
          "2025-10-16 09:22:57.096",
          "2025-10-16 09:22:57.419",
          "2025-10-16 09:22:58.059",
          "2025-10-16 09:22:58.379",
          "2025-10-16 09:22:58.701",
          "2025-10-16 09:22:59.021",
          "2025-10-16 09:22:59.340",
          "2025-10-16 09:22:59.986",
          "2025-10-16 09:23:00.304",
          "2025-10-16 09:23:00.626",
          "2025-10-16 09:23:00.947",
          "2025-10-16 09:23:01.268",
          "2025-10-16 09:23:01.592",
          "2025-10-16 09:23:01.912",
          "2025-10-16 09:23:02.234",
          "2025-10-16 09:23:02.556"
         ],
         "xaxis": "x",
         "y": {
          "bdata": "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",
          "dtype": "f8"
         },
         "yaxis": "y"
        }
       ],
       "layout": {
        "legend": {
         "tracegroupgap": 0
        },
        "template": {
         "data": {
          "bar": [
           {
            "error_x": {
             "color": "#2a3f5f"
            },
            "error_y": {
             "color": "#2a3f5f"
            },
            "marker": {
             "line": {
              "color": "#E5ECF6",
              "width": 0.5
             },
             "pattern": {
              "fillmode": "overlay",
              "size": 10,
              "solidity": 0.2
             }
            },
            "type": "bar"
           }
          ],
          "barpolar": [
           {
            "marker": {
             "line": {
              "color": "#E5ECF6",
              "width": 0.5
             },
             "pattern": {
              "fillmode": "overlay",
              "size": 10,
              "solidity": 0.2
             }
            },
            "type": "barpolar"
           }
          ],
          "carpet": [
           {
            "aaxis": {
             "endlinecolor": "#2a3f5f",
             "gridcolor": "white",
             "linecolor": "white",
             "minorgridcolor": "white",
             "startlinecolor": "#2a3f5f"
            },
            "baxis": {
             "endlinecolor": "#2a3f5f",
             "gridcolor": "white",
             "linecolor": "white",
             "minorgridcolor": "white",
             "startlinecolor": "#2a3f5f"
            },
            "type": "carpet"
           }
          ],
          "choropleth": [
           {
            "colorbar": {
             "outlinewidth": 0,
             "ticks": ""
            },
            "type": "choropleth"
           }
          ],
          "contour": [
           {
            "colorbar": {
             "outlinewidth": 0,
             "ticks": ""
            },
            "colorscale": [
             [
              0,
              "#0d0887"
             ],
             [
              0.1111111111111111,
              "#46039f"
             ],
             [
              0.2222222222222222,
              "#7201a8"
             ],
             [
              0.3333333333333333,
              "#9c179e"
             ],
             [
              0.4444444444444444,
              "#bd3786"
             ],
             [
              0.5555555555555556,
              "#d8576b"
             ],
             [
              0.6666666666666666,
              "#ed7953"
             ],
             [
              0.7777777777777778,
              "#fb9f3a"
             ],
             [
              0.8888888888888888,
              "#fdca26"
             ],
             [
              1,
              "#f0f921"
             ]
            ],
            "type": "contour"
           }
          ],
          "contourcarpet": [
           {
            "colorbar": {
             "outlinewidth": 0,
             "ticks": ""
            },
            "type": "contourcarpet"
           }
          ],
          "heatmap": [
           {
            "colorbar": {
             "outlinewidth": 0,
             "ticks": ""
            },
            "colorscale": [
             [
              0,
              "#0d0887"
             ],
             [
              0.1111111111111111,
              "#46039f"
             ],
             [
              0.2222222222222222,
              "#7201a8"
             ],
             [
              0.3333333333333333,
              "#9c179e"
             ],
             [
              0.4444444444444444,
              "#bd3786"
             ],
             [
              0.5555555555555556,
              "#d8576b"
             ],
             [
              0.6666666666666666,
              "#ed7953"
             ],
             [
              0.7777777777777778,
              "#fb9f3a"
             ],
             [
              0.8888888888888888,
              "#fdca26"
             ],
             [
              1,
              "#f0f921"
             ]
            ],
            "type": "heatmap"
           }
          ],
          "histogram": [
           {
            "marker": {
             "pattern": {
              "fillmode": "overlay",
              "size": 10,
              "solidity": 0.2
             }
            },
            "type": "histogram"
           }
          ],
          "histogram2d": [
           {
            "colorbar": {
             "outlinewidth": 0,
             "ticks": ""
            },
            "colorscale": [
             [
              0,
              "#0d0887"
             ],
             [
              0.1111111111111111,
              "#46039f"
             ],
             [
              0.2222222222222222,
              "#7201a8"
             ],
             [
              0.3333333333333333,
              "#9c179e"
             ],
             [
              0.4444444444444444,
              "#bd3786"
             ],
             [
              0.5555555555555556,
              "#d8576b"
             ],
             [
              0.6666666666666666,
              "#ed7953"
             ],
             [
              0.7777777777777778,
              "#fb9f3a"
             ],
             [
              0.8888888888888888,
              "#fdca26"
             ],
             [
              1,
              "#f0f921"
             ]
            ],
            "type": "histogram2d"
           }
          ],
          "histogram2dcontour": [
           {
            "colorbar": {
             "outlinewidth": 0,
             "ticks": ""
            },
            "colorscale": [
             [
              0,
              "#0d0887"
             ],
             [
              0.1111111111111111,
              "#46039f"
             ],
             [
              0.2222222222222222,
              "#7201a8"
             ],
             [
              0.3333333333333333,
              "#9c179e"
             ],
             [
              0.4444444444444444,
              "#bd3786"
             ],
             [
              0.5555555555555556,
              "#d8576b"
             ],
             [
              0.6666666666666666,
              "#ed7953"
             ],
             [
              0.7777777777777778,
              "#fb9f3a"
             ],
             [
              0.8888888888888888,
              "#fdca26"
             ],
             [
              1,
              "#f0f921"
             ]
            ],
            "type": "histogram2dcontour"
           }
          ],
          "mesh3d": [
           {
            "colorbar": {
             "outlinewidth": 0,
             "ticks": ""
            },
            "type": "mesh3d"
           }
          ],
          "parcoords": [
           {
            "line": {
             "colorbar": {
              "outlinewidth": 0,
              "ticks": ""
             }
            },
            "type": "parcoords"
           }
          ],
          "pie": [
           {
            "automargin": true,
            "type": "pie"
           }
          ],
          "scatter": [
           {
            "fillpattern": {
             "fillmode": "overlay",
             "size": 10,
             "solidity": 0.2
            },
            "type": "scatter"
           }
          ],
          "scatter3d": [
           {
            "line": {
             "colorbar": {
              "outlinewidth": 0,
              "ticks": ""
             }
            },
            "marker": {
             "colorbar": {
              "outlinewidth": 0,
              "ticks": ""
             }
            },
            "type": "scatter3d"
           }
          ],
          "scattercarpet": [
           {
            "marker": {
             "colorbar": {
              "outlinewidth": 0,
              "ticks": ""
             }
            },
            "type": "scattercarpet"
           }
          ],
          "scattergeo": [
           {
            "marker": {
             "colorbar": {
              "outlinewidth": 0,
              "ticks": ""
             }
            },
            "type": "scattergeo"
           }
          ],
          "scattergl": [
           {
            "marker": {
             "colorbar": {
              "outlinewidth": 0,
              "ticks": ""
             }
            },
            "type": "scattergl"
           }
          ],
          "scattermap": [
           {
            "marker": {
             "colorbar": {
              "outlinewidth": 0,
              "ticks": ""
             }
            },
            "type": "scattermap"
           }
          ],
          "scattermapbox": [
           {
            "marker": {
             "colorbar": {
              "outlinewidth": 0,
              "ticks": ""
             }
            },
            "type": "scattermapbox"
           }
          ],
          "scatterpolar": [
           {
            "marker": {
             "colorbar": {
              "outlinewidth": 0,
              "ticks": ""
             }
            },
            "type": "scatterpolar"
           }
          ],
          "scatterpolargl": [
           {
            "marker": {
             "colorbar": {
              "outlinewidth": 0,
              "ticks": ""
             }
            },
            "type": "scatterpolargl"
           }
          ],
          "scatterternary": [
           {
            "marker": {
             "colorbar": {
              "outlinewidth": 0,
              "ticks": ""
             }
            },
            "type": "scatterternary"
           }
          ],
          "surface": [
           {
            "colorbar": {
             "outlinewidth": 0,
             "ticks": ""
            },
            "colorscale": [
             [
              0,
              "#0d0887"
             ],
             [
              0.1111111111111111,
              "#46039f"
             ],
             [
              0.2222222222222222,
              "#7201a8"
             ],
             [
              0.3333333333333333,
              "#9c179e"
             ],
             [
              0.4444444444444444,
              "#bd3786"
             ],
             [
              0.5555555555555556,
              "#d8576b"
             ],
             [
              0.6666666666666666,
              "#ed7953"
             ],
             [
              0.7777777777777778,
              "#fb9f3a"
             ],
             [
              0.8888888888888888,
              "#fdca26"
             ],
             [
              1,
              "#f0f921"
             ]
            ],
            "type": "surface"
           }
          ],
          "table": [
           {
            "cells": {
             "fill": {
              "color": "#EBF0F8"
             },
             "line": {
              "color": "white"
             }
            },
            "header": {
             "fill": {
              "color": "#C8D4E3"
             },
             "line": {
              "color": "white"
             }
            },
            "type": "table"
           }
          ]
         },
         "layout": {
          "annotationdefaults": {
           "arrowcolor": "#2a3f5f",
           "arrowhead": 0,
           "arrowwidth": 1
          },
          "autotypenumbers": "strict",
          "coloraxis": {
           "colorbar": {
            "outlinewidth": 0,
            "ticks": ""
           }
          },
          "colorscale": {
           "diverging": [
            [
             0,
             "#8e0152"
            ],
            [
             0.1,
             "#c51b7d"
            ],
            [
             0.2,
             "#de77ae"
            ],
            [
             0.3,
             "#f1b6da"
            ],
            [
             0.4,
             "#fde0ef"
            ],
            [
             0.5,
             "#f7f7f7"
            ],
            [
             0.6,
             "#e6f5d0"
            ],
            [
             0.7,
             "#b8e186"
            ],
            [
             0.8,
             "#7fbc41"
            ],
            [
             0.9,
             "#4d9221"
            ],
            [
             1,
             "#276419"
            ]
           ],
           "sequential": [
            [
             0,
             "#0d0887"
            ],
            [
             0.1111111111111111,
             "#46039f"
            ],
            [
             0.2222222222222222,
             "#7201a8"
            ],
            [
             0.3333333333333333,
             "#9c179e"
            ],
            [
             0.4444444444444444,
             "#bd3786"
            ],
            [
             0.5555555555555556,
             "#d8576b"
            ],
            [
             0.6666666666666666,
             "#ed7953"
            ],
            [
             0.7777777777777778,
             "#fb9f3a"
            ],
            [
             0.8888888888888888,
             "#fdca26"
            ],
            [
             1,
             "#f0f921"
            ]
           ],
           "sequentialminus": [
            [
             0,
             "#0d0887"
            ],
            [
             0.1111111111111111,
             "#46039f"
            ],
            [
             0.2222222222222222,
             "#7201a8"
            ],
            [
             0.3333333333333333,
             "#9c179e"
            ],
            [
             0.4444444444444444,
             "#bd3786"
            ],
            [
             0.5555555555555556,
             "#d8576b"
            ],
            [
             0.6666666666666666,
             "#ed7953"
            ],
            [
             0.7777777777777778,
             "#fb9f3a"
            ],
            [
             0.8888888888888888,
             "#fdca26"
            ],
            [
             1,
             "#f0f921"
            ]
           ]
          },
          "colorway": [
           "#636efa",
           "#EF553B",
           "#00cc96",
           "#ab63fa",
           "#FFA15A",
           "#19d3f3",
           "#FF6692",
           "#B6E880",
           "#FF97FF",
           "#FECB52"
          ],
          "font": {
           "color": "#2a3f5f"
          },
          "geo": {
           "bgcolor": "white",
           "lakecolor": "white",
           "landcolor": "#E5ECF6",
           "showlakes": true,
           "showland": true,
           "subunitcolor": "white"
          },
          "hoverlabel": {
           "align": "left"
          },
          "hovermode": "closest",
          "mapbox": {
           "style": "light"
          },
          "paper_bgcolor": "white",
          "plot_bgcolor": "#E5ECF6",
          "polar": {
           "angularaxis": {
            "gridcolor": "white",
            "linecolor": "white",
            "ticks": ""
           },
           "bgcolor": "#E5ECF6",
           "radialaxis": {
            "gridcolor": "white",
            "linecolor": "white",
            "ticks": ""
           }
          },
          "scene": {
           "xaxis": {
            "backgroundcolor": "#E5ECF6",
            "gridcolor": "white",
            "gridwidth": 2,
            "linecolor": "white",
            "showbackground": true,
            "ticks": "",
            "zerolinecolor": "white"
           },
           "yaxis": {
            "backgroundcolor": "#E5ECF6",
            "gridcolor": "white",
            "gridwidth": 2,
            "linecolor": "white",
            "showbackground": true,
            "ticks": "",
            "zerolinecolor": "white"
           },
           "zaxis": {
            "backgroundcolor": "#E5ECF6",
            "gridcolor": "white",
            "gridwidth": 2,
            "linecolor": "white",
            "showbackground": true,
            "ticks": "",
            "zerolinecolor": "white"
           }
          },
          "shapedefaults": {
           "line": {
            "color": "#2a3f5f"
           }
          },
          "ternary": {
           "aaxis": {
            "gridcolor": "white",
            "linecolor": "white",
            "ticks": ""
           },
           "baxis": {
            "gridcolor": "white",
            "linecolor": "white",
            "ticks": ""
           },
           "bgcolor": "#E5ECF6",
           "caxis": {
            "gridcolor": "white",
            "linecolor": "white",
            "ticks": ""
           }
          },
          "title": {
           "x": 0.05
          },
          "xaxis": {
           "automargin": true,
           "gridcolor": "white",
           "linecolor": "white",
           "ticks": "",
           "title": {
            "standoff": 15
           },
           "zerolinecolor": "white",
           "zerolinewidth": 2
          },
          "yaxis": {
           "automargin": true,
           "gridcolor": "white",
           "linecolor": "white",
           "ticks": "",
           "title": {
            "standoff": 15
           },
           "zerolinecolor": "white",
           "zerolinewidth": 2
          }
         }
        },
        "title": {
         "text": "Heart Rate over Time for linamic_activity_intensity_3_cleaned_lsdlpr25.csv"
        },
        "xaxis": {
         "anchor": "y",
         "domain": [
          0,
          1
         ],
         "title": {
          "text": "time"
         }
        },
        "yaxis": {
         "anchor": "x",
         "domain": [
          0,
          1
         ],
         "title": {
          "text": "bpm_raw"
         }
        }
       }
      }
     },
     "metadata": {},
     "output_type": "display_data"
    }
   ],
   "source": [
    "data_path = \"data\"\n",
    "\n",
    "class DataLoader:\n",
    "    def __init__(self, data_path):\n",
    "        self.data_path = data_path\n",
    "\n",
    "    def load_csv(self, filename):\n",
    "        file_path = os.path.join(self.data_path, filename)\n",
    "        return pd.read_csv(file_path)\n",
    "\n",
    "    def determine_cleaned_files(self):\n",
    "        all_files = os.listdir(self.data_path)\n",
    "        cleaned_files = [f for f in all_files if 'cleaned' in f]\n",
    "        return cleaned_files\n",
    "    \n",
    "    def determine_person(self, filename):\n",
    "        # Assuming the filename format is 'personID_data_cleaned.csv'\n",
    "        person_id = filename.split('_')[0]\n",
    "        return person_id\n",
    "    \n",
    "    def determine_intensity(self, filename):\n",
    "        # Placeholder logic for intensity determination halero01_activity_intensity_2_cleaned_lsdlpr25.csv \n",
    "        if 'intensity_1' in filename:\n",
    "            return 'low'\n",
    "        elif 'intensity_2' in filename:\n",
    "            return 'medium'\n",
    "        elif 'intensity_3' in filename:\n",
    "            return 'high'\n",
    "        else:\n",
    "            return 'unknown'\n",
    "    \n",
    "    def return_person_data(self, person_id, intensity):\n",
    "        cleaned_files = self.determine_cleaned_files()\n",
    "        for file in cleaned_files:\n",
    "            if self.determine_person(file) == person_id and self.determine_intensity(file) == intensity:\n",
    "                return self.load_csv(file)\n",
    "        return None\n",
    "    \n",
    "data_loader = DataLoader(data_path)\n",
    "\n",
    "import plotly.express as px\n",
    "\n",
    "\n",
    "for file in data_loader.determine_cleaned_files():\n",
    "    df = data_loader.load_csv(file)\n",
    "    fig = px.line(df, x='time', y='bpm_raw', title=f'Heart Rate over Time for {file}')\n",
    "    fig.show()\n",
    "\n",
    "\n"
   ]
  },
  {
   "cell_type": "code",
   "execution_count": null,
   "id": "0c161e02",
   "metadata": {},
   "outputs": [],
   "source": []
  },
  {
   "cell_type": "markdown",
   "id": "99da210b",
   "metadata": {},
   "source": []
  }
 ],
 "metadata": {
  "kernelspec": {
   "display_name": "OHCP_env",
   "language": "python",
   "name": "python3"
  },
  "language_info": {
   "codemirror_mode": {
    "name": "ipython",
    "version": 3
   },
   "file_extension": ".py",
   "mimetype": "text/x-python",
   "name": "python",
   "nbconvert_exporter": "python",
   "pygments_lexer": "ipython3",
   "version": "3.11.14"
  }
 },
 "nbformat": 4,
 "nbformat_minor": 5
}
