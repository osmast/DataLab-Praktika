{
 "cells": [
  {
   "cell_type": "code",
   "execution_count": 17,
   "id": "fe0fb5ba",
   "metadata": {},
   "outputs": [],
   "source": [
    "import pandas as pd\n",
    "\n",
    "# Pfade\n",
    "input_path = \"./Data_J_165.txt\"\n",
    "output_path = \"J165.csv\"\n",
    "\n",
    "def txtToCSV(input_path, output_path):\n",
    "    # TXT-Datei einlesen\n",
    "    with open(input_path, \"r\", encoding=\"utf-8\") as txt_file:\n",
    "        lines = txt_file.readlines()\n",
    "\n",
    "    # In DataFrame umwandeln\n",
    "    df = pd.DataFrame({\"Wert\": [float(line.strip()) for line in lines if line.strip()]})\n",
    "\n",
    "    # Neue Spalte berechnen: (1000 / Wert) * 60\n",
    "    df[\"BPM\"] = (1000 / df[\"Wert\"]) * 60\n",
    "\n",
    "    # Zeitstempel-Spalte (kumulative Summe der Zeitintervalle)\n",
    "    df[\"Zeit_ms\"] = df[\"Wert\"].cumsum()  # oder .cummax() falls du nicht addieren willst\n",
    "\n",
    "    # CSV speichern\n",
    "    df.to_csv(output_path, index=False)\n",
    "\n",
    "    print(\"✅ CSV-Datei gespeichert:\", output_path)\n",
    "    print(df.head())\n",
    "\n"
   ]
  },
  {
   "cell_type": "code",
   "execution_count": 18,
   "id": "344e5bda",
   "metadata": {},
   "outputs": [
    {
     "name": "stdout",
     "output_type": "stream",
     "text": [
      "✅ CSV-Datei gespeichert: J75.csv\n",
      "    Wert         BPM  Zeit_ms\n",
      "0  513.0  116.959064    513.0\n",
      "1  515.0  116.504854   1028.0\n",
      "2  509.0  117.878193   1537.0\n",
      "3  499.0  120.240481   2036.0\n",
      "4  495.0  121.212121   2531.0\n",
      "✅ CSV-Datei gespeichert: J115.csv\n",
      "    Wert         BPM  Zeit_ms\n",
      "0  496.0  120.967742    496.0\n",
      "1  488.0  122.950820    984.0\n",
      "2  485.0  123.711340   1469.0\n",
      "3  487.0  123.203285   1956.0\n",
      "4  484.0  123.966942   2440.0\n",
      "✅ CSV-Datei gespeichert: J165.csv\n",
      "    Wert         BPM  Zeit_ms\n",
      "0  460.0  130.434783    460.0\n",
      "1  467.0  128.479657    927.0\n",
      "2  474.0  126.582278   1401.0\n",
      "3  495.0  121.212121   1896.0\n",
      "4  517.0  116.054159   2413.0\n"
     ]
    }
   ],
   "source": [
    "# Pfade\n",
    "input_path = \"./Data_J_165.txt\"\n",
    "output_path = \"J165.csv\"\n",
    "txtToCSV(\"./Data_J_75.txt\", \"J75.csv\")\n",
    "txtToCSV(\"./Data_J_115.txt\", \"J115.csv\")\n",
    "txtToCSV(\"./Data_J_165.txt\", \"J165.csv\")"
   ]
  },
  {
   "cell_type": "code",
   "execution_count": null,
   "id": "63be498e",
   "metadata": {},
   "outputs": [],
   "source": [
    "import pandas as pd\n",
    "import matplotlib.pyplot as plt\n",
    "\n",
    "def PlotValue(path):\n",
    "    # CSV einlesen\n",
    "    df = pd.read_csv(path)\n",
    "\n",
    "    # Plot erstellen\n",
    "    plt.figure(figsize=(8, 4))\n",
    "    plt.plot((1000/df[\"Wert\"])*60, marker=\"o\", linestyle=\"-\")\n",
    "    plt.title(\"BPM beim Treppenlaufen\")\n",
    "    plt.xlabel(\"Messungen\")\n",
    "    plt.ylabel(\"BPM\")\n",
    "    plt.grid(True)\n",
    "    plt.show()\n"
   ]
  },
  {
   "cell_type": "code",
   "execution_count": null,
   "id": "1ec86d84",
   "metadata": {},
   "outputs": [],
   "source": [
    "PlotValue()\n",
    "PlotValue()\n",
    "PlotValue()"
   ]
  }
 ],
 "metadata": {
  "kernelspec": {
   "display_name": "venv (3.12.6)",
   "language": "python",
   "name": "python3"
  },
  "language_info": {
   "codemirror_mode": {
    "name": "ipython",
    "version": 3
   },
   "file_extension": ".py",
   "mimetype": "text/x-python",
   "name": "python",
   "nbconvert_exporter": "python",
   "pygments_lexer": "ipython3",
   "version": "3.12.6"
  }
 },
 "nbformat": 4,
 "nbformat_minor": 5
}
